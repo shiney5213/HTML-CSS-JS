{
 "cells": [
  {
   "cell_type": "markdown",
   "metadata": {},
   "source": [
    "# 2.데이터구조체(시퀀스)\n",
    "## 2.1. 내장시퀀스 개요\n",
    "### 2.1.1. 자료형에 따른 분류\n",
    "> 컨테이너 시퀀스\n",
    "- 서로 다른 자료형의 항목들을 담을 수 있음\n",
    "- 객체에 대한 참조를 담고 있으며\n",
    "- 객체는 어떠한 자료형도 될 수 있음.\n",
    "- list, tuple, collections, deque 형\n",
    "\n",
    "> 균일 시퀀스\n",
    "- 단 하나의 자료형만 담을 수 있음.\n",
    "- 객체에 대한 참조 대신 자신의 메로미 공간에 각 항목의 값을 직접 담는다\n",
    "- 메모리를 더 적게 사용하지만 문자, 바이트, 숫자 등 기본적인 자료형만 저장가능\n",
    "- str, bytes, bytearray, memoryview, array.array형\n",
    "\n",
    "### 2.1.2. 가변성에 따른 분류\n",
    "> 가변 시퀀스\n",
    "- list, bytearray, array.array, collections.deque, memoryview형\n",
    "\n",
    "> 블편 시퀀스\n",
    "- tuple, str, bytes형\n",
    "\n",
    "> 가변시퀀스 / 불변 시퀀스\n",
    "- collections.abc(abstract base class)를 이용하면 실제 시퀀스형에서 어느 기능을 제공할지 예측하는데 도움이 됨.\n",
    "- https://docs.python.org/ko/3.9/library/collections.abc.html\n",
    "\n",
    ">> mutableSequence\n",
    "- __setitem__\n",
    "- __delitem__\n",
    "- insert\n",
    "- append\n",
    "- reverse\n",
    "- extend\n",
    "- pop\n",
    "- remove\n",
    "- __iadd__\n",
    "\n",
    "> list\n",
    "- 가변적, 혼합된 자료형\n",
    "\n",
    "## 2.2. 지능형리스트와 제너레이터 표현식\n",
    "- 지능형리스트와 제너레이터 표현식을 사용하면 시퀀스를 간단히 생성할 수 있다.\n",
    "\n",
    "### 2.2.1. 지능형리스트(listcomp)\n",
    "\n",
    "> for roop\n",
    "- 시퀀스를 읽어서 개수를 세거나 어떤 항목을 골라내거 함계를 구하는 등\n",
    "- 다양한 일에 사용 가능\n",
    "\n",
    "> 지능형 리스트\n",
    "- 오직 새로운 리스트만 만듦.\n",
    "- 생성된 리스트를 사용하지 않는다면 지능형 리스트를 사용하지 말것\n",
    "- 지능형 리스트 구문이 두줄 이상 넘어가는 경에는 코드를 분할하거나 for문 사용할 것\n",
    "- 지능력리스트는 더 이상 메모리를 누수하지 않는다."
   ]
  },
  {
   "cell_type": "code",
   "execution_count": 2,
   "metadata": {
    "ExecuteTime": {
     "end_time": "2020-07-13T12:34:17.393003Z",
     "start_time": "2020-07-13T12:34:17.383006Z"
    }
   },
   "outputs": [
    {
     "name": "stdout",
     "output_type": "stream",
     "text": [
      "[36, 37, 94, 38, 42]\n"
     ]
    }
   ],
   "source": [
    "symbols = '$%^&*'\n",
    "codes  = []\n",
    "for symbol in symbols:\n",
    "    codes.append(ord(symbol))\n",
    "    \n",
    "print(codes)"
   ]
  },
  {
   "cell_type": "code",
   "execution_count": 3,
   "metadata": {
    "ExecuteTime": {
     "end_time": "2020-07-13T12:34:47.094005Z",
     "start_time": "2020-07-13T12:34:47.088006Z"
    }
   },
   "outputs": [
    {
     "name": "stdout",
     "output_type": "stream",
     "text": [
      "[36, 37, 94, 38, 42]\n"
     ]
    }
   ],
   "source": [
    "codes = [ord(symbol) for symbol in symbols]\n",
    "print(codes)"
   ]
  },
  {
   "cell_type": "markdown",
   "metadata": {},
   "source": [
    "> 지능형 리스트, 제너레이터 표현식, 지능형 집합, 지능형 딕셔너리\n",
    "- 함수처럼 고유한 지역 범위를 가진다\n",
    "- 표현식 안에 할당된 변수는 지역변수지만, 주변 범위의 변수를 여전히 참조할 수 있다.\n",
    "- 게다가 지역 변수가 주변 범위의 변수를 가리지 않는다."
   ]
  },
  {
   "cell_type": "code",
   "execution_count": 4,
   "metadata": {
    "ExecuteTime": {
     "end_time": "2020-07-13T12:39:56.811006Z",
     "start_time": "2020-07-13T12:39:56.803007Z"
    }
   },
   "outputs": [
    {
     "name": "stdout",
     "output_type": "stream",
     "text": [
      "ABC\n",
      "[65, 66, 67]\n"
     ]
    }
   ],
   "source": [
    "x = 'ABC'\n",
    "dummy = [ord(x) for x in x]\n",
    "print(x)\n",
    "print(dummy)"
   ]
  },
  {
   "cell_type": "markdown",
   "metadata": {},
   "source": [
    "> 지능형 리스트\n",
    "- 항목을 필터닝 및 변환함으로써 시퀀스나 반복가능한 자료형으로부터 리스트를 만듦.\n",
    "- filter(), map()을 사용해 동일한 기능을 할 수 있지만 가독성이 떨어짐"
   ]
  },
  {
   "cell_type": "markdown",
   "metadata": {},
   "source": [
    "### 2.2.2. 지능형 리스트와 map(), filter()비교"
   ]
  },
  {
   "cell_type": "code",
   "execution_count": 8,
   "metadata": {
    "ExecuteTime": {
     "end_time": "2020-07-13T12:42:35.951519Z",
     "start_time": "2020-07-13T12:42:35.943517Z"
    }
   },
   "outputs": [
    {
     "name": "stdout",
     "output_type": "stream",
     "text": [
      "[94]\n"
     ]
    }
   ],
   "source": [
    "symbols = '$%^&*'\n",
    "beyond_ascii = [ord(s) for s in symbols if ord(s) > 50]\n",
    "print(beyond_ascii)"
   ]
  },
  {
   "cell_type": "code",
   "execution_count": 11,
   "metadata": {
    "ExecuteTime": {
     "end_time": "2020-07-13T12:43:28.245516Z",
     "start_time": "2020-07-13T12:43:28.239516Z"
    }
   },
   "outputs": [
    {
     "name": "stdout",
     "output_type": "stream",
     "text": [
      "[94]\n"
     ]
    }
   ],
   "source": [
    "beyond_ascii = list(filter(lambda c: c>50, map(ord, symbols)))\n",
    "print(beyond_ascii)"
   ]
  },
  {
   "cell_type": "markdown",
   "metadata": {},
   "source": [
    "### 2.2.3. 데카르트 곱\n",
    "> 데카르트 곱\n",
    "- 두 개 이상의 리스트에 있는 모든 항목을 이용해서 만튼 튜플로 구성된 리스트\n",
    "- 데카르트 곱 안에 들어있는 각 항복은 입력으로부터 받은 반복 가능한 데이터의 각 요소에서 만들어진 튜플\n",
    "\n",
    "> 지능형 리트트\n",
    "- 두 개 이상의 반복 가능한 자료형의 데카르트 곱을 나타내는 일련의 리스트를 만들 수 있음.\n"
   ]
  },
  {
   "cell_type": "code",
   "execution_count": 13,
   "metadata": {
    "ExecuteTime": {
     "end_time": "2020-07-13T12:50:14.220041Z",
     "start_time": "2020-07-13T12:50:14.212047Z"
    }
   },
   "outputs": [
    {
     "name": "stdout",
     "output_type": "stream",
     "text": [
      "[('A', 'spade'), ('A', 'heart'), ('A', 'diamond'), ('A', 'cloba'), ('K', 'spade'), ('K', 'heart'), ('K', 'diamond'), ('K', 'cloba'), ('Q', 'spade'), ('Q', 'heart'), ('Q', 'diamond'), ('Q', 'cloba')]\n"
     ]
    }
   ],
   "source": [
    "# 세 개의 카드 순위시쿼스(R)과 네 개의 카드 종류(S)로 만든 12개의 항목을 가진 데카르트 곱\n",
    "\n",
    "R = ['A', 'K', 'Q']\n",
    "S = ['spade', 'heart', 'diamond', 'cloba']\n",
    "\n",
    "result = [(r, s) for r in R for s in S]\n",
    "print(result)"
   ]
  },
  {
   "cell_type": "markdown",
   "metadata": {},
   "source": [
    "### 2.2.4. 제너레이터표현식(genexp)"
   ]
  },
  {
   "cell_type": "markdown",
   "metadata": {},
   "source": [
    "> 제너레이터 표현식\n",
    "- 다른 생성자에 전달할 리스트를 통째로 만들지 않고 반복자 프로토콜을 이용해서\n",
    "- 항목을 하나씩 생성\n",
    "- 메모리를 더 적게 사용\n",
    "- ()사용\n",
    "- 한번에 한 항목을 생성할 수 있도록 for 루프에 데이터를 전달\n"
   ]
  },
  {
   "cell_type": "code",
   "execution_count": 15,
   "metadata": {
    "ExecuteTime": {
     "end_time": "2020-07-13T12:52:36.286040Z",
     "start_time": "2020-07-13T12:52:36.264044Z"
    }
   },
   "outputs": [
    {
     "data": {
      "text/plain": [
       "(36, 37, 94, 38, 42)"
      ]
     },
     "execution_count": 15,
     "metadata": {},
     "output_type": "execute_result"
    }
   ],
   "source": [
    "symbols = '$%^&*'\n",
    "\n",
    "tuple(ord(symbol) for symbol in symbols)"
   ]
  },
  {
   "cell_type": "code",
   "execution_count": 17,
   "metadata": {
    "ExecuteTime": {
     "end_time": "2020-07-13T12:55:06.599041Z",
     "start_time": "2020-07-13T12:55:06.590043Z"
    }
   },
   "outputs": [
    {
     "data": {
      "text/plain": [
       "array('I', [36, 37, 94, 38, 42])"
      ]
     },
     "execution_count": 17,
     "metadata": {},
     "output_type": "execute_result"
    }
   ],
   "source": [
    "import array\n",
    "array.array('I',    # 배열에 들어갈 숫자들을 저장할 자료형을 지정\n",
    "            (ord(symbol) for symbol in symbols))"
   ]
  },
  {
   "cell_type": "code",
   "execution_count": 19,
   "metadata": {
    "ExecuteTime": {
     "end_time": "2020-07-13T12:56:36.034044Z",
     "start_time": "2020-07-13T12:56:36.025041Z"
    }
   },
   "outputs": [
    {
     "name": "stdout",
     "output_type": "stream",
     "text": [
      "black S\n",
      "black M\n",
      "black L\n",
      "white S\n",
      "white M\n",
      "white L\n"
     ]
    }
   ],
   "source": [
    "# 제너레이터 표현식에서의 데카르트곱\n",
    "# 제너레이터는 한번에 하나의 항목을 생성함. 6개의 항목을 모두 담는 LIST는 만들지 않음\n",
    "colors = ['black', 'white']\n",
    "sizes = ['S', 'M', 'L']\n",
    "\n",
    "for tshirt in ('%s %s' %(c,s) for c in colors for s in sizes):\n",
    "    print(tshirt)"
   ]
  },
  {
   "cell_type": "markdown",
   "metadata": {},
   "source": [
    "## 2.3. 튜플은 단순한 불변 리스트가 아니다\n",
    "### 2.3.1. 레코드로서의 튜플\n",
    "- 튜플은 레고드를 담고 있음.\n",
    "- 튜플의 각 항목은 레코드의 필더 하나를 의미하며\n",
    "- 항목의 위치가 의미를 결정함..\n",
    "- 튜플을필드의 집합으로 사용하는 경우에는 항목 수가 고정되어있고, 항목의 순서가 중요함\n",
    "- 튜플의 항목의 위치가 항목의 의미를 나타내므로 정렬하면 정보가 파괴된다"
   ]
  },
  {
   "cell_type": "code",
   "execution_count": 21,
   "metadata": {
    "ExecuteTime": {
     "end_time": "2020-07-13T13:06:31.514038Z",
     "start_time": "2020-07-13T13:06:31.505040Z"
    }
   },
   "outputs": [
    {
     "name": "stdout",
     "output_type": "stream",
     "text": [
      "BRA/CE342567\n",
      "ESP/XDA205856\n",
      "USA/31195855\n"
     ]
    }
   ],
   "source": [
    "# LA 국제공항의 위도, 경도\n",
    "lax_coordinates= (33.9425 -118.408056)\n",
    "\n",
    "# 도표데이터(지명, 년도, 백만단위 인구수, 인구변화율, 제곱킬로미터 단위면적)\n",
    "city, year, pop, chg, area = ('Tokyo', 2003, 32450, 0.66, 8014)\n",
    "\n",
    "# (국가코드, 여권번호)\n",
    "traveler_ids = [('USA', '31195855'), ('BRA', 'CE342567'),\n",
    "               ('ESP', 'XDA205856')]\n",
    "\n",
    "# 튜플의 각 항목을 하나의 필드로 처리\n",
    "for passport in sorted(traveler_ids):\n",
    "    print('%s/%s'%passport)\n"
   ]
  },
  {
   "cell_type": "code",
   "execution_count": 23,
   "metadata": {
    "ExecuteTime": {
     "end_time": "2020-07-13T13:07:11.876049Z",
     "start_time": "2020-07-13T13:07:11.870039Z"
    }
   },
   "outputs": [
    {
     "name": "stdout",
     "output_type": "stream",
     "text": [
      "USA\n",
      "BRA\n",
      "ESP\n"
     ]
    }
   ],
   "source": [
    "# 언패킹, 더미변수를 나타내는 언더바\n",
    "for country, _ in traveler_ids:\n",
    "    print(country)"
   ]
  },
  {
   "cell_type": "markdown",
   "metadata": {},
   "source": [
    "### 2.3.2. 튜플 언패킹"
   ]
  },
  {
   "cell_type": "markdown",
   "metadata": {},
   "source": [
    "> 병렬 할당(parallel assignment)\n",
    "- 반복형 데이터를 변수로 구성된 튜플에 할당하는 것."
   ]
  },
  {
   "cell_type": "code",
   "execution_count": 28,
   "metadata": {
    "ExecuteTime": {
     "end_time": "2020-07-13T13:10:16.858199Z",
     "start_time": "2020-07-13T13:10:16.852202Z"
    }
   },
   "outputs": [
    {
     "name": "stdout",
     "output_type": "stream",
     "text": [
      "33.9425\n",
      "-118.408056\n"
     ]
    }
   ],
   "source": [
    "lax_coordinates= (33.9425, -118.408056)\n",
    "latitude, longitude = lax_coordinates\n",
    "print(latitude)\n",
    "print(longitude)"
   ]
  },
  {
   "cell_type": "markdown",
   "metadata": {},
   "source": [
    "> 두 변수값 교환하기\n",
    "- 임시 변수를 두지 않고도 두 변수의 값을 서로 교환할 수 있음."
   ]
  },
  {
   "cell_type": "code",
   "execution_count": 29,
   "metadata": {
    "ExecuteTime": {
     "end_time": "2020-07-13T13:12:01.691497Z",
     "start_time": "2020-07-13T13:12:01.677495Z"
    }
   },
   "outputs": [
    {
     "ename": "NameError",
     "evalue": "name 'b' is not defined",
     "output_type": "error",
     "traceback": [
      "\u001b[1;31m---------------------------------------------------------------------------\u001b[0m",
      "\u001b[1;31mNameError\u001b[0m                                 Traceback (most recent call last)",
      "\u001b[1;32m<ipython-input-29-e64af5b6fb7c>\u001b[0m in \u001b[0;36m<module>\u001b[1;34m\u001b[0m\n\u001b[1;32m----> 1\u001b[1;33m \u001b[0ma\u001b[0m\u001b[1;33m,\u001b[0m\u001b[0mb\u001b[0m \u001b[1;33m=\u001b[0m \u001b[0mb\u001b[0m\u001b[1;33m,\u001b[0m \u001b[0ma\u001b[0m\u001b[1;33m\u001b[0m\u001b[1;33m\u001b[0m\u001b[0m\n\u001b[0m",
      "\u001b[1;31mNameError\u001b[0m: name 'b' is not defined"
     ]
    }
   ],
   "source": [
    "a,b = b, a"
   ]
  },
  {
   "cell_type": "markdown",
   "metadata": {},
   "source": [
    "> *을 이용한 언패킹\n",
    "- 인수 앞에 *을 붙이기"
   ]
  },
  {
   "cell_type": "code",
   "execution_count": 30,
   "metadata": {
    "ExecuteTime": {
     "end_time": "2020-07-13T13:14:52.007520Z",
     "start_time": "2020-07-13T13:14:52.001517Z"
    }
   },
   "outputs": [
    {
     "data": {
      "text/plain": [
       "(2, 4)"
      ]
     },
     "execution_count": 30,
     "metadata": {},
     "output_type": "execute_result"
    }
   ],
   "source": [
    "divmod(20,8)"
   ]
  },
  {
   "cell_type": "code",
   "execution_count": 31,
   "metadata": {
    "ExecuteTime": {
     "end_time": "2020-07-13T13:15:06.079518Z",
     "start_time": "2020-07-13T13:15:06.072523Z"
    }
   },
   "outputs": [
    {
     "data": {
      "text/plain": [
       "(2, 4)"
      ]
     },
     "execution_count": 31,
     "metadata": {},
     "output_type": "execute_result"
    }
   ],
   "source": [
    "t = (20,8)\n",
    "divmod(*t)"
   ]
  },
  {
   "cell_type": "code",
   "execution_count": 32,
   "metadata": {
    "ExecuteTime": {
     "end_time": "2020-07-13T13:15:33.726524Z",
     "start_time": "2020-07-13T13:15:33.720523Z"
    }
   },
   "outputs": [
    {
     "name": "stdout",
     "output_type": "stream",
     "text": [
      "2 4\n"
     ]
    }
   ],
   "source": [
    "quotient, remainder = divmod(*t)\n",
    "print(quotient, remainder)"
   ]
  },
  {
   "cell_type": "markdown",
   "metadata": {},
   "source": [
    "> 함수에서 호출자에 여러값을 간단히 반환하기"
   ]
  },
  {
   "cell_type": "code",
   "execution_count": 33,
   "metadata": {
    "ExecuteTime": {
     "end_time": "2020-07-13T13:17:54.583519Z",
     "start_time": "2020-07-13T13:17:54.577523Z"
    }
   },
   "outputs": [
    {
     "name": "stdout",
     "output_type": "stream",
     "text": [
      "idrsa.pub\n"
     ]
    }
   ],
   "source": [
    "import os\n",
    "\n",
    "_, filename = os.path.split('./home/luciano/.ssh/idrsa.pub')\n",
    "print(filename)"
   ]
  },
  {
   "cell_type": "markdown",
   "metadata": {},
   "source": [
    "> 언더바(_)\n",
    "- 더미변수: 더미변수를 플레이스홀더로 사용해서 관심없는 부분은 언패킹할 때 무시할 수 있다.\n",
    "- gettext.gettext()함수에 대한 별명"
   ]
  },
  {
   "cell_type": "code",
   "execution_count": 35,
   "metadata": {
    "ExecuteTime": {
     "end_time": "2020-07-13T13:27:15.031895Z",
     "start_time": "2020-07-13T13:27:15.022888Z"
    }
   },
   "outputs": [
    {
     "name": "stdout",
     "output_type": "stream",
     "text": [
      "This is a translatable string.\n"
     ]
    }
   ],
   "source": [
    "import gettext\n",
    "gettext.bindtextdomain('myapplication', '/path/to/my/language/directory')\n",
    "gettext.textdomain('myapplication')\n",
    "_ = gettext.gettext\n",
    "# ...\n",
    "print(_('This is a translatable string.'))"
   ]
  },
  {
   "cell_type": "code",
   "execution_count": null,
   "metadata": {},
   "outputs": [],
   "source": []
  }
 ],
 "metadata": {
  "kernelspec": {
   "display_name": "Python 3",
   "language": "python",
   "name": "python3"
  },
  "language_info": {
   "codemirror_mode": {
    "name": "ipython",
    "version": 3
   },
   "file_extension": ".py",
   "mimetype": "text/x-python",
   "name": "python",
   "nbconvert_exporter": "python",
   "pygments_lexer": "ipython3",
   "version": "3.6.8"
  },
  "toc": {
   "base_numbering": 1,
   "nav_menu": {},
   "number_sections": false,
   "sideBar": true,
   "skip_h1_title": false,
   "title_cell": "Table of Contents",
   "title_sidebar": "Contents",
   "toc_cell": false,
   "toc_position": {},
   "toc_section_display": true,
   "toc_window_display": true
  }
 },
 "nbformat": 4,
 "nbformat_minor": 4
}
