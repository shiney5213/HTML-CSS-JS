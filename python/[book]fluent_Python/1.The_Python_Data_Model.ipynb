{
 "cells": [
  {
   "cell_type": "markdown",
   "metadata": {},
   "source": [
    "# 1. THe Python Data Model"
   ]
  },
  {
   "cell_type": "markdown",
   "metadata": {},
   "source": [
    "#### 특별메서드(매직 메직메서드, 던더메서드)\n",
    "> 던더 메서드\n",
    "- double underbar\n",
    "-앞 뒤에 이중 언더바를 갖는 메서드"
   ]
  },
  {
   "cell_type": "markdown",
   "metadata": {},
   "source": [
    "## 1.1. 파이썬 카드 한벌\n"
   ]
  },
  {
   "cell_type": "code",
   "execution_count": 7,
   "metadata": {
    "ExecuteTime": {
     "end_time": "2020-07-08T01:42:19.604366Z",
     "start_time": "2020-07-08T01:42:19.577364Z"
    }
   },
   "outputs": [
    {
     "name": "stdout",
     "output_type": "stream",
     "text": [
      "<class '__main__.Card'>\n"
     ]
    }
   ],
   "source": [
    "# 일련의 카드로 구성된 카드 한 벌\n",
    "import collections\n",
    "Card = collections.namedtuple('Card', ['rank', 'suit'])\n",
    "print(Card)"
   ]
  },
  {
   "cell_type": "markdown",
   "metadata": {},
   "source": [
    "> collections.namedtuple()\n",
    "- 개별 카드를 나타내는 클래스를 구현\n",
    "- 메서드를 가지지 않는 일련의 속성으로 구성된 클래스를 만들 수 있음.\n"
   ]
  },
  {
   "cell_type": "code",
   "execution_count": 15,
   "metadata": {
    "ExecuteTime": {
     "end_time": "2020-07-08T01:52:55.949764Z",
     "start_time": "2020-07-08T01:52:55.939767Z"
    }
   },
   "outputs": [
    {
     "name": "stdout",
     "output_type": "stream",
     "text": [
      "ranks ['2', '3', '4', '5', '6', '7', '8', '9', '10', 'J', 'Q', 'K', 'A']\n",
      "suits ['spades', 'diamonds', 'clubs', 'hearts']\n"
     ]
    }
   ],
   "source": [
    "class FrenchDeck:\n",
    "    ranks = [str(n) for n in range(2, 11)] + list('JQKA')\n",
    "    print('ranks', ranks)\n",
    "    suits = 'spades diamonds clubs hearts'.split()\n",
    "    print('suits', suits)\n",
    "    \n",
    "    def __init__(self):\n",
    "        self._cards = [Card(rank, suit) for suit in self.suits\n",
    "                                        for rank in self.ranks]\n",
    "        print('self._cards',self._cards)\n",
    "        \n",
    "    def __len__(self):\n",
    "        return len(self._cards)\n",
    "    \n",
    "    def __getitem__(self, position):\n",
    "        return self._cards[position]"
   ]
  },
  {
   "cell_type": "code",
   "execution_count": 16,
   "metadata": {
    "ExecuteTime": {
     "end_time": "2020-07-08T01:52:56.775430Z",
     "start_time": "2020-07-08T01:52:56.770432Z"
    }
   },
   "outputs": [
    {
     "name": "stdout",
     "output_type": "stream",
     "text": [
      "Card(rank='7', suit='diamonds')\n"
     ]
    }
   ],
   "source": [
    "beer_card = Card('7', 'diamonds')\n",
    "print(beer_card)"
   ]
  },
  {
   "cell_type": "code",
   "execution_count": 17,
   "metadata": {
    "ExecuteTime": {
     "end_time": "2020-07-08T01:52:57.454999Z",
     "start_time": "2020-07-08T01:52:57.449995Z"
    }
   },
   "outputs": [
    {
     "name": "stdout",
     "output_type": "stream",
     "text": [
      "self._cards [Card(rank='2', suit='spades'), Card(rank='3', suit='spades'), Card(rank='4', suit='spades'), Card(rank='5', suit='spades'), Card(rank='6', suit='spades'), Card(rank='7', suit='spades'), Card(rank='8', suit='spades'), Card(rank='9', suit='spades'), Card(rank='10', suit='spades'), Card(rank='J', suit='spades'), Card(rank='Q', suit='spades'), Card(rank='K', suit='spades'), Card(rank='A', suit='spades'), Card(rank='2', suit='diamonds'), Card(rank='3', suit='diamonds'), Card(rank='4', suit='diamonds'), Card(rank='5', suit='diamonds'), Card(rank='6', suit='diamonds'), Card(rank='7', suit='diamonds'), Card(rank='8', suit='diamonds'), Card(rank='9', suit='diamonds'), Card(rank='10', suit='diamonds'), Card(rank='J', suit='diamonds'), Card(rank='Q', suit='diamonds'), Card(rank='K', suit='diamonds'), Card(rank='A', suit='diamonds'), Card(rank='2', suit='clubs'), Card(rank='3', suit='clubs'), Card(rank='4', suit='clubs'), Card(rank='5', suit='clubs'), Card(rank='6', suit='clubs'), Card(rank='7', suit='clubs'), Card(rank='8', suit='clubs'), Card(rank='9', suit='clubs'), Card(rank='10', suit='clubs'), Card(rank='J', suit='clubs'), Card(rank='Q', suit='clubs'), Card(rank='K', suit='clubs'), Card(rank='A', suit='clubs'), Card(rank='2', suit='hearts'), Card(rank='3', suit='hearts'), Card(rank='4', suit='hearts'), Card(rank='5', suit='hearts'), Card(rank='6', suit='hearts'), Card(rank='7', suit='hearts'), Card(rank='8', suit='hearts'), Card(rank='9', suit='hearts'), Card(rank='10', suit='hearts'), Card(rank='J', suit='hearts'), Card(rank='Q', suit='hearts'), Card(rank='K', suit='hearts'), Card(rank='A', suit='hearts')]\n"
     ]
    }
   ],
   "source": [
    "deck = FrenchDeck()"
   ]
  },
  {
   "cell_type": "code",
   "execution_count": 20,
   "metadata": {
    "ExecuteTime": {
     "end_time": "2020-07-08T01:54:12.474412Z",
     "start_time": "2020-07-08T01:54:12.467410Z"
    }
   },
   "outputs": [
    {
     "data": {
      "text/plain": [
       "52"
      ]
     },
     "execution_count": 20,
     "metadata": {},
     "output_type": "execute_result"
    }
   ],
   "source": [
    "# 자신이 갖고있는 카드 수 반환: __len__()\n",
    "len(deck)"
   ]
  },
  {
   "cell_type": "code",
   "execution_count": 24,
   "metadata": {
    "ExecuteTime": {
     "end_time": "2020-07-08T01:54:41.659690Z",
     "start_time": "2020-07-08T01:54:41.654688Z"
    }
   },
   "outputs": [
    {
     "name": "stdout",
     "output_type": "stream",
     "text": [
      "Card(rank='2', suit='spades')\n",
      "Card(rank='A', suit='hearts')\n"
     ]
    }
   ],
   "source": [
    "# 특정 카드 반환: __getitem__()\n",
    "print(deck[0])\n",
    "print(deck[-1])"
   ]
  },
  {
   "cell_type": "code",
   "execution_count": 27,
   "metadata": {
    "ExecuteTime": {
     "end_time": "2020-07-08T01:55:31.030230Z",
     "start_time": "2020-07-08T01:55:31.022228Z"
    }
   },
   "outputs": [
    {
     "name": "stdout",
     "output_type": "stream",
     "text": [
      "Card(rank='Q', suit='clubs')\n",
      "Card(rank='J', suit='diamonds')\n",
      "Card(rank='8', suit='spades')\n"
     ]
    }
   ],
   "source": [
    "# 카드 무작위로 고르기\n",
    "from random import choice\n",
    "\n",
    "for i in range(3):\n",
    "    print(choice(deck))"
   ]
  },
  {
   "cell_type": "code",
   "execution_count": null,
   "metadata": {},
   "outputs": [],
   "source": []
  },
  {
   "cell_type": "code",
   "execution_count": null,
   "metadata": {},
   "outputs": [],
   "source": []
  },
  {
   "cell_type": "code",
   "execution_count": 28,
   "metadata": {
    "ExecuteTime": {
     "end_time": "2020-07-08T02:53:15.677165Z",
     "start_time": "2020-07-08T02:53:15.605162Z"
    },
    "scrolled": true
   },
   "outputs": [
    {
     "name": "stdout",
     "output_type": "stream",
     "text": [
      "int: 100, string: text, float: 3.14\n"
     ]
    }
   ],
   "source": [
    "print('int: {}, string: {}, float: {}'.format(100, 'text', 3.14))"
   ]
  },
  {
   "cell_type": "code",
   "execution_count": 29,
   "metadata": {
    "ExecuteTime": {
     "end_time": "2020-07-08T02:54:55.956619Z",
     "start_time": "2020-07-08T02:54:55.946612Z"
    }
   },
   "outputs": [
    {
     "name": "stdout",
     "output_type": "stream",
     "text": [
      "int: 100, string: text, float: 3.14\n"
     ]
    }
   ],
   "source": [
    "# 인덱스 사용\n",
    "print('int: {2}, string: {1}, float: {0}'.format(3.14, 'text', 100))"
   ]
  },
  {
   "cell_type": "code",
   "execution_count": 53,
   "metadata": {
    "ExecuteTime": {
     "end_time": "2020-07-08T03:05:20.324319Z",
     "start_time": "2020-07-08T03:05:20.300308Z"
    }
   },
   "outputs": [
    {
     "ename": "AttributeError",
     "evalue": "'float' object has no attribute '2f'",
     "output_type": "error",
     "traceback": [
      "\u001b[1;31m---------------------------------------------------------------------------\u001b[0m",
      "\u001b[1;31mAttributeError\u001b[0m                            Traceback (most recent call last)",
      "\u001b[1;32m<ipython-input-53-35ddbc0be5c2>\u001b[0m in \u001b[0;36m<module>\u001b[1;34m\u001b[0m\n\u001b[0;32m      1\u001b[0m \u001b[1;31m# 자리수 확보\u001b[0m\u001b[1;33m\u001b[0m\u001b[1;33m\u001b[0m\u001b[1;33m\u001b[0m\u001b[0m\n\u001b[0;32m      2\u001b[0m \u001b[1;33m\u001b[0m\u001b[0m\n\u001b[1;32m----> 3\u001b[1;33m \u001b[0mprint\u001b[0m\u001b[1;33m(\u001b[0m\u001b[1;34m'소수점 둘째자리: {.2f}'\u001b[0m\u001b[1;33m.\u001b[0m\u001b[0mformat\u001b[0m\u001b[1;33m(\u001b[0m\u001b[1;36m3.1415\u001b[0m\u001b[1;33m)\u001b[0m\u001b[1;33m)\u001b[0m\u001b[1;33m\u001b[0m\u001b[1;33m\u001b[0m\u001b[0m\n\u001b[0m",
      "\u001b[1;31mAttributeError\u001b[0m: 'float' object has no attribute '2f'"
     ]
    }
   ],
   "source": [
    "# 자리수 확보\n",
    "\n",
    "print('소수점 둘째자리: {.2f}'.format(3.1415))"
   ]
  },
  {
   "cell_type": "code",
   "execution_count": null,
   "metadata": {},
   "outputs": [],
   "source": [
    "# 자리수 확보\n",
    "print('5자리: {:5d}'.format(1))\n",
    ">> 5자리:     1\n",
    "\n",
    "print('빈자리를 0으로 채우기:{:>05d}'.format(1))\n",
    ">> 빈자리를 0으로 채우기: 00001\n",
    "\n",
    "# 소수점 표현\n",
    "print('소수점 둘째자리: %.2f' % (3.1415))\n",
    ">> 소수점 둘째자리: 3.14"
   ]
  }
 ],
 "metadata": {
  "kernelspec": {
   "display_name": "Python 3",
   "language": "python",
   "name": "python3"
  },
  "language_info": {
   "codemirror_mode": {
    "name": "ipython",
    "version": 3
   },
   "file_extension": ".py",
   "mimetype": "text/x-python",
   "name": "python",
   "nbconvert_exporter": "python",
   "pygments_lexer": "ipython3",
   "version": "3.6.8"
  },
  "toc": {
   "base_numbering": 1,
   "nav_menu": {},
   "number_sections": false,
   "sideBar": true,
   "skip_h1_title": false,
   "title_cell": "Table of Contents",
   "title_sidebar": "Contents",
   "toc_cell": false,
   "toc_position": {},
   "toc_section_display": true,
   "toc_window_display": false
  }
 },
 "nbformat": 4,
 "nbformat_minor": 4
}
