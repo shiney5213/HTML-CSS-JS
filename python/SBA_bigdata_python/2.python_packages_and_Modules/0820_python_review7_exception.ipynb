{
 "cells": [
  {
   "cell_type": "markdown",
   "metadata": {},
   "source": [
    "# 에러와 예외처리, Errors & Exceptions\n",
    "\n",
    "> - 구문 에러, Syntax Errors\n",
    "- 예외, Exceptions\n",
    "- try_except 구문으로 예외상황 제어, Exceptions Handoing in Program\n",
    "- try_except 구문으로 예외상항 제어, Exceptins Handling in Function\n",
    "- elsed와 finally활용하기\n",
    "- 사용자 정의 예외, User_difined Exceptions"
   ]
  },
  {
   "cell_type": "markdown",
   "metadata": {},
   "source": [
    "## 구문 에러, Syntax Error"
   ]
  },
  {
   "cell_type": "code",
   "execution_count": null,
   "metadata": {},
   "outputs": [],
   "source": [
    "# print() 함수의 괄호 누락\n",
    "print 'I can do coding with python. Wow~~~'"
   ]
  },
  {
   "cell_type": "code",
   "execution_count": null,
   "metadata": {},
   "outputs": [],
   "source": [
    "# 콜론(:) 누락\n",
    "if 1>0\n",
    "    print(\"1은 0보다 크다.\")"
   ]
  },
  {
   "cell_type": "code",
   "execution_count": null,
   "metadata": {},
   "outputs": [],
   "source": [
    "# 들여쓰기 실수\n",
    "if 1>0:\n",
    "    print('1은 0보다 크다.')\n",
    "  print('당연하쥐!')"
   ]
  },
  {
   "cell_type": "markdown",
   "metadata": {},
   "source": [
    "## 예외, Exceptions"
   ]
  },
  {
   "cell_type": "code",
   "execution_count": 27,
   "metadata": {},
   "outputs": [
    {
     "ename": "NameError",
     "evalue": "name 'strange' is not defined",
     "output_type": "error",
     "traceback": [
      "\u001b[1;31m---------------------------------------------------------------------------\u001b[0m",
      "\u001b[1;31mNameError\u001b[0m                                 Traceback (most recent call last)",
      "\u001b[1;32m<ipython-input-27-f1dccd5e56d1>\u001b[0m in \u001b[0;36m<module>\u001b[1;34m\u001b[0m\n\u001b[0;32m      1\u001b[0m \u001b[1;31m# 정의하지 않은 변수 stragne 호출\u001b[0m\u001b[1;33m\u001b[0m\u001b[1;33m\u001b[0m\u001b[1;33m\u001b[0m\u001b[0m\n\u001b[1;32m----> 2\u001b[1;33m \u001b[0mprint\u001b[0m\u001b[1;33m(\u001b[0m\u001b[0mstrange\u001b[0m\u001b[1;33m)\u001b[0m\u001b[1;33m\u001b[0m\u001b[1;33m\u001b[0m\u001b[0m\n\u001b[0m",
      "\u001b[1;31mNameError\u001b[0m: name 'strange' is not defined"
     ]
    }
   ],
   "source": [
    "# 정의하지 않은 변수 stragne 호출\n",
    "print(strange)"
   ]
  },
  {
   "cell_type": "code",
   "execution_count": 28,
   "metadata": {},
   "outputs": [
    {
     "ename": "TypeError",
     "evalue": "unsupported operand type(s) for +: 'int' and 'str'",
     "output_type": "error",
     "traceback": [
      "\u001b[1;31m---------------------------------------------------------------------------\u001b[0m",
      "\u001b[1;31mTypeError\u001b[0m                                 Traceback (most recent call last)",
      "\u001b[1;32m<ipython-input-28-63cb19d1f7fb>\u001b[0m in \u001b[0;36m<module>\u001b[1;34m\u001b[0m\n\u001b[0;32m      1\u001b[0m \u001b[1;31m# 숫자와 문자열의 덧셈, 불가하다.\u001b[0m\u001b[1;33m\u001b[0m\u001b[1;33m\u001b[0m\u001b[1;33m\u001b[0m\u001b[0m\n\u001b[1;32m----> 2\u001b[1;33m \u001b[1;36m2\u001b[0m \u001b[1;33m+\u001b[0m \u001b[1;34m'2'\u001b[0m\u001b[1;33m\u001b[0m\u001b[1;33m\u001b[0m\u001b[0m\n\u001b[0m",
      "\u001b[1;31mTypeError\u001b[0m: unsupported operand type(s) for +: 'int' and 'str'"
     ]
    }
   ],
   "source": [
    "# 숫자와 문자열의 덧셈, 불가하다.\n",
    "2 + '2'"
   ]
  },
  {
   "cell_type": "code",
   "execution_count": 3,
   "metadata": {},
   "outputs": [
    {
     "data": {
      "text/plain": [
       "method_descriptor"
      ]
     },
     "execution_count": 3,
     "metadata": {},
     "output_type": "execute_result"
    }
   ],
   "source": [
    "type(Exception.with_traceback)"
   ]
  },
  {
   "cell_type": "code",
   "execution_count": 4,
   "metadata": {},
   "outputs": [
    {
     "data": {
      "text/plain": [
       "<function KeyboardInterrupt.mro()>"
      ]
     },
     "execution_count": 4,
     "metadata": {},
     "output_type": "execute_result"
    }
   ],
   "source": [
    "KeyboardInterrupt.mro"
   ]
  },
  {
   "cell_type": "markdown",
   "metadata": {},
   "source": [
    "## try_except구분으로 예외 상황 제어, Exceptions Handling in Program"
   ]
  },
  {
   "cell_type": "code",
   "execution_count": 6,
   "metadata": {},
   "outputs": [
    {
     "name": "stdout",
     "output_type": "stream",
     "text": [
      "안녕하세요\n",
      "예외가 발생했습니다\n"
     ]
    }
   ],
   "source": [
    "try:\n",
    "    print('안녕하세요')\n",
    "    print(param)\n",
    "    \n",
    "except:\n",
    "    print('예외가 발생했습니다')"
   ]
  },
  {
   "cell_type": "code",
   "execution_count": null,
   "metadata": {},
   "outputs": [],
   "source": [
    "try:\n",
    "    print('안녕하세요.')\n",
    "    print(param)\n",
    "except:\n",
    "    print('예외가 발생했습니다!')\n",
    "else:\n",
    "    print('예외가 발생하지 않았습니다.')"
   ]
  },
  {
   "cell_type": "code",
   "execution_count": null,
   "metadata": {},
   "outputs": [],
   "source": [
    "try:\n",
    "    print('안녕하세요.')\n",
    "    print(param)\n",
    "except:\n",
    "    print('예외가 발생했습니다!')\n",
    "finally:\n",
    "    print('무조건 실행하는 코드')"
   ]
  },
  {
   "cell_type": "code",
   "execution_count": 9,
   "metadata": {},
   "outputs": [
    {
     "name": "stdout",
     "output_type": "stream",
     "text": [
      "name 'param' is not defined\n"
     ]
    }
   ],
   "source": [
    "try:\n",
    "    print(param)\n",
    "except Exception as e:   # 대문자로 시작-> class, 이미 오류를 프린트하는 class로 구현되어 있기 때문\n",
    "    print(e)"
   ]
  },
  {
   "cell_type": "code",
   "execution_count": 10,
   "metadata": {},
   "outputs": [
    {
     "name": "stdout",
     "output_type": "stream",
     "text": [
      "1\n",
      "2\n",
      "3\n",
      "4\n",
      "5\n",
      "6\n",
      "7\n",
      "8\n",
      "9\n",
      "10\n",
      "11\n",
      "12\n",
      "13\n",
      "14\n",
      "15\n",
      "16\n",
      "17\n",
      "18\n",
      "19\n",
      "20\n",
      "21\n",
      "22\n",
      "23\n",
      "24\n",
      "25\n",
      "26\n",
      "27\n",
      "28\n",
      "29\n",
      "30\n",
      "31\n",
      "32\n",
      "33\n",
      "34\n",
      "35\n",
      "36\n",
      "37\n",
      "38\n",
      "39\n",
      "40\n",
      "41\n"
     ]
    },
    {
     "ename": "NameError",
     "evalue": "name 'Keyboardinterrupt' is not defined",
     "output_type": "error",
     "traceback": [
      "\u001b[1;31m---------------------------------------------------------------------------\u001b[0m",
      "\u001b[1;31mKeyboardInterrupt\u001b[0m                         Traceback (most recent call last)",
      "\u001b[1;32m<ipython-input-10-7e0580b0aefc>\u001b[0m in \u001b[0;36m<module>\u001b[1;34m\u001b[0m\n\u001b[0;32m      6\u001b[0m         \u001b[0mcount\u001b[0m \u001b[1;33m+=\u001b[0m \u001b[1;36m1\u001b[0m\u001b[1;33m\u001b[0m\u001b[1;33m\u001b[0m\u001b[0m\n\u001b[1;32m----> 7\u001b[1;33m         \u001b[0mtime\u001b[0m\u001b[1;33m.\u001b[0m\u001b[0msleep\u001b[0m\u001b[1;33m(\u001b[0m\u001b[1;36m0.5\u001b[0m\u001b[1;33m)\u001b[0m\u001b[1;33m\u001b[0m\u001b[1;33m\u001b[0m\u001b[0m\n\u001b[0m\u001b[0;32m      8\u001b[0m \u001b[1;32mexcept\u001b[0m \u001b[0mKeyboardinterrupt\u001b[0m\u001b[1;33m:\u001b[0m\u001b[1;33m\u001b[0m\u001b[1;33m\u001b[0m\u001b[0m\n",
      "\u001b[1;31mKeyboardInterrupt\u001b[0m: ",
      "\nDuring handling of the above exception, another exception occurred:\n",
      "\u001b[1;31mNameError\u001b[0m                                 Traceback (most recent call last)",
      "\u001b[1;32m<ipython-input-10-7e0580b0aefc>\u001b[0m in \u001b[0;36m<module>\u001b[1;34m\u001b[0m\n\u001b[0;32m      6\u001b[0m         \u001b[0mcount\u001b[0m \u001b[1;33m+=\u001b[0m \u001b[1;36m1\u001b[0m\u001b[1;33m\u001b[0m\u001b[1;33m\u001b[0m\u001b[0m\n\u001b[0;32m      7\u001b[0m         \u001b[0mtime\u001b[0m\u001b[1;33m.\u001b[0m\u001b[0msleep\u001b[0m\u001b[1;33m(\u001b[0m\u001b[1;36m0.5\u001b[0m\u001b[1;33m)\u001b[0m\u001b[1;33m\u001b[0m\u001b[1;33m\u001b[0m\u001b[0m\n\u001b[1;32m----> 8\u001b[1;33m \u001b[1;32mexcept\u001b[0m \u001b[0mKeyboardinterrupt\u001b[0m\u001b[1;33m:\u001b[0m\u001b[1;33m\u001b[0m\u001b[1;33m\u001b[0m\u001b[0m\n\u001b[0m\u001b[0;32m      9\u001b[0m     \u001b[0mpint\u001b[0m\u001b[1;33m(\u001b[0m\u001b[1;34m'사용자에 의해 프로그램이 중단되었습니다'\u001b[0m\u001b[1;33m)\u001b[0m\u001b[1;33m\u001b[0m\u001b[1;33m\u001b[0m\u001b[0m\n",
      "\u001b[1;31mNameError\u001b[0m: name 'Keyboardinterrupt' is not defined"
     ]
    }
   ],
   "source": [
    "import time\n",
    "count = 1\n",
    "try:\n",
    "    while True:\n",
    "        print(count)\n",
    "        count += 1\n",
    "        time.sleep(0.5)\n",
    "except Keyboardinterrupt:\n",
    "    pint('사용자에 의해 프로그램이 중단되었습니다')   # 강제로 종료하기"
   ]
  },
  {
   "cell_type": "markdown",
   "metadata": {},
   "source": [
    "## try_except 구분으로 제어상황 제어,\n",
    "## Exceptions Handling in Function\n"
   ]
  },
  {
   "cell_type": "code",
   "execution_count": 11,
   "metadata": {},
   "outputs": [
    {
     "name": "stdout",
     "output_type": "stream",
     "text": [
      "[1] Can you add 2 and '2' in python? \n"
     ]
    },
    {
     "ename": "TypeError",
     "evalue": "unsupported operand type(s) for +: 'int' and 'str'",
     "output_type": "error",
     "traceback": [
      "\u001b[1;31m---------------------------------------------------------------------------\u001b[0m",
      "\u001b[1;31mTypeError\u001b[0m                                 Traceback (most recent call last)",
      "\u001b[1;32m<ipython-input-11-c61d310316d9>\u001b[0m in \u001b[0;36m<module>\u001b[1;34m\u001b[0m\n\u001b[0;32m      5\u001b[0m     \u001b[0mprint\u001b[0m\u001b[1;33m(\u001b[0m\u001b[1;34m\"[3] It's not possible to add integer and string together. \"\u001b[0m\u001b[1;33m)\u001b[0m\u001b[1;33m\u001b[0m\u001b[1;33m\u001b[0m\u001b[0m\n\u001b[0;32m      6\u001b[0m \u001b[1;33m\u001b[0m\u001b[0m\n\u001b[1;32m----> 7\u001b[1;33m \u001b[0mexception_test\u001b[0m\u001b[1;33m(\u001b[0m\u001b[1;33m)\u001b[0m\u001b[1;33m\u001b[0m\u001b[1;33m\u001b[0m\u001b[0m\n\u001b[0m",
      "\u001b[1;32m<ipython-input-11-c61d310316d9>\u001b[0m in \u001b[0;36mexception_test\u001b[1;34m()\u001b[0m\n\u001b[0;32m      2\u001b[0m \u001b[1;32mdef\u001b[0m \u001b[0mexception_test\u001b[0m\u001b[1;33m(\u001b[0m\u001b[1;33m)\u001b[0m\u001b[1;33m:\u001b[0m\u001b[1;33m\u001b[0m\u001b[1;33m\u001b[0m\u001b[0m\n\u001b[0;32m      3\u001b[0m     \u001b[0mprint\u001b[0m\u001b[1;33m(\u001b[0m\u001b[1;34m\"[1] Can you add 2 and '2' in python? \"\u001b[0m\u001b[1;33m)\u001b[0m\u001b[1;33m\u001b[0m\u001b[1;33m\u001b[0m\u001b[0m\n\u001b[1;32m----> 4\u001b[1;33m     \u001b[0mprint\u001b[0m\u001b[1;33m(\u001b[0m\u001b[1;34m\"[2] Try it~! \"\u001b[0m\u001b[1;33m,\u001b[0m \u001b[1;36m2\u001b[0m\u001b[1;33m+\u001b[0m\u001b[1;34m'2'\u001b[0m\u001b[1;33m)\u001b[0m     \u001b[1;31m# 예외 발생\u001b[0m\u001b[1;33m\u001b[0m\u001b[1;33m\u001b[0m\u001b[0m\n\u001b[0m\u001b[0;32m      5\u001b[0m     \u001b[0mprint\u001b[0m\u001b[1;33m(\u001b[0m\u001b[1;34m\"[3] It's not possible to add integer and string together. \"\u001b[0m\u001b[1;33m)\u001b[0m\u001b[1;33m\u001b[0m\u001b[1;33m\u001b[0m\u001b[0m\n\u001b[0;32m      6\u001b[0m \u001b[1;33m\u001b[0m\u001b[0m\n",
      "\u001b[1;31mTypeError\u001b[0m: unsupported operand type(s) for +: 'int' and 'str'"
     ]
    }
   ],
   "source": [
    "# 예외상황 테스트를 위한 함수\n",
    "def exception_test():\n",
    "    print(\"[1] Can you add 2 and '2' in python? \")\n",
    "    print(\"[2] Try it~! \", 2+'2')     # 예외 발생 \n",
    "    print(\"[3] It's not possible to add integer and string together. \")\n",
    "    \n",
    "exception_test()"
   ]
  },
  {
   "cell_type": "code",
   "execution_count": 13,
   "metadata": {},
   "outputs": [
    {
     "name": "stdout",
     "output_type": "stream",
     "text": [
      "[1] Can you add2 and '2' in pythons?\n",
      "[2] I got TypeError!\n",
      "[3] It's not possible to add integer and string together\n"
     ]
    }
   ],
   "source": [
    "# 예외 상황에 대한 처리를 구현한 함수\n",
    "def exception_test2():\n",
    "    print(\"[1] Can you add2 and '2' in pythons?\")\n",
    "    \n",
    "    try:\n",
    "        print('[2] Try it~!', 2 + '2')  # type Error 발생\n",
    "    except TypeError:\n",
    "        print('[2] I got TypeError!')  # 에러 메시지 출력-> 에러 메시지 출력 후, 프로그램 실행이 자연스럽게 이어짐\n",
    "        \n",
    "    print(\"[3] It's not possible to add integer and string together\")\n",
    "    \n",
    "exception_test2()"
   ]
  },
  {
   "cell_type": "code",
   "execution_count": 15,
   "metadata": {},
   "outputs": [
    {
     "name": "stdout",
     "output_type": "stream",
     "text": [
      "[1] Can you add 2 and '2' in python? \n",
      "[2] TypeError: unsupported operand type(s) for +: 'int' and 'str'\n",
      "[3] It's not possible to add integer and string together. \n"
     ]
    }
   ],
   "source": [
    "#  예외상황에 대한 에러메시지를 상세히 나타낸 함수\n",
    "def exception_test3():\n",
    "    print(\"[1] Can you add 2 and '2' in python? \")\n",
    "    \n",
    "    try:\n",
    "        print(\"[2] Try it~! \", 2+'2')     # TypeError 발생\n",
    "    except TypeError as err:\n",
    "        print(\"[2] TypeError: {}\".format(err))    # 에러 메시지를 상세히 출력\n",
    "    \n",
    "    \n",
    "    print(\"[3] It's not possible to add integer and string together. \")\n",
    "    \n",
    "exception_test3()"
   ]
  },
  {
   "cell_type": "code",
   "execution_count": 16,
   "metadata": {},
   "outputs": [
    {
     "name": "stdout",
     "output_type": "stream",
     "text": [
      "[1] Can you add 2 and '2' in python? \n",
      "[2] I got TypeError! Check below! \n",
      "[3] It's not possible to add integer and string together. \n"
     ]
    },
    {
     "name": "stderr",
     "output_type": "stream",
     "text": [
      "Traceback (most recent call last):\n",
      "  File \"<ipython-input-16-5f953284a1da>\", line 8, in exception_test4\n",
      "    print(\"[2] Try it~! \", 2+'2')     # TypeError 발생\n",
      "TypeError: unsupported operand type(s) for +: 'int' and 'str'\n"
     ]
    }
   ],
   "source": [
    "import traceback \n",
    "\n",
    "# 처음에 보았던 트레이스백 메시지와 함께 나타낸 함수\n",
    "def exception_test4():\n",
    "    print(\"[1] Can you add 2 and '2' in python? \")\n",
    "    \n",
    "    try:\n",
    "        print(\"[2] Try it~! \", 2+'2')     # TypeError 발생\n",
    "    except TypeError:\n",
    "        print(\"[2] I got TypeError! Check below! \")    # 에러 메시지 출력\n",
    "        traceback.print_exc()                          # 트레이스백 메시지 출력\n",
    "    \n",
    "    print(\"[3] It's not possible to add integer and string together. \")\n",
    "    \n",
    "exception_test4()"
   ]
  },
  {
   "cell_type": "markdown",
   "metadata": {},
   "source": [
    "## else와 finally 활용하기¶\n"
   ]
  },
  {
   "cell_type": "code",
   "execution_count": 17,
   "metadata": {},
   "outputs": [
    {
     "name": "stdout",
     "output_type": "stream",
     "text": [
      "cannot open README.txt\n"
     ]
    }
   ],
   "source": [
    "# 예외 처리 방식에서의 else 옵션 구문 활용\n",
    "def exception_test5(file_path):\n",
    "    try:\n",
    "        f = open(file_path, 'r')            # 파일 열기 시도\n",
    "    except IOError:\n",
    "        print('cannot open', file_path)     # 에러 메시지 출력\n",
    "    else:  # 에러가 발생하지 않았다면\n",
    "        print('File has', len(f.readlines()), 'lines')    # 파일 라인 수 출력\n",
    "        f.close()                           # 파일 닫기\n",
    "        \n",
    "# 정상 상황\n",
    "exception_test5('README.txt')\n",
    "\n",
    "# 없는 파일을 찾을때\n",
    "exception_test5('README-XXX.txt')"
   ]
  },
  {
   "cell_type": "code",
   "execution_count": 19,
   "metadata": {},
   "outputs": [
    {
     "name": "stdout",
     "output_type": "stream",
     "text": [
      "cannot open README.txt\n",
      "I just tried to read this file. README.txt\n",
      "cannot open README-XXX.txt\n",
      "I just tried to read this file. README-XXX.txt\n"
     ]
    }
   ],
   "source": [
    "# 예외 처리 방식에서의 finally 옵션 구문 활용\n",
    "def exception_test6(file_path):\n",
    "    try:\n",
    "        f = open(file_path, 'r')            # 파일 열기 시도\n",
    "    except IOError:\n",
    "        print('cannot open', file_path)     # 에러 메시지 출력\n",
    "    else:\n",
    "        print('File has', len(f.readlines()), 'lines')    # 파일 라인 수 출력\n",
    "        f.close()                           # 파일 닫기\n",
    "    finally:\n",
    "        # 예외 발생 상관 없이 무조건 실행\n",
    "        print('I just tried to read this file.', file_path)\n",
    "        \n",
    "# 정상 상황\n",
    "exception_test6('README.txt')\n",
    "\n",
    "# 없는 파일을 찾을때\n",
    "exception_test6('README-XXX.txt')"
   ]
  },
  {
   "cell_type": "markdown",
   "metadata": {},
   "source": [
    "## 사용자 정의 예외, User_defined Exceptions"
   ]
  },
  {
   "cell_type": "code",
   "execution_count": 21,
   "metadata": {},
   "outputs": [],
   "source": [
    "# 예외 클래스 \n",
    "class TooBigNumError(Exception):  # Exception 클래스를 상속받은 class\n",
    "    def __init__(self, val):\n",
    "        self.val = val\n",
    "    def __str__(self):  # 실행되면 뿌려주는 함수\n",
    "        return 'too big number {}. Use 1~10! '.format(self.val)\n",
    "\n",
    "\n"
   ]
  },
  {
   "cell_type": "code",
   "execution_count": 22,
   "metadata": {},
   "outputs": [
    {
     "ename": "TooBigNumError",
     "evalue": "too big number 15. Use 1~10! ",
     "output_type": "error",
     "traceback": [
      "\u001b[1;31m---------------------------------------------------------------------------\u001b[0m",
      "\u001b[1;31mTooBigNumError\u001b[0m                            Traceback (most recent call last)",
      "\u001b[1;32m<ipython-input-22-fb5dbd8c8e15>\u001b[0m in \u001b[0;36m<module>\u001b[1;34m\u001b[0m\n\u001b[0;32m      1\u001b[0m \u001b[1;31m# 강제로 에러 발생\u001b[0m\u001b[1;33m\u001b[0m\u001b[1;33m\u001b[0m\u001b[1;33m\u001b[0m\u001b[0m\n\u001b[1;32m----> 2\u001b[1;33m \u001b[1;32mraise\u001b[0m \u001b[0mTooBigNumError\u001b[0m\u001b[1;33m(\u001b[0m\u001b[1;36m15\u001b[0m\u001b[1;33m)\u001b[0m\u001b[1;33m\u001b[0m\u001b[1;33m\u001b[0m\u001b[0m\n\u001b[0m",
      "\u001b[1;31mTooBigNumError\u001b[0m: too big number 15. Use 1~10! "
     ]
    }
   ],
   "source": [
    "# 강제로 에러 발생\n",
    "raise TooBigNumError(15)"
   ]
  },
  {
   "cell_type": "code",
   "execution_count": 23,
   "metadata": {},
   "outputs": [],
   "source": [
    "# 사용자 정의 예외를 위한 테스트 함수\n",
    "def user_defined_exception_test():\n",
    "    num = int(input('1부터 10 사이의 점수를 입력하세요! : '))   # 숫자 입력\n",
    "    if num > 10:\n",
    "        raise TooBigNumError(num)                              # 에러 발생\n",
    "    print('숫자 {} 를 입력하셨군요! '.format(num))             # 정상인 경우 출력문"
   ]
  },
  {
   "cell_type": "code",
   "execution_count": 24,
   "metadata": {},
   "outputs": [
    {
     "name": "stdout",
     "output_type": "stream",
     "text": [
      "1부터 10 사이의 점수를 입력하세요! : 5\n",
      "숫자 5 를 입력하셨군요! \n"
     ]
    }
   ],
   "source": [
    "# 정상 Case 입력\n",
    "user_defined_exception_test()"
   ]
  },
  {
   "cell_type": "code",
   "execution_count": 25,
   "metadata": {},
   "outputs": [
    {
     "name": "stdout",
     "output_type": "stream",
     "text": [
      "1부터 10 사이의 점수를 입력하세요! : 15\n"
     ]
    },
    {
     "ename": "TooBigNumError",
     "evalue": "too big number 15. Use 1~10! ",
     "output_type": "error",
     "traceback": [
      "\u001b[1;31m---------------------------------------------------------------------------\u001b[0m",
      "\u001b[1;31mTooBigNumError\u001b[0m                            Traceback (most recent call last)",
      "\u001b[1;32m<ipython-input-25-7f5ebe303fc7>\u001b[0m in \u001b[0;36m<module>\u001b[1;34m\u001b[0m\n\u001b[0;32m      1\u001b[0m \u001b[1;31m# 에러 Case 입력\u001b[0m\u001b[1;33m\u001b[0m\u001b[1;33m\u001b[0m\u001b[1;33m\u001b[0m\u001b[0m\n\u001b[1;32m----> 2\u001b[1;33m \u001b[0muser_defined_exception_test\u001b[0m\u001b[1;33m(\u001b[0m\u001b[1;33m)\u001b[0m\u001b[1;33m\u001b[0m\u001b[1;33m\u001b[0m\u001b[0m\n\u001b[0m",
      "\u001b[1;32m<ipython-input-23-7e319df43c34>\u001b[0m in \u001b[0;36muser_defined_exception_test\u001b[1;34m()\u001b[0m\n\u001b[0;32m      3\u001b[0m     \u001b[0mnum\u001b[0m \u001b[1;33m=\u001b[0m \u001b[0mint\u001b[0m\u001b[1;33m(\u001b[0m\u001b[0minput\u001b[0m\u001b[1;33m(\u001b[0m\u001b[1;34m'1부터 10 사이의 점수를 입력하세요! : '\u001b[0m\u001b[1;33m)\u001b[0m\u001b[1;33m)\u001b[0m   \u001b[1;31m# 숫자 입력\u001b[0m\u001b[1;33m\u001b[0m\u001b[1;33m\u001b[0m\u001b[0m\n\u001b[0;32m      4\u001b[0m     \u001b[1;32mif\u001b[0m \u001b[0mnum\u001b[0m \u001b[1;33m>\u001b[0m \u001b[1;36m10\u001b[0m\u001b[1;33m:\u001b[0m\u001b[1;33m\u001b[0m\u001b[1;33m\u001b[0m\u001b[0m\n\u001b[1;32m----> 5\u001b[1;33m         \u001b[1;32mraise\u001b[0m \u001b[0mTooBigNumError\u001b[0m\u001b[1;33m(\u001b[0m\u001b[0mnum\u001b[0m\u001b[1;33m)\u001b[0m                              \u001b[1;31m# 에러 발생\u001b[0m\u001b[1;33m\u001b[0m\u001b[1;33m\u001b[0m\u001b[0m\n\u001b[0m\u001b[0;32m      6\u001b[0m     \u001b[0mprint\u001b[0m\u001b[1;33m(\u001b[0m\u001b[1;34m'숫자 {} 를 입력하셨군요! '\u001b[0m\u001b[1;33m.\u001b[0m\u001b[0mformat\u001b[0m\u001b[1;33m(\u001b[0m\u001b[0mnum\u001b[0m\u001b[1;33m)\u001b[0m\u001b[1;33m)\u001b[0m             \u001b[1;31m# 정상인 경우 출력문\u001b[0m\u001b[1;33m\u001b[0m\u001b[1;33m\u001b[0m\u001b[0m\n",
      "\u001b[1;31mTooBigNumError\u001b[0m: too big number 15. Use 1~10! "
     ]
    }
   ],
   "source": [
    "# 에러 Case 입력\n",
    "user_defined_exception_test()"
   ]
  },
  {
   "cell_type": "code",
   "execution_count": null,
   "metadata": {},
   "outputs": [],
   "source": []
  }
 ],
 "metadata": {
  "kernelspec": {
   "display_name": "Python 3",
   "language": "python",
   "name": "python3"
  },
  "language_info": {
   "codemirror_mode": {
    "name": "ipython",
    "version": 3
   },
   "file_extension": ".py",
   "mimetype": "text/x-python",
   "name": "python",
   "nbconvert_exporter": "python",
   "pygments_lexer": "ipython3",
   "version": "3.7.3"
  }
 },
 "nbformat": 4,
 "nbformat_minor": 2
}
