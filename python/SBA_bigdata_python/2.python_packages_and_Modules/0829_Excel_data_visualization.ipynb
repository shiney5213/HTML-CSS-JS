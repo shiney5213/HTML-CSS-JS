{
 "cells": [
  {
   "cell_type": "markdown",
   "metadata": {},
   "source": [
    "# 엑셀 데이터 시각화"
   ]
  },
  {
   "cell_type": "markdown",
   "metadata": {},
   "source": [
    "#pwd : 현재 작업 위치\n",
    "#ls : 현재 작업 위치 내 폴더, 파일\n",
    "#dif: 현재 위치 내 폴터, 파일\n",
    "#mkdir 폴더명: 폴더 만들기"
   ]
  },
  {
   "cell_type": "markdown",
   "metadata": {},
   "source": [
    "## 엑셀 데이터 시각화"
   ]
  },
  {
   "cell_type": "code",
   "execution_count": 1,
   "metadata": {},
   "outputs": [],
   "source": [
    "\n",
    "from IPython.display import Image\n",
    "\n",
    "import pandas as pd\n",
    "import matplotlib.pyplot as plt\n",
    "import matplotlib\n",
    "\n",
    "matplotlib.rcParams['font.family']        = 'Malgun Gothic'\n",
    "matplotlib.rcParams['axes.unicode_minus'] = False\n",
    "\n",
    "%matplotlib inline"
   ]
  },
  {
   "cell_type": "markdown",
   "metadata": {},
   "source": [
    "### 엘셀 파일에 그래프 삽입"
   ]
  },
  {
   "cell_type": "code",
   "execution_count": 2,
   "metadata": {},
   "outputs": [
    {
     "data": {
      "text/html": [
       "<div>\n",
       "<style scoped>\n",
       "    .dataframe tbody tr th:only-of-type {\n",
       "        vertical-align: middle;\n",
       "    }\n",
       "\n",
       "    .dataframe tbody tr th {\n",
       "        vertical-align: top;\n",
       "    }\n",
       "\n",
       "    .dataframe thead th {\n",
       "        text-align: right;\n",
       "    }\n",
       "</style>\n",
       "<table border=\"1\" class=\"dataframe\">\n",
       "  <thead>\n",
       "    <tr style=\"text-align: right;\">\n",
       "      <th></th>\n",
       "      <th>제품1</th>\n",
       "      <th>제품2</th>\n",
       "    </tr>\n",
       "  </thead>\n",
       "  <tbody>\n",
       "    <tr>\n",
       "      <th>9</th>\n",
       "      <td>10</td>\n",
       "      <td>9</td>\n",
       "    </tr>\n",
       "    <tr>\n",
       "      <th>10</th>\n",
       "      <td>15</td>\n",
       "      <td>11</td>\n",
       "    </tr>\n",
       "    <tr>\n",
       "      <th>11</th>\n",
       "      <td>12</td>\n",
       "      <td>14</td>\n",
       "    </tr>\n",
       "    <tr>\n",
       "      <th>12</th>\n",
       "      <td>11</td>\n",
       "      <td>12</td>\n",
       "    </tr>\n",
       "    <tr>\n",
       "      <th>13</th>\n",
       "      <td>12</td>\n",
       "      <td>13</td>\n",
       "    </tr>\n",
       "    <tr>\n",
       "      <th>14</th>\n",
       "      <td>14</td>\n",
       "      <td>10</td>\n",
       "    </tr>\n",
       "    <tr>\n",
       "      <th>15</th>\n",
       "      <td>13</td>\n",
       "      <td>12</td>\n",
       "    </tr>\n",
       "  </tbody>\n",
       "</table>\n",
       "</div>"
      ],
      "text/plain": [
       "    제품1  제품2\n",
       "9    10    9\n",
       "10   15   11\n",
       "11   12   14\n",
       "12   11   12\n",
       "13   12   13\n",
       "14   14   10\n",
       "15   13   12"
      ]
     },
     "execution_count": 2,
     "metadata": {},
     "output_type": "execute_result"
    }
   ],
   "source": [
    "sales = {'시간' : [  9, 10, 11, 12, 13, 14, 15 ],\n",
    "         '제품1': [ 10, 15, 12, 11, 12, 14, 13 ],\n",
    "         '제품2': [  9, 11, 14, 12, 13, 10, 12 ]\n",
    "}\n",
    "\n",
    "df = pd.DataFrame(sales, index = sales['시간'], columns = ['제품1', '제품2'])\n",
    "df"
   ]
  },
  {
   "cell_type": "code",
   "execution_count": 3,
   "metadata": {},
   "outputs": [
    {
     "data": {
      "text/html": [
       "<div>\n",
       "<style scoped>\n",
       "    .dataframe tbody tr th:only-of-type {\n",
       "        vertical-align: middle;\n",
       "    }\n",
       "\n",
       "    .dataframe tbody tr th {\n",
       "        vertical-align: top;\n",
       "    }\n",
       "\n",
       "    .dataframe thead th {\n",
       "        text-align: right;\n",
       "    }\n",
       "</style>\n",
       "<table border=\"1\" class=\"dataframe\">\n",
       "  <thead>\n",
       "    <tr style=\"text-align: right;\">\n",
       "      <th></th>\n",
       "      <th>제품1</th>\n",
       "      <th>제품2</th>\n",
       "    </tr>\n",
       "    <tr>\n",
       "      <th>시간</th>\n",
       "      <th></th>\n",
       "      <th></th>\n",
       "    </tr>\n",
       "  </thead>\n",
       "  <tbody>\n",
       "    <tr>\n",
       "      <th>9</th>\n",
       "      <td>10</td>\n",
       "      <td>9</td>\n",
       "    </tr>\n",
       "    <tr>\n",
       "      <th>10</th>\n",
       "      <td>15</td>\n",
       "      <td>11</td>\n",
       "    </tr>\n",
       "    <tr>\n",
       "      <th>11</th>\n",
       "      <td>12</td>\n",
       "      <td>14</td>\n",
       "    </tr>\n",
       "    <tr>\n",
       "      <th>12</th>\n",
       "      <td>11</td>\n",
       "      <td>12</td>\n",
       "    </tr>\n",
       "    <tr>\n",
       "      <th>13</th>\n",
       "      <td>12</td>\n",
       "      <td>13</td>\n",
       "    </tr>\n",
       "    <tr>\n",
       "      <th>14</th>\n",
       "      <td>14</td>\n",
       "      <td>10</td>\n",
       "    </tr>\n",
       "    <tr>\n",
       "      <th>15</th>\n",
       "      <td>13</td>\n",
       "      <td>12</td>\n",
       "    </tr>\n",
       "  </tbody>\n",
       "</table>\n",
       "</div>"
      ],
      "text/plain": [
       "    제품1  제품2\n",
       "시간          \n",
       "9    10    9\n",
       "10   15   11\n",
       "11   12   14\n",
       "12   11   12\n",
       "13   12   13\n",
       "14   14   10\n",
       "15   13   12"
      ]
     },
     "execution_count": 3,
     "metadata": {},
     "output_type": "execute_result"
    }
   ],
   "source": [
    "# index 라벨 추가\n",
    "df.index.name = '시간'\n",
    "df"
   ]
  },
  {
   "cell_type": "code",
   "execution_count": 4,
   "metadata": {},
   "outputs": [
    {
     "data": {
      "text/plain": [
       "<matplotlib.axes._subplots.AxesSubplot at 0x2043c716e80>"
      ]
     },
     "execution_count": 4,
     "metadata": {},
     "output_type": "execute_result"
    },
    {
     "data": {
      "image/png": "[encoded data removed]",
      "text/plain": [
       "<Figure size 432x288 with 1 Axes>"
      ]
     },
     "metadata": {
      "needs_background": "light"
     },
     "output_type": "display_data"
    }
   ],
   "source": [
    "# 판다스에서도 plot 그리는 기능이 있음.\n",
    "product_plot = df.plot(grid = True, style = ['-*','-o'])\n",
    "product_plot"
   ]
  },
  {
   "cell_type": "code",
   "execution_count": 5,
   "metadata": {},
   "outputs": [
    {
     "data": {
      "text/plain": [
       "Text(0, 0.5, '생산량')"
      ]
     },
     "execution_count": 5,
     "metadata": {},
     "output_type": "execute_result"
    },
    {
     "data": {
      "image/png": "[encoded data removed]",
      "text/plain": [
       "<Figure size 432x288 with 1 Axes>"
      ]
     },
     "metadata": {
      "needs_background": "light"
     },
     "output_type": "display_data"
    }
   ],
   "source": [
    "product_plot = df.plot(grid = True, style = ['-*','-o'])\n",
    "product_plot.set_title('시간대별 생산량')\n",
    "product_plot.set_ylabel('생산량')"
   ]
  },
  {
   "cell_type": "code",
   "execution_count": 6,
   "metadata": {},
   "outputs": [
    {
     "name": "stderr",
     "output_type": "stream",
     "text": [
      "하위 디렉터리 또는 파일 figures이(가) 이미 있습니다.\n"
     ]
    }
   ],
   "source": [
    "!mkdir figures"
   ]
  },
  {
   "cell_type": "code",
   "execution_count": 7,
   "metadata": {},
   "outputs": [
    {
     "name": "stdout",
     "output_type": "stream",
     "text": [
      "0812_commend.py\n",
      "0812_hello.py\n",
      "0812_input.py\n",
      "0812_print_num.py\n",
      "0812_turtle_introduce.py\n",
      "0812_variable.py\n",
      "0813 data type.py\n",
      "0813_data_structure_list.py\n",
      "0813_datastructure_dictionary.py\n",
      "0813_datastructure_set.py\n",
      "0813_datastructure_tuple.py\n",
      "0813_for.py\n",
      "0813_if臾�.py\n",
      "0813_mutable_immutable.py\n",
      "0813_turtle.py\n",
      "0813_while臾�.py\n",
      "0816_dictionary(book).py\n",
      "0816_factorial.py\n",
      "0816_function_basic.py\n",
      "0816_gogodan.py\n",
      "0816_string(reverse).py\n",
      "0816_string_ransformer(A-a).py\n",
      "0816_turtle(bee).py\n",
      "0816_turtle(house).py\n",
      "0816_turtle(octagon).py\n",
      "0816_turtle(shape).py\n",
      "0816_turtle_artist.py\n",
      "0819_class(game).py\n",
      "0819_class(lotto).py\n",
      "0819_class(sumdigit).py\n",
      "0819_class.py\n",
      "0819_class_breadframe.py\n",
      "0819_class_breadframe1.py\n",
      "0819_class_starcraft.py\n",
      "0819_exception.py\n",
      "0819_module.py\n",
      "0820_FileIO_Basic.ipynb\n",
      "0820_Python_Review3_function.ipynb\n",
      "0820_python_review1.ipynb\n",
      "0820_python_review2_data_structure.ipynb\n",
      "0820_python_review4_function2.ipynb\n",
      "0820_python_review5_function3.ipynb\n",
      "0820_python_review6_class.ipynb\n",
      "0820_python_review7_exception.ipynb\n",
      "0822_fileHandling_and_OS_CMD.ipynb\n",
      "0822_module1.ipynb\n",
      "0822_module2+(Date,+Time).ipynb\n",
      "0823_JSON(JavaScript_Object_Notation).ipynb\n",
      "0823_Numpy.ipynb\n",
      "0823_lambda_operator,Map_filter, Reduce.ipynb\n",
      "0826_Numpy2(Uciversal_Functions,data_processing_using_arrays).ipynb\n",
      "0826_Pandas_Basic1(Series).ipynb\n",
      "0826_Pandas_Basic2(Essential_functionality).ipynb\n",
      "0826_RegEx(Regular_Expression).ipynb\n",
      "0827_MatplotLib.ipynb\n",
      "0827_matplotlib_practice(movie_eval).ipynb\n",
      "0827_pandas3(summarizing_and_computing_descriptive_statistisc).ipynb\n",
      "0827_pandas3.ipynb\n",
      "0827_pandas4(Handling_missing_data).ipynb\n",
      "0827_pandas5(merge, join, groupby).ipynb\n",
      "0829_Excel_Data_Handling.ipynb\n",
      "0829_Excel_File_Read_and_Write.ipynb\n",
      "0829_Excel_data_visualization.ipynb\n",
      "0829_Matpoltlib_basic_Chart.ipynb\n",
      "0829_Seaborn.ipynb\n",
      "data\n",
      "figure\n",
      "figures\n",
      "images\n",
      "lecture\n",
      "modules\n",
      "my_data.txt\n",
      "my_data2.txt\n",
      "reuseable_module(by_me)\n"
     ]
    }
   ],
   "source": [
    "!ls"
   ]
  },
  {
   "cell_type": "code",
   "execution_count": 8,
   "metadata": {},
   "outputs": [
    {
     "data": {
      "image/png": "[encoded data removed]",
      "text/plain": [
       "<Figure size 432x288 with 1 Axes>"
      ]
     },
     "metadata": {
      "needs_background": "light"
     },
     "output_type": "display_data"
    }
   ],
   "source": [
    "product_plot = df.plot(grid = True, style = ['-*', '-o'])\n",
    "product_plot.set_title('시간대별 생산량')\n",
    "product_plot.set_ylabel('생산량')\n",
    "\n",
    "fig_file = './figures/fig_for_excel1.png'  # 이미지 파일 경로 및 이름\n",
    "plt.savefig(fig_file, dpi= 400)  # 그래프를 이미지 파일로 저장\n",
    "\n",
    "plt.show()"
   ]
  },
  {
   "cell_type": "code",
   "execution_count": 9,
   "metadata": {},
   "outputs": [],
   "source": [
    "!rmdir figure"
   ]
  },
  {
   "cell_type": "code",
   "execution_count": 10,
   "metadata": {},
   "outputs": [
    {
     "name": "stdout",
     "output_type": "stream",
     "text": [
      " C 드라이브의 볼륨에는 이름이 없습니다.\n",
      " 볼륨 일련 번호: A245-C944\n",
      "\n",
      " C:\\Users\\SeoulIT\\Documents\\GitHub\\Python_basic\\SBA_bigdata_python 디렉터리\n",
      "\n",
      "2019-08-29  오후 03:41    <DIR>          .\n",
      "2019-08-29  오후 03:41    <DIR>          ..\n",
      "2019-08-29  오후 03:25    <DIR>          .ipynb_checkpoints\n",
      "2019-08-12  오후 05:03               144 0812_commend.py\n",
      "2019-08-12  오후 03:59               266 0812_hello.py\n",
      "2019-08-12  오후 04:38               371 0812_input.py\n",
      "2019-08-12  오후 05:03               295 0812_print_num.py\n",
      "2019-08-13  오후 03:43             1,121 0812_turtle_introduce.py\n",
      "2019-08-12  오후 04:12               615 0812_variable.py\n",
      "2019-08-13  오후 02:22               990 0813 data type.py\n",
      "2019-08-13  오전 11:01             3,326 0813_data_structure_list.py\n",
      "2019-08-13  오전 11:54             1,009 0813_datastructure_dictionary.py\n",
      "2019-08-13  오전 11:37               568 0813_datastructure_set.py\n",
      "2019-08-13  오전 11:20               820 0813_datastructure_tuple.py\n",
      "2019-08-13  오후 03:17             1,635 0813_for.py\n",
      "2019-08-13  오후 02:11             4,252 0813_if문.py\n",
      "2019-08-13  오전 10:09               395 0813_mutable_immutable.py\n",
      "2019-08-13  오후 04:12             2,532 0813_turtle.py\n",
      "2019-08-13  오후 02:42               998 0813_while문.py\n",
      "2019-08-16  오후 02:39             1,977 0816_dictionary(book).py\n",
      "2019-08-16  오전 10:56             1,364 0816_factorial.py\n",
      "2019-08-16  오후 05:13             4,842 0816_function_basic.py\n",
      "2019-08-16  오후 12:59               263 0816_gogodan.py\n",
      "2019-08-16  오후 04:12               443 0816_string(reverse).py\n",
      "2019-08-16  오후 01:14               481 0816_string_ransformer(A-a).py\n",
      "2019-08-16  오전 11:29               371 0816_turtle(bee).py\n",
      "2019-08-16  오전 11:23               483 0816_turtle(house).py\n",
      "2019-08-16  오후 12:44               327 0816_turtle(octagon).py\n",
      "2019-08-16  오전 11:17               397 0816_turtle(shape).py\n",
      "2019-08-16  오후 05:03             1,042 0816_turtle_artist.py\n",
      "2019-08-19  오후 06:04             2,022 0819_class(game).py\n",
      "2019-08-19  오후 04:23             1,287 0819_class(lotto).py\n",
      "2019-08-19  오후 03:08               462 0819_class(sumdigit).py\n",
      "2019-08-19  오후 05:41             8,001 0819_class.py\n",
      "2019-08-19  오후 05:34             1,704 0819_class_breadframe.py\n",
      "2019-08-19  오전 10:20             2,479 0819_class_breadframe1.py\n",
      "2019-08-19  오전 11:45             2,075 0819_class_starcraft.py\n",
      "2019-08-19  오후 06:37             5,743 0819_exception.py\n",
      "2019-08-19  오후 01:23               200 0819_module.py\n",
      "2019-08-28  오전 11:07             9,601 0820_FileIO_Basic.ipynb\n",
      "2019-08-28  오전 11:07            17,085 0820_python_review1.ipynb\n",
      "2019-08-28  오전 11:07            12,121 0820_python_review2_data_structure.ipynb\n",
      "2019-08-28  오전 11:07             4,150 0820_Python_Review3_function.ipynb\n",
      "2019-08-28  오전 11:07             6,565 0820_python_review4_function2.ipynb\n",
      "2019-08-28  오전 11:07            16,002 0820_python_review5_function3.ipynb\n",
      "2019-08-28  오전 11:07            23,287 0820_python_review6_class.ipynb\n",
      "2019-08-28  오전 11:07            24,229 0820_python_review7_exception.ipynb\n",
      "2019-08-28  오전 11:07            47,430 0822_fileHandling_and_OS_CMD.ipynb\n",
      "2019-08-28  오전 11:07            11,400 0822_module1.ipynb\n",
      "2019-08-28  오전 11:07            11,676 0822_module2+(Date,+Time).ipynb\n",
      "2019-08-28  오전 11:07            12,293 0823_JSON(JavaScript_Object_Notation).ipynb\n",
      "2019-08-28  오전 11:07            19,839 0823_lambda_operator,Map_filter, Reduce.ipynb\n",
      "2019-08-28  오전 11:07            35,489 0823_Numpy.ipynb\n",
      "2019-08-28  오전 11:07           454,436 0826_Numpy2(Uciversal_Functions,data_processing_using_arrays).ipynb\n",
      "2019-08-28  오전 11:07            12,534 0826_Pandas_Basic1(Series).ipynb\n",
      "2019-08-28  오전 11:07           309,456 0826_Pandas_Basic2(Essential_functionality).ipynb\n",
      "2019-08-28  오전 11:07            28,033 0826_RegEx(Regular_Expression).ipynb\n",
      "2019-08-28  오전 11:07         1,036,158 0827_MatplotLib.ipynb\n",
      "2019-08-28  오전 11:07           906,532 0827_matplotlib_practice(movie_eval).ipynb\n",
      "2019-08-28  오전 11:07           189,751 0827_pandas3(summarizing_and_computing_descriptive_statistisc).ipynb\n",
      "2019-08-28  오전 11:07            15,662 0827_pandas3.ipynb\n",
      "2019-08-28  오전 11:07           128,902 0827_pandas4(Handling_missing_data).ipynb\n",
      "2019-08-28  오전 11:07            29,441 0827_pandas5(merge, join, groupby).ipynb\n",
      "2019-08-29  오후 03:25           103,824 0829_Excel_Data_Handling.ipynb\n",
      "2019-08-29  오후 03:41            93,802 0829_Excel_data_visualization.ipynb\n",
      "2019-08-29  오후 01:42            18,971 0829_Excel_File_Read_and_Write.ipynb\n",
      "2019-08-29  오전 10:20           371,373 0829_Matpoltlib_basic_Chart.ipynb\n",
      "2019-08-29  오후 01:20         1,643,712 0829_Seaborn.ipynb\n",
      "2019-08-29  오후 02:18    <DIR>          data\n",
      "2019-08-29  오후 03:40    <DIR>          figures\n",
      "2019-08-28  오전 11:07    <DIR>          images\n",
      "2019-08-28  오전 11:07    <DIR>          lecture\n",
      "2019-08-28  오전 11:35    <DIR>          modules\n",
      "2019-08-29  오전 09:32                34 my_data.txt\n",
      "2019-08-29  오전 09:39                52 my_data2.txt\n",
      "2019-08-28  오전 11:37    <DIR>          reuseable_module(by_me)\n",
      "              67개 파일           5,649,140 바이트\n",
      "               9개 디렉터리  58,088,288,256 바이트 남음\n"
     ]
    }
   ],
   "source": [
    "ls"
   ]
  },
  {
   "cell_type": "code",
   "execution_count": 12,
   "metadata": {},
   "outputs": [
    {
     "ename": "FileNotFoundError",
     "evalue": "No such file or directory: './figures/fig_file.png'",
     "output_type": "error",
     "traceback": [
      "\u001b[1;31m---------------------------------------------------------------------------\u001b[0m",
      "\u001b[1;31mTypeError\u001b[0m                                 Traceback (most recent call last)",
      "\u001b[1;32mC:\\Python\\Anaconda3\\lib\\site-packages\\IPython\\core\\display.py\u001b[0m in \u001b[0;36m_data_and_metadata\u001b[1;34m(self, always_both)\u001b[0m\n\u001b[0;32m   1264\u001b[0m         \u001b[1;32mtry\u001b[0m\u001b[1;33m:\u001b[0m\u001b[1;33m\u001b[0m\u001b[1;33m\u001b[0m\u001b[0m\n\u001b[1;32m-> 1265\u001b[1;33m             \u001b[0mb64_data\u001b[0m \u001b[1;33m=\u001b[0m \u001b[0mb2a_base64\u001b[0m\u001b[1;33m(\u001b[0m\u001b[0mself\u001b[0m\u001b[1;33m.\u001b[0m\u001b[0mdata\u001b[0m\u001b[1;33m)\u001b[0m\u001b[1;33m.\u001b[0m\u001b[0mdecode\u001b[0m\u001b[1;33m(\u001b[0m\u001b[1;34m'ascii'\u001b[0m\u001b[1;33m)\u001b[0m\u001b[1;33m\u001b[0m\u001b[1;33m\u001b[0m\u001b[0m\n\u001b[0m\u001b[0;32m   1266\u001b[0m         \u001b[1;32mexcept\u001b[0m \u001b[0mTypeError\u001b[0m\u001b[1;33m:\u001b[0m\u001b[1;33m\u001b[0m\u001b[1;33m\u001b[0m\u001b[0m\n",
      "\u001b[1;31mTypeError\u001b[0m: a bytes-like object is required, not 'str'",
      "\nDuring handling of the above exception, another exception occurred:\n",
      "\u001b[1;31mFileNotFoundError\u001b[0m                         Traceback (most recent call last)",
      "\u001b[1;32mC:\\Python\\Anaconda3\\lib\\site-packages\\IPython\\core\\formatters.py\u001b[0m in \u001b[0;36m__call__\u001b[1;34m(self, obj, include, exclude)\u001b[0m\n\u001b[0;32m    968\u001b[0m \u001b[1;33m\u001b[0m\u001b[0m\n\u001b[0;32m    969\u001b[0m             \u001b[1;32mif\u001b[0m \u001b[0mmethod\u001b[0m \u001b[1;32mis\u001b[0m \u001b[1;32mnot\u001b[0m \u001b[1;32mNone\u001b[0m\u001b[1;33m:\u001b[0m\u001b[1;33m\u001b[0m\u001b[1;33m\u001b[0m\u001b[0m\n\u001b[1;32m--> 970\u001b[1;33m                 \u001b[1;32mreturn\u001b[0m \u001b[0mmethod\u001b[0m\u001b[1;33m(\u001b[0m\u001b[0minclude\u001b[0m\u001b[1;33m=\u001b[0m\u001b[0minclude\u001b[0m\u001b[1;33m,\u001b[0m \u001b[0mexclude\u001b[0m\u001b[1;33m=\u001b[0m\u001b[0mexclude\u001b[0m\u001b[1;33m)\u001b[0m\u001b[1;33m\u001b[0m\u001b[1;33m\u001b[0m\u001b[0m\n\u001b[0m\u001b[0;32m    971\u001b[0m             \u001b[1;32mreturn\u001b[0m \u001b[1;32mNone\u001b[0m\u001b[1;33m\u001b[0m\u001b[1;33m\u001b[0m\u001b[0m\n\u001b[0;32m    972\u001b[0m         \u001b[1;32melse\u001b[0m\u001b[1;33m:\u001b[0m\u001b[1;33m\u001b[0m\u001b[1;33m\u001b[0m\u001b[0m\n",
      "\u001b[1;32mC:\\Python\\Anaconda3\\lib\\site-packages\\IPython\\core\\display.py\u001b[0m in \u001b[0;36m_repr_mimebundle_\u001b[1;34m(self, include, exclude)\u001b[0m\n\u001b[0;32m   1253\u001b[0m         \u001b[1;32mif\u001b[0m \u001b[0mself\u001b[0m\u001b[1;33m.\u001b[0m\u001b[0membed\u001b[0m\u001b[1;33m:\u001b[0m\u001b[1;33m\u001b[0m\u001b[1;33m\u001b[0m\u001b[0m\n\u001b[0;32m   1254\u001b[0m             \u001b[0mmimetype\u001b[0m \u001b[1;33m=\u001b[0m \u001b[0mself\u001b[0m\u001b[1;33m.\u001b[0m\u001b[0m_mimetype\u001b[0m\u001b[1;33m\u001b[0m\u001b[1;33m\u001b[0m\u001b[0m\n\u001b[1;32m-> 1255\u001b[1;33m             \u001b[0mdata\u001b[0m\u001b[1;33m,\u001b[0m \u001b[0mmetadata\u001b[0m \u001b[1;33m=\u001b[0m \u001b[0mself\u001b[0m\u001b[1;33m.\u001b[0m\u001b[0m_data_and_metadata\u001b[0m\u001b[1;33m(\u001b[0m\u001b[0malways_both\u001b[0m\u001b[1;33m=\u001b[0m\u001b[1;32mTrue\u001b[0m\u001b[1;33m)\u001b[0m\u001b[1;33m\u001b[0m\u001b[1;33m\u001b[0m\u001b[0m\n\u001b[0m\u001b[0;32m   1256\u001b[0m             \u001b[1;32mif\u001b[0m \u001b[0mmetadata\u001b[0m\u001b[1;33m:\u001b[0m\u001b[1;33m\u001b[0m\u001b[1;33m\u001b[0m\u001b[0m\n\u001b[0;32m   1257\u001b[0m                 \u001b[0mmetadata\u001b[0m \u001b[1;33m=\u001b[0m \u001b[1;33m{\u001b[0m\u001b[0mmimetype\u001b[0m\u001b[1;33m:\u001b[0m \u001b[0mmetadata\u001b[0m\u001b[1;33m}\u001b[0m\u001b[1;33m\u001b[0m\u001b[1;33m\u001b[0m\u001b[0m\n",
      "\u001b[1;32mC:\\Python\\Anaconda3\\lib\\site-packages\\IPython\\core\\display.py\u001b[0m in \u001b[0;36m_data_and_metadata\u001b[1;34m(self, always_both)\u001b[0m\n\u001b[0;32m   1266\u001b[0m         \u001b[1;32mexcept\u001b[0m \u001b[0mTypeError\u001b[0m\u001b[1;33m:\u001b[0m\u001b[1;33m\u001b[0m\u001b[1;33m\u001b[0m\u001b[0m\n\u001b[0;32m   1267\u001b[0m             raise FileNotFoundError(\n\u001b[1;32m-> 1268\u001b[1;33m                 \"No such file or directory: '%s'\" % (self.data))\n\u001b[0m\u001b[0;32m   1269\u001b[0m         \u001b[0mmd\u001b[0m \u001b[1;33m=\u001b[0m \u001b[1;33m{\u001b[0m\u001b[1;33m}\u001b[0m\u001b[1;33m\u001b[0m\u001b[1;33m\u001b[0m\u001b[0m\n\u001b[0;32m   1270\u001b[0m         \u001b[1;32mif\u001b[0m \u001b[0mself\u001b[0m\u001b[1;33m.\u001b[0m\u001b[0mmetadata\u001b[0m\u001b[1;33m:\u001b[0m\u001b[1;33m\u001b[0m\u001b[1;33m\u001b[0m\u001b[0m\n",
      "\u001b[1;31mFileNotFoundError\u001b[0m: No such file or directory: './figures/fig_file.png'"
     ]
    },
    {
     "ename": "FileNotFoundError",
     "evalue": "No such file or directory: './figures/fig_file.png'",
     "output_type": "error",
     "traceback": [
      "\u001b[1;31m---------------------------------------------------------------------------\u001b[0m",
      "\u001b[1;31mTypeError\u001b[0m                                 Traceback (most recent call last)",
      "\u001b[1;32mC:\\Python\\Anaconda3\\lib\\site-packages\\IPython\\core\\display.py\u001b[0m in \u001b[0;36m_data_and_metadata\u001b[1;34m(self, always_both)\u001b[0m\n\u001b[0;32m   1264\u001b[0m         \u001b[1;32mtry\u001b[0m\u001b[1;33m:\u001b[0m\u001b[1;33m\u001b[0m\u001b[1;33m\u001b[0m\u001b[0m\n\u001b[1;32m-> 1265\u001b[1;33m             \u001b[0mb64_data\u001b[0m \u001b[1;33m=\u001b[0m \u001b[0mb2a_base64\u001b[0m\u001b[1;33m(\u001b[0m\u001b[0mself\u001b[0m\u001b[1;33m.\u001b[0m\u001b[0mdata\u001b[0m\u001b[1;33m)\u001b[0m\u001b[1;33m.\u001b[0m\u001b[0mdecode\u001b[0m\u001b[1;33m(\u001b[0m\u001b[1;34m'ascii'\u001b[0m\u001b[1;33m)\u001b[0m\u001b[1;33m\u001b[0m\u001b[1;33m\u001b[0m\u001b[0m\n\u001b[0m\u001b[0;32m   1266\u001b[0m         \u001b[1;32mexcept\u001b[0m \u001b[0mTypeError\u001b[0m\u001b[1;33m:\u001b[0m\u001b[1;33m\u001b[0m\u001b[1;33m\u001b[0m\u001b[0m\n",
      "\u001b[1;31mTypeError\u001b[0m: a bytes-like object is required, not 'str'",
      "\nDuring handling of the above exception, another exception occurred:\n",
      "\u001b[1;31mFileNotFoundError\u001b[0m                         Traceback (most recent call last)",
      "\u001b[1;32mC:\\Python\\Anaconda3\\lib\\site-packages\\IPython\\core\\formatters.py\u001b[0m in \u001b[0;36m__call__\u001b[1;34m(self, obj)\u001b[0m\n\u001b[0;32m    343\u001b[0m             \u001b[0mmethod\u001b[0m \u001b[1;33m=\u001b[0m \u001b[0mget_real_method\u001b[0m\u001b[1;33m(\u001b[0m\u001b[0mobj\u001b[0m\u001b[1;33m,\u001b[0m \u001b[0mself\u001b[0m\u001b[1;33m.\u001b[0m\u001b[0mprint_method\u001b[0m\u001b[1;33m)\u001b[0m\u001b[1;33m\u001b[0m\u001b[1;33m\u001b[0m\u001b[0m\n\u001b[0;32m    344\u001b[0m             \u001b[1;32mif\u001b[0m \u001b[0mmethod\u001b[0m \u001b[1;32mis\u001b[0m \u001b[1;32mnot\u001b[0m \u001b[1;32mNone\u001b[0m\u001b[1;33m:\u001b[0m\u001b[1;33m\u001b[0m\u001b[1;33m\u001b[0m\u001b[0m\n\u001b[1;32m--> 345\u001b[1;33m                 \u001b[1;32mreturn\u001b[0m \u001b[0mmethod\u001b[0m\u001b[1;33m(\u001b[0m\u001b[1;33m)\u001b[0m\u001b[1;33m\u001b[0m\u001b[1;33m\u001b[0m\u001b[0m\n\u001b[0m\u001b[0;32m    346\u001b[0m             \u001b[1;32mreturn\u001b[0m \u001b[1;32mNone\u001b[0m\u001b[1;33m\u001b[0m\u001b[1;33m\u001b[0m\u001b[0m\n\u001b[0;32m    347\u001b[0m         \u001b[1;32melse\u001b[0m\u001b[1;33m:\u001b[0m\u001b[1;33m\u001b[0m\u001b[1;33m\u001b[0m\u001b[0m\n",
      "\u001b[1;32mC:\\Python\\Anaconda3\\lib\\site-packages\\IPython\\core\\display.py\u001b[0m in \u001b[0;36m_repr_png_\u001b[1;34m(self)\u001b[0m\n\u001b[0;32m   1283\u001b[0m     \u001b[1;32mdef\u001b[0m \u001b[0m_repr_png_\u001b[0m\u001b[1;33m(\u001b[0m\u001b[0mself\u001b[0m\u001b[1;33m)\u001b[0m\u001b[1;33m:\u001b[0m\u001b[1;33m\u001b[0m\u001b[1;33m\u001b[0m\u001b[0m\n\u001b[0;32m   1284\u001b[0m         \u001b[1;32mif\u001b[0m \u001b[0mself\u001b[0m\u001b[1;33m.\u001b[0m\u001b[0membed\u001b[0m \u001b[1;32mand\u001b[0m \u001b[0mself\u001b[0m\u001b[1;33m.\u001b[0m\u001b[0mformat\u001b[0m \u001b[1;33m==\u001b[0m \u001b[0mself\u001b[0m\u001b[1;33m.\u001b[0m\u001b[0m_FMT_PNG\u001b[0m\u001b[1;33m:\u001b[0m\u001b[1;33m\u001b[0m\u001b[1;33m\u001b[0m\u001b[0m\n\u001b[1;32m-> 1285\u001b[1;33m             \u001b[1;32mreturn\u001b[0m \u001b[0mself\u001b[0m\u001b[1;33m.\u001b[0m\u001b[0m_data_and_metadata\u001b[0m\u001b[1;33m(\u001b[0m\u001b[1;33m)\u001b[0m\u001b[1;33m\u001b[0m\u001b[1;33m\u001b[0m\u001b[0m\n\u001b[0m\u001b[0;32m   1286\u001b[0m \u001b[1;33m\u001b[0m\u001b[0m\n\u001b[0;32m   1287\u001b[0m     \u001b[1;32mdef\u001b[0m \u001b[0m_repr_jpeg_\u001b[0m\u001b[1;33m(\u001b[0m\u001b[0mself\u001b[0m\u001b[1;33m)\u001b[0m\u001b[1;33m:\u001b[0m\u001b[1;33m\u001b[0m\u001b[1;33m\u001b[0m\u001b[0m\n",
      "\u001b[1;32mC:\\Python\\Anaconda3\\lib\\site-packages\\IPython\\core\\display.py\u001b[0m in \u001b[0;36m_data_and_metadata\u001b[1;34m(self, always_both)\u001b[0m\n\u001b[0;32m   1266\u001b[0m         \u001b[1;32mexcept\u001b[0m \u001b[0mTypeError\u001b[0m\u001b[1;33m:\u001b[0m\u001b[1;33m\u001b[0m\u001b[1;33m\u001b[0m\u001b[0m\n\u001b[0;32m   1267\u001b[0m             raise FileNotFoundError(\n\u001b[1;32m-> 1268\u001b[1;33m                 \"No such file or directory: '%s'\" % (self.data))\n\u001b[0m\u001b[0;32m   1269\u001b[0m         \u001b[0mmd\u001b[0m \u001b[1;33m=\u001b[0m \u001b[1;33m{\u001b[0m\u001b[1;33m}\u001b[0m\u001b[1;33m\u001b[0m\u001b[1;33m\u001b[0m\u001b[0m\n\u001b[0;32m   1270\u001b[0m         \u001b[1;32mif\u001b[0m \u001b[0mself\u001b[0m\u001b[1;33m.\u001b[0m\u001b[0mmetadata\u001b[0m\u001b[1;33m:\u001b[0m\u001b[1;33m\u001b[0m\u001b[1;33m\u001b[0m\u001b[0m\n",
      "\u001b[1;31mFileNotFoundError\u001b[0m: No such file or directory: './figures/fig_file.png'"
     ]
    },
    {
     "data": {
      "text/plain": [
       "<IPython.core.display.Image object>"
      ]
     },
     "execution_count": 12,
     "metadata": {},
     "output_type": "execute_result"
    }
   ],
   "source": [
    "Image('./figures/fig_file.png')"
   ]
  },
  {
   "cell_type": "markdown",
   "metadata": {},
   "source": [
    "- 엑셀 이미지 추가"
   ]
  },
  {
   "cell_type": "code",
   "execution_count": 16,
   "metadata": {},
   "outputs": [],
   "source": [
    "# (1) pandas의 ExcelWriter 객체 생성\n",
    "excel_file   = './data/data_image_to_excel.xlsx'\n",
    "excel_writer = pd.ExcelWriter(excel_file, engine='xlsxwriter')\n",
    "\n",
    "# (2) DataFrame 데이터를 지정된 엑셀 시트(Sheet)에 쓰기\n",
    "df.to_excel(excel_writer, index=True, sheet_name='Sheet1')\n",
    "\n",
    "# (3) ExcelWriter 객체에서 워크시트(worksheet) 객체 생성\n",
    "worksheet = excel_writer.sheets['Sheet1']\n",
    "\n",
    "# (4) 워크시트에 차트가 들어갈 위치를 지정해 이미지 넣기\n",
    "worksheet.insert_image('D2', fig_file, {'x_scale': 0.7, 'y_scale': 0.7})\n",
    "# worksheet.insert_image(1, 3, fig_file, {'x_scale': 0.7, 'y_scale': 0.7})\n",
    "\n",
    "# (5) ExcelWriter 객체를 닫고 엑셀 파일 출력\n",
    "excel_writer.save()"
   ]
  },
  {
   "cell_type": "code",
   "execution_count": 17,
   "metadata": {},
   "outputs": [
    {
     "name": "stdout",
     "output_type": "stream",
     "text": [
      " C 드라이브의 볼륨에는 이름이 없습니다.\n",
      " 볼륨 일련 번호: A245-C944\n",
      "\n",
      " C:\\Users\\SeoulIT\\Documents\\GitHub\\Python_basic\\SBA_bigdata_python\\data 디렉터리\n",
      "\n",
      "2019-08-29  오후 03:48           155,120 data_image_to_excel.xlsx\n",
      "2019-08-28  오후 05:26            11,705 test_score.xlsx\n",
      "2019-08-29  오후 01:37             5,579 test_score2.xlsx\n",
      "2019-08-29  오후 01:39             5,628 test_score3.xlsx\n",
      "2019-08-29  오후 01:40             6,262 test_score4.xlsx\n",
      "2019-08-29  오후 02:07             5,715 담당자별_판매실적_김재경사원.xlsx\n",
      "2019-08-29  오후 02:18             5,708 담당자별_판매실적_김재경사원_v2.xlsx\n",
      "2019-08-28  오후 06:13            13,012 담당자별_판매실적_신은영과장.xlsx\n",
      "2019-08-29  오후 02:18             5,665 담당자별_판매실적_신은영과장_v2.xlsx\n",
      "2019-08-28  오후 06:13            13,016 담당자별_판매실적_윤종필사원.xlsx\n",
      "2019-08-29  오후 02:18             5,662 담당자별_판매실적_윤종필사원_v2.xlsx\n",
      "2019-08-28  오후 06:13            12,930 담당자별_판매실적_홍성민대리.xlsx\n",
      "2019-08-29  오후 02:18             5,661 담당자별_판매실적_홍성민대리_v2.xlsx\n",
      "2019-08-29  오후 02:55             5,964 마케팅팀_판매실적_통합.xlsx\n",
      "              14개 파일             257,627 바이트\n",
      "               0개 디렉터리  58,087,714,816 바이트 남음\n"
     ]
    }
   ],
   "source": [
    "!dir data\\*.xlsx"
   ]
  },
  {
   "cell_type": "markdown",
   "metadata": {},
   "source": [
    "### 엑셀 차트 생성\n",
    "- 엑셀 파일 내에 차트를 만들고, 데이터 변화에 연동된 차트 만들기"
   ]
  },
  {
   "cell_type": "code",
   "execution_count": 18,
   "metadata": {},
   "outputs": [],
   "source": [
    "# (1) pandas의 ExcelWriter 객체 생성\n",
    "excel_file  = './data/data_chart_in_excel.xlsx'\n",
    "excel_chart = pd.ExcelWriter(excel_file, engine='xlsxwriter')\n",
    "\n",
    "# (2) DataFrame 데이터를 지정된 엑셀 시트(Sheet)에 쓰기\n",
    "df.to_excel(excel_chart, index=True, sheet_name='Sheet1')\n",
    "\n",
    "# (3) ExcelWriter 객체에서 워크북(workbook)과 워크시트(worksheet) 객체 생성\n",
    "workbook  = excel_chart.book\n",
    "worksheet = excel_chart.sheets['Sheet1']\n",
    "\n",
    "# (4) 차트 객체 생성(원하는 차트의 종류 지정)\n",
    "chart = workbook.add_chart({'type': 'line'})\n",
    "\n",
    "# (5) 차트 생성을 위한 데이터값의 범위 지정 \n",
    "chart.add_series({'values': '=Sheet1!$B$2:$B$8'})\n",
    "chart.add_series({'values': '=Sheet1!$C$2:$C$8'})\n",
    "\n",
    "# (6) 워크시트에 차트가 들어갈 위치를 지정해 차트 넣기\n",
    "worksheet.insert_chart('D2', chart)\n",
    "\n",
    "# (7) ExcelWriter 객체를 닫고 엑셀 파일 출력\n",
    "excel_chart.save()"
   ]
  },
  {
   "cell_type": "code",
   "execution_count": 19,
   "metadata": {},
   "outputs": [
    {
     "name": "stdout",
     "output_type": "stream",
     "text": [
      " C 드라이브의 볼륨에는 이름이 없습니다.\n",
      " 볼륨 일련 번호: A245-C944\n",
      "\n",
      " C:\\Users\\SeoulIT\\Documents\\GitHub\\Python_basic\\SBA_bigdata_python\\data 디렉터리\n",
      "\n",
      "2019-08-29  오후 03:53             7,537 data_chart_in_excel.xlsx\n",
      "2019-08-29  오후 03:48           155,120 data_image_to_excel.xlsx\n",
      "2019-08-28  오후 05:26            11,705 test_score.xlsx\n",
      "2019-08-29  오후 01:37             5,579 test_score2.xlsx\n",
      "2019-08-29  오후 01:39             5,628 test_score3.xlsx\n",
      "2019-08-29  오후 01:40             6,262 test_score4.xlsx\n",
      "2019-08-29  오후 02:07             5,715 담당자별_판매실적_김재경사원.xlsx\n",
      "2019-08-29  오후 02:18             5,708 담당자별_판매실적_김재경사원_v2.xlsx\n",
      "2019-08-28  오후 06:13            13,012 담당자별_판매실적_신은영과장.xlsx\n",
      "2019-08-29  오후 02:18             5,665 담당자별_판매실적_신은영과장_v2.xlsx\n",
      "2019-08-28  오후 06:13            13,016 담당자별_판매실적_윤종필사원.xlsx\n",
      "2019-08-29  오후 02:18             5,662 담당자별_판매실적_윤종필사원_v2.xlsx\n",
      "2019-08-28  오후 06:13            12,930 담당자별_판매실적_홍성민대리.xlsx\n",
      "2019-08-29  오후 02:18             5,661 담당자별_판매실적_홍성민대리_v2.xlsx\n",
      "2019-08-29  오후 02:55             5,964 마케팅팀_판매실적_통합.xlsx\n",
      "              15개 파일             265,164 바이트\n",
      "               0개 디렉터리  58,088,341,504 바이트 남음\n"
     ]
    }
   ],
   "source": [
    "!dir data\\*.xlsx"
   ]
  },
  {
   "cell_type": "markdown",
   "metadata": {},
   "source": [
    "- 차트 생성을 위한 데이터값의 범위 지정\n"
   ]
  },
  {
   "cell_type": "code",
   "execution_count": 20,
   "metadata": {},
   "outputs": [],
   "source": [
    "chart.add_series({'values'    : '=Sheet1!$B$2:$B$8', \n",
    "                  'categories': '=Sheet1!$A$2:$A$8',\n",
    "                  'name'      : '=Sheet1!$B$1',})\n",
    "\n",
    "chart.add_series({'values'    : '=Sheet1!$C$2:$C$8', \n",
    "                  'categories': '=Sheet1!$A$2:$A$8',\n",
    "                  'name'      : '=Sheet1!$C$1',})"
   ]
  },
  {
   "cell_type": "markdown",
   "metadata": {},
   "source": [
    "- 엑셀 차트에 제목과 x, y축 라벨 추가\n"
   ]
  },
  {
   "cell_type": "code",
   "execution_count": 21,
   "metadata": {},
   "outputs": [],
   "source": [
    "chart.set_title ({'name': '시간대별 생산량'})\n",
    "chart.set_x_axis({'name': '시간'})\n",
    "chart.set_y_axis({'name': '생산량'})"
   ]
  },
  {
   "cell_type": "markdown",
   "metadata": {},
   "source": [
    "- final 엑셀 차드"
   ]
  },
  {
   "cell_type": "code",
   "execution_count": 24,
   "metadata": {},
   "outputs": [],
   "source": [
    "# (1) pandas의 ExcelWriter 객체 생성\n",
    "excel_file2 = './data/data_chart_in_excel2.xlsx'\n",
    "excel_chart = pd.ExcelWriter(excel_file2, engine='xlsxwriter')\n",
    "\n",
    "# (2) DataFrame 데이터를 지정된 엑셀 시트(Sheet)에 쓰기\n",
    "df.to_excel(excel_chart, index=True, sheet_name='Sheet1')\n",
    "\n",
    "# (3) ExcelWriter 객체에서 워크북(workbook)과 워크시트(worksheet) 객체 생성\n",
    "workbook  = excel_chart.book\n",
    "worksheet = excel_chart.sheets['Sheet1']\n",
    "\n",
    "# (4) 차트 객체 생성 (원하는 차트의 종류 지정)\n",
    "chart = workbook.add_chart({'type': 'line'})\n",
    "\n",
    "# (5) 차트 생성을 위한 데이터값의 범위 지정\n",
    "chart.add_series({'values'    : '=Sheet1!$B$2:$B$8',   \n",
    "                  'categories': '=Sheet1!$A$2:$A$8',\n",
    "                  'name'      : '=Sheet1!$B$1',})\n",
    "\n",
    "chart.add_series({'values'    : '=Sheet1!$C$2:$C$8', \n",
    "                  'categories': '=Sheet1!$A$2:$A$8',\n",
    "                  'name'      : '=Sheet1!$C$1',})\n",
    "\n",
    "# (5-1) 엑셀 차트에 x, y축 라벨과 제목 추가\n",
    "chart.set_title ({'name': '시간대별 생산량'})\n",
    "chart.set_x_axis({'name': '시간'})\n",
    "chart.set_y_axis({'name': '생산량'})\n",
    "\n",
    "# (6) 워크시트에 차트가 들어갈 위치를 지정해 차트 넣기\n",
    "worksheet.insert_chart('D2', chart)\n",
    "\n",
    "# (7)  ExcelWriter 객체를 닫고 엑셀 파일 출력\n",
    "excel_chart.save()"
   ]
  },
  {
   "cell_type": "code",
   "execution_count": 23,
   "metadata": {},
   "outputs": [
    {
     "name": "stdout",
     "output_type": "stream",
     "text": [
      " C 드라이브의 볼륨에는 이름이 없습니다.\n",
      " 볼륨 일련 번호: A245-C944\n",
      "\n",
      " C:\\Users\\SeoulIT\\Documents\\GitHub\\Python_basic\\SBA_bigdata_python\\data 디렉터리\n",
      "\n",
      "2019-08-29  오후 03:53             7,537 data_chart_in_excel.xlsx\n",
      "2019-08-29  오후 03:55             7,779 data_chart_in_excel2.xlsx\n",
      "2019-08-29  오후 03:48           155,120 data_image_to_excel.xlsx\n",
      "2019-08-28  오후 05:26            11,705 test_score.xlsx\n",
      "2019-08-29  오후 01:37             5,579 test_score2.xlsx\n",
      "2019-08-29  오후 01:39             5,628 test_score3.xlsx\n",
      "2019-08-29  오후 01:40             6,262 test_score4.xlsx\n",
      "2019-08-29  오후 02:07             5,715 담당자별_판매실적_김재경사원.xlsx\n",
      "2019-08-29  오후 02:18             5,708 담당자별_판매실적_김재경사원_v2.xlsx\n",
      "2019-08-28  오후 06:13            13,012 담당자별_판매실적_신은영과장.xlsx\n",
      "2019-08-29  오후 02:18             5,665 담당자별_판매실적_신은영과장_v2.xlsx\n",
      "2019-08-28  오후 06:13            13,016 담당자별_판매실적_윤종필사원.xlsx\n",
      "2019-08-29  오후 02:18             5,662 담당자별_판매실적_윤종필사원_v2.xlsx\n",
      "2019-08-28  오후 06:13            12,930 담당자별_판매실적_홍성민대리.xlsx\n",
      "2019-08-29  오후 02:18             5,661 담당자별_판매실적_홍성민대리_v2.xlsx\n",
      "2019-08-29  오후 02:55             5,964 마케팅팀_판매실적_통합.xlsx\n",
      "              16개 파일             272,943 바이트\n",
      "               0개 디렉터리  58,088,054,784 바이트 남음\n"
     ]
    }
   ],
   "source": [
    "!dir data\\*.xlsx"
   ]
  },
  {
   "cell_type": "code",
   "execution_count": null,
   "metadata": {},
   "outputs": [],
   "source": []
  }
 ],
 "metadata": {
  "kernelspec": {
   "display_name": "Python 3",
   "language": "python",
   "name": "python3"
  },
  "language_info": {
   "codemirror_mode": {
    "name": "ipython",
    "version": 3
   },
   "file_extension": ".py",
   "mimetype": "text/x-python",
   "name": "python",
   "nbconvert_exporter": "python",
   "pygments_lexer": "ipython3",
   "version": "3.7.3"
  }
 },
 "nbformat": 4,
 "nbformat_minor": 2
}
