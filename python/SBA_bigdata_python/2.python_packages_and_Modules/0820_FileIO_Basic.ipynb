{
 "cells": [
  {
   "cell_type": "markdown",
   "metadata": {},
   "source": [
    "# 파일 입출력\n"
   ]
  },
  {
   "cell_type": "code",
   "execution_count": 2,
   "metadata": {},
   "outputs": [],
   "source": [
    "fp = open('./data/hello.txt','r') # 파일을 읽어오는 객체\n",
    "# stream 개체(한쪽 방향으로 흘러가는 통로) d\n",
    "# cf: 양방향소통하는 경로: 채널\n",
    "# . : 현재 디렉토리 의미\n",
    "# 스트림 객체 모드: r - read\n",
    "#                   w = write\n",
    "    "
   ]
  },
  {
   "cell_type": "code",
   "execution_count": 4,
   "metadata": {},
   "outputs": [
    {
     "data": {
      "text/plain": [
       "'Hello, Bigdata Science !!!'"
      ]
     },
     "execution_count": 4,
     "metadata": {},
     "output_type": "execute_result"
    }
   ],
   "source": [
    "fp.read()"
   ]
  },
  {
   "cell_type": "code",
   "execution_count": 5,
   "metadata": {},
   "outputs": [],
   "source": [
    "fp.close()  # string 객체를 꼭 파일을 닫아야함.-> 동시에 여러 사람들이 작업할 경우 대비"
   ]
  },
  {
   "cell_type": "code",
   "execution_count": 8,
   "metadata": {},
   "outputs": [
    {
     "name": "stdout",
     "output_type": "stream",
     "text": [
      "Hello, Bigdata Science !!!\n"
     ]
    }
   ],
   "source": [
    "with open('./data/hello.txt', 'r') as fp:  # open했어도with문을 빠져나오는 순간 close를 하기 때문에,\n",
    "                                           # 따로 close를 안해도 됨.\n",
    "    data = fp.read()\n",
    "print(data)"
   ]
  },
  {
   "cell_type": "code",
   "execution_count": 9,
   "metadata": {},
   "outputs": [
    {
     "data": {
      "text/plain": [
       "'Hello, Bigdata Science !!!'"
      ]
     },
     "execution_count": 9,
     "metadata": {},
     "output_type": "execute_result"
    }
   ],
   "source": [
    "data"
   ]
  },
  {
   "cell_type": "code",
   "execution_count": 12,
   "metadata": {},
   "outputs": [
    {
     "name": "stdout",
     "output_type": "stream",
     "text": [
      " C 드라이브의 볼륨에는 이름이 없습니다.\n",
      " 볼륨 일련 번호: A245-C944\n",
      "\n",
      " C:\\Users\\SeoulIT\\bigdata_python\\data 디렉터리\n",
      "\n",
      "2019-08-20  오후 03:38    <DIR>          .\n",
      "2019-08-20  오후 03:38    <DIR>          ..\n",
      "2019-08-20  오후 03:37    <DIR>          .ipynb_checkpoints\n",
      "2019-08-20  오후 03:37                26 hello.txt\n",
      "               1개 파일                  26 바이트\n",
      "               3개 디렉터리  65,361,801,216 바이트 남음\n"
     ]
    }
   ],
   "source": [
    "%ls data"
   ]
  },
  {
   "cell_type": "code",
   "execution_count": 13,
   "metadata": {},
   "outputs": [],
   "source": [
    "# w 객체로  새로운 파일 만들기\n",
    "with open('./data/subject.txt', 'w') as fp:\n",
    "    data = '파이썬을 이용한 빅데이터 분석!!!'\n",
    "    fp.write(data)\n",
    "    "
   ]
  },
  {
   "cell_type": "code",
   "execution_count": 19,
   "metadata": {},
   "outputs": [
    {
     "name": "stdout",
     "output_type": "stream",
     "text": [
      " C 드라이브의 볼륨에는 이름이 없습니다.\n",
      " 볼륨 일련 번호: A245-C944\n",
      "\n",
      " C:\\Users\\SeoulIT\\bigdata_python\\data 디렉터리\n",
      "\n",
      "2019-08-20  오후 03:43    <DIR>          .\n",
      "2019-08-20  오후 03:43    <DIR>          ..\n",
      "2019-08-20  오후 03:37    <DIR>          .ipynb_checkpoints\n",
      "2019-08-20  오후 03:37                26 hello.txt\n",
      "2019-08-20  오후 03:46                33 subject.txt\n",
      "               2개 파일                  59 바이트\n",
      "               3개 디렉터리  65,361,932,288 바이트 남음\n"
     ]
    }
   ],
   "source": [
    "# data 안의 파일 확인\n",
    "%ls data"
   ]
  },
  {
   "cell_type": "code",
   "execution_count": 15,
   "metadata": {},
   "outputs": [
    {
     "name": "stdout",
     "output_type": "stream",
     "text": [
      "파이썬을 이용한 빅데이터 분석!!!\n"
     ]
    }
   ],
   "source": [
    "with open('./data/subject.txt', 'r') as pf:\n",
    "    data = pf.read()\n",
    "print(data)"
   ]
  },
  {
   "cell_type": "code",
   "execution_count": 18,
   "metadata": {},
   "outputs": [
    {
     "name": "stdout",
     "output_type": "stream",
     "text": [
      "파이썬을 이용한 재미있는  분석!!!\n"
     ]
    }
   ],
   "source": [
    "# w 객체로 파일 내용 수정하기\n",
    "with open('./data/subject.txt', 'w') as fp:\n",
    "    data = '파이썬을 이용한 재미있는  분석!!!'\n",
    "    fp.write(data)\n",
    "    \n",
    "    \n",
    "#  수정한 내용 불러와 확인하기\n",
    "with open('./data/subject.txt', 'r') as pf:\n",
    "    data = pf.read()\n",
    "print(data)"
   ]
  },
  {
   "cell_type": "code",
   "execution_count": 34,
   "metadata": {},
   "outputs": [],
   "source": [
    "# students.csv 파일 불러오기 + dict로 저장\n",
    "def read_csv(filepath):\n",
    "    \n",
    "    fp = open(filepath, 'r', encoding='utf-8')\n",
    "    data = fp.read()\n",
    "    fp.close()\n",
    "    \n",
    "    # return dataL\n",
    "    elements = []\n",
    "    \n",
    "    rows = data.split(\"\\n\")\n",
    "    # print(rows)\n",
    "    for row in rows:        \n",
    "        \n",
    "        fields = row.split(\",\")\n",
    "        # print(fields)\n",
    "        \n",
    "        element = {   \n",
    "            \"name\"   : fields[0],\n",
    "            \"school\" : fields[1],\n",
    "            \"email\"  : fields[2],\n",
    "        }\n",
    "        elements.append(element)\n",
    "    return elements"
   ]
  },
  {
   "cell_type": "code",
   "execution_count": 35,
   "metadata": {},
   "outputs": [
    {
     "data": {
      "text/plain": [
       "[{'name': '김태희', 'school': '서울대', 'email': 'thkim@gmail.com'},\n",
       " {'name': '신민아', 'school': '성균관대', 'email': 'sma@gmial.com'},\n",
       " {'name': '전지현', 'school': '중앙대', 'email': 'jhjeon@gmail.com'},\n",
       " {'name': '이영애', 'school': '숭실대', 'email': 'janggumi@gamil.com'}]"
      ]
     },
     "execution_count": 35,
     "metadata": {},
     "output_type": "execute_result"
    }
   ],
   "source": [
    "filepath = './data/students.csv'\n",
    "read_csv(filepath)"
   ]
  },
  {
   "cell_type": "code",
   "execution_count": 61,
   "metadata": {},
   "outputs": [
    {
     "data": {
      "text/plain": [
       "[{'랭킹': '1', ' 회사이름': '애플', ' 영문명': 'Apple', ' 창업자 ': '스티브잡스'},\n",
       " {'랭킹': '2', ' 회사이름': '구글', ' 영문명': 'Google', ' 창업자 ': '세르게이브린&레리페이지'},\n",
       " {'랭킹': '3', ' 회사이름': '마이크로소프트', ' 영문명': 'Microsoft', ' 창업자 ': '빌게이츠&폴앨런'},\n",
       " {'랭킹': '4', ' 회사이름': '페이스북', ' 영문명': 'Facebook', ' 창업자 ': '마크쥬크버그'},\n",
       " {'랭킹': '5', ' 회사이름': '에어비엔비', ' 영문명': 'Airbnb', ' 창업자 ': '브라이언체크키&조게비어'}]"
      ]
     },
     "execution_count": 61,
     "metadata": {},
     "output_type": "execute_result"
    }
   ],
   "source": [
    "# company.csv 파일 불러오기 + dict로 저장\n",
    "def read_csv(filepath):\n",
    "    \n",
    "    fp = open(filepath, 'r', encoding='utf-8')\n",
    "    data = fp.read()\n",
    "    fp.close()\n",
    "\n",
    "    # 컬럼명 갖고 오기\n",
    "    colnames = data.split('\\n')[0]\n",
    "    colnames = colnames.split(',')\n",
    "    # return data\n",
    "    elements = []\n",
    "    \n",
    "    rows = data.split(\"\\n\")\n",
    "\n",
    "    for row in rows[1:]:         \n",
    "        element = {}\n",
    "        fields = row.split(\",\")\n",
    "        \n",
    "        for i in range(len(colnames)):\n",
    "            \n",
    "            element[colnames[i]] = fields[i].replace(' ','')  \n",
    "           \n",
    "        elements.append(element)\n",
    "    return elements\n",
    "\n",
    "filepath = './data/company.csv'\n",
    "read_csv(filepath)\n"
   ]
  },
  {
   "cell_type": "markdown",
   "metadata": {},
   "source": [
    "# with  as문법\n",
    "\n",
    "\n",
    "### 특정 블록 내의 동작으로 제한하고, 블록을 나가는 경우에는 리소스의 해제 처리를 자동으로 하는 것."
   ]
  },
  {
   "cell_type": "code",
   "execution_count": null,
   "metadata": {},
   "outputs": [],
   "source": []
  }
 ],
 "metadata": {
  "kernelspec": {
   "display_name": "Python 3",
   "language": "python",
   "name": "python3"
  },
  "language_info": {
   "codemirror_mode": {
    "name": "ipython",
    "version": 3
   },
   "file_extension": ".py",
   "mimetype": "text/x-python",
   "name": "python",
   "nbconvert_exporter": "python",
   "pygments_lexer": "ipython3",
   "version": "3.7.3"
  }
 },
 "nbformat": 4,
 "nbformat_minor": 2
}
