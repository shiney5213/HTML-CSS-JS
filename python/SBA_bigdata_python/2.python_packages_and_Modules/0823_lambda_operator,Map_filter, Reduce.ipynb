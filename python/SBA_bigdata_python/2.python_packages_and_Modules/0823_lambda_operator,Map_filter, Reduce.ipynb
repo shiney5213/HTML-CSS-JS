{
 "cells": [
  {
   "cell_type": "markdown",
   "metadata": {},
   "source": [
    "# Lambda Operator\n",
    "\n",
    "## 일반함수\n"
   ]
  },
  {
   "cell_type": "code",
   "execution_count": 3,
   "metadata": {},
   "outputs": [
    {
     "data": {
      "text/plain": [
       "\"Hey guys, Let's get it!\""
      ]
     },
     "execution_count": 3,
     "metadata": {},
     "output_type": "execute_result"
    }
   ],
   "source": [
    "def hello():\n",
    "    return \"Hey guys, Let's get it!\"\n",
    "\n",
    "\n",
    "hello()"
   ]
  },
  {
   "cell_type": "code",
   "execution_count": 4,
   "metadata": {},
   "outputs": [
    {
     "name": "stdout",
     "output_type": "stream",
     "text": [
      "200 결과: 성공\n"
     ]
    }
   ],
   "source": [
    "def double(x):\n",
    "    return x *2, '성공'\n",
    "\n",
    "result, msg = double(100)\n",
    "print(result, '결과:', msg)"
   ]
  },
  {
   "cell_type": "markdown",
   "metadata": {},
   "source": [
    "## lambda 함수( lambda 입력값: 출력 로직)"
   ]
  },
  {
   "cell_type": "code",
   "execution_count": 5,
   "metadata": {},
   "outputs": [
    {
     "data": {
      "text/plain": [
       "<function __main__.<lambda>(x)>"
      ]
     },
     "execution_count": 5,
     "metadata": {},
     "output_type": "execute_result"
    }
   ],
   "source": [
    "# 함수 구현\n",
    "lambda x: x * 2 \n"
   ]
  },
  {
   "cell_type": "code",
   "execution_count": 8,
   "metadata": {},
   "outputs": [
    {
     "data": {
      "text/plain": [
       "400"
      ]
     },
     "execution_count": 8,
     "metadata": {},
     "output_type": "execute_result"
    }
   ],
   "source": [
    "# 함수 이름 구현\n",
    "# 익명 함수를 만들어서 그 위치를 double2이라는 변수에 저장\n",
    "double1 = lambda x: x * 2\n",
    "\n",
    "double1(200)\n"
   ]
  },
  {
   "cell_type": "code",
   "execution_count": 9,
   "metadata": {},
   "outputs": [
    {
     "data": {
      "text/plain": [
       "<function __main__.<lambda>(x)>"
      ]
     },
     "execution_count": 9,
     "metadata": {},
     "output_type": "execute_result"
    }
   ],
   "source": [
    "double1"
   ]
  },
  {
   "cell_type": "markdown",
   "metadata": {},
   "source": [
    "## Map, Filter, Reduce ( 모듈: functools)\n",
    "\n",
    "###:  함수를 만들어서 사용할 때, 코드를 간단하게, 메모리를 절약할 수 있는 함수들)\n",
    "\n",
    "> 함수의 결과값의 개수에 따라 다른 함수를 사용함.\n",
    "- map: 입력값과 출력갑의 개수가 같음\n",
    "- filter: 입력갑과 출력값의 개수가 다름\n",
    "- reduce: 입력값의 개수가 몇개여도 출력값의 개수는 무조건 1개"
   ]
  },
  {
   "cell_type": "code",
   "execution_count": 65,
   "metadata": {},
   "outputs": [],
   "source": [
    "from functools import *"
   ]
  },
  {
   "cell_type": "markdown",
   "metadata": {},
   "source": [
    "## mapping 방식\n",
    "\n",
    "- 입력값과 출력값이 1:1로 맵핑\n",
    "- 즉 한번만에 즉시 연산\n",
    "- cf: genetator: 한번에 연산 X"
   ]
  },
  {
   "cell_type": "code",
   "execution_count": 29,
   "metadata": {},
   "outputs": [
    {
     "data": {
      "text/plain": [
       "[1, 4, 9, 16, 25, 36, 49, 64, 81, 100]"
      ]
     },
     "execution_count": 29,
     "metadata": {},
     "output_type": "execute_result"
    }
   ],
   "source": [
    "# 리스트를 받아서 제곱수의 리스트\n",
    "def get_square(number):\n",
    "    return number **2\n",
    "\n",
    "def get_square_list(number):\n",
    "    elements=[]\n",
    "    for number in numbers:\n",
    "        elements.append(get_square(number))\n",
    "    return elements\n",
    "numbers = list(range(1,11))\n",
    "get_square_list(numbers)"
   ]
  },
  {
   "cell_type": "code",
   "execution_count": 28,
   "metadata": {},
   "outputs": [
    {
     "data": {
      "text/plain": [
       "[1, 4, 9, 16, 25]"
      ]
     },
     "execution_count": 28,
     "metadata": {},
     "output_type": "execute_result"
    }
   ],
   "source": [
    "list(map(get_square, [1,2,3,4,5]))\n"
   ]
  },
  {
   "cell_type": "code",
   "execution_count": 24,
   "metadata": {},
   "outputs": [
    {
     "data": {
      "text/plain": [
       "[1, 4, 9, 16, 25]"
      ]
     },
     "execution_count": 24,
     "metadata": {},
     "output_type": "execute_result"
    }
   ],
   "source": [
    "list(map(\n",
    "    lambda x: x **2,\n",
    "    [1,2,3,4,5]))"
   ]
  },
  {
   "cell_type": "code",
   "execution_count": 27,
   "metadata": {},
   "outputs": [
    {
     "data": {
      "text/plain": [
       "[1, 4, 9, 16, 25]"
      ]
     },
     "execution_count": 27,
     "metadata": {},
     "output_type": "execute_result"
    }
   ],
   "source": [
    "# map과 lambda를 사용하면 짧게 구현할 수 있음\n",
    "def get_square_list(numbers):\n",
    "    return list(map(lambda x: x**2, numbers))\n",
    "\n",
    "get_square_list([1,2,3,4,5])"
   ]
  },
  {
   "cell_type": "markdown",
   "metadata": {},
   "source": [
    "\n",
    " ## filter"
   ]
  },
  {
   "cell_type": "code",
   "execution_count": 31,
   "metadata": {},
   "outputs": [
    {
     "data": {
      "text/plain": [
       "[1, 3, 5]"
      ]
     },
     "execution_count": 31,
     "metadata": {},
     "output_type": "execute_result"
    }
   ],
   "source": [
    "# 리스트를 받아서 양수만 출력하는 새로운 리스트 만들기\n",
    "def get_positive_list(numbers):\n",
    "    elements = []\n",
    "    for number in numbers:\n",
    "        if number >0 :\n",
    "            elements.append(number)\n",
    "    return elements\n",
    "\n",
    "numbers = [1,-2, 3, -4, 5]\n",
    "get_positive_list(numbers)"
   ]
  },
  {
   "cell_type": "code",
   "execution_count": 33,
   "metadata": {},
   "outputs": [
    {
     "data": {
      "text/plain": [
       "[True, False, True, False, True]"
      ]
     },
     "execution_count": 33,
     "metadata": {},
     "output_type": "execute_result"
    }
   ],
   "source": [
    "numbers = [1,-2, 3, -4, 5]\n",
    "\n",
    "#map사용하면 \n",
    "list(map(lambda x: x >0,\n",
    "        numbers))  # [True, False, True, False, True]"
   ]
  },
  {
   "cell_type": "code",
   "execution_count": 42,
   "metadata": {},
   "outputs": [
    {
     "data": {
      "text/plain": [
       "[1, 3, 5]"
      ]
     },
     "execution_count": 42,
     "metadata": {},
     "output_type": "execute_result"
    }
   ],
   "source": [
    "# filter\n",
    "list(filter(lambda x: x >0,\n",
    "        numbers))"
   ]
  },
  {
   "cell_type": "code",
   "execution_count": 35,
   "metadata": {},
   "outputs": [
    {
     "data": {
      "text/plain": [
       "[1, 3, 5]"
      ]
     },
     "execution_count": 35,
     "metadata": {},
     "output_type": "execute_result"
    }
   ],
   "source": [
    "def get_positive_list(numbers):\n",
    "    return list(filter(lambda x: x>0, numbers))\n",
    "\n",
    "get_positive_list(numbers)"
   ]
  },
  {
   "cell_type": "code",
   "execution_count": 39,
   "metadata": {},
   "outputs": [
    {
     "data": {
      "text/plain": [
       "[1, 3, 5]"
      ]
     },
     "execution_count": 39,
     "metadata": {},
     "output_type": "execute_result"
    }
   ],
   "source": [
    "get_positive_list = lambda numbers: list(filter(lambda x: x >0, numbers))\n",
    "\n",
    "get_positive_list([1, -2, 3, -4, 5])\n",
    "\n",
    "# 1. numbers로 [1, -2, 3, -4, 5] 값을 받아서\n",
    "#2. 뒤에있는 filter 함수의 인자로 넘겨주고\n",
    "# 3. filter, lambda 함수에서 양수만 출력\n",
    "# 4. 맨 앞 lambea의 출력값으로 리스트를 출력\n",
    "\n",
    "\n",
    "# filter함수(출력값, 입력값)\n",
    "# lambda 입력값: 출력값\n"
   ]
  },
  {
   "cell_type": "markdown",
   "metadata": {},
   "source": [
    "## Reduce(로직, 입력값, 초기값(=결과값))\n",
    "\n",
    "- 입력값을 순차적으로 한 개씩 받아서 최종 결과값을 생산한다\n",
    "- 결과값이 무조건 1개고, 그 값이 계속 update됨 ( 초기값: null)\n",
    "- 초기값과 입력값(순차적으로)이 로직에 들어가게 됨.\n",
    "- 로직에 들어가는 입력값이 2개여야 함.-> 로직을 통해 업데이트 되게\n",
    "- 초기값 변수에  결과값이 저장됨."
   ]
  },
  {
   "cell_type": "code",
   "execution_count": 46,
   "metadata": {},
   "outputs": [
    {
     "data": {
      "text/plain": [
       "120"
      ]
     },
     "execution_count": 46,
     "metadata": {},
     "output_type": "execute_result"
    }
   ],
   "source": [
    "# 리스트의 모든 값을 곱한 수 출력\n",
    "def get_multiply(numbesr):\n",
    "    result = 1\n",
    "    for number in numbers:\n",
    "        result *= number\n",
    "    return result\n",
    "\n",
    "get_multiply([1,2,3,4])"
   ]
  },
  {
   "cell_type": "markdown",
   "metadata": {},
   "source": [
    "- 리스트의 최대값 출력"
   ]
  },
  {
   "cell_type": "code",
   "execution_count": 49,
   "metadata": {},
   "outputs": [
    {
     "data": {
      "text/plain": [
       "5"
      ]
     },
     "execution_count": 49,
     "metadata": {},
     "output_type": "execute_result"
    }
   ],
   "source": [
    "def get_bigger(a, b):\n",
    "    return a if a>b else b\n",
    "\n",
    "get_bigger(3,5)"
   ]
  },
  {
   "cell_type": "code",
   "execution_count": 57,
   "metadata": {},
   "outputs": [
    {
     "data": {
      "text/plain": [
       "7"
      ]
     },
     "execution_count": 57,
     "metadata": {},
     "output_type": "execute_result"
    }
   ],
   "source": [
    "# reduce(로직, 입력)형태\n",
    "reduce(get_bigger, [1,2,3,4,5,6,7])"
   ]
  },
  {
   "cell_type": "code",
   "execution_count": 56,
   "metadata": {},
   "outputs": [
    {
     "data": {
      "text/plain": [
       "5"
      ]
     },
     "execution_count": 56,
     "metadata": {},
     "output_type": "execute_result"
    }
   ],
   "source": [
    "reduce(lambda x, y: x if x > y else y,\n",
    "      [3, -1, 5, -6])"
   ]
  },
  {
   "cell_type": "code",
   "execution_count": 55,
   "metadata": {},
   "outputs": [
    {
     "data": {
      "text/plain": [
       "5"
      ]
     },
     "execution_count": 55,
     "metadata": {},
     "output_type": "execute_result"
    }
   ],
   "source": [
    "# reduce, lambda를 이용하여 함수 구현하기\n",
    "def get_max(numbers):\n",
    "    return reduce(lambda x, y: x if x> y else y, numbers)\n",
    "\n",
    "get_max([3, -1, 5, -6])\n",
    "\n",
    "#1. reduce 함수의 입력: numbers=[3,-1,5, -6]\n",
    "# 2. 출력: lambda x, y: x if x> y else y\n",
    "#3. 입력: x, y, 출력: 큰 수"
   ]
  },
  {
   "cell_type": "markdown",
   "metadata": {},
   "source": [
    "- 리스트의 모든 값 출력"
   ]
  },
  {
   "cell_type": "code",
   "execution_count": 59,
   "metadata": {},
   "outputs": [
    {
     "data": {
      "text/plain": [
       "120"
      ]
     },
     "execution_count": 59,
     "metadata": {},
     "output_type": "execute_result"
    }
   ],
   "source": [
    "# 리스트의 모든 값을 곱한 수 출력\n",
    "def get_multiply(numbesr):\n",
    "    result = 1\n",
    "    for number in numbers:\n",
    "        result *= number\n",
    "    return result\n",
    "\n",
    "get_multiply([1,2,3,4])"
   ]
  },
  {
   "cell_type": "code",
   "execution_count": 61,
   "metadata": {},
   "outputs": [
    {
     "name": "stdout",
     "output_type": "stream",
     "text": [
      "(1, 3)\n"
     ]
    },
    {
     "data": {
      "text/plain": [
       "3"
      ]
     },
     "execution_count": 61,
     "metadata": {},
     "output_type": "execute_result"
    }
   ],
   "source": [
    "# reduce (로직, 입력, 초기값(defult: null값))\n",
    "\n",
    "def multiply(a, b):\n",
    "    print((a, b))\n",
    "    return a * b\n",
    "\n",
    "multiply(1, 3)"
   ]
  },
  {
   "cell_type": "code",
   "execution_count": 63,
   "metadata": {},
   "outputs": [
    {
     "name": "stdout",
     "output_type": "stream",
     "text": [
      "(1, 1)\n",
      "(1, 2)\n",
      "(2, 3)\n",
      "(6, 4)\n",
      "(24, 5)\n"
     ]
    },
    {
     "data": {
      "text/plain": [
       "120"
      ]
     },
     "execution_count": 63,
     "metadata": {},
     "output_type": "execute_result"
    }
   ],
   "source": [
    "reduce(multiply, [1,2,3,4,5], 1)  # 초기값이 0이면 답이 0"
   ]
  },
  {
   "cell_type": "markdown",
   "metadata": {},
   "source": [
    "### <font color = 'blue'>실습: Histogram 함수 만들기</font>\n",
    " \n",
    "- 리스트를 받아서 히스토리그램을 그리는 함수\n",
    "- 입력값 : [\"cat\", \"cat\", \"cat\", \"sheep\", \"sheep\", \"duck\", \"duck\", \"duck\", \"duck\" ]\n",
    "\n",
    "> 히스토그램을 그리는 함수 \n",
    "  input: {'cat': 3, 'duck': 4, 'sheep': 2} => output: 그림 \n",
    "\n",
    "> 리스트를 받아서, 숫자를 세는 함수\n",
    "  input: list => output: histogram dict"
   ]
  },
  {
   "cell_type": "code",
   "execution_count": 103,
   "metadata": {},
   "outputs": [
    {
     "name": "stdout",
     "output_type": "stream",
     "text": [
      "{'cat': 3, 'sheep': 2, 'duck': 4}\n",
      "cat ===\n",
      "sheep ==\n",
      "duck ====\n"
     ]
    }
   ],
   "source": [
    "data = [\"cat\", \"cat\", \"cat\", \"sheep\", \"sheep\", \"duck\", \"duck\", \"duck\", \"duck\" ]\n",
    "\n",
    "# 리스트를 받아서 숫자를 세는 함수\n",
    "animal_cnt ={'cat': 0, 'sheep': 0, 'duck': 0 }\n",
    "def animal_count(data):\n",
    "    for i in data:\n",
    "        animal_cnt[i]+= 1\n",
    "        \n",
    "    return animal_cnt\n",
    "        \n",
    "\n",
    "# 히스토 그램을 그리는 함수\n",
    "def histogram(list):\n",
    "    for key, value in list.items():\n",
    "        print('{key} {space}{value}'.format( key= key,\n",
    "                                           space = '' * (10 -len(key)),\n",
    "                                           value = '=' * value))\n",
    "              \n",
    "\n",
    "animal_dict = animal_count(data)\n",
    "print(animal_dict)\n",
    "histogram(animal_dict)\n",
    "\n"
   ]
  },
  {
   "cell_type": "code",
   "execution_count": 150,
   "metadata": {},
   "outputs": [
    {
     "name": "stdout",
     "output_type": "stream",
     "text": [
      "{'cat': 3, 'sheep': 2, 'duck': 4}\n",
      "cat    ===\n",
      "sheep  ==\n",
      "duck   ====\n",
      "None\n"
     ]
    }
   ],
   "source": [
    "# reduce 이용\n",
    "# 리스트를 받아서 숫자를 세는 함수\n",
    "# def get_count(result, param):\n",
    "#     result[param] += 1\n",
    "#     return result\n",
    "\n",
    "# animal_dict =reduce(get_count,\n",
    "#       data,\n",
    "#       {'cat': 0, 'sheep': 0, 'duck': 0})\n",
    "\n",
    "# print(animal_dict)\n",
    "\n",
    "def get_count(result, param):\n",
    "    if param in result:\n",
    "    # if result.get(parma):    \n",
    "        result[param] += 1\n",
    "    else:\n",
    "        result[param] =1\n",
    "    return result\n",
    "\n",
    "animal_dict =reduce(get_count,\n",
    "      data,\n",
    "      {})\n",
    "\n",
    "print(animal_dict)\n",
    "\n",
    "\n",
    "\n",
    "# 히스토 그램을 그리는 함수\n",
    "def histogram(hist, key): \n",
    "    # reduce함수릐 초기값(hist)과 입력값의 인자(key)를 순서대로 받음\n",
    "    space = ' ' * (7 - len(key))\n",
    "    print( key + space + '='*animal_dict[key])\n",
    "\n",
    "\n",
    "histogram = reduce(histogram,\n",
    "      animal_dict, str()     )\n",
    "\n",
    "print(histogram)\n"
   ]
  },
  {
   "cell_type": "code",
   "execution_count": 160,
   "metadata": {},
   "outputs": [],
   "source": [
    "# 함수로 묶기\n",
    "def get_dict(data):\n",
    "    return reduce(get_count, data, {})\n",
    "    \n",
    "animal_dict =get_dict(data)\n"
   ]
  },
  {
   "cell_type": "code",
   "execution_count": 168,
   "metadata": {},
   "outputs": [
    {
     "ename": "TypeError",
     "evalue": "'NoneType' object is not callable",
     "output_type": "error",
     "traceback": [
      "\u001b[1;31m---------------------------------------------------------------------------\u001b[0m",
      "\u001b[1;31mTypeError\u001b[0m                                 Traceback (most recent call last)",
      "\u001b[1;32m<ipython-input-168-781cbdd33204>\u001b[0m in \u001b[0;36m<module>\u001b[1;34m\u001b[0m\n\u001b[0;32m      3\u001b[0m \u001b[1;33m\u001b[0m\u001b[0m\n\u001b[0;32m      4\u001b[0m \u001b[1;33m\u001b[0m\u001b[0m\n\u001b[1;32m----> 5\u001b[1;33m \u001b[0mdraw_histogram\u001b[0m\u001b[1;33m(\u001b[0m\u001b[0manimal_dict\u001b[0m\u001b[1;33m)\u001b[0m\u001b[1;33m\u001b[0m\u001b[1;33m\u001b[0m\u001b[0m\n\u001b[0m\u001b[0;32m      6\u001b[0m \u001b[1;33m\u001b[0m\u001b[0m\n",
      "\u001b[1;32m<ipython-input-168-781cbdd33204>\u001b[0m in \u001b[0;36mdraw_histogram\u001b[1;34m(data)\u001b[0m\n\u001b[0;32m      1\u001b[0m \u001b[1;32mdef\u001b[0m \u001b[0mdraw_histogram\u001b[0m\u001b[1;33m(\u001b[0m\u001b[0mdata\u001b[0m\u001b[1;33m)\u001b[0m\u001b[1;33m:\u001b[0m\u001b[1;33m\u001b[0m\u001b[1;33m\u001b[0m\u001b[0m\n\u001b[1;32m----> 2\u001b[1;33m     \u001b[1;32mreturn\u001b[0m \u001b[0mreduce\u001b[0m\u001b[1;33m(\u001b[0m\u001b[0mhistogram\u001b[0m\u001b[1;33m,\u001b[0m\u001b[0manimal_dict\u001b[0m\u001b[1;33m,\u001b[0m\u001b[0mstr\u001b[0m\u001b[1;33m(\u001b[0m\u001b[1;33m)\u001b[0m \u001b[1;33m)\u001b[0m\u001b[1;33m\u001b[0m\u001b[1;33m\u001b[0m\u001b[0m\n\u001b[0m\u001b[0;32m      3\u001b[0m \u001b[1;33m\u001b[0m\u001b[0m\n\u001b[0;32m      4\u001b[0m \u001b[1;33m\u001b[0m\u001b[0m\n\u001b[0;32m      5\u001b[0m \u001b[0mdraw_histogram\u001b[0m\u001b[1;33m(\u001b[0m\u001b[0manimal_dict\u001b[0m\u001b[1;33m)\u001b[0m\u001b[1;33m\u001b[0m\u001b[1;33m\u001b[0m\u001b[0m\n",
      "\u001b[1;31mTypeError\u001b[0m: 'NoneType' object is not callable"
     ]
    }
   ],
   "source": [
    "def draw_histogram(data):\n",
    "    return reduce(histogram,animal_dict,str() )\n",
    "\n",
    "\n",
    "draw_histogram(animal_dict)\n",
    "    "
   ]
  },
  {
   "cell_type": "code",
   "execution_count": 165,
   "metadata": {},
   "outputs": [],
   "source": [
    "? reduce"
   ]
  }
 ],
 "metadata": {
  "kernelspec": {
   "display_name": "Python 3",
   "language": "python",
   "name": "python3"
  },
  "language_info": {
   "codemirror_mode": {
    "name": "ipython",
    "version": 3
   },
   "file_extension": ".py",
   "mimetype": "text/x-python",
   "name": "python",
   "nbconvert_exporter": "python",
   "pygments_lexer": "ipython3",
   "version": "3.7.3"
  }
 },
 "nbformat": 4,
 "nbformat_minor": 2
}
