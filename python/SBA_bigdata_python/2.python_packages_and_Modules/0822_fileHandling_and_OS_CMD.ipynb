{
 "cells": [
  {
   "cell_type": "markdown",
   "metadata": {},
   "source": [
    "# 파일 핸들링 & OS 기본 명령어\n",
    "\n",
    "### Text 파일 생성\n"
   ]
  },
  {
   "cell_type": "code",
   "execution_count": 2,
   "metadata": {},
   "outputs": [],
   "source": [
    "def write_txt(filepath):\n",
    "    # 텍스트 파일에 한 줄식 쓰기(writeline)\n",
    "    count = 1\n",
    "    data = []\n",
    "    print('파일에 내용을 저장하려면 내용을 입력하지 말고 [Enter]를 누르세요')\n",
    "    \n",
    "    while True:\n",
    "        text = input('[%d] 파일에 저장할 내용을 입력하세요' %count)\n",
    "        if text == '':\n",
    "            break\n",
    "        data.append(text + '\\n')\n",
    "        count += 1\n",
    "        \n",
    "    f = open(filepath, 'w')\n",
    "    f.writelines(data)\n",
    "    f.close()\n",
    "    \n",
    "    ret = 'TEXT 파일을 생성하였습니다'\n",
    "    \n",
    "    return ret"
   ]
  },
  {
   "cell_type": "code",
   "execution_count": 4,
   "metadata": {},
   "outputs": [
    {
     "name": "stdout",
     "output_type": "stream",
     "text": [
      "파일에 내용을 저장하려면 내용을 입력하지 말고 [Enter]를 누르세요\n",
      "[1] 파일에 저장할 내용을 입력하세요안녕하세요!\n",
      "[2] 파일에 저장할 내용을 입력하세요빨리 끝내고\n",
      "[3] 파일에 저장할 내용을 입력하세요집에 갑시다\n",
      "[4] 파일에 저장할 내용을 입력하세요화이팅!\n",
      "[5] 파일에 저장할 내용을 입력하세요\n"
     ]
    },
    {
     "data": {
      "text/plain": [
       "'TEXT 파일을 생성하였습니다'"
      ]
     },
     "execution_count": 4,
     "metadata": {},
     "output_type": "execute_result"
    }
   ],
   "source": [
    "filepath = './data/mydata.txt'\n",
    "write_txt(filepath)"
   ]
  },
  {
   "cell_type": "code",
   "execution_count": 5,
   "metadata": {},
   "outputs": [
    {
     "name": "stdout",
     "output_type": "stream",
     "text": [
      "안녕하세요!\n",
      "빨리 끝내고\n",
      "집에 갑시다\n",
      "화이팅!\n",
      "\n"
     ]
    }
   ],
   "source": [
    "f = open(filepath, 'r')\n",
    "data = f.read()\n",
    "f.close()\n",
    "\n",
    "print(data)"
   ]
  },
  {
   "cell_type": "markdown",
   "metadata": {},
   "source": [
    "- Text 파일 복사"
   ]
  },
  {
   "cell_type": "code",
   "execution_count": 8,
   "metadata": {},
   "outputs": [],
   "source": [
    "# 텍스트 파일 복사하기(read, write)\n",
    "f = open('./data/mydata.txt','r')\n",
    "h = open('./data/mydata_copy.txt','w')\n",
    "\n",
    "data = f.read()\n",
    "h.write(data)\n",
    "\n",
    "h.close()\n",
    "f.close()"
   ]
  },
  {
   "cell_type": "code",
   "execution_count": 17,
   "metadata": {},
   "outputs": [
    {
     "name": "stdout",
     "output_type": "stream",
     "text": [
      "안녕하세요!\n",
      "빨리 끝내고\n",
      "집에 갑시다\n",
      "화이팅!\n",
      "\n"
     ]
    }
   ],
   "source": [
    "with open('./data/mydata_copy.txt','r') as fp:\n",
    "    data = fp.read()\n",
    "    print(data)"
   ]
  },
  {
   "cell_type": "markdown",
   "metadata": {},
   "source": [
    "- Image 파일 복사"
   ]
  },
  {
   "cell_type": "code",
   "execution_count": 19,
   "metadata": {},
   "outputs": [
    {
     "data": {
      "image/jpeg": "[encoded data removed]",
      "text/plain": [
       "<IPython.core.display.Image object>"
      ]
     },
     "execution_count": 19,
     "metadata": {},
     "output_type": "execute_result"
    }
   ],
   "source": [
    "from IPython.display import Image\n",
    "\n",
    "origin_img = './whale.jpg'\n",
    "copied_img ='./whale_copy.jpg'\n",
    "\n",
    "Image(origin_img)"
   ]
  },
  {
   "cell_type": "code",
   "execution_count": 20,
   "metadata": {},
   "outputs": [],
   "source": [
    "# 바이너리 파일 복사하기(read, write)\n",
    "\n",
    "bufsize = 1024\n",
    "f = open(origin_img, 'rb')\n",
    "h = open(copied_img, 'wb')\n",
    "\n",
    "data = f.read(bufsize)\n",
    "while data:\n",
    "    h.write(data)\n",
    "    data=f.read(bufsize)\n",
    "    \n",
    "h.close()\n",
    "f.close()"
   ]
  },
  {
   "cell_type": "code",
   "execution_count": 21,
   "metadata": {},
   "outputs": [
    {
     "data": {
      "image/jpeg": "[encoded data removed]",
      "text/plain": [
       "<IPython.core.display.Image object>"
      ]
     },
     "execution_count": 21,
     "metadata": {},
     "output_type": "execute_result"
    }
   ],
   "source": [
    "Image(copied_img)"
   ]
  },
  {
   "cell_type": "code",
   "execution_count": null,
   "metadata": {},
   "outputs": [],
   "source": []
  },
  {
   "cell_type": "markdown",
   "metadata": {},
   "source": [
    "## OS 기본 명령어\n",
    "\n",
    "### 파일 크기 구하기(ospathgetsize)"
   ]
  },
  {
   "cell_type": "code",
   "execution_count": 24,
   "metadata": {},
   "outputs": [
    {
     "name": "stdout",
     "output_type": "stream",
     "text": [
      "./data/mydata_copy.txt 48\n",
      "./whale_copy.jpg 11016\n"
     ]
    }
   ],
   "source": [
    "# 파일 크기 구하기(ospathgetsize)\n",
    "from os.path import getsize\n",
    "\n",
    "file1 = './data/mydata_copy.txt'\n",
    "file2 = './whale_copy.jpg'\n",
    "\n",
    "file_size1 = getsize(file1)\n",
    "file_size2 = getsize(file2)\n",
    "\n",
    "print(file1, file_size1)\n",
    "print(file2, file_size2)\n",
    "\n"
   ]
  },
  {
   "cell_type": "markdown",
   "metadata": {},
   "source": [
    "- 파일 삭제하기(osremove)"
   ]
  },
  {
   "cell_type": "code",
   "execution_count": 25,
   "metadata": {},
   "outputs": [
    {
     "name": "stdout",
     "output_type": "stream",
     "text": [
      "[./data/mydata_copy.txt] 파일을 삭제하겠습니까?[y/n]y\n",
      "[./data/mydata_copy.txt]파일을 삭제했습니다\n"
     ]
    }
   ],
   "source": [
    "from os import remove\n",
    "\n",
    "target_file = './data/mydata_copy.txt'\n",
    "k = input('[%s] 파일을 삭제하겠습니까?[y/n]' %target_file)\n",
    "\n",
    "if k == 'y' or k == '':\n",
    "    remove(target_file)\n",
    "    print('[%s]파일을 삭제했습니다' %target_file)"
   ]
  },
  {
   "cell_type": "markdown",
   "metadata": {},
   "source": [
    "- 파일 이름 바꾸기(osrename)"
   ]
  },
  {
   "cell_type": "code",
   "execution_count": 33,
   "metadata": {},
   "outputs": [
    {
     "name": "stdout",
     "output_type": "stream",
     "text": [
      "[./data/mydata.txt]에 대한 새로운 파일 이름을 입력하세요:mydata2.txt\n",
      "[./data/mydata.txt]->[./data/mydata2.txt]로 파일이름이 변경되었습니다\n"
     ]
    }
   ],
   "source": [
    "from os import rename\n",
    "\n",
    "forder_path = './data/'\n",
    "target_file = forder_path + 'mydata.txt'\n",
    "newname = input('[%s]에 대한 새로운 파일 이름을 입력하세요:' %target_file)\n",
    "\n",
    "new_file = forder_path + newname\n",
    "rename(target_file, new_file)  # rename(원래 이름, 새 이름)\n",
    "\n",
    "print('[%s]->[%s]로 파일이름이 변경되었습니다' %(target_file, new_file))"
   ]
  },
  {
   "cell_type": "markdown",
   "metadata": {},
   "source": [
    "- 파일을 다른 디렉터리로 이동하기(osrename)"
   ]
  },
  {
   "cell_type": "code",
   "execution_count": 34,
   "metadata": {},
   "outputs": [
    {
     "name": "stdout",
     "output_type": "stream",
     "text": [
      "./data/mydata2.txt\n",
      "[./data/mydata2.txt]를 이동할 디렉터리의 절대경로를 입력하세요.C:\\Users\\SeoulIT\\bigdata_python\n",
      "[./data/mydata2.txt] -> [C:\\Users\\SeoulIT\\bigdata_python/./data/mydata2.txt]로 이동되었습니다.\n"
     ]
    }
   ],
   "source": [
    "from os import rename\n",
    "\n",
    "print(new_file)\n",
    "target_file = new_file\n",
    "newpath = input('[%s]를 이동할 디렉터리의 절대경로를 입력하세요.' %target_file)\n",
    "\n",
    "# 경로의 제일 마지막에 /가 있는지 없는지 확인\n",
    "if newpath[-1] == '/':   \n",
    "    newname = newpath + target_file\n",
    "else:\n",
    "    newname = newpath + '/' + target_file\n",
    "\n",
    "    \n",
    "#try, except를 이용하여 에러 메시지 출력\n",
    "try:\n",
    "    rename(target_file, newname)  # rename(옮길 디렉터리, 파일 이름)\n",
    "    print('[%s] -> [%s]로 이동되었습니다.' %(target_file, newname))\n",
    "except FileNotFoundError as e:\n",
    "    print(e)\n",
    "    \n",
    "    "
   ]
  },
  {
   "cell_type": "markdown",
   "metadata": {},
   "source": [
    "- 디렉터리에 있는 파일목록 열기(os.listdir, glob.glob)"
   ]
  },
  {
   "cell_type": "code",
   "execution_count": 37,
   "metadata": {},
   "outputs": [
    {
     "name": "stdout",
     "output_type": "stream",
     "text": [
      "['.ipynb_checkpoints', 'company.csv', 'hello.txt', 'mydata2.txt', 'rename.txt', 'students.csv', 'subject.txt', 'titanic_train.csv', 'untitled.txt']\n",
      "['data\\\\hello.txt', 'data\\\\mydata2.txt', 'data\\\\rename.txt', 'data\\\\subject.txt', 'data\\\\untitled.txt']\n"
     ]
    }
   ],
   "source": [
    "import os, glob\n",
    "\n",
    "# 폴더 내 모든 파일 출력\n",
    "folder = 'data'\n",
    "file_list1 = os.listdir(folder)\n",
    "print(file_list1)\n",
    "\n",
    "# 폴더 내 모든 txt파일 출력\n",
    "files = 'data/*.txt'\n",
    "file_list2 = glob.glob(files)\n",
    "print(file_list2)"
   ]
  },
  {
   "cell_type": "markdown",
   "metadata": {},
   "source": [
    "- 현재 디렉터리 확인하고 바꾸기(os.getcwd, os.chdir)\n",
    "\n",
    "\n"
   ]
  },
  {
   "cell_type": "code",
   "execution_count": 38,
   "metadata": {},
   "outputs": [
    {
     "name": "stdout",
     "output_type": "stream",
     "text": [
      "C:\\Users\\SeoulIT\\bigdata_python\n",
      "C:\\Users\\SeoulIT\\bigdata_python\\data\n",
      "C:\\Users\\SeoulIT\\bigdata_python\n",
      "C:\\Users\\SeoulIT\\bigdata_python\n"
     ]
    }
   ],
   "source": [
    "import os\n",
    "\n",
    "pdir = os.getcwd()   #ger current directory\n",
    "print(pdir)\n",
    "os.chdir('data')  # change dir\n",
    "print(os.getcwd())\n",
    "os.chdir('..')  # 상위 폴더\n",
    "print(os.getcwd())\n",
    "os.chdir(pdir)\n",
    "print(os.getcwd())"
   ]
  },
  {
   "cell_type": "markdown",
   "metadata": {},
   "source": [
    "- 디렉터리 생성하기(osmkdir)"
   ]
  },
  {
   "cell_type": "code",
   "execution_count": 39,
   "metadata": {},
   "outputs": [
    {
     "name": "stdout",
     "output_type": "stream",
     "text": [
      "새로 생성할 디렉터리 이름을 입력하세요data2\n",
      "[data2] 디렉터리를 새로 생성했습니다\n"
     ]
    }
   ],
   "source": [
    "import os\n",
    "\n",
    "newfolder = input('새로 생성할 디렉터리 이름을 입력하세요')\n",
    "\n",
    "try:\n",
    "    os.mkdir(newfolder)\n",
    "    print('[%s] 디렉터리를 새로 생성했습니다' %newfolder)\n",
    "except Exception as e:\n",
    "    print(e)"
   ]
  },
  {
   "cell_type": "markdown",
   "metadata": {},
   "source": [
    "- 디렉터리 제거하기(os.rmdir)"
   ]
  },
  {
   "cell_type": "code",
   "execution_count": 41,
   "metadata": {},
   "outputs": [
    {
     "name": "stdout",
     "output_type": "stream",
     "text": [
      "[data2] 디렉터리를 삭제하겠습니가?(y/n)y\n",
      "[data2] 디렉터리를 삭재했습니다.\n"
     ]
    }
   ],
   "source": [
    "import os\n",
    "\n",
    "target_folder = newfolder\n",
    "k = input('[%s] 디렉터리를 삭제하겠습니가?(y/n)' %target_folder)\n",
    "if k == 'y':\n",
    "    try:\n",
    "        os.rmdir(target_folder)\n",
    "        print('[%s] 디렉터리를 삭재했습니다.' %target_folder)\n",
    "    except Exception as e:\n",
    "        print(e)"
   ]
  },
  {
   "cell_type": "markdown",
   "metadata": {},
   "source": [
    "- 하위 디렉터리 및 파일 전체 삭제하기(shutil.rmtree)"
   ]
  },
  {
   "cell_type": "code",
   "execution_count": 45,
   "metadata": {},
   "outputs": [
    {
     "name": "stdout",
     "output_type": "stream",
     "text": [
      "[./data2] 하위 모든 디렉터리 및 파일들을 삭제합니다\n",
      "0820_FileIO_Basic.ipynb\n",
      "0820_python_review1.ipynb\n",
      "0820_python_review2_data_structure.ipynb\n",
      "0820_Python_Review3_function.ipynb\n",
      "0820_python_review4_function2.ipynb\n",
      "0820_python_review5_function3.ipynb\n",
      "0820_python_review6_class.ipynb\n",
      "0820_python_review7_exception.ipynb\n",
      "[./data2]를 삭제하겠습니까>[y/n]y\n",
      "[./data2]의 모든 하위 디렉터리와 파일들을 삭제했습니다\n"
     ]
    }
   ],
   "source": [
    "import shutil\n",
    "import os\n",
    "\n",
    "# new_folder = 'data2'\n",
    "# os.mkdir(new_folder)\n",
    "\n",
    "target_folder ='./data2'\n",
    "print('[%s] 하위 모든 디렉터리 및 파일들을 삭제합니다' %target_folder)\n",
    "\n",
    "for file in os.listdir(target_folder):\n",
    "    print(file)\n",
    "k = input('[%s]를 삭제하겠습니까>[y/n]'%target_folder)\n",
    "\n",
    "if k== 'y':\n",
    "    try:\n",
    "        shutil.rmtree(target_folder)\n",
    "        print('[%s]의 모든 하위 디렉터리와 파일들을 삭제했습니다' %target_folder)\n",
    "    except Exception as e:\n",
    "        print(e)"
   ]
  },
  {
   "cell_type": "markdown",
   "metadata": {},
   "source": [
    "- 파일이 존재하는지 체크하기(os.pathexists)"
   ]
  },
  {
   "cell_type": "code",
   "execution_count": 46,
   "metadata": {},
   "outputs": [
    {
     "name": "stdout",
     "output_type": "stream",
     "text": [
      "새로 생성할 디렉터리 이름을 입력하세요data\n",
      "[data]은(는) 이미 존재합니다\n"
     ]
    }
   ],
   "source": [
    "import os\n",
    "from os.path import exists\n",
    "\n",
    "dir_name = input('새로 생성할 디렉터리 이름을 입력하세요')\n",
    "\n",
    "if not exists(dir_name):\n",
    "    os.mkdir(dir_name)\n",
    "    print('[%s] 디렉터리를 생성했습니다' %dir_name)\n",
    "else:\n",
    "    print('[%s]은(는) 이미 존재합니다' %dir_name)"
   ]
  },
  {
   "cell_type": "markdown",
   "metadata": {},
   "source": [
    "- 파일인지 디렉터리인지 확인하기(os.pathisfile, os.pathisdir)"
   ]
  },
  {
   "cell_type": "code",
   "execution_count": 48,
   "metadata": {},
   "outputs": [
    {
     "name": "stdout",
     "output_type": "stream",
     "text": [
      "['.ipynb_checkpoints', '0820_FileIO_Basic.ipynb', '0820_python_review1.ipynb', '0820_python_review2_data_structure.ipynb', '0820_Python_Review3_function.ipynb', '0820_python_review4_function2.ipynb', '0820_python_review5_function3.ipynb', '0820_python_review6_class.ipynb', '0820_python_review7_exception.ipynb', '0822-fileHandling_OS_CMD.ipynb', '0822_fileHandling_and_OS_CMD.ipynb', '0822_module1.ipynb', 'data', 'evaluation.ipynb', 'modules', 'my_first_module.py', 'random.ipynb', 'test.log', 'Untitled Folder', 'whale.jpg', 'whale_copy.jpg', 'write_txt.txt', 'write_txt_copy.txt', '__pycache__', '선형대수.ipynb']\n",
      "DIR: .ipynb_checkpoints\n",
      "File: 0820_FileIO_Basic.ipynb\n",
      "File: 0820_python_review1.ipynb\n",
      "File: 0820_python_review2_data_structure.ipynb\n",
      "File: 0820_Python_Review3_function.ipynb\n",
      "File: 0820_python_review4_function2.ipynb\n",
      "File: 0820_python_review5_function3.ipynb\n",
      "File: 0820_python_review6_class.ipynb\n",
      "File: 0820_python_review7_exception.ipynb\n",
      "File: 0822-fileHandling_OS_CMD.ipynb\n",
      "File: 0822_fileHandling_and_OS_CMD.ipynb\n",
      "File: 0822_module1.ipynb\n",
      "DIR: data\n",
      "File: evaluation.ipynb\n",
      "DIR: modules\n",
      "File: my_first_module.py\n",
      "File: random.ipynb\n",
      "File: test.log\n",
      "DIR: Untitled Folder\n",
      "File: whale.jpg\n",
      "File: whale_copy.jpg\n",
      "File: write_txt.txt\n",
      "File: write_txt_copy.txt\n",
      "DIR: __pycache__\n",
      "File: 선형대수.ipynb\n"
     ]
    }
   ],
   "source": [
    "import os\n",
    "from os.path import exists, isdir, isfile\n",
    "\n",
    "files = os.listdir()  # dir안에 있는 파일 출력하기\n",
    "print(files)\n",
    "\n",
    "for file in files:\n",
    "    if isdir(file):\n",
    "        print('DIR: %s' %file)\n",
    "        \n",
    "    if isfile(file):\n",
    "        print('File: %s' %file)"
   ]
  }
 ],
 "metadata": {
  "kernelspec": {
   "display_name": "Python 3",
   "language": "python",
   "name": "python3"
  },
  "language_info": {
   "codemirror_mode": {
    "name": "ipython",
    "version": 3
   },
   "file_extension": ".py",
   "mimetype": "text/x-python",
   "name": "python",
   "nbconvert_exporter": "python",
   "pygments_lexer": "ipython3",
   "version": "3.7.3"
  }
 },
 "nbformat": 4,
 "nbformat_minor": 2
}
