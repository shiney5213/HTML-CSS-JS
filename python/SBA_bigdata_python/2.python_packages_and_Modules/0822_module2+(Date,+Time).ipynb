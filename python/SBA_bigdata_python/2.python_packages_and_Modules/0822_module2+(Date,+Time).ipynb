{
 "cells": [
  {
   "cell_type": "markdown",
   "metadata": {},
   "source": [
    "# Date, Time\n",
    "\n",
    "### 시간 정보"
   ]
  },
  {
   "cell_type": "code",
   "execution_count": 1,
   "metadata": {},
   "outputs": [
    {
     "name": "stderr",
     "output_type": "stream",
     "text": [
      "C:\\Users\\shiney\\PycharmProjects\\bigdata_science\\test.log을(를) 찾을 수 없습니다.\n"
     ]
    }
   ],
   "source": [
    "# 현재 시간을 년-월-일 시:분:초로 출력하기(localtime, strftime)\n",
    "from time import localtime, strftime\n",
    "\n",
    "def writelog(logfile, log):\n",
    "    time_stamp = strftime('%Y-%m-%d %X\\t', localtime())\n",
    "    log = time_stamp + log + '\\n'\n",
    "\n",
    "    with open(logfile, 'a') as f:\n",
    "        f.writelines(log)\n",
    "\n",
    "logfile = 'test.log'\n",
    "# ! rm $logfile\n",
    "! del test.log \n",
    "\n",
    "writelog(logfile, '첫번째 로깅 문장입니다.')"
   ]
  },
  {
   "cell_type": "code",
   "execution_count": 2,
   "metadata": {},
   "outputs": [
    {
     "name": "stdout",
     "output_type": "stream",
     "text": [
      "2019-08-22 21:46:27\t첫번째 로깅 문장입니다.\n"
     ]
    }
   ],
   "source": [
    "# ! cat $logfile\n",
    "! type test.log"
   ]
  },
  {
   "cell_type": "code",
   "execution_count": 6,
   "metadata": {},
   "outputs": [
    {
     "name": "stdout",
     "output_type": "stream",
     "text": [
      "time.struct_time(tm_year=2019, tm_mon=8, tm_mday=22, tm_hour=21, tm_min=52, tm_sec=40, tm_wday=3, tm_yday=234, tm_isdst=0)\n",
      "오늘은 [2019-01-01]이후 [234]일째 되는 날입니다.\n"
     ]
    }
   ],
   "source": [
    "# 올해 경과된 날짜 수 계산하기\n",
    "from time import localtime\n",
    "\n",
    "print(localtime())\n",
    "\n",
    "start_day = '%d-01-01' % (localtime().tm_year)\n",
    "elapsed_day = localtime().tm_yday\n",
    "\n",
    "print('오늘은 [%s]이후 [%d]일째 되는 날입니다.' %(start_day, elapsed_day))"
   ]
  },
  {
   "cell_type": "code",
   "execution_count": 7,
   "metadata": {},
   "outputs": [
    {
     "data": {
      "text/plain": [
       "'2019-8-22'"
      ]
     },
     "execution_count": 7,
     "metadata": {},
     "output_type": "execute_result"
    }
   ],
   "source": [
    "# 오늘\n",
    "today = '{yy}-{mm}-{dd}'.format(yy = localtime().tm_year,\n",
    "                               mm = localtime().tm_mon,\n",
    "                               dd = localtime().tm_mday)\n",
    "today"
   ]
  },
  {
   "cell_type": "code",
   "execution_count": 8,
   "metadata": {},
   "outputs": [
    {
     "data": {
      "text/plain": [
       "'2002-3-2'"
      ]
     },
     "execution_count": 8,
     "metadata": {},
     "output_type": "execute_result"
    }
   ],
   "source": [
    "mem_day = '{yy}-{mm}-{dd}'.format(\n",
    "    yy = 2002,\n",
    "    mm = 3,\n",
    "    dd = 2\n",
    ")\n",
    "mem_day"
   ]
  },
  {
   "cell_type": "code",
   "execution_count": 9,
   "metadata": {},
   "outputs": [
    {
     "data": {
      "text/plain": [
       "time.struct_time"
      ]
     },
     "execution_count": 9,
     "metadata": {},
     "output_type": "execute_result"
    }
   ],
   "source": [
    "type(localtime())"
   ]
  },
  {
   "cell_type": "code",
   "execution_count": 10,
   "metadata": {},
   "outputs": [
    {
     "name": "stdout",
     "output_type": "stream",
     "text": [
      "[2019-8-22]오늘은 [목요일]입니다\n"
     ]
    }
   ],
   "source": [
    "# 오늘의 요일 계산하기\n",
    "from time import localtime\n",
    "\n",
    "weekdays = ['월요일','화요일','수요일','목요일','금요일','토요일','일요일']\n",
    "\n",
    "today = '%d-%d-%d' %(localtime().tm_year, localtime().tm_mon, localtime().tm_mday)\n",
    "week = weekdays[localtime().tm_wday]\n",
    "\n",
    "print('[%s]오늘은 [%s]입니다' %(today, week))"
   ]
  },
  {
   "cell_type": "code",
   "execution_count": 12,
   "metadata": {},
   "outputs": [
    {
     "name": "stdout",
     "output_type": "stream",
     "text": [
      "1에서 백만까지 더합니다.\n",
      "1에서 백만까지 더한 결과: 499999500000\n",
      "총 계산 시간: 0:00:00.183521\n",
      "총 계산 시간: 183ms\n"
     ]
    }
   ],
   "source": [
    "# 프로그램 실행 시간 계산하기(datetimenow)\n",
    "from datetime import datetime, timedelta\n",
    "\n",
    "start = datetime.now()\n",
    "print('1에서 백만까지 더합니다.')\n",
    "\n",
    "ret = 0\n",
    "for i in range(1000000):\n",
    "    ret += i\n",
    "\n",
    "print('1에서 백만까지 더한 결과: %d' %ret)\n",
    "end = datetime.now()\n",
    "\n",
    "elapsed = end - start\n",
    "print('총 계산 시간: ', end='');   print(elapsed)\n",
    "elapsed_ms = int(elapsed.total_seconds()*1000)    # 초 단위 출력\n",
    "print('총 계산 시간: %dms' %elapsed_ms)"
   ]
  },
  {
   "cell_type": "code",
   "execution_count": 13,
   "metadata": {},
   "outputs": [
    {
     "data": {
      "text/plain": [
       "datetime.datetime"
      ]
     },
     "execution_count": 13,
     "metadata": {},
     "output_type": "execute_result"
    }
   ],
   "source": [
    "type(start)"
   ]
  },
  {
   "cell_type": "code",
   "execution_count": 14,
   "metadata": {},
   "outputs": [
    {
     "name": "stdout",
     "output_type": "stream",
     "text": [
      "2019-08-22 22:05:18.602369\n",
      "2019-08-22\n",
      "22:05:18\n",
      "2019-08-22 22:05:18\n"
     ]
    }
   ],
   "source": [
    "# 날짜, 시간 출력 방법\n",
    "from datetime import datetime\n",
    " \n",
    "now = datetime.now()\n",
    "print(now)          # yyyy-MM-dd hh:mm:ss\n",
    " \n",
    "nowDate = now.strftime('%Y-%m-%d')\n",
    "print(nowDate)      # yyyy-MM-dd \n",
    " \n",
    "nowTime = now.strftime('%H:%M:%S')\n",
    "print(nowTime)      # 1hh:mm:ss\n",
    " \n",
    "nowDatetime = now.strftime('%Y-%m-%d %H:%M:%S')\n",
    "print(nowDatetime)  # yyyy-MM-dd hh:mm:ss"
   ]
  },
  {
   "cell_type": "code",
   "execution_count": 15,
   "metadata": {},
   "outputs": [
    {
     "data": {
      "text/plain": [
       "datetime.datetime"
      ]
     },
     "execution_count": 15,
     "metadata": {},
     "output_type": "execute_result"
    }
   ],
   "source": [
    "type(now)"
   ]
  },
  {
   "cell_type": "code",
   "execution_count": 23,
   "metadata": {},
   "outputs": [
    {
     "name": "stdout",
     "output_type": "stream",
     "text": [
      "6382 79845 911090\n",
      "러블리~ 우리 함께한지 벌써 6382일이나 지났고, 월수는 212개월, 년수는 17년이 지났네~!!\n"
     ]
    }
   ],
   "source": [
    "# 만난 날짜 계산하기\n",
    "\n",
    "m_day = datetime(2002, 3, 2)\n",
    "today = datetime.now()\n",
    "\n",
    "elapsed = today- m_day\n",
    "\n",
    "print(elapsed.days, elapsed.seconds, elapsed.microseconds)# day, seconds, ms 출력\n",
    "\n",
    "elapsed_day   = elapsed.days\n",
    "elapsed_month = elapsed_day / 30\n",
    "elapsed_year  = elapsed_day / 365\n",
    "\n",
    "print('러블리~ 우리 함께한지 벌써 {e_dd}일이나 지났고, 월수는 {e_mm}개월, 년수는 {e_yy}년이 지났네~!!'.format(\n",
    "    e_dd = elapsed_day,\n",
    "    e_mm = int(elapsed_month),\n",
    "    e_yy = int(elapsed_year)\n",
    "))"
   ]
  },
  {
   "cell_type": "markdown",
   "metadata": {},
   "source": [
    "- 기념일 계산기\n"
   ]
  },
  {
   "cell_type": "code",
   "execution_count": 9,
   "metadata": {},
   "outputs": [
    {
     "name": "stdout",
     "output_type": "stream",
     "text": [
      "['7', '9', ',', '9', '8', '9']\n",
      "오늘은 \"기념일\"로부터 79,989일 경과되었고, 달 수로는 2667개월째, 연 수로는 112년째 되었습니다!!\n"
     ]
    }
   ],
   "source": [
    "from datetime import datetime, timedelta, date\n",
    "\n",
    "def getMemorialDay(year, month, day, mem_day = '기념일', is_msg = True):\n",
    "    today = date.today()\n",
    "    set_day = date(year, month, day)\n",
    "    diff = today - set_day  #datetime.timedelta 형\n",
    "    diff_day = diff.days\n",
    "    diff_day_str = str(diff_day)\n",
    "    \n",
    "    if len(diff_day_str) >= 4:\n",
    "        diff_day_str = list(diff_day_str)\n",
    "        diff_day_str.insert(len(diff_day_str)%3, ',')\n",
    "    \n",
    "\n",
    "    print(diff_day_str)    \n",
    "    diff_day2 = ''.join(diff_day_str)\n",
    "    diff_month = int(diff_day/30)\n",
    "    diff_year = int(diff_month/24)\n",
    "    print('오늘은 \\\"{0}\\\"로부터 {1}일 경과되었고, 달 수로는 {2}개월째, 연 수로는 {3}년째 되었습니다!!'.format(mem_day,\n",
    "        diff_day2, diff_month+1, diff_year+1))    \n",
    " \n",
    "    \n",
    "getMemorialDay(1800,8,22)"
   ]
  },
  {
   "cell_type": "code",
   "execution_count": null,
   "metadata": {},
   "outputs": [],
   "source": [
    "from datetime import datatime\n"
   ]
  },
  {
   "cell_type": "code",
   "execution_count": 15,
   "metadata": {},
   "outputs": [
    {
     "name": "stdout",
     "output_type": "stream",
     "text": [
      "아무 숫자를 입력하세요123456789\n",
      "123,456,789\n",
      "100,000\n"
     ]
    }
   ],
   "source": [
    "# 숫자를 천단위로 구분\n",
    "num = input('아무 숫자를 입력하세요')\n",
    "\n",
    "if num.isdigit():\n",
    "    num = num[::-1]\n",
    "    ret = ''\n",
    "    for i, c in enumerate(num):\n",
    "        i += 1\n",
    "        if i != len(num) and i % 3 == 0:\n",
    "            ret += (c +',')\n",
    "        else:\n",
    "            ret += c\n",
    "    ret = ret[::-1]\n",
    "    print(ret)\n",
    "else:\n",
    "    print('입력한 내용 [%s]: 숫자가 아닙니다.' %num)\n",
    "    \n",
    "    \n",
    "##format 함수\n",
    "ad = 100000\n",
    "ad = format(ad, ',')\n",
    "print(ad)"
   ]
  },
  {
   "cell_type": "code",
   "execution_count": 11,
   "metadata": {},
   "outputs": [
    {
     "name": "stdout",
     "output_type": "stream",
     "text": [
      "1\n",
      "2\n",
      "3\n",
      "4\n",
      "5\n",
      "6\n",
      "7\n",
      "0 1\n",
      "1 2\n",
      "2 3\n",
      "3 4\n",
      "4 5\n",
      "5 6\n",
      "6 7\n"
     ]
    }
   ],
   "source": [
    "\n",
    "# enumerate : index 활용 가능\n",
    "num = '1234567'\n",
    "\n",
    "for i in num:\n",
    "    print(i)\n",
    "\n",
    "for i, c in enumerate(num):\n",
    "    print(i, c)  # i: index를 받을 수 있음. c: element  => index활용 ㄱ"
   ]
  }
 ],
 "metadata": {
  "kernelspec": {
   "display_name": "Python 3",
   "language": "python",
   "name": "python3"
  },
  "language_info": {
   "codemirror_mode": {
    "name": "ipython",
    "version": 3
   },
   "file_extension": ".py",
   "mimetype": "text/x-python",
   "name": "python",
   "nbconvert_exporter": "python",
   "pygments_lexer": "ipython3",
   "version": "3.7.3"
  }
 },
 "nbformat": 4,
 "nbformat_minor": 2
}
