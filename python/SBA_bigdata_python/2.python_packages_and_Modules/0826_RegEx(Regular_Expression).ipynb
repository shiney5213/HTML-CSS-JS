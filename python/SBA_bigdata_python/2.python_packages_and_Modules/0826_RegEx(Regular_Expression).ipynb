{
 "cells": [
  {
   "cell_type": "markdown",
   "metadata": {},
   "source": [
    "# 정규표현식, RegEx(Regular Expression)\n",
    "\n",
    "## Recular Expression 관련 사이트\n",
    "> Text 정보를 re로 테스트\n",
    "- https://regexr.com\n",
    "- 실제로 정규식이 정확한지 확인 가능\n",
    "\n",
    "\n",
    "> 작성된 re를 다이어그램으로 표현\n",
    "- https://regexper.com\n",
    "- \n",
    "\n",
    "> 오류 파일(로그 파일)에서 오류의 패턴 찾는데 많이 사용\n"
   ]
  },
  {
   "cell_type": "code",
   "execution_count": 1,
   "metadata": {},
   "outputs": [],
   "source": [
    "import re"
   ]
  },
  {
   "cell_type": "markdown",
   "metadata": {},
   "source": [
    "## 정규표현식, 문자열에서 패턴 찾기"
   ]
  },
  {
   "cell_type": "code",
   "execution_count": 2,
   "metadata": {},
   "outputs": [
    {
     "data": {
      "text/plain": [
       "'My id number is [G203_5A]'"
      ]
     },
     "execution_count": 2,
     "metadata": {},
     "output_type": "execute_result"
    }
   ],
   "source": [
    "# 테스트용 문자열 저장\n",
    "text = 'My id number is [G203_5A]'\n",
    "text"
   ]
  },
  {
   "cell_type": "code",
   "execution_count": 3,
   "metadata": {},
   "outputs": [
    {
     "data": {
      "text/plain": [
       "[]"
      ]
     },
     "execution_count": 3,
     "metadata": {},
     "output_type": "execute_result"
    }
   ],
   "source": [
    "# 소문자 찾기\n",
    "result = re.findall('a', text)\n",
    "result"
   ]
  },
  {
   "cell_type": "code",
   "execution_count": 4,
   "metadata": {},
   "outputs": [
    {
     "data": {
      "text/plain": [
       "['A']"
      ]
     },
     "execution_count": 4,
     "metadata": {},
     "output_type": "execute_result"
    }
   ],
   "source": [
    "# 대문자 찾기\n",
    "result = re.findall('A', text)\n",
    "result"
   ]
  },
  {
   "cell_type": "code",
   "execution_count": 5,
   "metadata": {},
   "outputs": [
    {
     "data": {
      "text/plain": [
       "['i', 'i']"
      ]
     },
     "execution_count": 5,
     "metadata": {},
     "output_type": "execute_result"
    }
   ],
   "source": [
    "# 소문자 i찾기\n",
    "result = re.findall('i', text)\n",
    "result"
   ]
  },
  {
   "cell_type": "code",
   "execution_count": 6,
   "metadata": {},
   "outputs": [
    {
     "data": {
      "text/plain": [
       "['d', 'b', 'e']"
      ]
     },
     "execution_count": 6,
     "metadata": {},
     "output_type": "execute_result"
    }
   ],
   "source": [
    "# 연속된 소문자 찾기\n",
    "result = re.findall('[abced]', text)\n",
    "result"
   ]
  },
  {
   "cell_type": "code",
   "execution_count": 7,
   "metadata": {},
   "outputs": [
    {
     "data": {
      "text/plain": [
       "['y', 'i', 'd', 'n', 'u', 'm', 'b', 'e', 'r', 'i', 's']"
      ]
     },
     "execution_count": 7,
     "metadata": {},
     "output_type": "execute_result"
    }
   ],
   "source": [
    "# 소문자 연속해서 찾기\n",
    "result = re.findall('[a-z]', text)\n",
    "result\n",
    "                    "
   ]
  },
  {
   "cell_type": "code",
   "execution_count": 8,
   "metadata": {},
   "outputs": [
    {
     "data": {
      "text/plain": [
       "['M', 'G', 'A']"
      ]
     },
     "execution_count": 8,
     "metadata": {},
     "output_type": "execute_result"
    }
   ],
   "source": [
    "# 대문자 찾기\n",
    "result = re.findall('[A-Z]',text)\n",
    "result"
   ]
  },
  {
   "cell_type": "code",
   "execution_count": 9,
   "metadata": {},
   "outputs": [
    {
     "data": {
      "text/plain": [
       "['2', '0', '3', '5']"
      ]
     },
     "execution_count": 9,
     "metadata": {},
     "output_type": "execute_result"
    }
   ],
   "source": [
    "# 숫자 찾기\n",
    "result = re.findall('[0-9]', text)\n",
    "result"
   ]
  },
  {
   "cell_type": "code",
   "execution_count": 10,
   "metadata": {},
   "outputs": [
    {
     "data": {
      "text/plain": [
       "['y', 'id', 'number', 'is']"
      ]
     },
     "execution_count": 10,
     "metadata": {},
     "output_type": "execute_result"
    }
   ],
   "source": [
    "# 소문자로 시작하는 글자 찾기\n",
    "result = re.findall('[a-z]+', text)\n",
    "result"
   ]
  },
  {
   "cell_type": "code",
   "execution_count": 11,
   "metadata": {},
   "outputs": [
    {
     "data": {
      "text/plain": [
       "['203', '5']"
      ]
     },
     "execution_count": 11,
     "metadata": {},
     "output_type": "execute_result"
    }
   ],
   "source": [
    "# 숫자로 시작하는 단어 찾기\n",
    "result = re.findall('[0-9]+', text)\n",
    "result"
   ]
  },
  {
   "cell_type": "code",
   "execution_count": 12,
   "metadata": {},
   "outputs": [
    {
     "data": {
      "text/plain": [
       "['M',\n",
       " 'y',\n",
       " 'i',\n",
       " 'd',\n",
       " 'n',\n",
       " 'u',\n",
       " 'm',\n",
       " 'b',\n",
       " 'e',\n",
       " 'r',\n",
       " 'i',\n",
       " 's',\n",
       " 'G',\n",
       " '2',\n",
       " '0',\n",
       " '3',\n",
       " '5',\n",
       " 'A']"
      ]
     },
     "execution_count": 12,
     "metadata": {},
     "output_type": "execute_result"
    }
   ],
   "source": [
    "# 영문자 및 숫자 찾기\n",
    "result = re.findall('[a-zA-Z0-9]', text)\n",
    "result\n"
   ]
  },
  {
   "cell_type": "code",
   "execution_count": 13,
   "metadata": {},
   "outputs": [
    {
     "data": {
      "text/plain": [
       "['My', 'id', 'number', 'is', 'G203', '5A']"
      ]
     },
     "execution_count": 13,
     "metadata": {},
     "output_type": "execute_result"
    }
   ],
   "source": [
    "# 연속된 영문자 및 숫자 찾기\n",
    "result = re.findall('[a-zA-Z0-9]+', text)\n",
    "result"
   ]
  },
  {
   "cell_type": "code",
   "execution_count": 14,
   "metadata": {},
   "outputs": [
    {
     "data": {
      "text/plain": [
       "[' ', ' ', ' ', ' ', '[', '_', ']']"
      ]
     },
     "execution_count": 14,
     "metadata": {},
     "output_type": "execute_result"
    }
   ],
   "source": [
    "# 영문자/숫자 아닌 문자 찾기-> 특수 문자 : ^이용\n",
    "result = re.findall('[^a-zA-Z0-9]', text)\n",
    "result"
   ]
  },
  {
   "cell_type": "code",
   "execution_count": 15,
   "metadata": {},
   "outputs": [
    {
     "data": {
      "text/plain": [
       "['M',\n",
       " 'y',\n",
       " 'i',\n",
       " 'd',\n",
       " 'n',\n",
       " 'u',\n",
       " 'm',\n",
       " 'b',\n",
       " 'e',\n",
       " 'r',\n",
       " 'i',\n",
       " 's',\n",
       " 'G',\n",
       " '2',\n",
       " '0',\n",
       " '3',\n",
       " '_',\n",
       " '5',\n",
       " 'A']"
      ]
     },
     "execution_count": 15,
     "metadata": {},
     "output_type": "execute_result"
    }
   ],
   "source": [
    "# 영문자 및 '_' 특수기호 찾기\n",
    "result = re.findall('[\\w]', text)\n",
    "result"
   ]
  },
  {
   "cell_type": "code",
   "execution_count": 16,
   "metadata": {},
   "outputs": [
    {
     "data": {
      "text/plain": [
       "['My', 'id', 'number', 'is', 'G203_5A']"
      ]
     },
     "execution_count": 16,
     "metadata": {},
     "output_type": "execute_result"
    }
   ],
   "source": [
    "# 영문자 및 '_' 특수기호로 시작하는 글자 찾기\n",
    "result = re.findall('[\\w]+', text)\n",
    "result"
   ]
  },
  {
   "cell_type": "code",
   "execution_count": 17,
   "metadata": {},
   "outputs": [
    {
     "data": {
      "text/plain": [
       "[' ', ' ', ' ', ' ', '[', ']']"
      ]
     },
     "execution_count": 17,
     "metadata": {},
     "output_type": "execute_result"
    }
   ],
   "source": [
    "# 영문자 및 '_' 특수기호 아닌 문자 찾기\n",
    "result = re.findall('[\\W]', text)   # \\w: a-zA-Z0-9\n",
    "result"
   ]
  },
  {
   "cell_type": "code",
   "execution_count": 18,
   "metadata": {},
   "outputs": [
    {
     "data": {
      "text/plain": [
       "[' ', ' ', ' ', ' ', '[', ']']"
      ]
     },
     "execution_count": 18,
     "metadata": {},
     "output_type": "execute_result"
    }
   ],
   "source": [
    "# 영문자 및 '_' 특수기호 아닌 문자 찾기\n",
    "result = re.findall('[^\\w]', text)   # \\w: a-zA-Z0-9\n",
    "result"
   ]
  },
  {
   "cell_type": "markdown",
   "metadata": {},
   "source": [
    "## 문자열에서 특정 이름 찾아내기\n",
    "\n",
    "> 자주사용하는 정규표현식\n",
    "\n",
    "- \\w ( 1 char ): 한 글자\n",
    "- \\w + : 여러 글자\n",
    "\n",
    "- \\d ( 1 decimal ) : 숫자 하나\n",
    "- \\s ( 1 space ) : 공백 하나\n",
    "\n",
    "- \\+ ( 1, ..., N ): (1...N): 자리수\n",
    "- ? ( 0, 1 ) : 있어도 되고, 없어도 되고\n",
    "- \\* ( 0, 1, .. N ): 업거나 전부 가져오거나\n",
    "\n",
    "- \\d{N} ( 숫자가 N개 나온다. ) : N - 숫자가 3자리\n",
    "- \\d{N,M} ( 숫자가 N~M개 나온다 )"
   ]
  },
  {
   "cell_type": "code",
   "execution_count": 19,
   "metadata": {},
   "outputs": [],
   "source": [
    "text = \"\"\"\n",
    "옛날 옛적에 김진수라는 사람이 살았습니다.\n",
    "그에게는 5형제가 있었는데, 김진수, 김진구, 김진용, 김진태, 김진욱 이렇게 5명 있었습니다.\n",
    "그리고 그는 결혼을 해서 김찬영, 김준영, 김채영 3남매를 낳고 행복하게 잘 살았습니다.\n",
    "\"\"\"\n",
    "# 형제 : 김진O\n",
    "# 자녀 : 김O영"
   ]
  },
  {
   "cell_type": "code",
   "execution_count": 20,
   "metadata": {},
   "outputs": [
    {
     "data": {
      "text/plain": [
       "['김진수', '김진수', '김진구', '김진용', '김진태', '김진욱']"
      ]
     },
     "execution_count": 20,
     "metadata": {},
     "output_type": "execute_result"
    }
   ],
   "source": [
    "pattern = re.compile('김진\\w')\n",
    "brother = pattern.findall(text)\n",
    "brother"
   ]
  },
  {
   "cell_type": "code",
   "execution_count": 21,
   "metadata": {},
   "outputs": [
    {
     "data": {
      "text/plain": [
       "['김찬영', '김준영', '김채영']"
      ]
     },
     "execution_count": 21,
     "metadata": {},
     "output_type": "execute_result"
    }
   ],
   "source": [
    "pattern = re.compile(\"김.영\")\n",
    "pattern = re.compile('김\\w영')  # 둘다 가능\n",
    "children = pattern.findall(text)\n",
    "children"
   ]
  },
  {
   "cell_type": "code",
   "execution_count": 22,
   "metadata": {},
   "outputs": [
    {
     "data": {
      "text/plain": [
       "{'김진구', '김진수', '김진용', '김진욱', '김진태'}"
      ]
     },
     "execution_count": 22,
     "metadata": {},
     "output_type": "execute_result"
    }
   ],
   "source": [
    "brother = set(brother)\n",
    "\n",
    "brother"
   ]
  },
  {
   "cell_type": "markdown",
   "metadata": {},
   "source": [
    "## 핸드폰 번호에 대한 파싱\n",
    "\n",
    "- 010-5670-3847\n",
    "- 010-오륙칠공-3847\n",
    "- 공일빵 5670 3팔4칠\n",
    "- cf. 0.5% 정도는 저런사람 있쥐요~\n",
    "\n"
   ]
  },
  {
   "cell_type": "code",
   "execution_count": 23,
   "metadata": {},
   "outputs": [],
   "source": [
    "# ...fly -> dragonfly, butterfly"
   ]
  },
  {
   "cell_type": "code",
   "execution_count": 24,
   "metadata": {},
   "outputs": [],
   "source": [
    "text = \"A sky, a dragonfly and a butterfly!!!!!!!\""
   ]
  },
  {
   "cell_type": "code",
   "execution_count": 25,
   "metadata": {},
   "outputs": [
    {
     "data": {
      "text/plain": [
       "['dragonfly', 'butterfly']"
      ]
     },
     "execution_count": 25,
     "metadata": {},
     "output_type": "execute_result"
    }
   ],
   "source": [
    "pattern = re.compile('\\w+fly')\n",
    "pattern.findall(text)"
   ]
  },
  {
   "cell_type": "code",
   "execution_count": 26,
   "metadata": {},
   "outputs": [],
   "source": [
    "text = \"\"\"\n",
    "    010-5670-3847   # space, -, . => []\n",
    "    010 5670 3847\n",
    "    010.5670 3847\n",
    "\"\"\""
   ]
  },
  {
   "cell_type": "code",
   "execution_count": 27,
   "metadata": {},
   "outputs": [],
   "source": [
    "pattern = re.compile(\"\\d{3}[ -.]?\\d{4}[ -.]?\\d{4}\")\n",
    "\n",
    "# ? : 바로 앞의 내용이 없거나 있거나 상관 없음."
   ]
  },
  {
   "cell_type": "code",
   "execution_count": 28,
   "metadata": {},
   "outputs": [
    {
     "data": {
      "text/plain": [
       "['010-5670-3847', '010 5670 3847', '010.5670 3847']"
      ]
     },
     "execution_count": 28,
     "metadata": {},
     "output_type": "execute_result"
    }
   ],
   "source": [
    "pattern.findall(text)"
   ]
  },
  {
   "cell_type": "code",
   "execution_count": 29,
   "metadata": {},
   "outputs": [],
   "source": [
    "text = \"\"\"\n",
    "    010-5670-3847   # space, -, . => []\n",
    "    옛날에는 011-1052-3847 이랬는데..\n",
    "    010 5670 3847\n",
    "    010.-5670 3847\n",
    "    사는동네가 자이아파트 516동512호\n",
    "    그리구, 사무실번호는 02-360-4047이고\n",
    "    우편번호는 100-791, 청파로 463번지\n",
    "    \n",
    "\"\"\""
   ]
  },
  {
   "cell_type": "code",
   "execution_count": 30,
   "metadata": {},
   "outputs": [],
   "source": [
    "pattern = re.compile(\"\\d{2,3}[ -\\.]?\\d{3,4}[ -\\.]?\\d{4}\")"
   ]
  },
  {
   "cell_type": "code",
   "execution_count": 31,
   "metadata": {},
   "outputs": [
    {
     "data": {
      "text/plain": [
       "['010-5670-3847', '011-1052-3847', '010 5670 3847', '02-360-4047']"
      ]
     },
     "execution_count": 31,
     "metadata": {},
     "output_type": "execute_result"
    }
   ],
   "source": [
    "pattern.findall(text)"
   ]
  },
  {
   "cell_type": "markdown",
   "metadata": {},
   "source": [
    ">주민등록번호에 대한 파싱\n",
    "\n",
    "- 주민등록번호 : 숫자 6자리 - 숫자 7자리\n",
    "- 데이터에서 주민등록번호만 찾아서, 뒷자리를 암호화(***)"
   ]
  },
  {
   "cell_type": "code",
   "execution_count": 32,
   "metadata": {},
   "outputs": [],
   "source": [
    "text = \"\"\"\n",
    "    김찬영 020822-3069110\n",
    "    김준영 040825-3069115\n",
    "    김채영 110715-4063111\n",
    "\"\"\""
   ]
  },
  {
   "cell_type": "code",
   "execution_count": 33,
   "metadata": {},
   "outputs": [],
   "source": [
    "pattern = re.compile('\\d{6}-?\\d{7}')"
   ]
  },
  {
   "cell_type": "code",
   "execution_count": 34,
   "metadata": {},
   "outputs": [
    {
     "data": {
      "text/plain": [
       "['020822-3069110', '040825-3069115', '110715-4063111']"
      ]
     },
     "execution_count": 34,
     "metadata": {},
     "output_type": "execute_result"
    }
   ],
   "source": [
    "pattern.findall(text)"
   ]
  },
  {
   "cell_type": "code",
   "execution_count": 35,
   "metadata": {},
   "outputs": [
    {
     "data": {
      "text/plain": [
       "[('020822', '3069110'), ('040825', '3069115'), ('110715', '4063111')]"
      ]
     },
     "execution_count": 35,
     "metadata": {},
     "output_type": "execute_result"
    }
   ],
   "source": [
    "# 정규식 표현 froup\n",
    "# 1. 생년월일 그룹: <bitrh>\n",
    "# 2. 주민등록번호 뒷자리 그룹<secret>\n",
    "\n",
    "\n",
    "\n",
    "# 그룹 만들 때: ?P, 사용할 때: ?g\n",
    "pattern = re.compile(\"(?P<birth>\\d{6})-(?P<secret>\\d{7})\")\n",
    "# <> 뒤에 있는 숫자 6개를 <birth>로 그룹화\n",
    "pattern.findall(text)"
   ]
  },
  {
   "cell_type": "code",
   "execution_count": 36,
   "metadata": {},
   "outputs": [
    {
     "name": "stdout",
     "output_type": "stream",
     "text": [
      "\n",
      "    김찬영 020822-*******\n",
      "    김준영 040825-*******\n",
      "    김채영 110715-*******\n",
      "\n"
     ]
    }
   ],
   "source": [
    "result = pattern.sub('\\g<birth>-*******', text)\n",
    "print(result)"
   ]
  },
  {
   "cell_type": "code",
   "execution_count": 37,
   "metadata": {},
   "outputs": [
    {
     "data": {
      "text/plain": [
       "[('김찬영', '020822', '3069110'),\n",
       " ('김준영', '040825', '3069115'),\n",
       " ('김채영', '110715', '4063111')]"
      ]
     },
     "execution_count": 37,
     "metadata": {},
     "output_type": "execute_result"
    }
   ],
   "source": [
    "pattern = re.compile(\"(?P<name>\\w{3}) (?P<birth>\\d{6})-(?P<secret>\\d{7})\")\n",
    "pattern.findall(text)"
   ]
  },
  {
   "cell_type": "code",
   "execution_count": 38,
   "metadata": {},
   "outputs": [
    {
     "name": "stdout",
     "output_type": "stream",
     "text": [
      "\n",
      "    김찬영 020822-3069110\n",
      "    김준영 040825-3069115\n",
      "    김채영 110715-4063111\n",
      "\n"
     ]
    }
   ],
   "source": [
    "print(text)"
   ]
  },
  {
   "cell_type": "code",
   "execution_count": 39,
   "metadata": {},
   "outputs": [
    {
     "name": "stdout",
     "output_type": "stream",
     "text": [
      "\n",
      "    김찬영(020822-*******)\n",
      "    김준영(040825-*******)\n",
      "    김채영(110715-*******)\n",
      "\n"
     ]
    }
   ],
   "source": [
    "result = pattern.sub(\"\\g<name>(\\g<birth>-*******)\", text)\n",
    "print(result)"
   ]
  },
  {
   "cell_type": "code",
   "execution_count": 40,
   "metadata": {},
   "outputs": [
    {
     "name": "stdout",
     "output_type": "stream",
     "text": [
      "\n",
      "    김찬영(020822-*******)\n",
      "    김준영(040825-*******)\n",
      "    김채영(110715-*******)\n",
      "\n"
     ]
    }
   ],
   "source": [
    "result = pattern.sub(\"\\g<name>(\\g<birth>-*******)\", text)\n",
    "print(result)"
   ]
  },
  {
   "cell_type": "code",
   "execution_count": 41,
   "metadata": {},
   "outputs": [
    {
     "data": {
      "text/plain": [
       "['',\n",
       " '    김찬영(020822-*******)',\n",
       " '    김준영(040825-*******)',\n",
       " '    김채영(110715-*******)',\n",
       " '']"
      ]
     },
     "execution_count": 41,
     "metadata": {},
     "output_type": "execute_result"
    }
   ],
   "source": [
    "result = result.split('\\n')\n",
    "result"
   ]
  },
  {
   "cell_type": "code",
   "execution_count": 42,
   "metadata": {},
   "outputs": [
    {
     "data": {
      "text/plain": [
       "['    김찬영(020822-*******)',\n",
       " '    김준영(040825-*******)',\n",
       " '    김채영(110715-*******)',\n",
       " '']"
      ]
     },
     "execution_count": 42,
     "metadata": {},
     "output_type": "execute_result"
    }
   ],
   "source": [
    "result.pop(0)\n",
    "result"
   ]
  },
  {
   "cell_type": "code",
   "execution_count": 43,
   "metadata": {},
   "outputs": [
    {
     "data": {
      "text/plain": [
       "['    김찬영(020822-*******)',\n",
       " '    김준영(040825-*******)',\n",
       " '    김채영(110715-*******)']"
      ]
     },
     "execution_count": 43,
     "metadata": {},
     "output_type": "execute_result"
    }
   ],
   "source": [
    "result.pop(-1)\n",
    "result"
   ]
  },
  {
   "cell_type": "code",
   "execution_count": 44,
   "metadata": {},
   "outputs": [
    {
     "name": "stdout",
     "output_type": "stream",
     "text": [
      "0 김찬영(020822-*******)\n",
      "1 김준영(040825-*******)\n",
      "2 김채영(110715-*******)\n"
     ]
    }
   ],
   "source": [
    "for idx, val in enumerate(result):\n",
    "    val = val.replace(\" \", \"\")\n",
    "    print(idx, val)"
   ]
  },
  {
   "cell_type": "markdown",
   "metadata": {},
   "source": [
    "## Quiz\n",
    "\n",
    "> 이메일에 대한 파싱\n",
    "- e-mail Pattern : ID + @ + URL\n",
    "- 이메일을 추출하여 이메일 리스트 파일로 저장    "
   ]
  },
  {
   "cell_type": "code",
   "execution_count": 45,
   "metadata": {},
   "outputs": [],
   "source": [
    "with open('sample_emails.txt', encoding = 'utf-8') as fp:\n",
    "    text = fp.read()"
   ]
  },
  {
   "cell_type": "code",
   "execution_count": 46,
   "metadata": {},
   "outputs": [
    {
     "data": {
      "text/plain": [
       "[]"
      ]
     },
     "execution_count": 46,
     "metadata": {},
     "output_type": "execute_result"
    }
   ],
   "source": [
    "pattern = re.compile(\"(?P<id>\\w+@) (?P<url>[\\@]+\\w+ )\")\n",
    "\n",
    "pattern.findall(text)"
   ]
  },
  {
   "cell_type": "code",
   "execution_count": 92,
   "metadata": {},
   "outputs": [],
   "source": [
    "def email_check(email):\n",
    "    regex = '([a_zA-Z0-9_.+-]+@[a-zA-Z0-9-]+\\.[a-zA-Z0-9-.]+)'\n",
    "    #regex = '\\w+@\\w+\\.\\w+'\n",
    "    #regex = '[\\w\\.]+@|w+W.[\\w|.]+'\n",
    "    print('email:', email)\n",
    "    pattern = re.compile(email)\n",
    "    result = pattern.findall(email)\n",
    "    print(result)\n",
    "    \n",
    "    if len(result):\n",
    "        is_valid = True\n",
    "        res_msg = '이메일 형식입니다'\n",
    "    else:\n",
    "        is_valid = True\n",
    "        res_msg = '이메일 형식이 아닙니다 ㅠ'\n",
    "    return is_valid, res_msg"
   ]
  },
  {
   "cell_type": "code",
   "execution_count": 93,
   "metadata": {},
   "outputs": [
    {
     "name": "stdout",
     "output_type": "stream",
     "text": [
      "email: Abedin@State.gov\n",
      "['Abedin@State.gov']\n"
     ]
    },
    {
     "data": {
      "text/plain": [
       "'이메일 형식입니다'"
      ]
     },
     "execution_count": 93,
     "metadata": {},
     "output_type": "execute_result"
    }
   ],
   "source": [
    "email = 'Abedin@State.gov'\n",
    "\n",
    "if_valid, res_msg = email_check(email)\n",
    "res_msg"
   ]
  },
  {
   "cell_type": "code",
   "execution_count": 65,
   "metadata": {},
   "outputs": [],
   "source": [
    "# 파일 불러오기\n",
    "with open('./data/sample_emails.txt', encoding = 'utf-8') as fp:\n",
    "    text = fp.read()"
   ]
  },
  {
   "cell_type": "code",
   "execution_count": 66,
   "metadata": {},
   "outputs": [
    {
     "data": {
      "text/plain": [
       "(628571,\n",
       " 'Id\\tDocNumber\\tMetadataSubject\\tMetadataTo\\tMetadataFrom\\tSenderPersonId\\tMetadataDateSent\\tMetadataDateReleased\\tMetadataPdfLink\\tMetadataCaseNumber\\tMetadataDocumentClass\\tExtractedSubject\\tExtractedTo\\tExtractedFrom\\tExtractedCc\\tExtractedDateSent\\tExtractedCaseNumber\\tExtractedDocNumber\\tExtractedDateReleased\\tExtractedReleaseInPartOrFull\\tExtractedBodyText\\tRawText\\t\\t\\t\\t\\t\\t\\n1\\tC05739545\\tWOW\\tH\\t\"Sullivan, Jacob J\"\\t87\\t2012-09-12T04:00:00+00:00\\t2015-05-22T04:00:00+00:00\\tDOCUMENTS/HRC_Email_1_296/HRCH2/DOC_0C05739545/C05739545.pdf\\tF-2015-04841\\tHRC_Email_296\\tFW: Wow\\t\\t\"Sullivan, Jacob J <Sullivan11@state.gov>\"\\t\\t\"Wednesday, September 12, 2012 10:16 AM\"\\tF-2015-04841\\tC05739545\\t05/13/2015\\tRELEASE IN FULL\\t\\t\"UNCLASSIFIED\\nU.S. Department of State\\nCase No. F-2015-04841\\nDoc No. C05739545\\nDate: 05/13/2015\\nSTATE DEPT. - PRODUCED TO HOUSE SELECT BENGHAZI COMM.\\nSUBJECT TO AGREEMENT ON SENSITIVE INFORMATION & REDACTIONS. NO FOIA WAIVER.\\nRELEASE IN FULL\\nFrom: Sullivan, Jacob J <Sullivan11@state.gov>\\nSent: Wednesday, September ')"
      ]
     },
     "execution_count": 66,
     "metadata": {},
     "output_type": "execute_result"
    }
   ],
   "source": [
    "len(text), text[:1000]"
   ]
  },
  {
   "cell_type": "code",
   "execution_count": 67,
   "metadata": {},
   "outputs": [],
   "source": [
    "regex = '\\w+@\\w+\\.\\w+'\n",
    "regex = '[\\w\\.]+@\\w+\\.[\\w\\.]+'\n",
    "pattern = re.compile(regex)"
   ]
  },
  {
   "cell_type": "code",
   "execution_count": 69,
   "metadata": {},
   "outputs": [
    {
     "data": {
      "text/plain": [
       "189"
      ]
     },
     "execution_count": 69,
     "metadata": {},
     "output_type": "execute_result"
    }
   ],
   "source": [
    "result = pattern.findall(text)\n",
    "len(result)"
   ]
  },
  {
   "cell_type": "code",
   "execution_count": 71,
   "metadata": {},
   "outputs": [
    {
     "data": {
      "text/plain": [
       "61"
      ]
     },
     "execution_count": 71,
     "metadata": {},
     "output_type": "execute_result"
    }
   ],
   "source": [
    "result = sorted(set(result))\n",
    "len(result)"
   ]
  },
  {
   "cell_type": "code",
   "execution_count": 90,
   "metadata": {},
   "outputs": [],
   "source": [
    "def getEmailList(filename):\n",
    "    fp = open(filename, encoding='utf-8')\n",
    "    text = fp.read()\n",
    "    fp.close()\n",
    "    \n",
    "    regex = '[\\w\\.]+@\\w+\\.[\\w\\.]+'\n",
    "    pattern = re.compile(regex)\n",
    "    result = pattern.findall(text)\n",
    "    result = sorted(set(result))\n",
    "    email_cnt = len(result)\n",
    "    print(email_cnt)\n",
    "\n",
    "    valid_email_end = ['end','goc','co.kr','net']\n",
    "    \n",
    "    if email_cnt > 0:\n",
    "        ret_msg = ' {}건의 이메일이 수집되었습니다'.format(email_cnt)\n",
    "        \n",
    "        #저장\n",
    "        email_list = ''\n",
    "        for each in result:\n",
    "            email_list += each + '\\n'\n",
    "            \n",
    "        fp = open('./data/mail_list.txt','w',encoding = 'utf-8')\n",
    "        fp.write(email_list)\n",
    "        fp.close()\n",
    "    else:\n",
    "        ret_msg = '이메일을 수집하지 못하였습니다.'\n",
    "        \n",
    "    return ret_msg\n",
    "              "
   ]
  },
  {
   "cell_type": "code",
   "execution_count": 91,
   "metadata": {},
   "outputs": [
    {
     "name": "stdout",
     "output_type": "stream",
     "text": [
      "61\n"
     ]
    },
    {
     "data": {
      "text/plain": [
       "' 61건의 이메일이 수집되었습니다'"
      ]
     },
     "execution_count": 91,
     "metadata": {},
     "output_type": "execute_result"
    }
   ],
   "source": [
    "filename = './data/sample_emails.txt'\n",
    "getEmailList(filename)"
   ]
  },
  {
   "cell_type": "code",
   "execution_count": null,
   "metadata": {},
   "outputs": [],
   "source": []
  }
 ],
 "metadata": {
  "kernelspec": {
   "display_name": "Python 3",
   "language": "python",
   "name": "python3"
  },
  "language_info": {
   "codemirror_mode": {
    "name": "ipython",
    "version": 3
   },
   "file_extension": ".py",
   "mimetype": "text/x-python",
   "name": "python",
   "nbconvert_exporter": "python",
   "pygments_lexer": "ipython3",
   "version": "3.7.3"
  }
 },
 "nbformat": 4,
 "nbformat_minor": 2
}
