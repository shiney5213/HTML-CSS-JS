{
 "cells": [
  {
   "cell_type": "markdown",
   "metadata": {},
   "source": [
    "#Python Review: 함수 2\n",
    "\n",
    "## 기본 함수"
   ]
  },
  {
   "cell_type": "code",
   "execution_count": 1,
   "metadata": {},
   "outputs": [
    {
     "name": "stdout",
     "output_type": "stream",
     "text": [
      "양수다\n"
     ]
    }
   ],
   "source": [
    "a = 30\n",
    "if a > 0:\n",
    "    print('양수다')\n",
    "else:\n",
    "    if a == 0:\n",
    "        print('0이다')\n",
    "    else:\n",
    "        print('음수다')"
   ]
  },
  {
   "cell_type": "code",
   "execution_count": 2,
   "metadata": {},
   "outputs": [
    {
     "name": "stdout",
     "output_type": "stream",
     "text": [
      "양수다\n"
     ]
    }
   ],
   "source": [
    "a = 30\n",
    "if a > 0:\n",
    "    print('양수다')\n",
    "elif a == 0:\n",
    "    print('0이다')\n",
    "else:\n",
    "    print('음수다')"
   ]
  },
  {
   "cell_type": "code",
   "execution_count": 4,
   "metadata": {},
   "outputs": [
    {
     "data": {
      "text/plain": [
       "200"
      ]
     },
     "execution_count": 4,
     "metadata": {},
     "output_type": "execute_result"
    }
   ],
   "source": [
    "def double(x):\n",
    "    return x * 2\n",
    "    \n",
    "double(100)"
   ]
  },
  {
   "cell_type": "code",
   "execution_count": 5,
   "metadata": {},
   "outputs": [
    {
     "data": {
      "text/plain": [
       "30"
      ]
     },
     "execution_count": 5,
     "metadata": {},
     "output_type": "execute_result"
    }
   ],
   "source": [
    "def add(a, b):\n",
    "    return a + b\n",
    "\n",
    "add(10, 20)"
   ]
  },
  {
   "cell_type": "markdown",
   "metadata": {},
   "source": [
    "## 함수 리팩토링\n",
    "\n",
    "### 리팩토링: 함수를 좀 더 보기 편하고, 사용하기 편하게 수정하는 것\n",
    "\n",
    "### packing:  함수에서 인자로 *args, **kwargs 사용\n",
    "### umpacking: 함수를 사용할 때 인자에 * 사용하는 것.\n",
    "\n",
    "- add0, add1 : 더하기 함수\n",
    "- add2  : default c = 0\n",
    "- add3 : 리스트로 변환\n",
    "- add4 : #args 이용"
   ]
  },
  {
   "cell_type": "code",
   "execution_count": 6,
   "metadata": {},
   "outputs": [
    {
     "data": {
      "text/plain": [
       "60"
      ]
     },
     "execution_count": 6,
     "metadata": {},
     "output_type": "execute_result"
    }
   ],
   "source": [
    "# 일반적으로 두개를 다 되게 하려면 둘 다 정의\n",
    "def add0(a, b):\n",
    "    return a + b\n",
    "\n",
    "def add1(a, b, c):\n",
    "    return a + b + c\n",
    "\n",
    "add1(10, 20)\n",
    "add2(10, 20, 30)"
   ]
  },
  {
   "cell_type": "code",
   "execution_count": 7,
   "metadata": {},
   "outputs": [
    {
     "data": {
      "text/plain": [
       "30"
      ]
     },
     "execution_count": 7,
     "metadata": {},
     "output_type": "execute_result"
    }
   ],
   "source": [
    "# 2개 혹은 3개의 숫자 더하기\n",
    "def add2(a, b, c = 0):\n",
    "    return a + b + c\n",
    "\n",
    "add2(10, 20)"
   ]
  },
  {
   "cell_type": "code",
   "execution_count": 13,
   "metadata": {},
   "outputs": [
    {
     "name": "stdout",
     "output_type": "stream",
     "text": [
      "100\n",
      "100\n"
     ]
    }
   ],
   "source": [
    "# list로 더하기\n",
    "def add3 (numbers):\n",
    "    sum = 0\n",
    "    for num in numbers:\n",
    "        sum += num\n",
    "        \n",
    "    return sum\n",
    "\n",
    "print(add3([10, 20, 30, 40]))  # 리스트 가능\n",
    "print(add3((10, 20, 30, 40)))  # 리스트 가능\n"
   ]
  },
  {
   "cell_type": "code",
   "execution_count": 14,
   "metadata": {},
   "outputs": [
    {
     "data": {
      "text/plain": [
       "100"
      ]
     },
     "execution_count": 14,
     "metadata": {},
     "output_type": "execute_result"
    }
   ],
   "source": [
    "# *args 이용\n",
    "def add4(*numbers):\n",
    "    sum = 0\n",
    "    for num in numbers:\n",
    "        sum += num\n",
    "        \n",
    "    return sum\n",
    "\n",
    "add4(10,20,30,40)"
   ]
  },
  {
   "cell_type": "code",
   "execution_count": 17,
   "metadata": {},
   "outputs": [
    {
     "data": {
      "text/plain": [
       "30"
      ]
     },
     "execution_count": 17,
     "metadata": {},
     "output_type": "execute_result"
    }
   ],
   "source": [
    "def add(a, b):\n",
    "    return a + b\n",
    "\n",
    "data = (10, 20)\n",
    "add(*data)  # unpacking: 튜플을 풀지 않고, 사용 가능"
   ]
  },
  {
   "cell_type": "code",
   "execution_count": 18,
   "metadata": {},
   "outputs": [
    {
     "data": {
      "text/plain": [
       "150"
      ]
     },
     "execution_count": 18,
     "metadata": {},
     "output_type": "execute_result"
    }
   ],
   "source": [
    "data = 10,20,30,40,50\n",
    "add4(*data)"
   ]
  },
  {
   "cell_type": "code",
   "execution_count": 20,
   "metadata": {},
   "outputs": [
    {
     "data": {
      "text/plain": [
       "'김진수님, 안녕하세요'"
      ]
     },
     "execution_count": 20,
     "metadata": {},
     "output_type": "execute_result"
    }
   ],
   "source": [
    "# *args\n",
    "# **kvargs\n",
    "\n",
    "def introduce(name, greeting):\n",
    "    return \"{name}님, {greeting}\".format(\n",
    "        name=name,\n",
    "        greeting=greeting,\n",
    "    )\n",
    "\n",
    "introduce_dict = {\n",
    "    \"name\" : \"김진수\",\n",
    "    \"greeting\" : \"안녕하세요\",\n",
    "}\n",
    "\n",
    "introduce(**introduce_dict)"
   ]
  },
  {
   "cell_type": "code",
   "execution_count": null,
   "metadata": {},
   "outputs": [],
   "source": []
  }
 ],
 "metadata": {
  "kernelspec": {
   "display_name": "Python 3",
   "language": "python",
   "name": "python3"
  },
  "language_info": {
   "codemirror_mode": {
    "name": "ipython",
    "version": 3
   },
   "file_extension": ".py",
   "mimetype": "text/x-python",
   "name": "python",
   "nbconvert_exporter": "python",
   "pygments_lexer": "ipython3",
   "version": "3.7.3"
  }
 },
 "nbformat": 4,
 "nbformat_minor": 2
}
