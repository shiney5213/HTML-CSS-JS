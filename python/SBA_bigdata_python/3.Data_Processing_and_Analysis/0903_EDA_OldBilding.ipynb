{
 "cells": [
  {
   "cell_type": "markdown",
   "metadata": {},
   "source": [
    "# 공공 데이터 활용\n",
    "\n",
    "## 30년 이상 노후화된 공공기설물 현황(공동주택 제외)\n",
    "- [공공시설물] 한국시설안전공단 30년이상 노후화된 공공시설물현황\n",
    "- https://www.data.go.kr/dataset/15017291/fileData.do\n",
    "\n",
    "> 데이터분석 미션\n",
    "- 과제1 : 설립년도별 시설물준공 데이터분석\n",
    "- 과제2 : 광역시도별 시설물준공 데이터분석\n",
    "- 과제3 : 분석한 데이터를 원페이지 리포트형태로 출력\n"
   ]
  },
  {
   "cell_type": "code",
   "execution_count": 1,
   "metadata": {},
   "outputs": [],
   "source": [
    "import platform\n",
    "\n",
    "import numpy as np\n",
    "import pandas as pd\n",
    "import matplotlib.pyplot as plt\n",
    "\n",
    "from matplotlib import font_manager, rc\n",
    "font_name = font_manager.FontProperties(fname=\"c:/Windows/Fonts/malgun.ttf\").get_name()\n",
    "rc('font', family=font_name)\n",
    "\n",
    "%matplotlib inline\n",
    "plt.rcParams[\"figure.figsize\"] = [12,6]"
   ]
  },
  {
   "cell_type": "code",
   "execution_count": 6,
   "metadata": {},
   "outputs": [
    {
     "data": {
      "text/html": [
       "<div>\n",
       "<style scoped>\n",
       "    .dataframe tbody tr th:only-of-type {\n",
       "        vertical-align: middle;\n",
       "    }\n",
       "\n",
       "    .dataframe tbody tr th {\n",
       "        vertical-align: top;\n",
       "    }\n",
       "\n",
       "    .dataframe thead th {\n",
       "        text-align: right;\n",
       "    }\n",
       "</style>\n",
       "<table border=\"1\" class=\"dataframe\">\n",
       "  <thead>\n",
       "    <tr style=\"text-align: right;\">\n",
       "      <th></th>\n",
       "      <th>시설물명</th>\n",
       "      <th>시설물구분</th>\n",
       "      <th>시설물소재지</th>\n",
       "      <th>준공일자</th>\n",
       "    </tr>\n",
       "  </thead>\n",
       "  <tbody>\n",
       "    <tr>\n",
       "      <th>0</th>\n",
       "      <td>부암1동 동부교육청 입구 옹벽</td>\n",
       "      <td>옹벽</td>\n",
       "      <td>부산광역시 부산진구 부암동</td>\n",
       "      <td>19860510</td>\n",
       "    </tr>\n",
       "    <tr>\n",
       "      <th>1</th>\n",
       "      <td>전포천본류 복개구조물</td>\n",
       "      <td>교량</td>\n",
       "      <td>부산광역시 부산진구 부전2동</td>\n",
       "      <td>19801231</td>\n",
       "    </tr>\n",
       "    <tr>\n",
       "      <th>2</th>\n",
       "      <td>부전천본류 복개구조물</td>\n",
       "      <td>교량</td>\n",
       "      <td>부산광역시 부산진구 부전2동</td>\n",
       "      <td>19791231</td>\n",
       "    </tr>\n",
       "    <tr>\n",
       "      <th>3</th>\n",
       "      <td>사당천복개구조물</td>\n",
       "      <td>교량</td>\n",
       "      <td>서울특별시 서초구 방배동</td>\n",
       "      <td>19801231</td>\n",
       "    </tr>\n",
       "    <tr>\n",
       "      <th>4</th>\n",
       "      <td>반포천복개구조물</td>\n",
       "      <td>교량</td>\n",
       "      <td>서울특별시 서초구 서초동</td>\n",
       "      <td>19820929</td>\n",
       "    </tr>\n",
       "    <tr>\n",
       "      <th>5</th>\n",
       "      <td>두구교(구)</td>\n",
       "      <td>교량</td>\n",
       "      <td>부산광역시 금정구 두구동</td>\n",
       "      <td>19660725</td>\n",
       "    </tr>\n",
       "    <tr>\n",
       "      <th>6</th>\n",
       "      <td>진해1부두</td>\n",
       "      <td>항만</td>\n",
       "      <td>경상남도 창원시 진해구 행암동</td>\n",
       "      <td>19700929</td>\n",
       "    </tr>\n",
       "    <tr>\n",
       "      <th>7</th>\n",
       "      <td>호형정수장</td>\n",
       "      <td>상하수도</td>\n",
       "      <td>전라남도 고흥군 고흥읍</td>\n",
       "      <td>19820101</td>\n",
       "    </tr>\n",
       "    <tr>\n",
       "      <th>8</th>\n",
       "      <td>금사정수장</td>\n",
       "      <td>상하수도</td>\n",
       "      <td>전라남도 고흥군 포두면</td>\n",
       "      <td>19790101</td>\n",
       "    </tr>\n",
       "    <tr>\n",
       "      <th>9</th>\n",
       "      <td>신호정수장</td>\n",
       "      <td>상하수도</td>\n",
       "      <td>전라남도 고흥군 도화면</td>\n",
       "      <td>19850101</td>\n",
       "    </tr>\n",
       "  </tbody>\n",
       "</table>\n",
       "</div>"
      ],
      "text/plain": [
       "               시설물명 시설물구분            시설물소재지      준공일자\n",
       "0  부암1동 동부교육청 입구 옹벽    옹벽    부산광역시 부산진구 부암동  19860510\n",
       "1       전포천본류 복개구조물    교량   부산광역시 부산진구 부전2동  19801231\n",
       "2       부전천본류 복개구조물    교량   부산광역시 부산진구 부전2동  19791231\n",
       "3          사당천복개구조물    교량     서울특별시 서초구 방배동  19801231\n",
       "4          반포천복개구조물    교량     서울특별시 서초구 서초동  19820929\n",
       "5            두구교(구)    교량     부산광역시 금정구 두구동  19660725\n",
       "6             진해1부두    항만  경상남도 창원시 진해구 행암동  19700929\n",
       "7             호형정수장  상하수도      전라남도 고흥군 고흥읍  19820101\n",
       "8             금사정수장  상하수도      전라남도 고흥군 포두면  19790101\n",
       "9             신호정수장  상하수도      전라남도 고흥군 도화면  19850101"
      ]
     },
     "execution_count": 6,
     "metadata": {},
     "output_type": "execute_result"
    }
   ],
   "source": [
    "df = pd.read_csv('./data/public_old_buildings_20171016.csv', encoding = 'EUC-KR')\n",
    "df.head(10)\n",
    "\n",
    "# encoding: UTF-8, EUC-KR등 "
   ]
  },
  {
   "cell_type": "code",
   "execution_count": 8,
   "metadata": {},
   "outputs": [
    {
     "name": "stdout",
     "output_type": "stream",
     "text": [
      "<class 'pandas.core.frame.DataFrame'>\n",
      "RangeIndex: 3243 entries, 0 to 3242\n",
      "Data columns (total 4 columns):\n",
      "시설물명      3243 non-null object\n",
      "시설물구분     3243 non-null object\n",
      "시설물소재지    3243 non-null object\n",
      "준공일자      3243 non-null int64\n",
      "dtypes: int64(1), object(3)\n",
      "memory usage: 101.4+ KB\n"
     ]
    }
   ],
   "source": [
    "df.info() \n",
    "# 3242, 4, \n",
    "# non_null, \n",
    "# object -> 문자값\n",
    "# 준공일자 : 숫자 -> 연도별로 잘라야 겠구나"
   ]
  },
  {
   "cell_type": "markdown",
   "metadata": {},
   "source": [
    "##  과제1 : 설립년도별 시설물준공 데이터분석\n",
    "\n",
    "\n",
    "- 준공일자 기준으로 정렬"
   ]
  },
  {
   "cell_type": "code",
   "execution_count": 10,
   "metadata": {},
   "outputs": [
    {
     "data": {
      "text/html": [
       "<div>\n",
       "<style scoped>\n",
       "    .dataframe tbody tr th:only-of-type {\n",
       "        vertical-align: middle;\n",
       "    }\n",
       "\n",
       "    .dataframe tbody tr th {\n",
       "        vertical-align: top;\n",
       "    }\n",
       "\n",
       "    .dataframe thead th {\n",
       "        text-align: right;\n",
       "    }\n",
       "</style>\n",
       "<table border=\"1\" class=\"dataframe\">\n",
       "  <thead>\n",
       "    <tr style=\"text-align: right;\">\n",
       "      <th></th>\n",
       "      <th>시설물명</th>\n",
       "      <th>시설물구분</th>\n",
       "      <th>시설물소재지</th>\n",
       "      <th>준공일자</th>\n",
       "    </tr>\n",
       "  </thead>\n",
       "  <tbody>\n",
       "    <tr>\n",
       "      <th>2011</th>\n",
       "      <td>강정제</td>\n",
       "      <td>하천</td>\n",
       "      <td>대구광역시 달성군 다사읍 죽곡리</td>\n",
       "      <td>19000101</td>\n",
       "    </tr>\n",
       "    <tr>\n",
       "      <th>3010</th>\n",
       "      <td>온천3 우수박스</td>\n",
       "      <td>교량</td>\n",
       "      <td>충청남도 아산시 온천동</td>\n",
       "      <td>19000101</td>\n",
       "    </tr>\n",
       "    <tr>\n",
       "      <th>3011</th>\n",
       "      <td>큐브모텔 인근</td>\n",
       "      <td>교량</td>\n",
       "      <td>충청남도 아산시 온천동</td>\n",
       "      <td>19000101</td>\n",
       "    </tr>\n",
       "    <tr>\n",
       "      <th>3012</th>\n",
       "      <td>배방2 우수박스</td>\n",
       "      <td>교량</td>\n",
       "      <td>충청남도 아산시 배방읍 북수리</td>\n",
       "      <td>19000101</td>\n",
       "    </tr>\n",
       "    <tr>\n",
       "      <th>2021</th>\n",
       "      <td>불로제</td>\n",
       "      <td>하천</td>\n",
       "      <td>대구광역시 동구 불로동</td>\n",
       "      <td>19000101</td>\n",
       "    </tr>\n",
       "    <tr>\n",
       "      <th>3013</th>\n",
       "      <td>배방1 우수박스</td>\n",
       "      <td>교량</td>\n",
       "      <td>충청남도 아산시 배방읍 공수리</td>\n",
       "      <td>19000101</td>\n",
       "    </tr>\n",
       "    <tr>\n",
       "      <th>3014</th>\n",
       "      <td>온천4 우수박스</td>\n",
       "      <td>교량</td>\n",
       "      <td>충청남도 아산시 온천동</td>\n",
       "      <td>19000101</td>\n",
       "    </tr>\n",
       "    <tr>\n",
       "      <th>3015</th>\n",
       "      <td>온천2 우수박스</td>\n",
       "      <td>교량</td>\n",
       "      <td>충청남도 아산시 온천동</td>\n",
       "      <td>19000101</td>\n",
       "    </tr>\n",
       "    <tr>\n",
       "      <th>3016</th>\n",
       "      <td>실옥우수박스</td>\n",
       "      <td>교량</td>\n",
       "      <td>충청남도 아산시 실옥동</td>\n",
       "      <td>19000101</td>\n",
       "    </tr>\n",
       "    <tr>\n",
       "      <th>3017</th>\n",
       "      <td>온천1 우수박스</td>\n",
       "      <td>교량</td>\n",
       "      <td>충청남도 아산시 온천동</td>\n",
       "      <td>19000101</td>\n",
       "    </tr>\n",
       "  </tbody>\n",
       "</table>\n",
       "</div>"
      ],
      "text/plain": [
       "          시설물명 시설물구분             시설물소재지      준공일자\n",
       "2011       강정제    하천  대구광역시 달성군 다사읍 죽곡리  19000101\n",
       "3010  온천3 우수박스    교량       충청남도 아산시 온천동  19000101\n",
       "3011   큐브모텔 인근    교량       충청남도 아산시 온천동  19000101\n",
       "3012  배방2 우수박스    교량   충청남도 아산시 배방읍 북수리  19000101\n",
       "2021       불로제    하천       대구광역시 동구 불로동  19000101\n",
       "3013  배방1 우수박스    교량   충청남도 아산시 배방읍 공수리  19000101\n",
       "3014  온천4 우수박스    교량       충청남도 아산시 온천동  19000101\n",
       "3015  온천2 우수박스    교량       충청남도 아산시 온천동  19000101\n",
       "3016    실옥우수박스    교량       충청남도 아산시 실옥동  19000101\n",
       "3017  온천1 우수박스    교량       충청남도 아산시 온천동  19000101"
      ]
     },
     "execution_count": 10,
     "metadata": {},
     "output_type": "execute_result"
    }
   ],
   "source": [
    "# 값 기준 정렬\n",
    "df.sort_values(by='준공일자', ascending = 1).head(10)\n",
    "\n",
    "# 오름차순: default(1)  => 오래된 건물을 다 19000101 로 처리됨.\n"
   ]
  },
  {
   "cell_type": "code",
   "execution_count": 12,
   "metadata": {},
   "outputs": [
    {
     "data": {
      "text/plain": [
       "Index(['시설물명', '시설물구분', '시설물소재지', '준공일자'], dtype='object')"
      ]
     },
     "execution_count": 12,
     "metadata": {},
     "output_type": "execute_result"
    }
   ],
   "source": [
    "# 컬럼수 확인\n",
    "df.columns"
   ]
  },
  {
   "cell_type": "code",
   "execution_count": 15,
   "metadata": {},
   "outputs": [
    {
     "data": {
      "text/plain": [
       "numpy.int64"
      ]
     },
     "execution_count": 15,
     "metadata": {},
     "output_type": "execute_result"
    }
   ],
   "source": [
    "type(df['준공일자'][0])"
   ]
  },
  {
   "cell_type": "markdown",
   "metadata": {},
   "source": [
    "- 문자열인 준공일자를 date 객체로 변환\n"
   ]
  },
  {
   "cell_type": "code",
   "execution_count": 16,
   "metadata": {},
   "outputs": [],
   "source": [
    "from datetime import datetime"
   ]
  },
  {
   "cell_type": "code",
   "execution_count": 19,
   "metadata": {},
   "outputs": [
    {
     "data": {
      "text/plain": [
       "0   1986-05-10\n",
       "1   1980-12-31\n",
       "2   1979-12-31\n",
       "3   1980-12-31\n",
       "4   1982-09-29\n",
       "Name: 준공일자, dtype: datetime64[ns]"
      ]
     },
     "execution_count": 19,
     "metadata": {},
     "output_type": "execute_result"
    }
   ],
   "source": [
    "# 문자열을 date형식으로 변경\n",
    "df['준공일자'] = pd.to_datetime(df['준공일자'], format = '%Y%m%d')\n",
    "df['준공일자'].head()"
   ]
  },
  {
   "cell_type": "markdown",
   "metadata": {},
   "source": [
    "- 준공일자 컬럼을 인덱스로 지정\n"
   ]
  },
  {
   "cell_type": "code",
   "execution_count": 21,
   "metadata": {},
   "outputs": [
    {
     "data": {
      "text/html": [
       "<div>\n",
       "<style scoped>\n",
       "    .dataframe tbody tr th:only-of-type {\n",
       "        vertical-align: middle;\n",
       "    }\n",
       "\n",
       "    .dataframe tbody tr th {\n",
       "        vertical-align: top;\n",
       "    }\n",
       "\n",
       "    .dataframe thead th {\n",
       "        text-align: right;\n",
       "    }\n",
       "</style>\n",
       "<table border=\"1\" class=\"dataframe\">\n",
       "  <thead>\n",
       "    <tr style=\"text-align: right;\">\n",
       "      <th></th>\n",
       "      <th>시설물명</th>\n",
       "      <th>시설물구분</th>\n",
       "      <th>시설물소재지</th>\n",
       "    </tr>\n",
       "    <tr>\n",
       "      <th>준공일자</th>\n",
       "      <th></th>\n",
       "      <th></th>\n",
       "      <th></th>\n",
       "    </tr>\n",
       "  </thead>\n",
       "  <tbody>\n",
       "    <tr>\n",
       "      <th>1986-05-10</th>\n",
       "      <td>부암1동 동부교육청 입구 옹벽</td>\n",
       "      <td>옹벽</td>\n",
       "      <td>부산광역시 부산진구 부암동</td>\n",
       "    </tr>\n",
       "    <tr>\n",
       "      <th>1980-12-31</th>\n",
       "      <td>전포천본류 복개구조물</td>\n",
       "      <td>교량</td>\n",
       "      <td>부산광역시 부산진구 부전2동</td>\n",
       "    </tr>\n",
       "    <tr>\n",
       "      <th>1979-12-31</th>\n",
       "      <td>부전천본류 복개구조물</td>\n",
       "      <td>교량</td>\n",
       "      <td>부산광역시 부산진구 부전2동</td>\n",
       "    </tr>\n",
       "    <tr>\n",
       "      <th>1980-12-31</th>\n",
       "      <td>사당천복개구조물</td>\n",
       "      <td>교량</td>\n",
       "      <td>서울특별시 서초구 방배동</td>\n",
       "    </tr>\n",
       "    <tr>\n",
       "      <th>1982-09-29</th>\n",
       "      <td>반포천복개구조물</td>\n",
       "      <td>교량</td>\n",
       "      <td>서울특별시 서초구 서초동</td>\n",
       "    </tr>\n",
       "  </tbody>\n",
       "</table>\n",
       "</div>"
      ],
      "text/plain": [
       "                        시설물명 시설물구분           시설물소재지\n",
       "준공일자                                               \n",
       "1986-05-10  부암1동 동부교육청 입구 옹벽    옹벽   부산광역시 부산진구 부암동\n",
       "1980-12-31       전포천본류 복개구조물    교량  부산광역시 부산진구 부전2동\n",
       "1979-12-31       부전천본류 복개구조물    교량  부산광역시 부산진구 부전2동\n",
       "1980-12-31          사당천복개구조물    교량    서울특별시 서초구 방배동\n",
       "1982-09-29          반포천복개구조물    교량    서울특별시 서초구 서초동"
      ]
     },
     "execution_count": 21,
     "metadata": {},
     "output_type": "execute_result"
    }
   ],
   "source": [
    "# 날짜를 인덱스로 지정\n",
    "df.set_index('준공일자', inplace = True)\n",
    "df.head()"
   ]
  },
  {
   "cell_type": "code",
   "execution_count": 22,
   "metadata": {},
   "outputs": [
    {
     "name": "stdout",
     "output_type": "stream",
     "text": [
      "<class 'pandas.core.frame.DataFrame'>\n",
      "DatetimeIndex: 3243 entries, 1986-05-10 to 1979-08-20\n",
      "Data columns (total 3 columns):\n",
      "시설물명      3243 non-null object\n",
      "시설물구분     3243 non-null object\n",
      "시설물소재지    3243 non-null object\n",
      "dtypes: object(3)\n",
      "memory usage: 101.3+ KB\n"
     ]
    }
   ],
   "source": [
    "df.info()"
   ]
  },
  {
   "cell_type": "markdown",
   "metadata": {},
   "source": [
    "- 준공일자 인덱스로부터 준공년 컬럼 추가"
   ]
  },
  {
   "cell_type": "code",
   "execution_count": 24,
   "metadata": {},
   "outputs": [
    {
     "data": {
      "text/plain": [
       "Int64Index([1986, 1980, 1979, 1980, 1982, 1966, 1970, 1982, 1979, 1985,\n",
       "            ...\n",
       "            1985, 1979, 1987, 1984, 1984, 1984, 1984, 1982, 1986, 1979],\n",
       "           dtype='int64', name='준공일자', length=3243)"
      ]
     },
     "execution_count": 24,
     "metadata": {},
     "output_type": "execute_result"
    }
   ],
   "source": [
    "# 인덱스에서 year을 뽑기\n",
    "df.index.year"
   ]
  },
  {
   "cell_type": "code",
   "execution_count": 25,
   "metadata": {},
   "outputs": [
    {
     "data": {
      "text/html": [
       "<div>\n",
       "<style scoped>\n",
       "    .dataframe tbody tr th:only-of-type {\n",
       "        vertical-align: middle;\n",
       "    }\n",
       "\n",
       "    .dataframe tbody tr th {\n",
       "        vertical-align: top;\n",
       "    }\n",
       "\n",
       "    .dataframe thead th {\n",
       "        text-align: right;\n",
       "    }\n",
       "</style>\n",
       "<table border=\"1\" class=\"dataframe\">\n",
       "  <thead>\n",
       "    <tr style=\"text-align: right;\">\n",
       "      <th></th>\n",
       "      <th>시설물명</th>\n",
       "      <th>시설물구분</th>\n",
       "      <th>시설물소재지</th>\n",
       "      <th>준공년</th>\n",
       "    </tr>\n",
       "    <tr>\n",
       "      <th>준공일자</th>\n",
       "      <th></th>\n",
       "      <th></th>\n",
       "      <th></th>\n",
       "      <th></th>\n",
       "    </tr>\n",
       "  </thead>\n",
       "  <tbody>\n",
       "    <tr>\n",
       "      <th>1986-05-10</th>\n",
       "      <td>부암1동 동부교육청 입구 옹벽</td>\n",
       "      <td>옹벽</td>\n",
       "      <td>부산광역시 부산진구 부암동</td>\n",
       "      <td>1986</td>\n",
       "    </tr>\n",
       "    <tr>\n",
       "      <th>1980-12-31</th>\n",
       "      <td>전포천본류 복개구조물</td>\n",
       "      <td>교량</td>\n",
       "      <td>부산광역시 부산진구 부전2동</td>\n",
       "      <td>1980</td>\n",
       "    </tr>\n",
       "    <tr>\n",
       "      <th>1979-12-31</th>\n",
       "      <td>부전천본류 복개구조물</td>\n",
       "      <td>교량</td>\n",
       "      <td>부산광역시 부산진구 부전2동</td>\n",
       "      <td>1979</td>\n",
       "    </tr>\n",
       "    <tr>\n",
       "      <th>1980-12-31</th>\n",
       "      <td>사당천복개구조물</td>\n",
       "      <td>교량</td>\n",
       "      <td>서울특별시 서초구 방배동</td>\n",
       "      <td>1980</td>\n",
       "    </tr>\n",
       "    <tr>\n",
       "      <th>1982-09-29</th>\n",
       "      <td>반포천복개구조물</td>\n",
       "      <td>교량</td>\n",
       "      <td>서울특별시 서초구 서초동</td>\n",
       "      <td>1982</td>\n",
       "    </tr>\n",
       "  </tbody>\n",
       "</table>\n",
       "</div>"
      ],
      "text/plain": [
       "                        시설물명 시설물구분           시설물소재지   준공년\n",
       "준공일자                                                     \n",
       "1986-05-10  부암1동 동부교육청 입구 옹벽    옹벽   부산광역시 부산진구 부암동  1986\n",
       "1980-12-31       전포천본류 복개구조물    교량  부산광역시 부산진구 부전2동  1980\n",
       "1979-12-31       부전천본류 복개구조물    교량  부산광역시 부산진구 부전2동  1979\n",
       "1980-12-31          사당천복개구조물    교량    서울특별시 서초구 방배동  1980\n",
       "1982-09-29          반포천복개구조물    교량    서울특별시 서초구 서초동  1982"
      ]
     },
     "execution_count": 25,
     "metadata": {},
     "output_type": "execute_result"
    }
   ],
   "source": [
    "# 준공년 파생 변수 추가\n",
    "df['준공년'] = df.index.year\n",
    "df.head()"
   ]
  },
  {
   "cell_type": "markdown",
   "metadata": {},
   "source": [
    "- 연도별 중공건수 계산\n",
    "-groupby, value_counts() 둘다 사용 가능"
   ]
  },
  {
   "cell_type": "code",
   "execution_count": 26,
   "metadata": {},
   "outputs": [
    {
     "data": {
      "text/plain": [
       "1985    338\n",
       "1984    269\n",
       "1986    233\n",
       "1983    196\n",
       "1980    188\n",
       "Name: 준공년, dtype: int64"
      ]
     },
     "execution_count": 26,
     "metadata": {},
     "output_type": "execute_result"
    }
   ],
   "source": [
    "df_year = df['준공년'].value_counts()\n",
    "df_year.head()"
   ]
  },
  {
   "cell_type": "code",
   "execution_count": 27,
   "metadata": {},
   "outputs": [
    {
     "data": {
      "text/plain": [
       "Int64Index([1985, 1984, 1986, 1983, 1980, 1987, 1982, 1981, 1979, 1977, 1970,\n",
       "            1978, 1973, 1975, 1974, 1976, 1969, 1971, 1972, 1963, 1965, 1961,\n",
       "            1964, 1968, 1955, 1962, 1966, 1945, 1967, 1959, 1960, 1958, 1940,\n",
       "            1939, 1942, 1938, 1930, 1934, 1937, 1954, 1932, 1957, 1936, 1931,\n",
       "            1935, 1900, 1944, 1926, 1956, 1914, 1922, 1924, 1949, 1953, 1947,\n",
       "            1906, 1925, 1943, 1950, 1946, 1929, 1921, 1933, 1923, 1928, 1920,\n",
       "            1912, 1905, 1941, 1952, 1918, 1951, 1911, 1919, 1915, 1948, 1927],\n",
       "           dtype='int64')"
      ]
     },
     "execution_count": 27,
     "metadata": {},
     "output_type": "execute_result"
    }
   ],
   "source": [
    "df_year.index"
   ]
  },
  {
   "cell_type": "code",
   "execution_count": 29,
   "metadata": {},
   "outputs": [],
   "source": [
    "plt.rcParams[\"figure.figsize\"] = [20,12]\n",
    "\n"
   ]
  },
  {
   "cell_type": "code",
   "execution_count": 31,
   "metadata": {},
   "outputs": [
    {
     "data": {
      "text/plain": [
       "<matplotlib.axes._subplots.AxesSubplot at 0x12a145ad8d0>"
      ]
     },
     "execution_count": 31,
     "metadata": {},
     "output_type": "execute_result"
    },
    {
     "data": {
      "image/png": "[encoded data removed]",
      "text/plain": [
       "<Figure size 1440x864 with 1 Axes>"
      ]
     },
     "metadata": {
      "needs_background": "light"
     },
     "output_type": "display_data"
    }
   ],
   "source": [
    "# 연도별로 건물의 수 plot\n",
    "df_year.plot(kind = 'bar')"
   ]
  },
  {
   "cell_type": "markdown",
   "metadata": {},
   "source": [
    "- 연도별로 정렬"
   ]
  },
  {
   "cell_type": "code",
   "execution_count": 32,
   "metadata": {},
   "outputs": [
    {
     "data": {
      "text/plain": [
       "1900    11\n",
       "1905     2\n",
       "1906     5\n",
       "1911     1\n",
       "1912     2\n",
       "Name: 준공년, dtype: int64"
      ]
     },
     "execution_count": 32,
     "metadata": {},
     "output_type": "execute_result"
    }
   ],
   "source": [
    "df_year = df_year.sort_index()\n",
    "df_year.head()"
   ]
  },
  {
   "cell_type": "code",
   "execution_count": 43,
   "metadata": {},
   "outputs": [
    {
     "data": {
      "text/plain": [
       "<matplotlib.axes._subplots.AxesSubplot at 0x12a17bd0080>"
      ]
     },
     "execution_count": 43,
     "metadata": {},
     "output_type": "execute_result"
    },
    {
     "data": {
      "image/png": "[encoded data removed]",
      "text/plain": [
       "<Figure size 1440x864 with 1 Axes>"
      ]
     },
     "metadata": {
      "needs_background": "light"
     },
     "output_type": "display_data"
    }
   ],
   "source": [
    "df_year.plot(kind='bar',colormap = 'cool' )"
   ]
  },
  {
   "cell_type": "code",
   "execution_count": 34,
   "metadata": {},
   "outputs": [
    {
     "data": {
      "text/html": [
       "<div>\n",
       "<style scoped>\n",
       "    .dataframe tbody tr th:only-of-type {\n",
       "        vertical-align: middle;\n",
       "    }\n",
       "\n",
       "    .dataframe tbody tr th {\n",
       "        vertical-align: top;\n",
       "    }\n",
       "\n",
       "    .dataframe thead th {\n",
       "        text-align: right;\n",
       "    }\n",
       "</style>\n",
       "<table border=\"1\" class=\"dataframe\">\n",
       "  <thead>\n",
       "    <tr style=\"text-align: right;\">\n",
       "      <th></th>\n",
       "      <th>시설물명</th>\n",
       "      <th>시설물구분</th>\n",
       "      <th>시설물소재지</th>\n",
       "      <th>준공년</th>\n",
       "    </tr>\n",
       "    <tr>\n",
       "      <th>준공일자</th>\n",
       "      <th></th>\n",
       "      <th></th>\n",
       "      <th></th>\n",
       "      <th></th>\n",
       "    </tr>\n",
       "  </thead>\n",
       "  <tbody>\n",
       "    <tr>\n",
       "      <th>1986-05-10</th>\n",
       "      <td>부암1동 동부교육청 입구 옹벽</td>\n",
       "      <td>옹벽</td>\n",
       "      <td>부산광역시 부산진구 부암동</td>\n",
       "      <td>1986</td>\n",
       "    </tr>\n",
       "    <tr>\n",
       "      <th>1980-12-31</th>\n",
       "      <td>전포천본류 복개구조물</td>\n",
       "      <td>교량</td>\n",
       "      <td>부산광역시 부산진구 부전2동</td>\n",
       "      <td>1980</td>\n",
       "    </tr>\n",
       "    <tr>\n",
       "      <th>1979-12-31</th>\n",
       "      <td>부전천본류 복개구조물</td>\n",
       "      <td>교량</td>\n",
       "      <td>부산광역시 부산진구 부전2동</td>\n",
       "      <td>1979</td>\n",
       "    </tr>\n",
       "    <tr>\n",
       "      <th>1980-12-31</th>\n",
       "      <td>사당천복개구조물</td>\n",
       "      <td>교량</td>\n",
       "      <td>서울특별시 서초구 방배동</td>\n",
       "      <td>1980</td>\n",
       "    </tr>\n",
       "    <tr>\n",
       "      <th>1982-09-29</th>\n",
       "      <td>반포천복개구조물</td>\n",
       "      <td>교량</td>\n",
       "      <td>서울특별시 서초구 서초동</td>\n",
       "      <td>1982</td>\n",
       "    </tr>\n",
       "  </tbody>\n",
       "</table>\n",
       "</div>"
      ],
      "text/plain": [
       "                        시설물명 시설물구분           시설물소재지   준공년\n",
       "준공일자                                                     \n",
       "1986-05-10  부암1동 동부교육청 입구 옹벽    옹벽   부산광역시 부산진구 부암동  1986\n",
       "1980-12-31       전포천본류 복개구조물    교량  부산광역시 부산진구 부전2동  1980\n",
       "1979-12-31       부전천본류 복개구조물    교량  부산광역시 부산진구 부전2동  1979\n",
       "1980-12-31          사당천복개구조물    교량    서울특별시 서초구 방배동  1980\n",
       "1982-09-29          반포천복개구조물    교량    서울특별시 서초구 서초동  1982"
      ]
     },
     "execution_count": 34,
     "metadata": {},
     "output_type": "execute_result"
    }
   ],
   "source": [
    "df.head()"
   ]
  },
  {
   "cell_type": "markdown",
   "metadata": {},
   "source": [
    "## 과제2 : 광역시도별 시설물준공 데이터분석"
   ]
  },
  {
   "cell_type": "markdown",
   "metadata": {},
   "source": [
    "- 시를 분리하는 여러가지 방법"
   ]
  },
  {
   "cell_type": "code",
   "execution_count": 48,
   "metadata": {},
   "outputs": [
    {
     "data": {
      "text/plain": [
       "'경기도 가평군 외서면'"
      ]
     },
     "execution_count": 48,
     "metadata": {},
     "output_type": "execute_result"
    }
   ],
   "source": [
    "# 주소지 살펴보기\n",
    "df['시설물소재지'].values[100]"
   ]
  },
  {
   "cell_type": "code",
   "execution_count": 57,
   "metadata": {},
   "outputs": [
    {
     "name": "stdout",
     "output_type": "stream",
     "text": [
      "부산광역시 부산진구 부암동\n"
     ]
    },
    {
     "data": {
      "text/plain": [
       "5"
      ]
     },
     "execution_count": 57,
     "metadata": {},
     "output_type": "execute_result"
    }
   ],
   "source": [
    "# find함수 살펴보기\n",
    "tmp = '부산광역시 부산진구 부암동'\n",
    "print(tmp)\n",
    "tmp.find(' ')  # 인덱스를 반환\n"
   ]
  },
  {
   "cell_type": "code",
   "execution_count": 60,
   "metadata": {},
   "outputs": [
    {
     "data": {
      "text/plain": [
       "'부산광역시'"
      ]
     },
     "execution_count": 60,
     "metadata": {},
     "output_type": "execute_result"
    }
   ],
   "source": [
    "tmp2 = tmp[0:(tmp.find(' '))]\n",
    "tmp2"
   ]
  },
  {
   "cell_type": "code",
   "execution_count": 61,
   "metadata": {},
   "outputs": [
    {
     "data": {
      "text/plain": [
       "3243"
      ]
     },
     "execution_count": 61,
     "metadata": {},
     "output_type": "execute_result"
    }
   ],
   "source": [
    "len(df)"
   ]
  },
  {
   "cell_type": "code",
   "execution_count": 64,
   "metadata": {},
   "outputs": [
    {
     "data": {
      "text/plain": [
       "'부산광역시'"
      ]
     },
     "execution_count": 64,
     "metadata": {},
     "output_type": "execute_result"
    }
   ],
   "source": [
    "# 글자를 분리하지 않아도 되서 좋은 글자수를 기준으로 분리하는 방법\n",
    "# txt이기 때문에 슬라이싱으로 글자를 분리\n",
    "df['시설물소재지'].values[1][0:5] \n",
    "\n",
    "# 1: 내부 인덱싱 사용 ,=> iloc도 내부 인덱스 사용"
   ]
  },
  {
   "cell_type": "code",
   "execution_count": 68,
   "metadata": {},
   "outputs": [
    {
     "data": {
      "text/plain": [
       "5"
      ]
     },
     "execution_count": 68,
     "metadata": {},
     "output_type": "execute_result"
    }
   ],
   "source": [
    "tmp3 = df['시설물소재지'].values[1].find(' ')\n",
    "tmp3"
   ]
  },
  {
   "cell_type": "code",
   "execution_count": 69,
   "metadata": {},
   "outputs": [
    {
     "data": {
      "text/plain": [
       "'부산광역시'"
      ]
     },
     "execution_count": 69,
     "metadata": {},
     "output_type": "execute_result"
    }
   ],
   "source": [
    "df['시설물소재지'].values[1][0:tmp3]\n"
   ]
  },
  {
   "cell_type": "markdown",
   "metadata": {},
   "source": [
    "- 시/도를 나타내는 state 컬럼 추가\n"
   ]
  },
  {
   "cell_type": "code",
   "execution_count": 71,
   "metadata": {},
   "outputs": [],
   "source": [
    "df['state'] = ''\n"
   ]
  },
  {
   "cell_type": "code",
   "execution_count": 73,
   "metadata": {},
   "outputs": [],
   "source": [
    "for n in np.arange(len(df)):\n",
    "    endN = df['시설물소재지'].values[n].find(' ')\n",
    "    df['state'].values[n ] = df['시설물소재지'].values[n][0:endN]"
   ]
  },
  {
   "cell_type": "code",
   "execution_count": 74,
   "metadata": {},
   "outputs": [
    {
     "data": {
      "text/html": [
       "<div>\n",
       "<style scoped>\n",
       "    .dataframe tbody tr th:only-of-type {\n",
       "        vertical-align: middle;\n",
       "    }\n",
       "\n",
       "    .dataframe tbody tr th {\n",
       "        vertical-align: top;\n",
       "    }\n",
       "\n",
       "    .dataframe thead th {\n",
       "        text-align: right;\n",
       "    }\n",
       "</style>\n",
       "<table border=\"1\" class=\"dataframe\">\n",
       "  <thead>\n",
       "    <tr style=\"text-align: right;\">\n",
       "      <th></th>\n",
       "      <th>시설물명</th>\n",
       "      <th>시설물구분</th>\n",
       "      <th>시설물소재지</th>\n",
       "      <th>준공년</th>\n",
       "      <th>state</th>\n",
       "    </tr>\n",
       "    <tr>\n",
       "      <th>준공일자</th>\n",
       "      <th></th>\n",
       "      <th></th>\n",
       "      <th></th>\n",
       "      <th></th>\n",
       "      <th></th>\n",
       "    </tr>\n",
       "  </thead>\n",
       "  <tbody>\n",
       "    <tr>\n",
       "      <th>1986-05-10</th>\n",
       "      <td>부암1동 동부교육청 입구 옹벽</td>\n",
       "      <td>옹벽</td>\n",
       "      <td>부산광역시 부산진구 부암동</td>\n",
       "      <td>1986</td>\n",
       "      <td>부산광역시</td>\n",
       "    </tr>\n",
       "    <tr>\n",
       "      <th>1980-12-31</th>\n",
       "      <td>전포천본류 복개구조물</td>\n",
       "      <td>교량</td>\n",
       "      <td>부산광역시 부산진구 부전2동</td>\n",
       "      <td>1980</td>\n",
       "      <td>부산광역시</td>\n",
       "    </tr>\n",
       "    <tr>\n",
       "      <th>1979-12-31</th>\n",
       "      <td>부전천본류 복개구조물</td>\n",
       "      <td>교량</td>\n",
       "      <td>부산광역시 부산진구 부전2동</td>\n",
       "      <td>1979</td>\n",
       "      <td>부산광역시</td>\n",
       "    </tr>\n",
       "    <tr>\n",
       "      <th>1980-12-31</th>\n",
       "      <td>사당천복개구조물</td>\n",
       "      <td>교량</td>\n",
       "      <td>서울특별시 서초구 방배동</td>\n",
       "      <td>1980</td>\n",
       "      <td>서울특별시</td>\n",
       "    </tr>\n",
       "    <tr>\n",
       "      <th>1982-09-29</th>\n",
       "      <td>반포천복개구조물</td>\n",
       "      <td>교량</td>\n",
       "      <td>서울특별시 서초구 서초동</td>\n",
       "      <td>1982</td>\n",
       "      <td>서울특별시</td>\n",
       "    </tr>\n",
       "  </tbody>\n",
       "</table>\n",
       "</div>"
      ],
      "text/plain": [
       "                        시설물명 시설물구분           시설물소재지   준공년  state\n",
       "준공일자                                                            \n",
       "1986-05-10  부암1동 동부교육청 입구 옹벽    옹벽   부산광역시 부산진구 부암동  1986  부산광역시\n",
       "1980-12-31       전포천본류 복개구조물    교량  부산광역시 부산진구 부전2동  1980  부산광역시\n",
       "1979-12-31       부전천본류 복개구조물    교량  부산광역시 부산진구 부전2동  1979  부산광역시\n",
       "1980-12-31          사당천복개구조물    교량    서울특별시 서초구 방배동  1980  서울특별시\n",
       "1982-09-29          반포천복개구조물    교량    서울특별시 서초구 서초동  1982  서울특별시"
      ]
     },
     "execution_count": 74,
     "metadata": {},
     "output_type": "execute_result"
    }
   ],
   "source": [
    "df.head()"
   ]
  },
  {
   "cell_type": "code",
   "execution_count": 75,
   "metadata": {},
   "outputs": [
    {
     "data": {
      "text/plain": [
       "array(['부산광역시', '서울특별시', '경상남도', '전라남도', '대구광역시', '전라북도', '인천광역시', '충청북도',\n",
       "       '강원도', '제주특별자치도', '경기도', '충청남도', '광주광역시', '경상북도', '대전광역시',\n",
       "       '세종특별자치시', '울산광역시'], dtype=object)"
      ]
     },
     "execution_count": 75,
     "metadata": {},
     "output_type": "execute_result"
    }
   ],
   "source": [
    "# 파생변수가 잘 만들어졌는지 확인\n",
    "df['state'].unique()"
   ]
  },
  {
   "cell_type": "code",
   "execution_count": 77,
   "metadata": {},
   "outputs": [
    {
     "data": {
      "text/plain": [
       "서울특별시      609\n",
       "경상북도       454\n",
       "경상남도       369\n",
       "강원도        244\n",
       "경기도        213\n",
       "전라남도       210\n",
       "충청북도       204\n",
       "충청남도       203\n",
       "전라북도       187\n",
       "부산광역시      160\n",
       "대구광역시      105\n",
       "광주광역시       92\n",
       "대전광역시       59\n",
       "인천광역시       55\n",
       "울산광역시       53\n",
       "세종특별자치시     14\n",
       "제주특별자치도     12\n",
       "Name: state, dtype: int64"
      ]
     },
     "execution_count": 77,
     "metadata": {},
     "output_type": "execute_result"
    }
   ],
   "source": [
    "# 시/도별 준공 건수\n",
    "df_state = df['state'].value_counts()\n",
    "df_state"
   ]
  },
  {
   "cell_type": "code",
   "execution_count": 80,
   "metadata": {},
   "outputs": [
    {
     "data": {
      "image/png": "[encoded data removed]",
      "text/plain": [
       "<Figure size 1080x360 with 1 Axes>"
      ]
     },
     "metadata": {},
     "output_type": "display_data"
    }
   ],
   "source": [
    "# 파이차트 그리기\n",
    "plt.rcParams[\"figure.figsize\"] = [15,5]\n",
    "df_state.plot(kind = 'pie')\n",
    "plt.show()"
   ]
  },
  {
   "cell_type": "code",
   "execution_count": 81,
   "metadata": {},
   "outputs": [
    {
     "data": {
      "image/png": "[encoded data removed]",
      "text/plain": [
       "<Figure size 864x432 with 1 Axes>"
      ]
     },
     "metadata": {
      "needs_background": "light"
     },
     "output_type": "display_data"
    }
   ],
   "source": [
    "# bar chart 그리기\n",
    "plt.rcParams[\"figure.figsize\"] = [12,6]\n",
    "df_state.plot(kind = 'barh')\n",
    "plt.show()"
   ]
  },
  {
   "cell_type": "code",
   "execution_count": 83,
   "metadata": {},
   "outputs": [
    {
     "data": {
      "text/plain": [
       "제주특별자치도    12\n",
       "세종특별자치시    14\n",
       "울산광역시      53\n",
       "인천광역시      55\n",
       "대전광역시      59\n",
       "Name: state, dtype: int64"
      ]
     },
     "execution_count": 83,
     "metadata": {},
     "output_type": "execute_result"
    }
   ],
   "source": [
    "# 내림차순 정렬\n",
    "df_state.sort_values().head()  # 오름차순 = True: default"
   ]
  },
  {
   "cell_type": "code",
   "execution_count": 86,
   "metadata": {},
   "outputs": [
    {
     "data": {
      "text/plain": [
       "서울특별시    609\n",
       "경상북도     454\n",
       "경상남도     369\n",
       "강원도      244\n",
       "경기도      213\n",
       "Name: state, dtype: int64"
      ]
     },
     "execution_count": 86,
     "metadata": {},
     "output_type": "execute_result"
    }
   ],
   "source": [
    "# 오름차순 정렬\n",
    "df_state.sort_values(ascending = False).head()"
   ]
  },
  {
   "cell_type": "markdown",
   "metadata": {},
   "source": [
    "## 과제3 : 분석한 데이터를 원페이지 리포트형태로 출력"
   ]
  },
  {
   "cell_type": "code",
   "execution_count": 87,
   "metadata": {},
   "outputs": [
    {
     "data": {
      "image/png": "[encoded data removed]",
      "text/plain": [
       "<Figure size 1440x1440 with 3 Axes>"
      ]
     },
     "metadata": {
      "needs_background": "light"
     },
     "output_type": "display_data"
    }
   ],
   "source": [
    "plt.figure(figsize = (20, 20))\n",
    "\n",
    "plt.subplot(211)\n",
    "plt.title('노후공공시설물 설립연도별 현황')\n",
    "df_year.plot(kind= 'bar')\n",
    "\n",
    "plt.subplot(223)\n",
    "plt.title('시도별 노후 공공 시설 현황')\n",
    "df_state.plot(kind = 'pie')\n",
    "\n",
    "plt.subplot(224)\n",
    "plt.title('시도별 노후공공시설 순휘 Top10')\n",
    "df_state.head(10).plot(kind = 'barh')\n",
    "\n",
    "plt.show()"
   ]
  },
  {
   "cell_type": "code",
   "execution_count": null,
   "metadata": {},
   "outputs": [],
   "source": []
  }
 ],
 "metadata": {
  "kernelspec": {
   "display_name": "Python 3",
   "language": "python",
   "name": "python3"
  },
  "language_info": {
   "codemirror_mode": {
    "name": "ipython",
    "version": 3
   },
   "file_extension": ".py",
   "mimetype": "text/x-python",
   "name": "python",
   "nbconvert_exporter": "python",
   "pygments_lexer": "ipython3",
   "version": "3.7.3"
  }
 },
 "nbformat": 4,
 "nbformat_minor": 2
}
