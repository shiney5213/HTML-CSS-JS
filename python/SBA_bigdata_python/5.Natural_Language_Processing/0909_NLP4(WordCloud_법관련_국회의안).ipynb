{
 "cells": [
  {
   "cell_type": "markdown",
   "metadata": {},
   "source": [
    "# 자연어처리 , NLP(Natural Language Processing)\n",
    "\n",
    "### 육아휴직관련 법안 대한민국 국회 제 1809890호 의안 ¶\n"
   ]
  },
  {
   "cell_type": "code",
   "execution_count": 1,
   "metadata": {},
   "outputs": [],
   "source": [
    "import platform\n",
    "\n",
    "import numpy as np\n",
    "import pandas as pd\n",
    "import matplotlib.pyplot as plt\n",
    "import seaborn as sns\n",
    "# sns.set()\n",
    "\n",
    "from matplotlib import font_manager, rc\n",
    "if platform.system() == 'Darwin':\n",
    "    rc('font', family='AppleGothic')\n",
    "elif platform.system() == 'Windows':\n",
    "    font_name = font_manager.FontProperties(fname=\"C:/Windows/Fonts/malgun.ttf\").get_name()\n",
    "    rc('font', family=font_name)\n",
    "else:\n",
    "    print(\"It's unknown system. Hangul fonts are not supported!\")\n",
    "    \n",
    "plt.rcParams[\"figure.figsize\"] = [12,6]\n",
    "\n",
    "%matplotlib notebook"
   ]
  },
  {
   "cell_type": "code",
   "execution_count": 4,
   "metadata": {},
   "outputs": [
    {
     "name": "stdout",
     "output_type": "stream",
     "text": [
      "Collecting wordcloud\n",
      "  Downloading https://files.pythonhosted.org/packages/23/4e/1254d26ce5d36facdcbb5820e7e434328aed68e99938c75c9d4e2fee5efb/wordcloud-1.5.0-cp37-cp37m-win_amd64.whl (153kB)\n",
      "Requirement already satisfied: numpy>=1.6.1 in c:\\python\\anaconda3\\lib\\site-packages (from wordcloud) (1.16.4)\n",
      "Requirement already satisfied: pillow in c:\\python\\anaconda3\\lib\\site-packages (from wordcloud) (6.1.0)\n",
      "Installing collected packages: wordcloud\n",
      "Successfully installed wordcloud-1.5.0\n"
     ]
    }
   ],
   "source": [
    "!pip install wordcloud"
   ]
  },
  {
   "cell_type": "code",
   "execution_count": 35,
   "metadata": {},
   "outputs": [],
   "source": [
    "from konlpy.corpus import kobill  # 법안 있나?\n",
    "from konlpy.tag    import Twitter\n",
    "from konlpy.tag    import Okt  # 위의 Twitter과 같은 기능-> 오류 메시지 없어저짐\n",
    "\n",
    "from wordcloud     import WordCloud, STOPWORDS\n",
    "from PIL import Image\n",
    "\n",
    "import nltk"
   ]
  },
  {
   "cell_type": "code",
   "execution_count": 6,
   "metadata": {},
   "outputs": [],
   "source": [
    "# 육아 휴직 관련 법안\n",
    "files_ko= kobill.fileids()\n",
    "doc_ko=kobill.open('1809890.txt').read()"
   ]
  },
  {
   "cell_type": "code",
   "execution_count": 33,
   "metadata": {},
   "outputs": [
    {
     "name": "stdout",
     "output_type": "stream",
     "text": [
      "지방공무원법 일부개정법률안\n",
      "\n",
      "(정의화의원 대표발의 )\n",
      "\n",
      " 의 안\n",
      " 번 호\n",
      "\n",
      "9890\n",
      "\n",
      "발의연월일 : 2010.  11.  12.  \n",
      "\n",
      "발  의  자 : 정의화․이명수․김을동 \n",
      "\n",
      "이사철․여상규․안규백\n",
      "\n",
      "황영철․박영아․김정훈\n",
      "\n",
      "김학송 의원(10인)\n",
      "\n",
      "제안이유 및 주요내용\n",
      "\n",
      "  초등학교 저학년의 경우에도 부모의 따뜻한 사랑과 보살핌이 필요\n",
      "\n",
      "한 나이이나, 현재 공무원이 자녀를 양육하기 위하여 육아휴직을 할 \n",
      "\n",
      "수 있는 자녀의 나이는 만 6세 이하로 되어 있어 초등학교 저학년인 \n",
      "\n",
      "자녀를 돌보기 위해서는 해당 부모님은 일자리를 그만 두어야 하고 \n",
      "\n",
      "이는 곧 출산의욕을 저하시키는 문제로 이어질 수 있을 것임.\n",
      "\n",
      "  따라서 육아휴직이 가능한 자녀의 연령을 만 8세 이하로 개정하려\n",
      "\n",
      "는 것임(안 제63조제2항제4호).\n",
      "\n",
      "- 1 -\n",
      "\n",
      "\f",
      "법률  제        호\n",
      "\n",
      "지방공무원법 일부개정법률안\n",
      "\n",
      "지방공무원법 일부를 다음과 같이 개정한다.\n",
      "\n",
      "제63조제2항제4호 중 “만 6세 이하의 초등학교 취학 전 자녀를”을 “만 \n",
      "\n",
      "8세 이하(취학 중인 경우에는 초등학교 2학년 이하를 말한다)의 자녀를”\n",
      "\n",
      "로 한다.\n",
      "\n",
      "부      칙\n",
      "\n",
      "이 법은 공포한 날부터 시행한다.\n",
      "\n",
      "- 3 -\n",
      "\n",
      "\f",
      "신 ·구조문대비표\n",
      "\n",
      "현      행\n",
      "\n",
      "개   정   안\n",
      "\n",
      "제63조(휴직) ① (생  략)\n",
      "\n",
      "제63조(휴직) ① (현행과 같음)\n",
      "\n",
      "  ② 공무원이 다음 각 호의 어\n",
      "\n",
      "  ② -------------------------\n",
      "\n",
      "느 하나에 해당하는 사유로 휴\n",
      "\n",
      "----------------------------\n",
      "\n",
      "직을 원하면 임용권자는 휴직\n",
      "\n",
      "----------------------------\n",
      "\n",
      "을 명할 수 있다. 다만, 제4호\n",
      "\n",
      "-------------.---------------\n",
      "\n",
      "의 경우에는 대통령령으로 정\n",
      "\n",
      "----------------------------\n",
      "\n",
      "하는 특별한 사정이 없으면 휴\n",
      "\n",
      "----------------------------\n",
      "\n",
      "직을 명하여야 한다.\n",
      "\n",
      "--------------.\n",
      "\n",
      "  1. ∼ 3. (생  략)\n",
      "\n",
      "  1. ∼ 3. (현행과 같음)\n",
      "\n",
      "  4. 만 6세 이하의 초등학교 취\n",
      "\n",
      "  4. 만 8세 이하(취학 중인 경우\n",
      "\n",
      "학 전 자녀를 양육하기 위하\n",
      "\n",
      "에는 초등학교 2학년 이하를 \n",
      "\n",
      "여 필요하거나 여자공무원이 \n",
      "\n",
      "말한다)의 자녀를 ----------\n",
      "\n",
      "임신 또는 출산하게 되었을 \n",
      "\n",
      "---------------------------\n",
      "\n",
      "때\n",
      "\n",
      "---------------------------\n",
      "\n",
      "  5.⋅6. (생  략)\n",
      "\n",
      "  ③⋅④ (생  략)\n",
      "\n",
      "--------\n",
      "\n",
      "  5.⋅6. (현행과 같음)\n",
      "\n",
      "  ③⋅④ (현행과 같음)\n",
      "\n",
      "- 5 -\n",
      "\n",
      "\f",
      "지방공무원법 일부개정법률안 등 비용추계서 미첨부사유서\n",
      "1.  재정수반요인\n",
      "\n",
      "개정안에서 ｢국가공무원법｣  제71조제2항제4호 중 국가공무원의 육아\n",
      "\n",
      "휴직 가능 자녀의 연령을 만6세 이하에서 만8세 이하로 하고, ｢지방공\n",
      "\n",
      "무원법｣ 제63조제2항제4호 중 지방공무원의 육아휴직 가능 자녀의 연\n",
      "\n",
      "령을 만6세 이하에서 만8세 이하로 하고, ｢교육공무원법｣ 제44조제1항\n",
      "\n",
      "제7조 중 교육공무원의 육아휴직 가능 자녀의 연령을 만6세 이하에서 \n",
      "\n",
      "만8세 이하로 하고, ｢남녀고용평등과 일․가정 양립지원에 관한 법률｣ \n",
      "\n",
      "제19조제1항 중 근로자 육아휴직 가능 자녀연령을 만6세 이하에서 만\n",
      "\n",
      "8세 이하로 조정함에 따라 추가 재정소요가 예상됨.\n",
      "\n",
      "2.  미첨부  근거  규정\n",
      "｢의안의 비용추계에 관한 규칙｣ 제3조제1항 단서 중 제1호(예상되는 비용이 연평균  10억원 미만\n",
      "이거나  한시적인  경비로서  총  30억원  미만인  경우)에  해당함.\n",
      "\n",
      "3.  미첨부  사유\n",
      "\n",
      "개정안에서 국가․지방․교육공무원 및 근로자가 육아휴직을 신청할 \n",
      "\n",
      "수 있는 자녀의 연령을 만6세 이하에서 만8세 이하로 상향조정함에 \n",
      "\n",
      "따라 추가 재정소요가 예상된다. 동 법률 개정안이 2011년에 시행된다\n",
      "\n",
      "고 가정한 경우, 2010년 현재 자녀의 연령이 7세이고 육아휴직을 신청\n",
      "\n",
      "- 7 -\n",
      "\n",
      "\f",
      "- 8 -\n",
      "\n",
      "하지 않은 국가․지방․교육공무원 및 근로자가 대상이 된다.\n",
      "\n",
      "대상연령의 확대됨에 따라 육아휴직신청자의 수가 어느 정도 늘어날 \n",
      "\n",
      "것으로 예상된다. 이 경우 발생하는 비용은 현행법에 따르면 월50만원\n",
      "\n",
      "이나 현재 관련법령 개정이 추진되고 있으며, 이에 따라 2011년에는 \n",
      "\n",
      "육아휴직자가 지급받는 월급여액에 비례하여 육아휴직급여가 지급되\n",
      "\n",
      "기 때문에 법령개정을 가정하고 추계한다. 이러한 경우 육아휴직급여\n",
      "\n",
      "액은 육아휴직자가 지급받는 월급여의 40%에 해당한다. 육아휴직자가 \n",
      "\n",
      "발생한 경우 발생하는 비용은 대체인력 고용인건비와 육아휴직자가 \n",
      "\n",
      "받는 월급여액의 40%이다. 이와 대비하여 육아휴직자에게 지급하던 \n",
      "\n",
      "임금은 더 이상 발생하지 않는다. 따라서 실제 발생하는 순비용은 육\n",
      "\n",
      "아휴직자에게 지급하던 월 급여액과 연령 확대에 따라 발생하는 비용\n",
      "\n",
      "인 육아휴직자가 받던 월급여액의 40%와 대체인력 고용인건비의 차\n",
      "\n",
      "액인데 이 값이 0보다 크면 추가 재정소요는 발생하지 않는다고 볼 \n",
      "\n",
      "수 있다.\n",
      "\n",
      "추가비용 발생여부를 정확하게 알아보기 위하여 비용에 대한 수리모\n",
      "\n",
      "델을 만들고 이에 따라 비용발생 여부를 알아보기로 하자. 모델에 사\n",
      "\n",
      "용되는 변수를 다음과 같이 정의한다.\n",
      "\n",
      "발생비용 : N×p×X + N×육아휴직급여액 - N×P\n",
      "\n",
      "N\n",
      "\n",
      "P\n",
      "\n",
      ": 육아휴직대상자의 수\n",
      "\n",
      ": 육아휴직대상자의 월급여액\n",
      "\n",
      "\f",
      "p\n",
      "\n",
      "X\n",
      "\n",
      ": 육아휴직자가 발생한 경우 대체 고용할 확률\n",
      "\n",
      ": 대체 고용한 인력에게 지급하는 월급여액\n",
      "\n",
      "위의 수식에서 육아휴직급여액은 육아휴직자 월급여액의 40%까지 지\n",
      "\n",
      "급할 예정이므로 육아휴직급여액은 P×40%이다. 육아휴직자가 발생한 \n",
      "\n",
      "경우 대체 고용할 확률 p는 고용노동부의 육아휴직 관련 자료를 이용\n",
      "\n",
      "한다. 고용노동부에 따르면 2011년의 경우 육아휴직급여 대상자는 \n",
      "\n",
      "40,923명이며, 육아휴직에 따른 대체인력 고용 예상인원은 2,836명이\n",
      "\n",
      "다. 2007년부터 2011년까지의 현황을 정리하면 다음의 [표]와 같다.\n",
      "\n",
      "[표]  육아휴직급여  수급자의  수  및  대체인력  고용  현황:  2007~2011년\n",
      "\n",
      "(단위:  명,  % )\n",
      "\n",
      "2007\n",
      "\n",
      "2008\n",
      "\n",
      "2009\n",
      "\n",
      "2010\n",
      "\n",
      "2011\n",
      "\n",
      "평균\n",
      "\n",
      "육아휴직급여  수급자(A)\n",
      "\n",
      "21,185\n",
      "\n",
      "29,145\n",
      "\n",
      "35,400\n",
      "\n",
      "41,291\n",
      "\n",
      "43,899\n",
      "\n",
      "34,184\n",
      "\n",
      "대체인력  채용(B)\n",
      "\n",
      "796\n",
      "\n",
      "1,658\n",
      "\n",
      "1,957\n",
      "\n",
      "2,396\n",
      "\n",
      "2,836\n",
      "\n",
      "1,929\n",
      "\n",
      "비  율(B/A)\n",
      "\n",
      "3.8\n",
      "\n",
      "5.7\n",
      "\n",
      "5.5\n",
      "\n",
      "5.8\n",
      "\n",
      "6.5\n",
      "\n",
      "5.6\n",
      "\n",
      "자료: 고용노동부  자료를  바탕으로  국회예산정책처  작성\n",
      "\n",
      "위의 [표]의 자료에 따라 육아휴직자가 발생한 경우 대체 고용할 확률 \n",
      "\n",
      "p의 값은 5.6%라고 가정한다. 그리고 비용이 발생한다고 가정하여 위\n",
      "\n",
      "의 수식을 다시 작성하면 다음의 수식과 같다.\n",
      "\n",
      "N×p×X + N×육아휴직급여액 - N×P > 0\n",
      "\n",
      "(1)\n",
      "\n",
      "- 9 -\n",
      "\n",
      "\f",
      "- 10 -\n",
      "\n",
      "N×5.6%×X + N×P×40% - N×P > 0\n",
      "\n",
      "0.056×X > 0.6P\n",
      "\n",
      "X > 10.7×P\n",
      "\n",
      "(2)\n",
      "\n",
      "(3)\n",
      "\n",
      "(5)\n",
      "\n",
      "위의 수식에 육아휴직자가 받는 월 급여액을 대입하여 대체고용인력\n",
      "\n",
      "자에게 지급하는 월 급여액을 추정하여 보자. 육아휴직자가 월 200만\n",
      "\n",
      "원을 받는다고 가정하면, 대체고용인력자에게 육아휴직자가 받는 월 \n",
      "\n",
      "급여액의 10.7배에 달하는 월 21,428,571원 이상을 지급해야 추가 비용\n",
      "\n",
      "이 발생한다. 대체고용인력자에게 육아휴직자보다 더 많은 월급여액을 \n",
      "\n",
      "주지는 않을 것이고 그리고 10여배 이상 월급을 주지도 않을 것이기 \n",
      "\n",
      "때문에 추가 비용이 발생한다고 보기 힘들다. 위의 수식에서 대체인력 \n",
      "\n",
      "고용확률 p를 20%로 가정하더라도(이 경우 X > 3×P) 200만원 받는 \n",
      "\n",
      "육아휴직자 대체인력에게 월 600만원 이상을 지급해야 추가 비용이 \n",
      "\n",
      "발생한다.\n",
      "\n",
      "행정안전부의 통계자료(행정안전부 통계연감)에서는 지방공무원의 육\n",
      "\n",
      "아휴직 현황자료를 보여주고 있다. 여기서 육아휴직자가 발생한 경우 \n",
      "\n",
      "대체인력을 주로 임용대기자 또는 일용직을 활용하는 것으로 보인다. \n",
      "\n",
      "따라서 공무원의 경우에도 [표]에서 보여주는 일반기업체의 대체인력 \n",
      "\n",
      "고용확률과 차이는 크지 않을 것으로 보인다.\n",
      "\n",
      "이상의 논의를 바탕으로 육아휴직기간을 만6에서 만8세로 연장하더라\n",
      "\n",
      "도 법률 개정에 따른 추가 비용은 발생하지 않을 것으로 예상된다.\n",
      "\n",
      "\f",
      "4.  작성자\n",
      "\n",
      "국회예산정책처 법안비용추계1팀\n",
      "\n",
      "팀      장   정 문 종\n",
      "\n",
      "예산분석관   김 태 완\n",
      "\n",
      "(02-788-4649, tanzania@assembly.go.kr)\n",
      "\n",
      "- 11 -\n",
      "\n",
      "\f",
      "\n"
     ]
    }
   ],
   "source": [
    "print(doc_ko)"
   ]
  },
  {
   "cell_type": "code",
   "execution_count": 9,
   "metadata": {},
   "outputs": [
    {
     "data": {
      "text/plain": [
       "(str, 4201)"
      ]
     },
     "execution_count": 9,
     "metadata": {},
     "output_type": "execute_result"
    }
   ],
   "source": [
    "#type, 길이 확인\n",
    "type(doc_ko), len(doc_ko)"
   ]
  },
  {
   "cell_type": "code",
   "execution_count": 14,
   "metadata": {},
   "outputs": [
    {
     "data": {
      "text/plain": [
       "(735, ['지방공무원법', '일부', '개정', '법률', '안', '정의화', '의원', '대표', '발의', '의'])"
      ]
     },
     "execution_count": 14,
     "metadata": {},
     "output_type": "execute_result"
    }
   ],
   "source": [
    "twitter = Twitter()\n",
    "\n",
    "# 명사만 추출\n",
    "tokens_ko = twitter.nouns(doc_ko)\n",
    "len(tokens_ko), tokens_ko[:10]"
   ]
  },
  {
   "cell_type": "code",
   "execution_count": 38,
   "metadata": {},
   "outputs": [
    {
     "name": "stdout",
     "output_type": "stream",
     "text": [
      "token length: 735\n",
      "unique token: 250\n"
     ]
    }
   ],
   "source": [
    "# 위의 text 값을 매핑시키기\n",
    "\n",
    "ko = nltk.Text(tokens_ko, name = '대한민국 국회 의안 제 1809890호')\n",
    "\n",
    "print('token length:', len(ko.tokens))  # 전제\n",
    "print('unique token:', len(set(ko.tokens)))  # 중복 제거\n"
   ]
  },
  {
   "cell_type": "code",
   "execution_count": 39,
   "metadata": {},
   "outputs": [
    {
     "data": {
      "text/plain": [
       "FreqDist({'육아휴직': 38, '발생': 19, '만': 18, '이하': 18, '비용': 17, '액': 17, '경우': 16, '세': 16, '자녀': 14, '고용': 14, ...})"
      ]
     },
     "execution_count": 39,
     "metadata": {},
     "output_type": "execute_result"
    }
   ],
   "source": [
    "# 빈도수 확인 \n",
    "ko.vocab()"
   ]
  },
  {
   "cell_type": "code",
   "execution_count": 42,
   "metadata": {},
   "outputs": [
    {
     "data": {
      "image/png": "[encoded data removed]",
      "text/plain": [
       "<Figure size 720x288 with 1 Axes>"
      ]
     },
     "metadata": {
      "needs_background": "light"
     },
     "output_type": "display_data"
    }
   ],
   "source": [
    "# ko 빈도수로 그래프 그리기\n",
    "plt.figure(figsize = (10, 4))\n",
    "ko.plot(50)\n",
    "plt.show()"
   ]
  },
  {
   "cell_type": "code",
   "execution_count": 61,
   "metadata": {},
   "outputs": [
    {
     "data": {
      "text/plain": [
       "(681, ['지방공무원법', '일부', '개정', '법률', '정의화', '의원', '대표', '발의', '발의', '연월일'])"
      ]
     },
     "execution_count": 61,
     "metadata": {},
     "output_type": "execute_result"
    }
   ],
   "source": [
    "# stop_words를 어떻게 뽑지?\n",
    "# 빈도수는 높지만 의미없는 값 제거-> 워드클라우드에서 크게 보이게 하기 위해서\n",
    "stop_words = ['.', '(', ')', ',', \"'\", '%', '-', 'X', ').', '×','의','자','에','안','번',\n",
    "                      '호','을','이','다','만','로','가','를']\n",
    "\n",
    "ko = [each_word for each_word in ko if each_word not in stop_words]\n",
    "\n",
    "len(ko), ko[:10]"
   ]
  },
  {
   "cell_type": "code",
   "execution_count": 68,
   "metadata": {},
   "outputs": [
    {
     "name": "stdout",
     "output_type": "stream",
     "text": [
      "['지방공무원법', '일부', '개정', '법률', '정의화', '의원', '대표', '발의', '발의', '연월일']\n",
      "['지방공무원법', '일부', '개정', '법률', '정의화', '의원', '대표', '발의', '발의', '연월일']\n"
     ]
    },
    {
     "data": {
      "text/plain": [
       "nltk.text.Text"
      ]
     },
     "execution_count": 68,
     "metadata": {},
     "output_type": "execute_result"
    }
   ],
   "source": [
    "print(ko[:10])\n",
    "ko = nltk.Text(ko, name = '대한민국 국회의안 제 1809890호')\n",
    "print(ko[:10])\n",
    "\n",
    "type(ko)  \n",
    "# nltk의 클래스를 상속받아서,  그 클래스가 갖고 있는 다양한 메소드를 사용할 수 있음.\n",
    "# ko.bocab 등"
   ]
  },
  {
   "cell_type": "code",
   "execution_count": 65,
   "metadata": {},
   "outputs": [
    {
     "name": "stdout",
     "output_type": "stream",
     "text": [
      "['지방공무원법', '일부', '개정', '법률', '정의화', '의원', '대표', '발의', '발의', '연월일']\n",
      "['지방공무원법', '일부', '개정', '법률', '정의화', '의원', '대표', '발의', '발의', '연월일']\n"
     ]
    },
    {
     "data": {
      "image/png": "[encoded data removed]",
      "text/plain": [
       "<Figure size 720x288 with 1 Axes>"
      ]
     },
     "metadata": {
      "needs_background": "light"
     },
     "output_type": "display_data"
    }
   ],
   "source": [
    "plt.figure(figsize=(10,4))\n",
    "ko.plot(50)\n",
    "plt.show()"
   ]
  },
  {
   "cell_type": "code",
   "execution_count": 45,
   "metadata": {},
   "outputs": [
    {
     "data": {
      "text/plain": [
       "6"
      ]
     },
     "execution_count": 45,
     "metadata": {},
     "output_type": "execute_result"
    }
   ],
   "source": [
    "# 특정 단어의 빈도 수 확인\n",
    "ko.count('초등학교')"
   ]
  },
  {
   "cell_type": "code",
   "execution_count": 47,
   "metadata": {},
   "outputs": [
    {
     "data": {
      "image/png": "[encoded data removed]",
      "text/plain": [
       "<Figure size 576x144 with 1 Axes>"
      ]
     },
     "metadata": {
      "needs_background": "light"
     },
     "output_type": "display_data"
    }
   ],
   "source": [
    "# 전체의 문장 구성에서 언급되는 단어의 분포, 위치를 보여주는 플랏 그래프\n",
    "plt.figure(figsize = (8,2))\n",
    "ko.dispersion_plot(['육아휴직','초등학교','공부dnjs'])"
   ]
  },
  {
   "cell_type": "code",
   "execution_count": 48,
   "metadata": {},
   "outputs": [
    {
     "name": "stdout",
     "output_type": "stream",
     "text": [
      "Displaying 6 of 6 matches:\n",
      " 안규백 황영철 박영아 김정훈 김학송 의원 인 제안 이유 및 내용 초등학교 저학년 경우 부모 사랑 필요 나이 현재 공무원 자녀 양육 위 육아\n",
      " 나이 현재 공무원 자녀 양육 위 육아휴직 수 자녀 나이 세 이하 초등학교 저학년 자녀 위 해당 부모님 일자리 곧 출산 의욕 저하 문제 수 \n",
      "일부 개정 법률 지방공무원법 일부 다음 개정 제 항제 중 세 이하 초등학교 취학 전 자녀 세 이하 취학 중인 경우 초등학교 학년 이하 말 자\n",
      "항제 중 세 이하 초등학교 취학 전 자녀 세 이하 취학 중인 경우 초등학교 학년 이하 말 자녀 부 칙 법 공포 날 시행 신 구조 문대비 표 \n",
      " 수 다만 제 경우 대통령령 정 사정 직 명 생 략 현행 세 이하 초등학교 취 세 이하 취학 중인 경우 학 전 자녀 양육 위 초등학교 학년 \n",
      " 이하 초등학교 취 세 이하 취학 중인 경우 학 전 자녀 양육 위 초등학교 학년 이하 여 여자 공무원 말 자녀 임신 출산 때 생 략 생 략 \n"
     ]
    }
   ],
   "source": [
    "# 일치하는 단어 찾기\n",
    "ko.concordance('초등학교')"
   ]
  },
  {
   "cell_type": "code",
   "execution_count": 54,
   "metadata": {},
   "outputs": [
    {
     "name": "stderr",
     "output_type": "stream",
     "text": [
      "[nltk_data] Downloading package stopwords to\n",
      "[nltk_data]     C:\\Users\\SeoulIT\\AppData\\Roaming\\nltk_data...\n",
      "[nltk_data]   Package stopwords is already up-to-date!\n"
     ]
    },
    {
     "data": {
      "text/plain": [
       "True"
      ]
     },
     "execution_count": 54,
     "metadata": {},
     "output_type": "execute_result"
    }
   ],
   "source": [
    "import nltk\n",
    "nltk.download('stopwords')  # 사용하지 않는 단어 dwonload"
   ]
  },
  {
   "cell_type": "code",
   "execution_count": 59,
   "metadata": {},
   "outputs": [
    {
     "ename": "ValueError",
     "evalue": "too many values to unpack (expected 2)",
     "output_type": "error",
     "traceback": [
      "\u001b[1;31m---------------------------------------------------------------------------\u001b[0m",
      "\u001b[1;31mValueError\u001b[0m                                Traceback (most recent call last)",
      "\u001b[1;32m<ipython-input-59-5f9fc8ace2e3>\u001b[0m in \u001b[0;36m<module>\u001b[1;34m\u001b[0m\n\u001b[0;32m      1\u001b[0m \u001b[1;31m# stopwords에 있는 값을 제거하고 난 후의 값 갖고오기\u001b[0m\u001b[1;33m\u001b[0m\u001b[1;33m\u001b[0m\u001b[1;33m\u001b[0m\u001b[0m\n\u001b[1;32m----> 2\u001b[1;33m \u001b[0mko\u001b[0m\u001b[1;33m.\u001b[0m\u001b[0mcollocations\u001b[0m\u001b[1;33m(\u001b[0m\u001b[0mnum\u001b[0m\u001b[1;33m=\u001b[0m\u001b[1;36m20\u001b[0m\u001b[1;33m,\u001b[0m \u001b[0mwindow_size\u001b[0m\u001b[1;33m=\u001b[0m\u001b[1;36m2\u001b[0m\u001b[1;33m)\u001b[0m\u001b[1;33m\u001b[0m\u001b[1;33m\u001b[0m\u001b[0m\n\u001b[0m",
      "\u001b[1;32mC:\\Python\\Anaconda3\\lib\\site-packages\\nltk\\text.py\u001b[0m in \u001b[0;36mcollocations\u001b[1;34m(self, num, window_size)\u001b[0m\n\u001b[0;32m    442\u001b[0m \u001b[1;33m\u001b[0m\u001b[0m\n\u001b[0;32m    443\u001b[0m         collocation_strings = [\n\u001b[1;32m--> 444\u001b[1;33m             \u001b[0mw1\u001b[0m \u001b[1;33m+\u001b[0m \u001b[1;34m\" \"\u001b[0m \u001b[1;33m+\u001b[0m \u001b[0mw2\u001b[0m \u001b[1;32mfor\u001b[0m \u001b[0mw1\u001b[0m\u001b[1;33m,\u001b[0m \u001b[0mw2\u001b[0m \u001b[1;32min\u001b[0m \u001b[0mself\u001b[0m\u001b[1;33m.\u001b[0m\u001b[0mcollocation_list\u001b[0m\u001b[1;33m(\u001b[0m\u001b[0mnum\u001b[0m\u001b[1;33m,\u001b[0m \u001b[0mwindow_size\u001b[0m\u001b[1;33m)\u001b[0m\u001b[1;33m\u001b[0m\u001b[1;33m\u001b[0m\u001b[0m\n\u001b[0m\u001b[0;32m    445\u001b[0m         ]\n\u001b[0;32m    446\u001b[0m         \u001b[0mprint\u001b[0m\u001b[1;33m(\u001b[0m\u001b[0mtokenwrap\u001b[0m\u001b[1;33m(\u001b[0m\u001b[0mcollocation_strings\u001b[0m\u001b[1;33m,\u001b[0m \u001b[0mseparator\u001b[0m\u001b[1;33m=\u001b[0m\u001b[1;34m\"; \"\u001b[0m\u001b[1;33m)\u001b[0m\u001b[1;33m)\u001b[0m\u001b[1;33m\u001b[0m\u001b[1;33m\u001b[0m\u001b[0m\n",
      "\u001b[1;32mC:\\Python\\Anaconda3\\lib\\site-packages\\nltk\\text.py\u001b[0m in \u001b[0;36m<listcomp>\u001b[1;34m(.0)\u001b[0m\n\u001b[0;32m    442\u001b[0m \u001b[1;33m\u001b[0m\u001b[0m\n\u001b[0;32m    443\u001b[0m         collocation_strings = [\n\u001b[1;32m--> 444\u001b[1;33m             \u001b[0mw1\u001b[0m \u001b[1;33m+\u001b[0m \u001b[1;34m\" \"\u001b[0m \u001b[1;33m+\u001b[0m \u001b[0mw2\u001b[0m \u001b[1;32mfor\u001b[0m \u001b[0mw1\u001b[0m\u001b[1;33m,\u001b[0m \u001b[0mw2\u001b[0m \u001b[1;32min\u001b[0m \u001b[0mself\u001b[0m\u001b[1;33m.\u001b[0m\u001b[0mcollocation_list\u001b[0m\u001b[1;33m(\u001b[0m\u001b[0mnum\u001b[0m\u001b[1;33m,\u001b[0m \u001b[0mwindow_size\u001b[0m\u001b[1;33m)\u001b[0m\u001b[1;33m\u001b[0m\u001b[1;33m\u001b[0m\u001b[0m\n\u001b[0m\u001b[0;32m    445\u001b[0m         ]\n\u001b[0;32m    446\u001b[0m         \u001b[0mprint\u001b[0m\u001b[1;33m(\u001b[0m\u001b[0mtokenwrap\u001b[0m\u001b[1;33m(\u001b[0m\u001b[0mcollocation_strings\u001b[0m\u001b[1;33m,\u001b[0m \u001b[0mseparator\u001b[0m\u001b[1;33m=\u001b[0m\u001b[1;34m\"; \"\u001b[0m\u001b[1;33m)\u001b[0m\u001b[1;33m)\u001b[0m\u001b[1;33m\u001b[0m\u001b[1;33m\u001b[0m\u001b[0m\n",
      "\u001b[1;31mValueError\u001b[0m: too many values to unpack (expected 2)"
     ]
    }
   ],
   "source": [
    "# stopwords에 있는 값을 제거하고 난 후의 값 갖고오기\n",
    "ko.collocations()\n",
    "\n",
    "# 연관괸 단어들을 묶어주기"
   ]
  },
  {
   "cell_type": "code",
   "execution_count": 60,
   "metadata": {},
   "outputs": [
    {
     "ename": "ValueError",
     "evalue": "too many values to unpack (expected 2)",
     "output_type": "error",
     "traceback": [
      "\u001b[1;31m---------------------------------------------------------------------------\u001b[0m",
      "\u001b[1;31mValueError\u001b[0m                                Traceback (most recent call last)",
      "\u001b[1;32m<ipython-input-60-3c12ce9e5db7>\u001b[0m in \u001b[0;36m<module>\u001b[1;34m\u001b[0m\n\u001b[1;32m----> 1\u001b[1;33m \u001b[0mko\u001b[0m\u001b[1;33m.\u001b[0m\u001b[0mcollocations\u001b[0m\u001b[1;33m(\u001b[0m\u001b[0mnum\u001b[0m\u001b[1;33m=\u001b[0m\u001b[1;36m5\u001b[0m\u001b[1;33m,\u001b[0m \u001b[0mwindow_size\u001b[0m\u001b[1;33m=\u001b[0m\u001b[1;36m3\u001b[0m\u001b[1;33m)\u001b[0m\u001b[1;33m\u001b[0m\u001b[1;33m\u001b[0m\u001b[0m\n\u001b[0m",
      "\u001b[1;32mC:\\Python\\Anaconda3\\lib\\site-packages\\nltk\\text.py\u001b[0m in \u001b[0;36mcollocations\u001b[1;34m(self, num, window_size)\u001b[0m\n\u001b[0;32m    442\u001b[0m \u001b[1;33m\u001b[0m\u001b[0m\n\u001b[0;32m    443\u001b[0m         collocation_strings = [\n\u001b[1;32m--> 444\u001b[1;33m             \u001b[0mw1\u001b[0m \u001b[1;33m+\u001b[0m \u001b[1;34m\" \"\u001b[0m \u001b[1;33m+\u001b[0m \u001b[0mw2\u001b[0m \u001b[1;32mfor\u001b[0m \u001b[0mw1\u001b[0m\u001b[1;33m,\u001b[0m \u001b[0mw2\u001b[0m \u001b[1;32min\u001b[0m \u001b[0mself\u001b[0m\u001b[1;33m.\u001b[0m\u001b[0mcollocation_list\u001b[0m\u001b[1;33m(\u001b[0m\u001b[0mnum\u001b[0m\u001b[1;33m,\u001b[0m \u001b[0mwindow_size\u001b[0m\u001b[1;33m)\u001b[0m\u001b[1;33m\u001b[0m\u001b[1;33m\u001b[0m\u001b[0m\n\u001b[0m\u001b[0;32m    445\u001b[0m         ]\n\u001b[0;32m    446\u001b[0m         \u001b[0mprint\u001b[0m\u001b[1;33m(\u001b[0m\u001b[0mtokenwrap\u001b[0m\u001b[1;33m(\u001b[0m\u001b[0mcollocation_strings\u001b[0m\u001b[1;33m,\u001b[0m \u001b[0mseparator\u001b[0m\u001b[1;33m=\u001b[0m\u001b[1;34m\"; \"\u001b[0m\u001b[1;33m)\u001b[0m\u001b[1;33m)\u001b[0m\u001b[1;33m\u001b[0m\u001b[1;33m\u001b[0m\u001b[0m\n",
      "\u001b[1;32mC:\\Python\\Anaconda3\\lib\\site-packages\\nltk\\text.py\u001b[0m in \u001b[0;36m<listcomp>\u001b[1;34m(.0)\u001b[0m\n\u001b[0;32m    442\u001b[0m \u001b[1;33m\u001b[0m\u001b[0m\n\u001b[0;32m    443\u001b[0m         collocation_strings = [\n\u001b[1;32m--> 444\u001b[1;33m             \u001b[0mw1\u001b[0m \u001b[1;33m+\u001b[0m \u001b[1;34m\" \"\u001b[0m \u001b[1;33m+\u001b[0m \u001b[0mw2\u001b[0m \u001b[1;32mfor\u001b[0m \u001b[0mw1\u001b[0m\u001b[1;33m,\u001b[0m \u001b[0mw2\u001b[0m \u001b[1;32min\u001b[0m \u001b[0mself\u001b[0m\u001b[1;33m.\u001b[0m\u001b[0mcollocation_list\u001b[0m\u001b[1;33m(\u001b[0m\u001b[0mnum\u001b[0m\u001b[1;33m,\u001b[0m \u001b[0mwindow_size\u001b[0m\u001b[1;33m)\u001b[0m\u001b[1;33m\u001b[0m\u001b[1;33m\u001b[0m\u001b[0m\n\u001b[0m\u001b[0;32m    445\u001b[0m         ]\n\u001b[0;32m    446\u001b[0m         \u001b[0mprint\u001b[0m\u001b[1;33m(\u001b[0m\u001b[0mtokenwrap\u001b[0m\u001b[1;33m(\u001b[0m\u001b[0mcollocation_strings\u001b[0m\u001b[1;33m,\u001b[0m \u001b[0mseparator\u001b[0m\u001b[1;33m=\u001b[0m\u001b[1;34m\"; \"\u001b[0m\u001b[1;33m)\u001b[0m\u001b[1;33m)\u001b[0m\u001b[1;33m\u001b[0m\u001b[1;33m\u001b[0m\u001b[0m\n",
      "\u001b[1;31mValueError\u001b[0m: too many values to unpack (expected 2)"
     ]
    }
   ],
   "source": [
    "ko.collocations(num=5, window_size=3)\n"
   ]
  },
  {
   "cell_type": "code",
   "execution_count": null,
   "metadata": {},
   "outputs": [],
   "source": []
  }
 ],
 "metadata": {
  "kernelspec": {
   "display_name": "Python 3",
   "language": "python",
   "name": "python3"
  },
  "language_info": {
   "codemirror_mode": {
    "name": "ipython",
    "version": 3
   },
   "file_extension": ".py",
   "mimetype": "text/x-python",
   "name": "python",
   "nbconvert_exporter": "python",
   "pygments_lexer": "ipython3",
   "version": "3.7.3"
  }
 },
 "nbformat": 4,
 "nbformat_minor": 2
}
