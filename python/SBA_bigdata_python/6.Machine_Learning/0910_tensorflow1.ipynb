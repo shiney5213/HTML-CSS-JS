{
 "cells": [
  {
   "cell_type": "markdown",
   "metadata": {},
   "source": [
    "# Tensorflow 개요\n",
    "\n"
   ]
  },
  {
   "cell_type": "markdown",
   "metadata": {},
   "source": [
    "## Data Flow Graph\n",
    "Nodes in the graph represent mathematical operations\n",
    "Edges represent the multidimensional data arrays (tensors) communicated between them."
   ]
  },
  {
   "cell_type": "markdown",
   "metadata": {},
   "source": [
    "## Hello TensorFlow!\n"
   ]
  },
  {
   "cell_type": "code",
   "execution_count": 3,
   "metadata": {},
   "outputs": [],
   "source": [
    "import tensorflow as tf\n",
    "tf.__version__\n",
    "\n",
    "\n",
    "# Create a constant op\n",
    "# This op is added as a node to the default graph\n",
    "hello = tf.constant(\"Hello, TensorFlow!\")\n",
    "\n",
    "# seart a TF session\n",
    "sess = tf.Session()"
   ]
  },
  {
   "cell_type": "code",
   "execution_count": 4,
   "metadata": {},
   "outputs": [
    {
     "data": {
      "text/plain": [
       "b'Hello, TensorFlow!'"
      ]
     },
     "execution_count": 4,
     "metadata": {},
     "output_type": "execute_result"
    }
   ],
   "source": [
    "# run the op and get result\n",
    "sess.run(hello)"
   ]
  },
  {
   "cell_type": "code",
   "execution_count": 5,
   "metadata": {},
   "outputs": [
    {
     "data": {
      "text/plain": [
       "bytes"
      ]
     },
     "execution_count": 5,
     "metadata": {},
     "output_type": "execute_result"
    }
   ],
   "source": [
    "result = sess.run(hello)\n",
    "type(result)"
   ]
  },
  {
   "cell_type": "code",
   "execution_count": 6,
   "metadata": {},
   "outputs": [
    {
     "data": {
      "text/plain": [
       "tensorflow.python.framework.ops.Tensor"
      ]
     },
     "execution_count": 6,
     "metadata": {},
     "output_type": "execute_result"
    }
   ],
   "source": [
    "type(hello)"
   ]
  },
  {
   "cell_type": "code",
   "execution_count": 7,
   "metadata": {},
   "outputs": [
    {
     "data": {
      "text/plain": [
       "tensorflow.python.client.session.Session"
      ]
     },
     "execution_count": 7,
     "metadata": {},
     "output_type": "execute_result"
    }
   ],
   "source": [
    "type(sess)"
   ]
  },
  {
   "cell_type": "markdown",
   "metadata": {},
   "source": [
    "## Computational Graph"
   ]
  },
  {
   "cell_type": "code",
   "execution_count": 8,
   "metadata": {},
   "outputs": [],
   "source": [
    "# node1 = tf.constant(3.0, tf.float32)\n",
    "node1 = tf.constant(3.0)\n",
    "node2 = tf.constant(4.0)            # also tf.float32 implicitly\n",
    "node3 = tf.add(node1, node2)\n",
    "# node3 = node1 + node2"
   ]
  },
  {
   "cell_type": "code",
   "execution_count": 9,
   "metadata": {},
   "outputs": [
    {
     "name": "stdout",
     "output_type": "stream",
     "text": [
      "node1 : Tensor(\"Const_1:0\", shape=(), dtype=float32)\n",
      "node2 : Tensor(\"Const_2:0\", shape=(), dtype=float32)\n",
      "node3 : Tensor(\"Add:0\", shape=(), dtype=float32)\n"
     ]
    }
   ],
   "source": [
    "print(\"node1 :\", node1)\n",
    "print(\"node2 :\", node2)\n",
    "print(\"node3 :\", node3)"
   ]
  },
  {
   "cell_type": "code",
   "execution_count": 10,
   "metadata": {},
   "outputs": [
    {
     "name": "stdout",
     "output_type": "stream",
     "text": [
      "sess.run(node1, node2)\t:  [3.0, 4.0]\n",
      "sess.run(adder_node)  \t:  7.0\n"
     ]
    }
   ],
   "source": [
    "sess = tf.Session()\n",
    "print(\"sess.run(node1, node2)\\t: \", sess.run([node1, node2]))\n",
    "print(\"sess.run(adder_node)  \\t: \", sess.run(node3))"
   ]
  },
  {
   "cell_type": "code",
   "execution_count": 12,
   "metadata": {},
   "outputs": [
    {
     "data": {
      "text/plain": [
       "tensorflow.python.framework.ops.Tensor"
      ]
     },
     "execution_count": 12,
     "metadata": {},
     "output_type": "execute_result"
    }
   ],
   "source": [
    "type(node3)"
   ]
  },
  {
   "cell_type": "code",
   "execution_count": 13,
   "metadata": {},
   "outputs": [
    {
     "data": {
      "text/plain": [
       "numpy.float32"
      ]
     },
     "execution_count": 13,
     "metadata": {},
     "output_type": "execute_result"
    }
   ],
   "source": [
    "type(sess.run(node3))"
   ]
  },
  {
   "cell_type": "markdown",
   "metadata": {},
   "source": [
    "> TensorFlow Mechanics¶\n",
    "\n",
    "- 그래프 빌드\n",
    "- 세션을 통해 그래프를 실행\n",
    "- 실행결과가 그래프를 업데이트"
   ]
  },
  {
   "cell_type": "markdown",
   "metadata": {},
   "source": [
    "## placeholder"
   ]
  },
  {
   "cell_type": "code",
   "execution_count": 15,
   "metadata": {},
   "outputs": [],
   "source": [
    "a = tf.placeholder(tf.float32)\n",
    "b = tf.placeholder(tf.float32)\n",
    "\n",
    "# + provides a shortcut for tf.add(a, b)\n",
    "adder_node = a + b  "
   ]
  },
  {
   "cell_type": "code",
   "execution_count": 17,
   "metadata": {},
   "outputs": [
    {
     "data": {
      "text/plain": [
       "7.5"
      ]
     },
     "execution_count": 17,
     "metadata": {},
     "output_type": "execute_result"
    }
   ],
   "source": [
    "sess.run(adder_node, feed_dict={a: 3, b: 4.5})\n"
   ]
  },
  {
   "cell_type": "code",
   "execution_count": 18,
   "metadata": {},
   "outputs": [
    {
     "data": {
      "text/plain": [
       "array([3., 7.], dtype=float32)"
      ]
     },
     "execution_count": 18,
     "metadata": {},
     "output_type": "execute_result"
    }
   ],
   "source": [
    "sess.run(adder_node, feed_dict={a: [1,3], b: [2, 4]})\n"
   ]
  },
  {
   "cell_type": "code",
   "execution_count": 19,
   "metadata": {},
   "outputs": [],
   "source": [
    "add_and_triple = adder_node * 3.\n"
   ]
  },
  {
   "cell_type": "code",
   "execution_count": 20,
   "metadata": {},
   "outputs": [
    {
     "data": {
      "text/plain": [
       "22.5"
      ]
     },
     "execution_count": 20,
     "metadata": {},
     "output_type": "execute_result"
    }
   ],
   "source": [
    "sess.run(add_and_triple, feed_dict={a: 3, b:4.5})\n"
   ]
  },
  {
   "cell_type": "code",
   "execution_count": 21,
   "metadata": {},
   "outputs": [
    {
     "name": "stdout",
     "output_type": "stream",
     "text": [
      "tf.mul(20,30) : 600\n"
     ]
    }
   ],
   "source": [
    "import tensorflow as tf\n",
    "\n",
    "# 변수 a, b는 동적으로 지정\n",
    "# a = tf.placeholder(\"float32\")\n",
    "# b = tf.placeholder(\"float32\")\n",
    "a = tf.placeholder(\"int32\")\n",
    "b = tf.placeholder(\"int32\")\n",
    "\n",
    "# multiply 함수는 입력된 정수 a와 b의 곱셈을 반환한다.\n",
    "# y = tf.mul(a,b)\n",
    "y = tf.multiply(a,b)\n",
    "\n",
    "sess = tf.Session()\n",
    "\n",
    "print(\"tf.mul({a},{b}) : {y}\".format(\n",
    "    a = 20, b = 30,\n",
    "    y = sess.run(y , feed_dict={a: 20, b: 30})\n",
    "))"
   ]
  },
  {
   "cell_type": "markdown",
   "metadata": {},
   "source": [
    "Constant & Variable"
   ]
  },
  {
   "cell_type": "code",
   "execution_count": 23,
   "metadata": {},
   "outputs": [
    {
     "name": "stderr",
     "output_type": "stream",
     "text": [
      "WARNING: Logging before flag parsing goes to stderr.\n",
      "W0910 16:04:50.849065  4744 deprecation.py:323] From C:\\Python\\Anaconda3\\lib\\site-packages\\tensorflow\\python\\util\\tf_should_use.py:193: initialize_all_variables (from tensorflow.python.ops.variables) is deprecated and will be removed after 2017-03-02.\n",
      "Instructions for updating:\n",
      "Use `tf.global_variables_initializer` instead.\n"
     ]
    },
    {
     "name": "stdout",
     "output_type": "stream",
     "text": [
      "Check the variable : \n",
      "- constant x : 100 \n",
      "- Variable y : 200\n"
     ]
    }
   ],
   "source": [
    "#first_session_only_tensorflow.py\n",
    "import tensorflow as tf\n",
    "\n",
    "x = tf.constant(100, name='x')\n",
    "y = tf.Variable(x*2, name='y')\n",
    "\n",
    "# model = tf.global_variables_initializer()\n",
    "model = tf.initialize_all_variables()\n",
    "\n",
    "with tf.Session() as sess:\n",
    "    sess.run(model)\n",
    "    print(\"Check the variable : \\n- constant x : {x} \\n- Variable y : {y}\".format(\n",
    "        x = sess.run(x), \n",
    "        y = sess.run(y)\n",
    "    ))"
   ]
  },
  {
   "cell_type": "markdown",
   "metadata": {},
   "source": [
    "## Everything is Tensor\n",
    "- Tensor Ranks, Shapes, and Types\n",
    "- n차원 Array == n차원 Tensor"
   ]
  },
  {
   "cell_type": "code",
   "execution_count": 24,
   "metadata": {},
   "outputs": [
    {
     "data": {
      "text/plain": [
       "3"
      ]
     },
     "execution_count": 24,
     "metadata": {},
     "output_type": "execute_result"
    }
   ],
   "source": [
    "rank0 = 3\n",
    "rank0"
   ]
  },
  {
   "cell_type": "code",
   "execution_count": null,
   "metadata": {},
   "outputs": [],
   "source": [
    "rank1 = [1. ,2., 3.]\n",
    "rank1"
   ]
  },
  {
   "cell_type": "code",
   "execution_count": null,
   "metadata": {},
   "outputs": [],
   "source": [
    "rank2 = [[1., 2., 3.], \n",
    "         [4., 5., 6.]]\n",
    "rank2"
   ]
  },
  {
   "cell_type": "code",
   "execution_count": null,
   "metadata": {},
   "outputs": [],
   "source": [
    "rank3 = [\n",
    "            [\n",
    "                [1., 2., 3.]\n",
    "            ], \n",
    "            [\n",
    "                [7., 8., 9.]\n",
    "            ]\n",
    "] \n",
    "rank3"
   ]
  },
  {
   "cell_type": "markdown",
   "metadata": {},
   "source": [
    "## 텐서플로우 연산"
   ]
  },
  {
   "cell_type": "code",
   "execution_count": 27,
   "metadata": {},
   "outputs": [
    {
     "data": {
      "text/plain": [
       "array([1.2, 3.4, 5.6, 7.8])"
      ]
     },
     "execution_count": 27,
     "metadata": {},
     "output_type": "execute_result"
    }
   ],
   "source": [
    "import numpy as np\n",
    "\n",
    "tensor_1d = np.array([1.2, 3.4, 5.6, 7.8])\n",
    "tensor_1d"
   ]
  },
  {
   "cell_type": "code",
   "execution_count": 28,
   "metadata": {},
   "outputs": [
    {
     "data": {
      "text/plain": [
       "array([[ 0,  1,  2,  3],\n",
       "       [ 4,  5,  6,  7],\n",
       "       [ 8,  9, 10, 11],\n",
       "       [12, 13, 14, 15]])"
      ]
     },
     "execution_count": 28,
     "metadata": {},
     "output_type": "execute_result"
    }
   ],
   "source": [
    "tensor_2d = np.arange(16).reshape((4,4))\n",
    "tensor_2d"
   ]
  },
  {
   "cell_type": "code",
   "execution_count": 29,
   "metadata": {},
   "outputs": [],
   "source": [
    "sess = tf.Session()\n",
    "tf_tensor_1d = tf.convert_to_tensor(tensor_1d,dtype=tf.float64)\n",
    "tf_tensor_2d = tf.convert_to_tensor(tensor_2d,dtype=tf.float64)"
   ]
  },
  {
   "cell_type": "code",
   "execution_count": 30,
   "metadata": {},
   "outputs": [
    {
     "data": {
      "text/plain": [
       "array([1.2, 3.4, 5.6, 7.8])"
      ]
     },
     "execution_count": 30,
     "metadata": {},
     "output_type": "execute_result"
    }
   ],
   "source": [
    "sess.run(tf_tensor_1d)\n"
   ]
  },
  {
   "cell_type": "code",
   "execution_count": 31,
   "metadata": {},
   "outputs": [
    {
     "data": {
      "text/plain": [
       "1.2"
      ]
     },
     "execution_count": 31,
     "metadata": {},
     "output_type": "execute_result"
    }
   ],
   "source": [
    "sess.run(tf_tensor_1d[0])\n"
   ]
  },
  {
   "cell_type": "code",
   "execution_count": null,
   "metadata": {},
   "outputs": [],
   "source": [
    "sess.run(tf_tensor_1d[2:])\n"
   ]
  },
  {
   "cell_type": "code",
   "execution_count": null,
   "metadata": {},
   "outputs": [],
   "source": [
    "sess.run(tf_tensor_2d)\n"
   ]
  },
  {
   "cell_type": "code",
   "execution_count": null,
   "metadata": {},
   "outputs": [],
   "source": [
    "sess.run(tf_tensor_2d[3, 3])\n"
   ]
  },
  {
   "cell_type": "code",
   "execution_count": null,
   "metadata": {},
   "outputs": [],
   "source": [
    "sess.run(tf_tensor_2d[1:3, 1:3])\n"
   ]
  },
  {
   "cell_type": "markdown",
   "metadata": {},
   "source": [
    "- 행렬곱, 행렬합 연산"
   ]
  },
  {
   "cell_type": "code",
   "execution_count": 32,
   "metadata": {},
   "outputs": [
    {
     "name": "stdout",
     "output_type": "stream",
     "text": [
      "matrix3 = [[2. 7. 2.]\n",
      " [1. 4. 2.]\n",
      " [9. 0. 2.]]\n",
      "matrix_dtm = Tensor(\"MatrixDeterminant:0\", shape=(), dtype=float32)\n"
     ]
    }
   ],
   "source": [
    "import tensorflow as tf\n",
    "import numpy as np\n",
    "\n",
    "# 3x3 행렬\n",
    "matrix1 = np.array([(1, 1, 1), (1, 1, 1), (1, 1, 1)])\n",
    "matrix2 = np.array([(2, 2, 2), (2, 2, 2), (2, 2, 2)])\n",
    "\n",
    "# constant, 텐서 자료 구조로 변환\n",
    "# matrix1 = tf.constant(matrix1)\n",
    "# matrix2 = tf.constant(matrix2)\n",
    "matrix1 = tf.constant(matrix1, dtype='int32')\n",
    "matrix2 = tf.constant(matrix2, dtype='int32')\n",
    "\n",
    "# 행렬곱과 행렬합 계산\n",
    "matrix_mul = tf.matmul(matrix1, matrix2)\n",
    "matrix_sum = tf.add(matrix1, matrix2)\n",
    "\n",
    "# 행렬의 행렬식(determinant)\n",
    "matrix3 = np.array([(2, 7, 2), (1, 4, 2), (9, 0, 2)], dtype='float32')\n",
    "print('matrix3 = {}'.format(matrix3))\n",
    "\n",
    "matrix_dtm = tf.matrix_determinant(matrix3)\n",
    "print('matrix_dtm = {}'.format(matrix_dtm))"
   ]
  },
  {
   "cell_type": "code",
   "execution_count": 33,
   "metadata": {},
   "outputs": [
    {
     "name": "stdout",
     "output_type": "stream",
     "text": [
      "matrix_mul = [[6 6 6]\n",
      " [6 6 6]\n",
      " [6 6 6]]\n",
      "matrix_sum = [[3 3 3]\n",
      " [3 3 3]\n",
      " [3 3 3]]\n",
      "matrix_dtm = 55.99999237060547\n"
     ]
    }
   ],
   "source": [
    "# 세션을 열고 그래프 연산\n",
    "with tf.Session() as sess:\n",
    "    result1 = sess.run(matrix_mul)\n",
    "    result2 = sess.run(matrix_sum)\n",
    "    result3 = sess.run(matrix_dtm)\n",
    "    \n",
    "    # tensorboard for graph\n",
    "    # writer = tf.summary.FileWriter(\"./graph/sect01\", sess.graph)\n",
    "\n",
    "# 연산 결과 출력\n",
    "print('matrix_mul = {}'.format(result1))\n",
    "print('matrix_sum = {}'.format(result2))\n",
    "print('matrix_dtm = {}'.format(result3))"
   ]
  },
  {
   "cell_type": "code",
   "execution_count": null,
   "metadata": {},
   "outputs": [],
   "source": []
  }
 ],
 "metadata": {
  "kernelspec": {
   "display_name": "Python 3",
   "language": "python",
   "name": "python3"
  },
  "language_info": {
   "codemirror_mode": {
    "name": "ipython",
    "version": 3
   },
   "file_extension": ".py",
   "mimetype": "text/x-python",
   "name": "python",
   "nbconvert_exporter": "python",
   "pygments_lexer": "ipython3",
   "version": "3.7.3"
  }
 },
 "nbformat": 4,
 "nbformat_minor": 2
}
