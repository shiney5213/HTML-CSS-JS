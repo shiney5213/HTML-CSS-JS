{
 "cells": [
  {
   "cell_type": "markdown",
   "metadata": {},
   "source": [
    "# 6. Softmax Regression\n",
    "\n",
    "### Softmax Classification\n",
    "\n",
    "> Multinomial classification\n",
    "- hypothesis = tf.nn.softmax(tf.matmul(X,W)+b)"
   ]
  },
  {
   "cell_type": "code",
   "execution_count": 4,
   "metadata": {},
   "outputs": [],
   "source": [
    "from tqdm import tqdm_notebook\n",
    "import tensorflow as tf\n",
    "import numpy as np\n",
    "from IPython.display import Image \n"
   ]
  },
  {
   "cell_type": "code",
   "execution_count": 5,
   "metadata": {},
   "outputs": [
    {
     "data": {
      "image/png": "[encoded data removed]",
      "text/plain": [
       "<IPython.core.display.Image object>"
      ]
     },
     "execution_count": 5,
     "metadata": {},
     "output_type": "execute_result"
    }
   ],
   "source": [
    "Image('./images/1.png')"
   ]
  },
  {
   "cell_type": "markdown",
   "metadata": {},
   "source": [
    ">  분류 모형\n",
    "- 이진 분류면 : sigmoid사용\n",
    "- 이진 분류 이상이면: softmax 사용"
   ]
  },
  {
   "cell_type": "code",
   "execution_count": 7,
   "metadata": {},
   "outputs": [],
   "source": [
    "tf.set_random_seed(777)  # for reproducibility\n",
    "\n",
    "x_data = [[10,5], [9,5], [3,2], [2,4], [11,1]]\n",
    "y_data = [[1, 0, 0], \n",
    "          [1, 0, 0], \n",
    "          [0, 1, 0], \n",
    "          [0, 1, 0],\n",
    "          [0, 0, 1]]\n",
    "\n",
    "X = tf.placeholder(\"float\", [None, 2])\n",
    "Y = tf.placeholder(\"float\", [None, 3])\n",
    "nb_classes = 3\n",
    "\n",
    "W = tf.Variable(tf.random_normal([2, nb_classes]), name='weight')\n",
    "b = tf.Variable(tf.random_normal([nb_classes]), name='bias')\n",
    "\n",
    "# tf.nn.softmax computes softmax activations\n",
    "# softmax = exp(logits) / reduce_sum(exp(logits), dim)\n",
    "hypothesis = tf.nn.softmax(tf.matmul(X, W) + b)\n",
    "\n",
    "# Cross entropy cost/loss\n",
    "cost = tf.reduce_mean(-tf.reduce_sum(Y * tf.log(hypothesis), axis=1))\n",
    "\n",
    "optimizer = tf.train.GradientDescentOptimizer(learning_rate=0.1).minimize(cost)"
   ]
  },
  {
   "cell_type": "code",
   "execution_count": 8,
   "metadata": {},
   "outputs": [
    {
     "data": {
      "application/vnd.jupyter.widget-view+json": {
       "model_id": "c76be2fee9d2442fb5143e35f53288f1",
       "version_major": 2,
       "version_minor": 0
      },
      "text/plain": [
       "HBox(children=(IntProgress(value=0, max=2001), HTML(value='')))"
      ]
     },
     "metadata": {},
     "output_type": "display_data"
    },
    {
     "name": "stdout",
     "output_type": "stream",
     "text": [
      "Step : 0, \t Cost : 5.626882076263428\n",
      "Step : 200, \t Cost : 0.0699038878083229\n",
      "Step : 400, \t Cost : 0.04134545847773552\n",
      "Step : 600, \t Cost : 0.029694462195038795\n",
      "Step : 800, \t Cost : 0.02323530614376068\n",
      "Step : 1000, \t Cost : 0.019105542451143265\n",
      "Step : 1200, \t Cost : 0.0162307471036911\n",
      "Step : 1400, \t Cost : 0.014111995697021484\n",
      "Step : 1600, \t Cost : 0.012484771199524403\n",
      "Step : 1800, \t Cost : 0.01119527779519558\n",
      "Step : 2000, \t Cost : 0.010148045606911182\n",
      "\n"
     ]
    }
   ],
   "source": [
    "# Launch the graph in a session.\n",
    "sess = tf.Session()\n",
    "\n",
    "# Initializes global variables in the graph.\n",
    "sess.run(tf.global_variables_initializer())\n",
    "\n",
    "for step in tqdm_notebook(range(2001)):\n",
    "    sess.run(optimizer, feed_dict={X: x_data, Y: y_data})\n",
    "    if step % 200 == 0:\n",
    "        # print(step, sess.run(cost, feed_dict={X: x_data, Y: y_data}))\n",
    "        print(\"Step : {}, \\t Cost : {}\".format(step, sess.run(cost, feed_dict={X: x_data, Y: y_data})))"
   ]
  },
  {
   "cell_type": "code",
   "execution_count": 10,
   "metadata": {},
   "outputs": [
    {
     "name": "stdout",
     "output_type": "stream",
     "text": [
      "test data : [[9.5, 5.5], [9.9, 1.5], [3.1, 2.1]] \n",
      "\n",
      "predict value : \n",
      " [[9.9236065e-01 7.6043038e-03 3.4973971e-05]\n",
      " [2.2979869e-02 5.3674785e-07 9.7701955e-01]\n",
      " [3.1210743e-02 9.6435183e-01 4.4374056e-03]] \n",
      "\n",
      "predict index : [0 2 1]\n"
     ]
    }
   ],
   "source": [
    "# Testing & One-hot encoding\n",
    "test_data = [[9.5, 5.5], \n",
    "             [9.9, 1.5], \n",
    "             [3.1, 2.1]]\n",
    "\n",
    "pred_val = sess.run(hypothesis, feed_dict={X: test_data})\n",
    "pred_idx = sess.run(tf.argmax(pred_val, 1))\n",
    "\n",
    "# print(\"predict value : \\n {} \\n\\npredict index : {}\".format(pred_val, pred_idx))\n",
    "print(\"test data : {} \\n\\npredict value : \\n {} \\n\\npredict index : {}\".format(test_data, pred_val, pred_idx))"
   ]
  },
  {
   "cell_type": "code",
   "execution_count": 11,
   "metadata": {},
   "outputs": [
    {
     "name": "stderr",
     "output_type": "stream",
     "text": [
      "WARNING: Logging before flag parsing goes to stderr.\n",
      "W0911 15:07:01.877734  6808 deprecation.py:323] From <ipython-input-11-93abe8ccf7f2>:3: arg_max (from tensorflow.python.ops.gen_math_ops) is deprecated and will be removed in a future version.\n",
      "Instructions for updating:\n",
      "Use `tf.math.argmax` instead\n"
     ]
    },
    {
     "name": "stdout",
     "output_type": "stream",
     "text": [
      "['A', 'C', 'B']\n"
     ]
    }
   ],
   "source": [
    "# grade로 예측값 표기\n",
    "grade = ['A', 'B', 'C']\n",
    "arg_val = sess.run(tf.arg_max(pred_val, 1))\n",
    "p_grade = [ grade[val] for val in arg_val ]\n",
    "print(p_grade)"
   ]
  },
  {
   "cell_type": "markdown",
   "metadata": {},
   "source": [
    "## 더 복잡한 Classification"
   ]
  },
  {
   "cell_type": "code",
   "execution_count": 12,
   "metadata": {},
   "outputs": [],
   "source": [
    "import tensorflow as tf\n",
    "\n",
    "tf.set_random_seed(777)  # for reproducibility\n",
    "\n",
    "x_data = [[1, 2, 1, 1], \n",
    "          [2, 1, 3, 2], \n",
    "          [3, 1, 3, 4], \n",
    "          [4, 1, 5, 5],\n",
    "          [1, 7, 5, 5], \n",
    "          [1, 2, 5, 6], \n",
    "          [1, 6, 6, 6], \n",
    "          [1, 7, 7, 7]]\n",
    "\n",
    "y_data = [[0, 0, 1], \n",
    "          [0, 0, 1], \n",
    "          [0, 0, 1], \n",
    "          [0, 1, 0],\n",
    "          [0, 1, 0], \n",
    "          [0, 1, 0], \n",
    "          [1, 0, 0], \n",
    "          [1, 0, 0]]\n",
    "\n",
    "X = tf.placeholder(\"float\", [None, 4])\n",
    "Y = tf.placeholder(\"float\", [None, 3])\n",
    "nb_classes = 3\n",
    "\n",
    "W = tf.Variable(tf.random_normal([4, nb_classes]), name='weight')\n",
    "b = tf.Variable(tf.random_normal([nb_classes]), name='bias')\n",
    "\n",
    "# tf.nn.softmax computes softmax activations\n",
    "# softmax = exp(logits) / reduce_sum(exp(logits), dim)\n",
    "hypothesis = tf.nn.softmax(tf.matmul(X, W) + b)\n",
    "\n",
    "# Cross entropy cost/loss\n",
    "cost = tf.reduce_mean(-tf.reduce_sum(Y * tf.log(hypothesis), axis=1))\n",
    "\n",
    "optimizer = tf.train.GradientDescentOptimizer(learning_rate=0.1).minimize(cost)"
   ]
  },
  {
   "cell_type": "code",
   "execution_count": 13,
   "metadata": {},
   "outputs": [
    {
     "data": {
      "application/vnd.jupyter.widget-view+json": {
       "model_id": "dd53b01082324020afd3e44b7c9f6f8b",
       "version_major": 2,
       "version_minor": 0
      },
      "text/plain": [
       "HBox(children=(IntProgress(value=0, max=2001), HTML(value='')))"
      ]
     },
     "metadata": {},
     "output_type": "display_data"
    },
    {
     "name": "stdout",
     "output_type": "stream",
     "text": [
      "Step : 0, \t Cost : 5.266112804412842\n",
      "Step : 200, \t Cost : 0.5833661556243896\n",
      "Step : 400, \t Cost : 0.4858381152153015\n",
      "Step : 600, \t Cost : 0.4095403254032135\n",
      "Step : 800, \t Cost : 0.33916717767715454\n",
      "Step : 1000, \t Cost : 0.26745450496673584\n",
      "Step : 1200, \t Cost : 0.22873026132583618\n",
      "Step : 1400, \t Cost : 0.20815607905387878\n",
      "Step : 1600, \t Cost : 0.190830260515213\n",
      "Step : 1800, \t Cost : 0.1760530173778534\n",
      "Step : 2000, \t Cost : 0.16331267356872559\n",
      "\n"
     ]
    }
   ],
   "source": [
    "# Launch the graph in a session.\n",
    "sess = tf.Session()\n",
    "\n",
    "# Initializes global variables in the graph.\n",
    "sess.run(tf.global_variables_initializer())\n",
    "\n",
    "for step in tqdm_notebook(range(2001)):\n",
    "    sess.run(optimizer, feed_dict={X: x_data, Y: y_data})\n",
    "    if step % 200 == 0:\n",
    "        # print(step, sess.run(cost, feed_dict={X: x_data, Y: y_data}))\n",
    "        print(\"Step : {}, \\t Cost : {}\".format(step, sess.run(cost, feed_dict={X: x_data, Y: y_data})))"
   ]
  },
  {
   "cell_type": "code",
   "execution_count": 14,
   "metadata": {},
   "outputs": [
    {
     "name": "stdout",
     "output_type": "stream",
     "text": [
      "[[2.1132544e-02 9.7885877e-01 8.7742847e-06]] \n",
      "예측값 : [1]\n"
     ]
    }
   ],
   "source": [
    "# Testing & One-hot encoding\n",
    "a = sess.run(hypothesis, feed_dict={X: [[1, 11, 7, 9]]})\n",
    "print(a, '\\n예측값 :', sess.run(tf.arg_max(a, 1)))"
   ]
  },
  {
   "cell_type": "code",
   "execution_count": 15,
   "metadata": {},
   "outputs": [
    {
     "name": "stdout",
     "output_type": "stream",
     "text": [
      "[[0.73266745 0.24661921 0.02071326]] \n",
      "예측값 : [0]\n"
     ]
    }
   ],
   "source": [
    "b = sess.run(hypothesis, feed_dict={X: [[1, 3, 4, 3]]})\n",
    "print(b, '\\n예측값 :', sess.run(tf.arg_max(b, 1)))"
   ]
  },
  {
   "cell_type": "code",
   "execution_count": 16,
   "metadata": {},
   "outputs": [
    {
     "name": "stdout",
     "output_type": "stream",
     "text": [
      "[[1.6700707e-08 3.7074956e-04 9.9962926e-01]] \n",
      "예측값 : [2]\n"
     ]
    }
   ],
   "source": [
    "c = sess.run(hypothesis, feed_dict={X: [[1, 1, 0, 1]]})\n",
    "print(c, '\\n예측값 :', sess.run(tf.arg_max(c, 1)))"
   ]
  },
  {
   "cell_type": "code",
   "execution_count": 17,
   "metadata": {},
   "outputs": [
    {
     "name": "stdout",
     "output_type": "stream",
     "text": [
      "[[1.6700707e-08 3.7074956e-04 9.9962926e-01]] \n",
      "예측값 : [2]\n"
     ]
    }
   ],
   "source": [
    "c = sess.run(hypothesis, feed_dict={X: [[1, 1, 0, 1]]})\n",
    "print(c, '\\n예측값 :', sess.run(tf.arg_max(c, 1)))"
   ]
  },
  {
   "cell_type": "markdown",
   "metadata": {},
   "source": [
    "## Animal Classification with softmax_cross_entropy_with_logits\n",
    "- Ref : https://kr.pinterest.com/explore/animal-classification-activity/?lp=true\n",
    "- Data : https://archive.ics.uci.edu/ml/machine-learning-databases/zoo/zoo.data\n"
   ]
  },
  {
   "cell_type": "code",
   "execution_count": 22,
   "metadata": {},
   "outputs": [
    {
     "name": "stdout",
     "output_type": "stream",
     "text": [
      "(101, 16) (101, 1)\n",
      "\n",
      "x_data :\n",
      " [[1. 0. 0. ... 0. 0. 1.]\n",
      " [1. 0. 0. ... 1. 0. 1.]\n",
      " [0. 0. 1. ... 1. 0. 0.]\n",
      " ...\n",
      " [1. 0. 0. ... 1. 0. 1.]\n",
      " [0. 0. 1. ... 0. 0. 0.]\n",
      " [0. 1. 1. ... 1. 0. 0.]]\n",
      "\n",
      "y_data :\n",
      " [[0.]\n",
      " [0.]\n",
      " [3.]\n",
      " [0.]\n",
      " [0.]\n",
      " [0.]\n",
      " [0.]\n",
      " [3.]\n",
      " [3.]\n",
      " [0.]\n",
      " [0.]\n",
      " [1.]\n",
      " [3.]\n",
      " [6.]\n",
      " [6.]\n",
      " [6.]\n",
      " [1.]\n",
      " [0.]\n",
      " [3.]\n",
      " [0.]\n",
      " [1.]\n",
      " [1.]\n",
      " [0.]\n",
      " [1.]\n",
      " [5.]\n",
      " [4.]\n",
      " [4.]\n",
      " [0.]\n",
      " [0.]\n",
      " [0.]\n",
      " [5.]\n",
      " [0.]\n",
      " [0.]\n",
      " [1.]\n",
      " [3.]\n",
      " [0.]\n",
      " [0.]\n",
      " [1.]\n",
      " [3.]\n",
      " [5.]\n",
      " [5.]\n",
      " [1.]\n",
      " [5.]\n",
      " [1.]\n",
      " [0.]\n",
      " [0.]\n",
      " [6.]\n",
      " [0.]\n",
      " [0.]\n",
      " [0.]\n",
      " [0.]\n",
      " [5.]\n",
      " [4.]\n",
      " [6.]\n",
      " [0.]\n",
      " [0.]\n",
      " [1.]\n",
      " [1.]\n",
      " [1.]\n",
      " [1.]\n",
      " [3.]\n",
      " [3.]\n",
      " [2.]\n",
      " [0.]\n",
      " [0.]\n",
      " [0.]\n",
      " [0.]\n",
      " [0.]\n",
      " [0.]\n",
      " [0.]\n",
      " [0.]\n",
      " [1.]\n",
      " [6.]\n",
      " [3.]\n",
      " [0.]\n",
      " [0.]\n",
      " [2.]\n",
      " [6.]\n",
      " [1.]\n",
      " [1.]\n",
      " [2.]\n",
      " [6.]\n",
      " [3.]\n",
      " [1.]\n",
      " [0.]\n",
      " [6.]\n",
      " [3.]\n",
      " [1.]\n",
      " [5.]\n",
      " [4.]\n",
      " [2.]\n",
      " [2.]\n",
      " [3.]\n",
      " [0.]\n",
      " [0.]\n",
      " [1.]\n",
      " [0.]\n",
      " [5.]\n",
      " [0.]\n",
      " [6.]\n",
      " [1.]]\n",
      "\n",
      "one_hot Tensor(\"one_hot_1:0\", shape=(?, 1, 7), dtype=float32)\n",
      "\n",
      "reshape Tensor(\"Reshape_1:0\", shape=(?, 7), dtype=float32)\n"
     ]
    }
   ],
   "source": [
    "import tensorflow as tf\n",
    "import numpy as np\n",
    "\n",
    "tf.set_random_seed(777)  # for reproducibility\n",
    "\n",
    "# Predicting animal type based on various features\n",
    "xy = np.loadtxt('./data/data-04-zoo.csv', delimiter=',', dtype=np.float32)\n",
    "\n",
    "x_data = xy[:, 0:-1]\n",
    "y_data = xy[:, [-1]]\n",
    "\n",
    "print(x_data.shape, y_data.shape)\n",
    "print('\\nx_data :\\n', x_data)\n",
    "print('\\ny_data :\\n', y_data)\n",
    "\n",
    "nb_classes = 7  # 0 ~ 6\n",
    "\n",
    "X = tf.placeholder(tf.float32, [None, 16])\n",
    "Y = tf.placeholder(tf.int32, [None, 1])  # 0 ~ 6\n",
    "\n",
    "Y_one_hot = tf.one_hot(Y, nb_classes)  # one hot\n",
    "print(\"\\none_hot\", Y_one_hot)\n",
    "\n",
    "Y_one_hot = tf.reshape(Y_one_hot, [-1, nb_classes])\n",
    "print(\"\\nreshape\", Y_one_hot)\n",
    "\n",
    "W = tf.Variable(tf.random_normal([16, nb_classes]), name='weight')\n",
    "b = tf.Variable(tf.random_normal([nb_classes]), name='bias')\n",
    "\n",
    "# tf.nn.softmax computes softmax activations\n",
    "# softmax = exp(logits) / reduce_sum(exp(logits), dim)\n",
    "logits = tf.matmul(X, W) + b\n",
    "hypothesis = tf.nn.softmax(logits)\n",
    "\n",
    "# Cross entropy cost/loss\n",
    "cost_i = tf.nn.softmax_cross_entropy_with_logits(logits=logits,\n",
    "                                                 labels=Y_one_hot)\n",
    "cost = tf.reduce_mean(cost_i)\n",
    "optimizer = tf.train.GradientDescentOptimizer(learning_rate=0.1).minimize(cost)\n",
    "\n",
    "prediction = tf.argmax(hypothesis, 1)\n",
    "correct_prediction = tf.equal(prediction, tf.argmax(Y_one_hot, 1))\n",
    "accuracy = tf.reduce_mean(tf.cast(correct_prediction, tf.float32))"
   ]
  },
  {
   "cell_type": "code",
   "execution_count": 20,
   "metadata": {},
   "outputs": [
    {
     "name": "stdout",
     "output_type": "stream",
     "text": [
      "Step:     0, \t Loss: 5.593, \t Acc: 4.95%\n",
      "Step:   100, \t Loss: 0.600, \t Acc: 82.18%\n",
      "Step:   200, \t Loss: 0.391, \t Acc: 89.11%\n",
      "Step:   300, \t Loss: 0.288, \t Acc: 91.09%\n",
      "Step:   400, \t Loss: 0.224, \t Acc: 96.04%\n",
      "Step:   500, \t Loss: 0.182, \t Acc: 98.02%\n",
      "Step:   600, \t Loss: 0.152, \t Acc: 99.01%\n",
      "Step:   700, \t Loss: 0.131, \t Acc: 99.01%\n",
      "Step:   800, \t Loss: 0.115, \t Acc: 99.01%\n",
      "Step:   900, \t Loss: 0.102, \t Acc: 99.01%\n",
      "Step:  1000, \t Loss: 0.093, \t Acc: 99.01%\n",
      "Step:  1100, \t Loss: 0.084, \t Acc: 99.01%\n",
      "Step:  1200, \t Loss: 0.078, \t Acc: 100.00%\n",
      "Step:  1300, \t Loss: 0.072, \t Acc: 100.00%\n",
      "Step:  1400, \t Loss: 0.067, \t Acc: 100.00%\n",
      "Step:  1500, \t Loss: 0.063, \t Acc: 100.00%\n",
      "Step:  1600, \t Loss: 0.059, \t Acc: 100.00%\n",
      "Step:  1700, \t Loss: 0.056, \t Acc: 100.00%\n",
      "Step:  1800, \t Loss: 0.053, \t Acc: 100.00%\n",
      "Step:  1900, \t Loss: 0.051, \t Acc: 100.00%\n"
     ]
    }
   ],
   "source": [
    "# Launch the graph in a session.\n",
    "sess = tf.Session()\n",
    "\n",
    "# Initializes global variables in the graph.\n",
    "sess.run(tf.global_variables_initializer())\n",
    "\n",
    "for step in range(2000):\n",
    "    sess.run(optimizer, feed_dict={X: x_data, Y: y_data})\n",
    "    if step % 100 == 0:\n",
    "        loss, acc = sess.run([cost, accuracy], feed_dict={\n",
    "                             X: x_data, Y: y_data})\n",
    "        print(\"Step: {:5}, \\t Loss: {:.3f}, \\t Acc: {:.2%}\".format(\n",
    "            step, loss, acc))"
   ]
  },
  {
   "cell_type": "code",
   "execution_count": 21,
   "metadata": {},
   "outputs": [
    {
     "name": "stdout",
     "output_type": "stream",
     "text": [
      "[True]  Prediction : 0,  True Y : 0\n",
      "[True]  Prediction : 0,  True Y : 0\n",
      "[True]  Prediction : 3,  True Y : 3\n",
      "[True]  Prediction : 0,  True Y : 0\n",
      "[True]  Prediction : 0,  True Y : 0\n",
      "[True]  Prediction : 0,  True Y : 0\n",
      "[True]  Prediction : 0,  True Y : 0\n",
      "[True]  Prediction : 3,  True Y : 3\n",
      "[True]  Prediction : 3,  True Y : 3\n",
      "[True]  Prediction : 0,  True Y : 0\n",
      "[True]  Prediction : 0,  True Y : 0\n",
      "[True]  Prediction : 1,  True Y : 1\n",
      "[True]  Prediction : 3,  True Y : 3\n",
      "[True]  Prediction : 6,  True Y : 6\n",
      "[True]  Prediction : 6,  True Y : 6\n",
      "[True]  Prediction : 6,  True Y : 6\n",
      "[True]  Prediction : 1,  True Y : 1\n",
      "[True]  Prediction : 0,  True Y : 0\n",
      "[True]  Prediction : 3,  True Y : 3\n",
      "[True]  Prediction : 0,  True Y : 0\n",
      "[True]  Prediction : 1,  True Y : 1\n",
      "[True]  Prediction : 1,  True Y : 1\n",
      "[True]  Prediction : 0,  True Y : 0\n",
      "[True]  Prediction : 1,  True Y : 1\n",
      "[True]  Prediction : 5,  True Y : 5\n",
      "[True]  Prediction : 4,  True Y : 4\n",
      "[True]  Prediction : 4,  True Y : 4\n",
      "[True]  Prediction : 0,  True Y : 0\n",
      "[True]  Prediction : 0,  True Y : 0\n",
      "[True]  Prediction : 0,  True Y : 0\n",
      "[True]  Prediction : 5,  True Y : 5\n",
      "[True]  Prediction : 0,  True Y : 0\n",
      "[True]  Prediction : 0,  True Y : 0\n",
      "[True]  Prediction : 1,  True Y : 1\n",
      "[True]  Prediction : 3,  True Y : 3\n",
      "[True]  Prediction : 0,  True Y : 0\n",
      "[True]  Prediction : 0,  True Y : 0\n",
      "[True]  Prediction : 1,  True Y : 1\n",
      "[True]  Prediction : 3,  True Y : 3\n",
      "[True]  Prediction : 5,  True Y : 5\n",
      "[True]  Prediction : 5,  True Y : 5\n",
      "[True]  Prediction : 1,  True Y : 1\n",
      "[True]  Prediction : 5,  True Y : 5\n",
      "[True]  Prediction : 1,  True Y : 1\n",
      "[True]  Prediction : 0,  True Y : 0\n",
      "[True]  Prediction : 0,  True Y : 0\n",
      "[True]  Prediction : 6,  True Y : 6\n",
      "[True]  Prediction : 0,  True Y : 0\n",
      "[True]  Prediction : 0,  True Y : 0\n",
      "[True]  Prediction : 0,  True Y : 0\n",
      "[True]  Prediction : 0,  True Y : 0\n",
      "[True]  Prediction : 5,  True Y : 5\n",
      "[True]  Prediction : 4,  True Y : 4\n",
      "[True]  Prediction : 6,  True Y : 6\n",
      "[True]  Prediction : 0,  True Y : 0\n",
      "[True]  Prediction : 0,  True Y : 0\n",
      "[True]  Prediction : 1,  True Y : 1\n",
      "[True]  Prediction : 1,  True Y : 1\n",
      "[True]  Prediction : 1,  True Y : 1\n",
      "[True]  Prediction : 1,  True Y : 1\n",
      "[True]  Prediction : 3,  True Y : 3\n",
      "[True]  Prediction : 3,  True Y : 3\n",
      "[True]  Prediction : 2,  True Y : 2\n",
      "[True]  Prediction : 0,  True Y : 0\n",
      "[True]  Prediction : 0,  True Y : 0\n",
      "[True]  Prediction : 0,  True Y : 0\n",
      "[True]  Prediction : 0,  True Y : 0\n",
      "[True]  Prediction : 0,  True Y : 0\n",
      "[True]  Prediction : 0,  True Y : 0\n",
      "[True]  Prediction : 0,  True Y : 0\n",
      "[True]  Prediction : 0,  True Y : 0\n",
      "[True]  Prediction : 1,  True Y : 1\n",
      "[True]  Prediction : 6,  True Y : 6\n",
      "[True]  Prediction : 3,  True Y : 3\n",
      "[True]  Prediction : 0,  True Y : 0\n",
      "[True]  Prediction : 0,  True Y : 0\n",
      "[True]  Prediction : 2,  True Y : 2\n",
      "[True]  Prediction : 6,  True Y : 6\n",
      "[True]  Prediction : 1,  True Y : 1\n",
      "[True]  Prediction : 1,  True Y : 1\n",
      "[True]  Prediction : 2,  True Y : 2\n",
      "[True]  Prediction : 6,  True Y : 6\n",
      "[True]  Prediction : 3,  True Y : 3\n",
      "[True]  Prediction : 1,  True Y : 1\n",
      "[True]  Prediction : 0,  True Y : 0\n",
      "[True]  Prediction : 6,  True Y : 6\n",
      "[True]  Prediction : 3,  True Y : 3\n",
      "[True]  Prediction : 1,  True Y : 1\n",
      "[True]  Prediction : 5,  True Y : 5\n",
      "[True]  Prediction : 4,  True Y : 4\n",
      "[True]  Prediction : 2,  True Y : 2\n",
      "[True]  Prediction : 2,  True Y : 2\n",
      "[True]  Prediction : 3,  True Y : 3\n",
      "[True]  Prediction : 0,  True Y : 0\n",
      "[True]  Prediction : 0,  True Y : 0\n",
      "[True]  Prediction : 1,  True Y : 1\n",
      "[True]  Prediction : 0,  True Y : 0\n",
      "[True]  Prediction : 5,  True Y : 5\n",
      "[True]  Prediction : 0,  True Y : 0\n",
      "[True]  Prediction : 6,  True Y : 6\n",
      "[True]  Prediction : 1,  True Y : 1\n"
     ]
    }
   ],
   "source": [
    "# Let's see if we can predict\n",
    "pred = sess.run(prediction, feed_dict={X: x_data})\n",
    "\n",
    "# y_data: (N,1) = flatten => (N, ) matches pred.shape\n",
    "for p, y in zip(pred, y_data.flatten()):\n",
    "    print(\"[{}]  Prediction : {},  True Y : {}\".format(p == int(y), p, int(y)))\n",
    "    # print(\"[{}]  Prediction : {},  True Y : {}, y_data : {}\".format(p == int(y), p, int(y), y_data))"
   ]
  },
  {
   "cell_type": "code",
   "execution_count": null,
   "metadata": {},
   "outputs": [],
   "source": []
  }
 ],
 "metadata": {
  "kernelspec": {
   "display_name": "Python 3",
   "language": "python",
   "name": "python3"
  },
  "language_info": {
   "codemirror_mode": {
    "name": "ipython",
    "version": 3
   },
   "file_extension": ".py",
   "mimetype": "text/x-python",
   "name": "python",
   "nbconvert_exporter": "python",
   "pygments_lexer": "ipython3",
   "version": "3.7.3"
  }
 },
 "nbformat": 4,
 "nbformat_minor": 2
}
