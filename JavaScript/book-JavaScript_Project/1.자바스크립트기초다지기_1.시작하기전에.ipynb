{
 "cells": [
  {
   "cell_type": "markdown",
   "metadata": {},
   "source": [
    "# chapter1 시작하기 전에\n",
    "\n",
    "## 1.1  개발환경설정\n",
    "### 1.1.1 코드편집기: 서브라임 텍스트\n",
    "\n",
    "> 서브라임텍스트\n",
    "- 코드자체를 시맨틱적(의미있게)으로 이해하고 사용하는 것이 중요\n",
    "- 코드 하나하나를 직접 작성하는 방식이 주\n",
    "- 단순, 가벼움\n",
    "- 기능을 확장하는 패키지 기능\n",
    "\n",
    "> 패키지 컨트롤\n",
    "- 패지키: 서브라임 텍스트에서 플러그인처럼 기능을 확장하는 관리자 도구\n",
    "- https://packagecontrol.io/\n",
    "\n",
    "\n",
    "### 1.1.2 크롬 개발자 도구\n",
    "- F12\n",
    "- Ctrl + Shift + I\n",
    "- 콘솔창: 콘솔을 직접 입력, 실행 / 오류메시지 출력\n",
    "- <font color = 'red'>실행 중단지점: 프로그램이 진행되는 도중 특정 부분을 중간에 멈추어 확인하기 위한 기능</font>\n",
    "- F5: 재실행"
   ]
  },
  {
   "cell_type": "markdown",
   "metadata": {},
   "source": [
    "## 1.2. 자바스크립트 바로 알기\n",
    "> 장점\n",
    "- 웹 브라우저에서 바로 실행해볼 수 있는 인터프리터 언어\n",
    "- 컴파일과정을 거치지 않고 즉시 실행-> 느리지만 학습에 유리\n",
    "- 파이어폭스와 구글 크롬에서 JIT(Just In Time Compilation: 동적 컴파일 기법)-> 성능이 비약적으로 향상\n",
    "\n",
    "### 1.2.1. 자바 스크립트 역할\n",
    "> 동적 처리와 상호작용 처리\n",
    "- HTML: 정적인 문서 -> 동적인 상태로 만듦.\n",
    "- HTML의 문서 객체 모델인 DOM(Document Object Model)을 직접 조작 가능\n",
    "- HTML안의 내용, 속성을 변경, 요소 추가, 삭제 가능\n",
    "- 상사용자와 상호작용하는 다양한 UI구현가능"
   ]
  },
  {
   "cell_type": "code",
   "execution_count": null,
   "metadata": {},
   "outputs": [],
   "source": [
    "<body>\n",
    "\t<label for = 'nick'>nickname</label>\n",
    "\t<input type = 'text' id = 'nick'>\n",
    "\n",
    "    <script>\n",
    "        var nick = document.getElementById('nick');\n",
    "\n",
    "        nick.value = '별명을 입력하세요';\n",
    "\n",
    "        nick.onfocus = function(){\n",
    "            this.style.background = 'orange';\n",
    "            this.value = '';\n",
    "        }\n",
    "    </script>\n",
    "\n",
    "</body>"
   ]
  },
  {
   "cell_type": "markdown",
   "metadata": {},
   "source": [
    "<table>\n",
    "    <tr>\n",
    "        <td>\n",
    "            <img src = './images/1-1-1.png'>\n",
    "        </td>\n",
    "        <td>\n",
    "            <img src = './images/1-1-2.png'>\n",
    "        </td>\n",
    "    </tr>\n",
    "    </table>\n"
   ]
  },
  {
   "cell_type": "markdown",
   "metadata": {},
   "source": [
    "> 접근성과 사용자 경험 개선\n",
    "- 접근성: 정보에 접근하는 관점에서 다양한 플랫폼, 디아비스에서 접근을 보장하는 것.\n",
    "- CSS나 자바스크립트: 정보의 접근성 향상을 위한 보완제로 봄\n",
    "- HTML로 만든 인터페이스를 자바 스크립트로 개선\n",
    "- 입력란에 들어가는 설명글(placeholder)기능, 입력이 잘 되었는지 검사 기능 등\n",
    "\n",
    "\n",
    "> 애플리케이션 개발\n",
    "- 거의 모든 플랫폼에서 사용가능(하이브리드 앱, 웹앱, 모바일, 데스크톱 애플리케이션까지)\n",
    "\n",
    "### 1.2.2. 자바 스크립트 작성 방식\n",
    "> 인라인 자바 스크립트(Inline JavaScript)\n",
    "- 태그 내 직접 자바스크립트 작성\n",
    "- 이벤트 핸들러 속성을 지정해 자바스크립트 실행하는 방식\n",
    "- 권장하지 않음.\n",
    "\n",
    "> 내부 자바스크립트(Internal JavaScript)\n",
    "- Html 문서 내 별도의 영역에 자바 스크립트 작성\n",
    "- <script> </script>태그 안에 작성\n",
    "- <head></head> <body></body> 어디에 넣어도 상관없음.\n",
    "    \n",
    "> 외부 자바스크립트(External JacaScript)\n",
    "- 외부 자바스크립트 파일(.js)로 작성\n",
    "- 불러올 때 <script> </script>태그 안의 src 속성에 자바스크립트 파일명 지정\n",
    "- <script> </script>태그 안에 자바스크립트 작성하면 무시됨."
   ]
  },
  {
   "cell_type": "markdown",
   "metadata": {},
   "source": [
    "<script src = 'app.js'></script>  "
   ]
  },
  {
   "cell_type": "markdown",
   "metadata": {},
   "source": [
    "### 1.2.3. CSS와 협업\n",
    "> 역할 분담을 통한 성능 향상\n",
    "- CSS: 그래픽처리가 하드웨어 가속으로 작동하므로 기존의 소프트웨어 구현방식보다 훨씬 빠름\n",
    "- <font color = 'red'>서버에서 동적으로 웹분서를 처리하는 부분도 자바 스크립트를 통해 클라이언트와 서버가 역할을 분담해 처리하고, 비동기처리(AJAX)방식을 이용해 페이지의 성능 향상을 꾀하는 추세 </font>\n",
    "- CSS: 그래픽 처리\n",
    "- 자바스크립트: 제어(애니메이션에 사용되는 경우는 사용자와 다양한 상호작용이 필요한 부분)"
   ]
  },
  {
   "cell_type": "code",
   "execution_count": null,
   "metadata": {},
   "outputs": [],
   "source": [
    "<!DOCTYE html>\n",
    "<html lang = 'en'>\n",
    "<head>\n",
    "\t<meta charset = 'UTF-8'>\n",
    "\t<title>Animation</title>\n",
    "\t<script  src =https://ajax.googleapis.com/ajax/libs/jquery/3.4.1/jquery.min.js >\n",
    "\t\t\n",
    "\t</script>\n",
    "\t<style>\n",
    "\t\tdiv{width: 100px; height:100px;\n",
    "\t\t\tborder:2px solid;\n",
    "\t\t\tmargin-bottom:20px;\n",
    "\t\t}\n",
    "\t\t/*CSS 모션 설정*/\n",
    "\t\t#box1{ transition-duration: 2s; \n",
    "\t\t}\n",
    "\t</style>\n",
    "</head>\n",
    "\n",
    "<body>\n",
    "\t<h1>CSS animation and JavaScript Animation</h1>\n",
    "\t<hr>\n",
    "\t<div id = 'box1'> CSS Animation</div>\n",
    "\t<div id = box2> Javascript Animation</div>\n",
    "\n",
    "\t<script>\n",
    "\t\tvar box1 = document.getElementById('box1');\n",
    "\t\tvar box2 = document.getElementById('box2');\n",
    "\n",
    "\t\t// css animation(Transition)\n",
    "\t\tbox1.onclick = function(){\n",
    "\t\t\tthis.style.marginLeft = '200px';\n",
    "\t\t};\n",
    "\n",
    "\t\t// JQuery Animation\n",
    "\t\tbox2.onclick = function(){\n",
    "\t\t\t$(this).animate({\n",
    "\t\t\t\tmarginLeft: '200px'\n",
    "\t\t\t}, 2000);\n",
    "\t\t};\n",
    "\t</script>\n",
    "\n",
    "\n",
    "</body> \n",
    "</html>"
   ]
  },
  {
   "cell_type": "markdown",
   "metadata": {
    "ExecuteTime": {
     "end_time": "2020-05-07T11:18:12.027586Z",
     "start_time": "2020-05-07T11:18:12.015585Z"
    }
   },
   "source": [
    "<table>\n",
    "    <tr>\n",
    "        <td>\n",
    "            <img src = './images/1-5-1.png'>\n",
    "        </td>\n",
    "        <td>\n",
    "            <img src = './images/1-5-2.png'>\n",
    "        </td>\n",
    "    </tr>\n",
    "</table>"
   ]
  },
  {
   "cell_type": "markdown",
   "metadata": {
    "ExecuteTime": {
     "end_time": "2020-05-07T11:22:23.397017Z",
     "start_time": "2020-05-07T11:22:23.389023Z"
    }
   },
   "source": [
    ">> CSS로 처리한 애니메이션이 더 부드럽게 움직이는 이유\n",
    "- CSS가 하드웨어 가속으로 처리되어 소프트웨어적으로 처리하는 자바스크립트 메서드보다 성능이 좋기 때문\n",
    "\n",
    "\n",
    "> 기능 보완 및 호환성\n",
    "- 구형 브라우저는 애니베이션 효과 등을 지원하지 않는데 이를 자바스크립트가 보완해줄 수 있음.\n",
    "- JQuery라이브러리를 활용하면 자바스크립트로 짜는 것보다 상대적으로 간단하게 구현할 수 있고 브라우저간 호환성에 도움을 줌"
   ]
  },
  {
   "cell_type": "code",
   "execution_count": null,
   "metadata": {},
   "outputs": [],
   "source": []
  }
 ],
 "metadata": {
  "kernelspec": {
   "display_name": "Python 3",
   "language": "python",
   "name": "python3"
  },
  "language_info": {
   "codemirror_mode": {
    "name": "ipython",
    "version": 3
   },
   "file_extension": ".py",
   "mimetype": "text/x-python",
   "name": "python",
   "nbconvert_exporter": "python",
   "pygments_lexer": "ipython3",
   "version": "3.6.10"
  },
  "toc": {
   "base_numbering": 1,
   "nav_menu": {},
   "number_sections": false,
   "sideBar": true,
   "skip_h1_title": false,
   "title_cell": "Table of Contents",
   "title_sidebar": "Contents",
   "toc_cell": false,
   "toc_position": {},
   "toc_section_display": true,
   "toc_window_display": false
  }
 },
 "nbformat": 4,
 "nbformat_minor": 4
}
