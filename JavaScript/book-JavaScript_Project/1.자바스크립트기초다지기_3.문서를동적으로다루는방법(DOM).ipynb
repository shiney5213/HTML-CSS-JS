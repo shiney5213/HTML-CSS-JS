{
 "cells": [
  {
   "cell_type": "markdown",
   "metadata": {},
   "source": [
    "# 3. 문서를 동적으로 다루는 방법: DOM\n",
    "- 자바스크립트로 문서 객체(DOM)을 조작하는 방법으로 학습\n",
    "\n",
    "## 3.1. 하나의 문서 객체를 선택하는 메서드\n",
    "> DOM\n",
    "- Document Object Model\n",
    "- Html문서 내의 객체화된 구성 요소\n",
    "- 하나하나의 요소에 대해 CSS는 선택자를 지정해 원하는 요소에 접근\n",
    "- 자바스츠립트: document 객체에 소속된 DOM 메서드를 통해 특정 요소를 선택하거나 조작\n",
    "    \n",
    "> DOM 메서드\n",
    "- document.getElementById(id명) : 아이디를 사용해 문서 객체(요소) 선택\n",
    "- documnet.querySelector(CSS 선택자) : CSS선택자를 사용하는 방식\n",
    "\n",
    "\n",
    "#### 아이디를 사용하는 방식\n",
    "- 요소에 접근하는 가장 빠른 방식\n",
    "- 하나의 요소에만 선택 가능\n"
   ]
  },
  {
   "cell_type": "markdown",
   "metadata": {},
   "source": [
    "<h2 id = 'title'>document.getElementById</h2>\n",
    "\t<script>\n",
    "\t\tvar title = document.getElementById('title');\n",
    "\n",
    "\t\ttitle.style.color = 'white';\n",
    "\t\ttitle.style.background = 'orange';\n",
    "\t\ttitle.innerHTML = 'JavaScript로 문서를 조작';\n",
    "\t</script>"
   ]
  },
  {
   "cell_type": "markdown",
   "metadata": {},
   "source": [
    "![3-1-1](images/3-1-1.png)"
   ]
  },
  {
   "cell_type": "markdown",
   "metadata": {},
   "source": [
    "#### CSS 선택자를 사용하는 방법\n",
    "- 편리하지만 가장 첫번재 요소만 선택 가능"
   ]
  },
  {
   "cell_type": "markdown",
   "metadata": {},
   "source": [
    "![3-1-2](images/3-1-2.png)"
   ]
  },
  {
   "cell_type": "markdown",
   "metadata": {},
   "source": [
    "## 3.2. 여러 문서 객체를 선택하는 메서드\n",
    "> DOM method\n",
    "- document.getElementsByTagName(요소명) : 태그명으로 여러 문서 객체 선택\n",
    "- document.getElementsByClassName(클래스명) : 클래스명으로 여러 문서 객체 선택\n",
    "- document.querySelectorALL(CSS선택자) : CSS 선택자로여러 문서 객체 선택\n",
    "\n",
    "#### 태그명을 사용하는 방식\n",
    "- 태그는 문서 내에서 중복 사용할 수 잇으므로 작성한 만큼 배열로 판단"
   ]
  },
  {
   "cell_type": "markdown",
   "metadata": {},
   "source": [
    "<h2>getElementsByTagName()</h2>\n",
    "<ul>\n",
    "    <li>first</li>\n",
    "    <li>second</li>\n",
    "    <li>thire</li>\n",
    "\n",
    "</ul>\n",
    "<script>\n",
    "    var li = document.getElementsByTagName('li');\n",
    "    li[1].style.backgroundColor = 'blue';\n",
    "    li[1].style.color = 'red';\n",
    "\n",
    "</script>"
   ]
  },
  {
   "cell_type": "markdown",
   "metadata": {},
   "source": [
    "![3-2-1](images/3-2-1.png)"
   ]
  },
  {
   "cell_type": "markdown",
   "metadata": {},
   "source": [
    "#### CSS 선택자를 사용하는 방식\n",
    "- CSS선택자와 같은 방식으로 문서 객체 선택, 매우 편리한 메서드"
   ]
  },
  {
   "cell_type": "markdown",
   "metadata": {},
   "source": [
    "<h2>querySelectorAll()</h2>\n",
    "<ul>\n",
    "    <li>first</li>\n",
    "    <li>second</li>\n",
    "    <li>third</li>\n",
    "\n",
    "</ul>\n",
    "<script>\n",
    "    function setColor(){\n",
    "        var li = document.querySelectorAll('li');\n",
    "\n",
    "        for(var i= 0; i<li.length; i ++){\n",
    "            li[i].style.color = 'green';\n",
    "            li[i].style.backgroundColor = 'orange';\n",
    "        }\n",
    "    }\n",
    "\n",
    "    setColor()\n",
    "\n",
    "</script>\n"
   ]
  },
  {
   "cell_type": "markdown",
   "metadata": {},
   "source": [
    "![3-2-2](images/3-2-2.png)"
   ]
  },
  {
   "cell_type": "markdown",
   "metadata": {},
   "source": [
    "## 3.3. 텍스트 조작과 DOM 속성 다루기\n",
    "> 자바스크립트에서 문저 객체를 조작하는 방법\n",
    "- 문서객체(DOM)의 텍스트 정보를 조작\n",
    "- 문서 객체 내부의 속성(CSS, 요소 내부의 여러 속성을 의미) 정보를 조작하는 것\n",
    "\n",
    "### 3.3.1. 텍스트 조작\n",
    "> 문서객체 내 정보를 변경하는 자바스크립트 속성\n",
    "- 일반텍스트로 처리: innerText(요소 내부의 텍스트를 읽거나 변경)\n",
    "- HTML로 처리 : innerHTML(요소 내부의 HTML 형식을 읽거나 처리)"
   ]
  },
  {
   "cell_type": "markdown",
   "metadata": {},
   "source": [
    "<div id = content> </div>\n",
    "<script>\n",
    "    var content = document.querySelector('#content');\n",
    "\n",
    "    // 텍스트 삽입\n",
    "    content.innerText = '<h1> new Text</h1>';\n",
    "\n",
    "    // HTML삽입\n",
    "    content.innerHTML +=  '<h1> new Text</h1>';\n",
    "\n",
    "</script>"
   ]
  },
  {
   "cell_type": "markdown",
   "metadata": {},
   "source": [
    "![3-3-1](images/3-3-1.png)"
   ]
  },
  {
   "cell_type": "markdown",
   "metadata": {},
   "source": [
    "- innerText: 순수한 텍스트 정보만 추가\n",
    "- innerHTML: 실제 HTML 코드 반영\n",
    "\n",
    "### 3.3.2. style 객체와 속성\n",
    "- 스타일객체로 문서 객체의 스타일 속성 조작\n",
    "\n",
    "> 자바스크립트에서 스타일 객체에 속성 지정할 때\n",
    "- 하이픈(-)사용 불가, \n",
    "- 시작문자를 대문자로 붙여서 사용\n",
    "\n",
    "> 스타일 속성명\n",
    ">> CSS\n",
    "- background-image\n",
    "- background-color\n",
    "- list-style\n",
    "\n",
    ">> 자바스크립트\n",
    "- backgroundImage\n",
    "- backgroundcolor\n",
    "- listStyle"
   ]
  },
  {
   "cell_type": "markdown",
   "metadata": {},
   "source": [
    "<h2>스타일 객체와 속성 변경</h2>\n",
    "<div id = 'box'> 색상바꾸기</div>\n",
    "<button onclick = 'setColor()'>click</button>\n",
    "\n",
    "<script>\n",
    "    function setColor(){\n",
    "        var box = document.getElementById('box');\n",
    "        box.style.color = 'white';\n",
    "        box.style.backgroundColor= 'orange';\n",
    "    }\n",
    "\n",
    "</script>"
   ]
  },
  {
   "cell_type": "markdown",
   "metadata": {},
   "source": [
    "<table>\n",
    "    <tr>\n",
    "        <td><img src = 'images/3-3-2.png'></td>\n",
    "        <td><img src = 'images/3-3-3.png'></td>\n",
    "    </tr>\n",
    "    </table>"
   ]
  },
  {
   "cell_type": "markdown",
   "metadata": {},
   "source": [
    "<font color = 'red'> 자바스크립트에서 스타일 변경하면 CSS에서 정의한 것 무효가 됨 </font>"
   ]
  },
  {
   "cell_type": "markdown",
   "metadata": {},
   "source": [
    "### 3.3.3. 속성 조작\n",
    "> 비표준 속성\n",
    "- HTML5에서 추가된 것\n",
    "- 사용자가 'data-'속성을 사용해 속성명을 자유롭게 정의할 수 있음.\n",
    "\n",
    "> 속성 조작 메서드\n",
    "- setAttribute(속성명, 값): 속성값 설정\n",
    "- getAttribute(속성명) : 속성값 읽기\n",
    "- removeAttribute(속성명) : 속성 제거\n",
    "\n",
    "#### 속성 설정하기\n",
    "> setAttribute()메서드\n",
    "- 문서 객체 내 특정 class를 추가 가능"
   ]
  },
  {
   "cell_type": "markdown",
   "metadata": {},
   "source": [
    "#### id속성에 class 속성 추가"
   ]
  },
  {
   "cell_type": "markdown",
   "metadata": {},
   "source": [
    "<style>\n",
    "    #box{\n",
    "        width: 100px;\n",
    "        height: 100px;\n",
    "        border: 3px solid black;\n",
    "    }\n",
    "    .box{\n",
    "        background-color: orange;\n",
    "    }\n",
    "</style>\n",
    "\n",
    "<body>\n",
    "\t<h2>속성 조작</h2>\n",
    "\t<hr>\n",
    "\n",
    "\t<h2>setAttribute()메서드</h2>\n",
    "\t<div id = 'box' onclick = 'changeColor()'>Hello Box</div>\n",
    "\t<script>\n",
    "\t\tfunction changeColor(){\n",
    "\t\t\tvar box = document.getElementById('box');\n",
    "\t\t\tbox.setAttribute('class', 'box')\n",
    "\t\t}\n",
    "\n",
    "\t</script>\n",
    "</body> "
   ]
  },
  {
   "cell_type": "markdown",
   "metadata": {},
   "source": [
    "<table>\n",
    "    <tr>\n",
    "        <td><img src = 'images/3-3-4.png'></td>\n",
    "        <td><img src = 'images/3-3-5.png'></td>\n",
    "    </tr>\n",
    "    </table>"
   ]
  },
  {
   "cell_type": "markdown",
   "metadata": {},
   "source": [
    "#### 속성 읽기: getAttribute(속성, 값)\n",
    "- 속성을 추가한 다음 해당 속성 읽어보기\n",
    "- class속성을 값이름으로 추가"
   ]
  },
  {
   "cell_type": "code",
   "execution_count": null,
   "metadata": {},
   "outputs": [],
   "source": [
    "<script>\n",
    "    function changeColor(){\n",
    "        var box = document.getElementById('box');\n",
    "        box.setAttribute('class', 'box')\n",
    "\n",
    "        var getAttr = box.getAttribute('class');\n",
    "        alert(getAttr);\n",
    "    }\n",
    "\n",
    "</script>"
   ]
  },
  {
   "cell_type": "markdown",
   "metadata": {},
   "source": [
    "![3-3-6](images/3-3-6.png)"
   ]
  },
  {
   "cell_type": "markdown",
   "metadata": {},
   "source": [
    "#### 속성 제거하기: removeAttribute()\n",
    "- 속서의 제거, 추가는 어떤 요소에 스타일링을 동적으로 작업할 대 유용함"
   ]
  },
  {
   "cell_type": "markdown",
   "metadata": {},
   "source": [
    "<script>\n",
    "    function changeColor(){\n",
    "        var box = document.getElementById('box');\n",
    "        box.setAttribute('class', 'box')\n",
    "\n",
    "        var getAttr = box.getAttribute('class');\n",
    "        alert(getAttr);\n",
    "\n",
    "        box.removeAttribute('class');\n",
    "        var getAttr = box.getAttribute('class');\n",
    "\n",
    "        alert(getAttr)\n",
    "    }\n",
    "\n",
    "</script>"
   ]
  },
  {
   "cell_type": "markdown",
   "metadata": {},
   "source": [
    "![3-3-7](images/3-3-7.png)"
   ]
  },
  {
   "cell_type": "markdown",
   "metadata": {},
   "source": [
    "### 3.3.4 연습문제\n",
    "- red 버튼을 누르면 박스가 빨간색으로, blue버튼을 누르면 박스가 파란색으로 변하게 구현하기"
   ]
  },
  {
   "cell_type": "markdown",
   "metadata": {},
   "source": [
    "<div id = 'box'>버튼을 누르시요</div>\n",
    "<button  onclick = 'red()'>red</button>\n",
    "<button  onclick = 'blue()'>blue</button>\n",
    "\n",
    "<script>\n",
    "    function red(){\n",
    "        var box = document.getElementById('box');\n",
    "\n",
    "        box.setAttribute('class', 'box2');\n",
    "\n",
    "        var getattr = box.getAttribute('class');\n",
    "        alert(getattr);\n",
    "    }\n",
    "\n",
    "    function blue(){\n",
    "        var box = document.getElementById('box');\n",
    "        box.removeAttribute('class');\n",
    "        var getattr = box.getAttribute('class');\n",
    "        alert(getattr);\n",
    "\n",
    "\n",
    "    }\n",
    "\n",
    "</script>"
   ]
  },
  {
   "cell_type": "markdown",
   "metadata": {},
   "source": [
    "<table>\n",
    "    <tr>\n",
    "        <td><img src = 'images/3-3-8.png'></td>\n",
    "<!--         <td><img src = 'images/3-3-3.png'></td> -->\n",
    "    </tr>\n",
    "</table>"
   ]
  },
  {
   "cell_type": "code",
   "execution_count": null,
   "metadata": {},
   "outputs": [],
   "source": []
  }
 ],
 "metadata": {
  "kernelspec": {
   "display_name": "Python 3",
   "language": "python",
   "name": "python3"
  },
  "language_info": {
   "codemirror_mode": {
    "name": "ipython",
    "version": 3
   },
   "file_extension": ".py",
   "mimetype": "text/x-python",
   "name": "python",
   "nbconvert_exporter": "python",
   "pygments_lexer": "ipython3",
   "version": "3.6.10"
  }
 },
 "nbformat": 4,
 "nbformat_minor": 4
}
