{
 "cells": [
  {
   "cell_type": "markdown",
   "metadata": {},
   "source": [
    "# 6. 프로젝트1: 계산기\n",
    "## 6.1.개요\n",
    "\n",
    "> 작업순서\n",
    "- 1. HTML, CSS\n",
    "- 2. 주요 변수 선언\n",
    "- 3. 숫자 및 사칙 연산 버튼 처리\n",
    "- 4. 계산 결과 및 버튼 처리\n",
    "- 5. 계산기 초기화 및 버튼 처리\n",
    "- 6. 계산 결과 및 버튼 처리\n",
    "- 7. 오류(기능 개선)\n",
    "\n",
    "## 6.2. 사전 학습: form 요소\n",
    "- 다양한 정보를 입력할 때 사용\n",
    "\n",
    "### 6.2.1. form 객체\n",
    "> form객체에 접근하는 두가지 방식\n",
    "- document.formName.typeName.속성\n",
    "- document.forms['formalName']['typeName'].속성\n",
    "\n",
    "#### document.formName.typeName.속성\n",
    "- document객쳊의 직계로 form속성에 정의된 name의 값이 form 요소의 객체명이 됨.\n",
    "\n",
    "#### document.forms['formName']['typeName']\n",
    "- forms라는 객체명을 통해 접근\n",
    "- forms 객체의 배열 값에 form에서 지정한 name 속성의 값을 지정하면 해당 form에 접근 가능"
   ]
  },
  {
   "cell_type": "code",
   "execution_count": null,
   "metadata": {},
   "outputs": [],
   "source": [
    "<style>\n",
    "    label{\n",
    "        float: left;\n",
    "        width:80px;\n",
    "    }\n",
    "    input, label{\n",
    "        display: block;\n",
    "        margin-bottom: 10px;\n",
    "    }\n",
    "\n",
    "</style>"
   ]
  },
  {
   "cell_type": "code",
   "execution_count": null,
   "metadata": {},
   "outputs": [],
   "source": [
    "<h2>form 속성 </h2>\n",
    "<hr>\n",
    "\n",
    "<form name=\"frm\">\n",
    "    <label for=\"myId\">ID:</label>\n",
    "    <input type=\"text\" id = 'myId' name = 'myId'>\n",
    "    <label for=\"pwd\">password:</label>\n",
    "    <input type=\"password\" id = 'pwd' name = 'pwd'>\n",
    "    <input type=\"button\" name = send value='로그인'>\n",
    "</form>\n",
    "\n",
    "<script>\n",
    "    var frm =document.frm; \n",
    "    var myId = frm.myId; // id입력란 객제\n",
    "    //document.forms['frm']['text'] : form객체 내 name='text'인 입력 요소 지정\n",
    "    var pwd = frm.pwd;  //pwd입력란\n",
    "    var send_btn = document.frm.send;\n",
    "\n",
    "    send_btn.onclick = function(){\n",
    "        var newId = myId.value;\n",
    "        var newPwd = pwd.value;\n",
    "\n",
    "        if(newId=='' ||newPwd==''){\n",
    "            alert('id나 password를 입력해주세요')\n",
    "        }else{\n",
    "            alert(myId.value + '님 환영합니다!')\n",
    "        }\n",
    "    };\n",
    "\n",
    "</script>"
   ]
  },
  {
   "cell_type": "markdown",
   "metadata": {},
   "source": [
    "<table>\n",
    "<tr>\n",
    "<td><img src = 'images/6-2-1.png'></td>\n",
    "<td><img src = 'images/6-2-2.png'></td>\n",
    "</tr>\n",
    "</table>"
   ]
  },
  {
   "cell_type": "markdown",
   "metadata": {},
   "source": [
    "### 6.2.2. this 객체\n",
    "- 현재 호출한 객체를 의미"
   ]
  },
  {
   "cell_type": "code",
   "execution_count": null,
   "metadata": {},
   "outputs": [],
   "source": [
    "<h2>this 객체 </h2>\n",
    "<hr>\n",
    "\n",
    "<ul id = 'gnb'> \n",
    "    <li>first</li>\n",
    "    <li>second</li>\n",
    "    <li>third</li>\n",
    "</ul>\n",
    "\n",
    "<script>\n",
    "    var gnb = document.getElementById('gnb');\n",
    "    var li = gnb.getElementsByTagName('li');\n",
    "\n",
    "    li[0].onclick = function(){\n",
    "        this.style.backgroundColor= 'red'\n",
    "    }\n",
    "</script>"
   ]
  },
  {
   "cell_type": "markdown",
   "metadata": {},
   "source": [
    "![6-2-3](images/6-2-3.png)"
   ]
  },
  {
   "cell_type": "markdown",
   "metadata": {},
   "source": [
    "## 6.3. 구현하기\n",
    "### 6.3.1. HTML, CSS\n"
   ]
  },
  {
   "cell_type": "code",
   "execution_count": null,
   "metadata": {},
   "outputs": [],
   "source": [
    "#### html\n",
    "<head>\n",
    "\t<link rel = 'stylesheet' href = 'css/6-3(calculator).css'>\n",
    "</head>\n",
    "\n",
    "<body>\n",
    "<h2>계산기 </h2>\n",
    "<hr>\n",
    "\n",
    "<form name = 'cal'>\n",
    "    <table>\n",
    "        <caption>계산기</caption>\n",
    "        <tr>\n",
    "            <th colsapn = '4'><input type = 'text' name = result value == 0></th>\n",
    "        </tr>\n",
    "        <tr>\n",
    "            <td><input type=\"button\" value = '7'></td>\n",
    "            <td><input type=\"button\" value = '8'></td>\n",
    "            <td><input type=\"button\" value = '9'></td>\n",
    "            <td><input type=\"button\" value = '+'></td>\n",
    "        </tr>\n",
    "        <tr>\n",
    "            <td><input type=\"button\" value = '4'></td>\n",
    "            <td><input type=\"button\" value = '5'></td>\n",
    "            <td><input type=\"button\" value = '6'></td>\n",
    "            <td><input type=\"button\" value = '-'></td>\n",
    "        </tr>\n",
    "        <tr>\n",
    "            <td><input type=\"button\" value = '1'></td>\n",
    "            <td><input type=\"button\" value = '2'></td>\n",
    "            <td><input type=\"button\" value = '3'></td>\n",
    "            <td><input type=\"button\" value = '*'></td>\n",
    "        </tr>\n",
    "        <tr>\n",
    "            <td colspan = '2'><input type = 'button' value = 'o'></td>\n",
    "            <td><input type=\"button\" value = '%'></td>\n",
    "            <td><input type=\"button\" value = '/'></td>\n",
    "        </tr>\n",
    "        <tr>\n",
    "            <td colspan = '2'><input type=\"button\" class = 'cls_btn' value = 'clear'></td>\n",
    "            <td colspan = '2'><input type=\"button\" class = 'result_btn' value = '='></td>\n",
    "        </tr>\n",
    "    </table>\n",
    "</form>\n",
    "</body> "
   ]
  },
  {
   "cell_type": "code",
   "execution_count": null,
   "metadata": {},
   "outputs": [],
   "source": [
    "#css\n",
    "caption{\n",
    "    font-size: 32;\n",
    "    text-align: center;\n",
    "}\n",
    "table{width: 320px;}\n",
    "table, th{background-color: #333;}\n",
    "th{\n",
    "    padding-right: 10px;\n",
    "    height: 80px;\n",
    "}\n",
    "td{\n",
    "    height: 75px;\n",
    "    text-align: center;\n",
    "}\n",
    "\n",
    "/* th안의 모든 input 태크 */\n",
    "th>input{\n",
    "    width: 100%;\n",
    "    border: none;\n",
    "    background: #333;\n",
    "    color: white;\n",
    "    text-align: right;\n",
    "    font-size: 48px;\n",
    "}\n",
    "/* th내 input태그 중 type이 버튼인 것 */\n",
    "td>input[type='button']{\n",
    "    width: 100%;\n",
    "    height: inherit; /* 부모로부터 상송 */  \n",
    "    color: #333;\n",
    "    font-size: 36px;\n",
    "    border: none;\n",
    "}\n",
    "td>input[type = 'button']:hober{\n",
    "    background: #999;\n",
    "}\n",
    "/* td안의 마지막 속성내 input태크 */\n",
    "td:last-child>input{\n",
    "    background:orange;\n",
    "    color: white;\n",
    "}"
   ]
  },
  {
   "cell_type": "markdown",
   "metadata": {},
   "source": [
    "### 6.3.2. 변수 선언\n"
   ]
  },
  {
   "cell_type": "code",
   "execution_count": null,
   "metadata": {},
   "outputs": [],
   "source": []
  },
  {
   "cell_type": "code",
   "execution_count": null,
   "metadata": {},
   "outputs": [],
   "source": []
  }
 ],
 "metadata": {
  "kernelspec": {
   "display_name": "Python 3",
   "language": "python",
   "name": "python3"
  },
  "language_info": {
   "codemirror_mode": {
    "name": "ipython",
    "version": 3
   },
   "file_extension": ".py",
   "mimetype": "text/x-python",
   "name": "python",
   "nbconvert_exporter": "python",
   "pygments_lexer": "ipython3",
   "version": "3.6.10"
  }
 },
 "nbformat": 4,
 "nbformat_minor": 4
}
