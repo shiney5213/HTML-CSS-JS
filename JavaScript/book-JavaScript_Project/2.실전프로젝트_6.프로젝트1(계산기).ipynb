{
 "cells": [
  {
   "cell_type": "markdown",
   "metadata": {},
   "source": [
    "# 6. 프로젝트1: 계산기\n",
    "## 6.1.개요\n",
    "\n",
    "> 작업순서\n",
    "- 1. HTML, CSS\n",
    "- 2. 주요 변수 선언\n",
    "- 3. 숫자 및 사칙 연산 버튼 처리\n",
    "- 4. 계산 결과 및 버튼 처리\n",
    "- 5. 계산기 초기화 및 버튼 처리\n",
    "- 6. 계산 결과 및 버튼 처리\n",
    "- 7. 오류(기능 개선)\n",
    "\n",
    "## 6.2. 사전 학습: form 요소\n",
    "- 다양한 정보를 입력할 때 사용\n",
    "\n",
    "### 6.2.1. form 객체\n",
    "> form객체에 접근하는 두가지 방식\n",
    "- document.formName.typeName.속성\n",
    "- document.forms['formalName']['typeName'].속성\n",
    "\n",
    "#### document.formName.typeName.속성\n",
    "- document객쳊의 직계로 form속성에 정의된 name의 값이 form 요소의 객체명이 됨.\n",
    "\n",
    "#### document.forms['formName']['typeName']\n",
    "- forms라는 객체명을 통해 접근\n",
    "- forms 객체의 배열 값에 form에서 지정한 name 속성의 값을 지정하면 해당 form에 접근 가능"
   ]
  },
  {
   "cell_type": "code",
   "execution_count": null,
   "metadata": {},
   "outputs": [],
   "source": [
    "<style>\n",
    "    label{\n",
    "        float: left;\n",
    "        width:80px;\n",
    "    }\n",
    "    input, label{\n",
    "        display: block;\n",
    "        margin-bottom: 10px;\n",
    "    }\n",
    "\n",
    "</style>"
   ]
  },
  {
   "cell_type": "code",
   "execution_count": null,
   "metadata": {},
   "outputs": [],
   "source": [
    "<h2>form 속성 </h2>\n",
    "<hr>\n",
    "\n",
    "<form name=\"frm\">\n",
    "    <label for=\"myId\">ID:</label>\n",
    "    <input type=\"text\" id = 'myId' name = 'myId'>\n",
    "    <label for=\"pwd\">password:</label>\n",
    "    <input type=\"password\" id = 'pwd' name = 'pwd'>\n",
    "    <input type=\"button\" name = send value='로그인'>\n",
    "</form>\n",
    "\n",
    "<script>\n",
    "    var frm =document.frm; \n",
    "    var myId = frm.myId; // id입력란 객제\n",
    "    //document.forms['frm']['text'] : form객체 내 name='text'인 입력 요소 지정\n",
    "    var pwd = frm.pwd;  //pwd입력란\n",
    "    var send_btn = document.frm.send;\n",
    "\n",
    "    send_btn.onclick = function(){\n",
    "        var newId = myId.value;\n",
    "        var newPwd = pwd.value;\n",
    "\n",
    "        if(newId=='' ||newPwd==''){\n",
    "            alert('id나 password를 입력해주세요')\n",
    "        }else{\n",
    "            alert(myId.value + '님 환영합니다!')\n",
    "        }\n",
    "    };\n",
    "\n",
    "</script>"
   ]
  },
  {
   "cell_type": "markdown",
   "metadata": {},
   "source": [
    "<table>\n",
    "<tr>\n",
    "<td><img src = 'images/6-2-1.png'></td>\n",
    "<td><img src = 'images/6-2-2.png'></td>\n",
    "</tr>\n",
    "</table>"
   ]
  },
  {
   "cell_type": "markdown",
   "metadata": {},
   "source": [
    "### 6.2.2. this 객체\n",
    "- 현재 호출한 객체를 의미"
   ]
  },
  {
   "cell_type": "code",
   "execution_count": null,
   "metadata": {},
   "outputs": [],
   "source": [
    "<h2>this 객체 </h2>\n",
    "<hr>\n",
    "\n",
    "<ul id = 'gnb'> \n",
    "    <li>first</li>\n",
    "    <li>second</li>\n",
    "    <li>third</li>\n",
    "</ul>\n",
    "\n",
    "<script>\n",
    "    var gnb = document.getElementById('gnb');\n",
    "    var li = gnb.getElementsByTagName('li');\n",
    "\n",
    "    li[0].onclick = function(){\n",
    "        this.style.backgroundColor= 'red'\n",
    "    }\n",
    "</script>"
   ]
  },
  {
   "cell_type": "markdown",
   "metadata": {},
   "source": [
    "![6-2-3](images/6-2-3.png)"
   ]
  },
  {
   "cell_type": "markdown",
   "metadata": {},
   "source": [
    "## 6.3. 구현하기\n",
    "### 6.3.1. HTML, CSS\n"
   ]
  },
  {
   "cell_type": "code",
   "execution_count": null,
   "metadata": {},
   "outputs": [],
   "source": [
    "#### html\n",
    "<head>\n",
    "\t<link rel = 'stylesheet' href = 'css/6-3(calculator).css'>\n",
    "</head>\n",
    "\n",
    "<body>\n",
    "<h2>계산기 </h2>\n",
    "<hr>\n",
    "\n",
    "<form name = 'cal'>\n",
    "    <table>\n",
    "        <caption>계산기</caption>\n",
    "        <tr>\n",
    "            <th colsapn = '4'><input type = 'text' name = result value == 0></th>\n",
    "        </tr>\n",
    "        <tr>\n",
    "            <td><input type=\"button\" value = '7'></td>\n",
    "            <td><input type=\"button\" value = '8'></td>\n",
    "            <td><input type=\"button\" value = '9'></td>\n",
    "            <td><input type=\"button\" value = '+'></td>\n",
    "        </tr>\n",
    "        <tr>\n",
    "            <td><input type=\"button\" value = '4'></td>\n",
    "            <td><input type=\"button\" value = '5'></td>\n",
    "            <td><input type=\"button\" value = '6'></td>\n",
    "            <td><input type=\"button\" value = '-'></td>\n",
    "        </tr>\n",
    "        <tr>\n",
    "            <td><input type=\"button\" value = '1'></td>\n",
    "            <td><input type=\"button\" value = '2'></td>\n",
    "            <td><input type=\"button\" value = '3'></td>\n",
    "            <td><input type=\"button\" value = '*'></td>\n",
    "        </tr>\n",
    "        <tr>\n",
    "            <td colspan = '2'><input type = 'button' value = 'o'></td>\n",
    "            <td><input type=\"button\" value = '%'></td>\n",
    "            <td><input type=\"button\" value = '/'></td>\n",
    "        </tr>\n",
    "        <tr>\n",
    "            <td colspan = '2'><input type=\"button\" class = 'cls_btn' value = 'clear'></td>\n",
    "            <td colspan = '2'><input type=\"button\" class = 'result_btn' value = '='></td>\n",
    "        </tr>\n",
    "    </table>\n",
    "</form>\n",
    "</body> "
   ]
  },
  {
   "cell_type": "code",
   "execution_count": null,
   "metadata": {},
   "outputs": [],
   "source": [
    "#css\n",
    "caption{\n",
    "    font-size: 32;\n",
    "    text-align: center;\n",
    "}\n",
    "table{width: 320px;}\n",
    "table, th{background-color: #333;}\n",
    "th{\n",
    "    padding-right: 10px;\n",
    "    height: 80px;\n",
    "}\n",
    "td{\n",
    "    height: 75px;\n",
    "    text-align: center;\n",
    "}\n",
    "\n",
    "/* th안의 모든 input 태크 */\n",
    "th>input{\n",
    "    width: 100%;\n",
    "    border: none;\n",
    "    background: #333;\n",
    "    color: white;\n",
    "    text-align: right;\n",
    "    font-size: 48px;\n",
    "}\n",
    "/* th내 input태그 중 type이 버튼인 것 */\n",
    "td>input[type='button']{\n",
    "    width: 100%;\n",
    "    height: inherit; /* 부모로부터 상송 */  \n",
    "    color: #333;\n",
    "    font-size: 36px;\n",
    "    border: none;\n",
    "}\n",
    "td>input[type = 'button']:hober{\n",
    "    background: #999;\n",
    "}\n",
    "/* td안의 마지막 속성내 input태크 */\n",
    "td:last-child>input{\n",
    "    background:orange;\n",
    "    color: white;\n",
    "}"
   ]
  },
  {
   "cell_type": "markdown",
   "metadata": {},
   "source": [
    "### 6.3.2. 변수 선언\n",
    "> form 객체\n",
    "- document객체의 직계 객체\n",
    "- forms객체명으로 참조: document.formName.typeName.속성\n",
    "- name 속성으로 참조: document.forms['cal']"
   ]
  },
  {
   "cell_type": "code",
   "execution_count": null,
   "metadata": {},
   "outputs": [],
   "source": [
    "//변수 선언\n",
    "var inp = document.forms['cal'];\n",
    "var input = inp.getElementsByTagName('input')\n",
    "var cls_btn = document.getElementsByClassName('cls_btn')[0]; //배열로 참조\n",
    "var result_btn = document.getElementsByClassName('result_btn')[0]; //배열로 참조"
   ]
  },
  {
   "cell_type": "markdown",
   "metadata": {},
   "source": [
    "### 6.3.3. 이벤트 핸들러1: 숫자 및 사칙 연산 버튼\n",
    "- 숫자 버튼, 사칙 연산 버튼에 대한 이벤트 핸들러\n",
    "- 배열로 이벤트를 적용할 버튼을 순회\n",
    "- 해당하지 않는 버튼(=, clear)은 제외`"
   ]
  },
  {
   "cell_type": "code",
   "execution_count": null,
   "metadata": {},
   "outputs": [],
   "source": [
    "//이벤트 핸들러\n",
    "//숫자 맟 사칙연산 버튼(입력하는 button의 value를 result창에 하나씩 보여주기)\n",
    "for (var i = 0; i<input.length; i++){\n",
    "\n",
    "    //숫자와 사칙 연산자만 입력 처리\n",
    "    if(input[i].value != '=' && input[i].value != 'clear'){\n",
    "        input[i].onclick = function(){\n",
    "            cals(this.value);\n",
    "        }\n",
    "    }\n",
    "}"
   ]
  },
  {
   "cell_type": "markdown",
   "metadata": {},
   "source": [
    "### 6.3.4. 계산기 입력 처리\n",
    "> calc함수\n",
    "- 숫자나 사칙연산 버튼에서 입력된 값을 받아 그대로 출력"
   ]
  },
  {
   "cell_type": "code",
   "execution_count": null,
   "metadata": {},
   "outputs": [],
   "source": [
    "//계산기 입력 처리 함수\n",
    "function cals(value){\n",
    "    //입력시 0 지움\n",
    "    if(inp['result'].value==0){\n",
    "        inp['result'].value = '';\n",
    "    }\n",
    "\n",
    "    //입력값을 결과창에 출력\n",
    "    inp['result'].value += value;\n",
    "}"
   ]
  },
  {
   "cell_type": "markdown",
   "metadata": {},
   "source": [
    "### 6.3.5. 계산기 초기화 처리\n"
   ]
  },
  {
   "cell_type": "code",
   "execution_count": null,
   "metadata": {},
   "outputs": [],
   "source": [
    "//계산기 초기화\n",
    "function clr(){\n",
    "    inp['result'].value = 0;\n",
    "}"
   ]
  },
  {
   "cell_type": "markdown",
   "metadata": {},
   "source": [
    "### 6.3.6. 이벤트 핸들러2: 초기화 버튼"
   ]
  },
  {
   "cell_type": "code",
   "execution_count": null,
   "metadata": {},
   "outputs": [],
   "source": [
    "//초기화 버튼(창 깨끗하게 하기)\n",
    "cls_btn.onclick = function(){\n",
    "    clr();\n",
    "}"
   ]
  },
  {
   "cell_type": "markdown",
   "metadata": {},
   "source": [
    "### 6.3.7. 계산결과 처리\n",
    "> eval()\n",
    "- 입련된 문자열을 그대로 명령어로 처리"
   ]
  },
  {
   "cell_type": "code",
   "execution_count": null,
   "metadata": {},
   "outputs": [],
   "source": [
    "//계산 결과 처리 함수\n",
    "function my_result(){\n",
    "    var result = document.forms['cal']['result'];\n",
    "    var calc = eval(result.value);  //eval: 입력된 문자열을 그대로 명령어 처리함.\n",
    "\n",
    "    //결과창에 표시\n",
    "    inp['result'].value = calc;\n",
    "}"
   ]
  },
  {
   "cell_type": "markdown",
   "metadata": {},
   "source": [
    "### 6.3.8 이벤트 핸들러 3: 결과 버튼"
   ]
  },
  {
   "cell_type": "code",
   "execution_count": null,
   "metadata": {},
   "outputs": [],
   "source": [
    "//결과 버튼(예외 처리)- eval()함수 처리 중 오류 나면 예외 처리로 해결\n",
    "result_btn.onclick = function(){\n",
    "    try{\n",
    "        my_result();\n",
    "    }\n",
    "    catch(err){\n",
    "        var result = inp['result'];\n",
    "        result.value = '입력오류';\n",
    "    }\n",
    "}\n"
   ]
  },
  {
   "cell_type": "markdown",
   "metadata": {},
   "source": [
    "<table>\n",
    "<tr>\n",
    "<td><img src = 'images/6-3-1.png'></td>\n",
    "<td><img src = 'images/6-3-2.png'></td>\n",
    "<td><img src = 'images/6-3-3.png'></td>\n",
    "\n",
    "</tr>\n",
    "</table>"
   ]
  },
  {
   "cell_type": "code",
   "execution_count": null,
   "metadata": {},
   "outputs": [],
   "source": []
  }
 ],
 "metadata": {
  "kernelspec": {
   "display_name": "Python 3",
   "language": "python",
   "name": "python3"
  },
  "language_info": {
   "codemirror_mode": {
    "name": "ipython",
    "version": 3
   },
   "file_extension": ".py",
   "mimetype": "text/x-python",
   "name": "python",
   "nbconvert_exporter": "python",
   "pygments_lexer": "ipython3",
   "version": "3.6.10"
  }
 },
 "nbformat": 4,
 "nbformat_minor": 4
}
