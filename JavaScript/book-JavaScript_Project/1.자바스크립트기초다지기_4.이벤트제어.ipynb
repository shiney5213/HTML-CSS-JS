{
 "cells": [
  {
   "cell_type": "markdown",
   "metadata": {},
   "source": [
    "# 4. 이벤트 제어\n",
    "\n",
    "> 이벤트\n",
    "- 애플리제이션과 사용자가 상호작용을 하기 위해 중요한 기능\n",
    "- 특별한 요청을 감지하고 이를 처리\n",
    "- 사용자의 행동을 모니터링하고 어떤 행동이 감지되었을 때 그에 따른 프로세스를 수행하는 것.\n",
    "\n",
    "## 4.1. 인라인 이벤트\n",
    "- HTML요소 안에 속성을 직접 추가해 이벤트를 처리하는 가장 기본적인 방식\n",
    "- 가독성, 수정도 불편, 부분적으로만 사용함.\n",
    "- <요소명 이벤트 핸들러 속성 = 'JavaScript 명령어'>\n",
    "\n",
    "\n",
    "> 마우스와 키보드 이벤트\n",
    "- onclick: 마우스를 클릭했을 때\n",
    "- onmouseover(hover1단계) : 요소 안에 마우스가 들어갔을 때\n",
    "- onmouseout(hover2단계) : 요소에서 마우스가 벗어났을 때\n",
    "- onkeydown: 키보드를 입력할 때\n",
    "- onkeyup: 키를 눌렀다 놓을 때\n",
    "- onfocus, onblur: 요소가 선택되거나 해제됐을 때\n",
    "- onsubmit : 폼 전송 이벤트가 발행했을 때"
   ]
  },
  {
   "cell_type": "markdown",
   "metadata": {},
   "source": [
    "<h2>인라인 이벤트</h2>\n",
    "<hr>\n",
    "\n",
    "<a href= 'https://google.com' onclick = \"alert('구글로 이동합니다')\">구글</a>"
   ]
  },
  {
   "cell_type": "markdown",
   "metadata": {},
   "source": [
    "![4-1-1](images/4-1-1.png)"
   ]
  },
  {
   "cell_type": "markdown",
   "metadata": {},
   "source": [
    "<div id= box onmouseover = 'mover()' onmouseout = 'mout()' onmousedown='mclick()' onclick = 'mc()'>마우스 이벤트</div>\n",
    "\t<input type=\"button\" value = '초기화' onclick = 'format()'>\n",
    "\n",
    "<script>\n",
    "    function mover(){\n",
    "        var M = document.getElementById('box');\n",
    "        M.innerText = '마우스가 들어왔네요';\n",
    "    }\n",
    "\n",
    "    function mout(){\n",
    "        var M = document.getElementById('box');\n",
    "        M.innerText = '마우스가 나갔네요';\n",
    "    }\n",
    "\n",
    "    function mclick(){\n",
    "        var M = document.getElementById('box');\n",
    "        M.innerText = '마우스 클릭중';\n",
    "    }\n",
    "    function mc(){\n",
    "        var M = document.getElementById('box');\n",
    "        M.innerText = '마우스 클릭 완료';\n",
    "    }\n",
    "\n",
    "    function format(){\n",
    "        var M = document.getElementById('box');\n",
    "        M.innerText = '마우스 이벤트';\n",
    "    }"
   ]
  },
  {
   "cell_type": "markdown",
   "metadata": {},
   "source": [
    "![4-1-2](images/4-1-2.png)"
   ]
  },
  {
   "cell_type": "markdown",
   "metadata": {},
   "source": [
    "## 4.2. 이벤트 핸들러\n",
    "- 자바스크립트의 DOM에서 직접 처리하는 방식\n",
    "- 문서 객체에 이벤트 속성으로 연결해 이벤트가 발생하면 익병함수가 실행되도록 처리\n",
    "\n",
    "> 이벤트 리스너 방식\n",
    "- 문서 객체.이벤트 속성명 = function(){}\n",
    "\n",
    "### onload 이벤트\n",
    "- 자바스크립트는 문서의 어느 위치에든 작성 가능\n",
    "- <font color = 'red'> 문서를 조작하려는 경우는 문서보다 먼저 작성되면 안됨.\n",
    "- 문서가 먼저 로딩되어야 하는데 그 전에 자바스크립트가 실행되기 때문</font>"
   ]
  },
  {
   "cell_type": "markdown",
   "metadata": {},
   "source": [
    "// 이벤트 핸들러 속성 적용 전\n",
    "<script>\n",
    "    var h1 = document.querySelector('h1');\n",
    "    h1.innerText = '문서를 로딩했습니다';\n",
    "\n",
    "</script>\n",
    "\n",
    "<h1>홈페이지에 오신 것을 환영합니다</h1>"
   ]
  },
  {
   "cell_type": "markdown",
   "metadata": {},
   "source": [
    "![4-1-3](images/4-2-1.png)"
   ]
  },
  {
   "cell_type": "markdown",
   "metadata": {},
   "source": [
    "- 문서가 로딩되기 전에 자바스크립트가 실행되어 문서 내의 속성값을 변경할 수ㅓㅄ음"
   ]
  },
  {
   "cell_type": "markdown",
   "metadata": {},
   "source": [
    "//이벤트 핸들러 속성 적용\n",
    "<script>\n",
    "    window.onload = function(){\n",
    "    var h1 = document.querySelector('h1');\n",
    "    h1.innerHTML = '문서를 로딩했습니다';\n",
    "    }\t\t\n",
    "</script>\n",
    "\n",
    "<h1>홈페이지에 오신 것을 환영합니다</h1>"
   ]
  },
  {
   "cell_type": "markdown",
   "metadata": {},
   "source": [
    "![4-1-4](images/4-2-2.png)"
   ]
  },
  {
   "cell_type": "markdown",
   "metadata": {},
   "source": [
    "- 문서 객체가 이벤트의 대상이므로\n",
    "- window객체에 onload 이벤트 핸들러 속성을 적용하여 문서가 로딩된 후, 자바스크립트가 실행되도록 처리함."
   ]
  },
  {
   "cell_type": "markdown",
   "metadata": {},
   "source": [
    "### 이벤트 객체와 this\n",
    "\n",
    "> this\n",
    "- 이벤트가 발생해 처리되는 함수 내의 this는\n",
    "- 이벤트가 발생한 객체 자신을 의미\n",
    "- 사용자가 클릭한 요소의 위치를 반환\n",
    "- 상대적인 지정 방식으로 자주 사용함"
   ]
  },
  {
   "cell_type": "markdown",
   "metadata": {},
   "source": [
    "<script>\n",
    "    window.onload = function(){\n",
    "        var h1 = document.querySelector('h1');\n",
    "\n",
    "        h1.onclick = function(){\n",
    "            this.innerHTML = '클릭했습니다';\n",
    "        }\n",
    "    }\n",
    "\n",
    "</script>\n",
    "\n",
    "<h1>클릭해주세요</h1>"
   ]
  },
  {
   "cell_type": "markdown",
   "metadata": {},
   "source": [
    "<table>\n",
    "    <tr>\n",
    "        <td><img src = 'images/4-2-3.png'></td>\n",
    "        <td><img src = 'images/4-2-4.png'></td>\n",
    "    </tr>\n",
    "</table>"
   ]
  },
  {
   "cell_type": "markdown",
   "metadata": {},
   "source": [
    "## 4.3. 이벤트 리스터\n",
    "- 가장 진보된 표준 이벤트 모델\n",
    "> 이벤트 핸들러\n",
    "- 객체에 속성으로 이벤트를 지정하는 방식\n",
    "- 해당 요소에 하나의 이벤트만 적용\n",
    "\n",
    "\n",
    "> 이벤트 리스너\n",
    "- 메서드 방식 -> 해당하는 매개 변수를 통해 옵션 지정 가능\n",
    "- 하나의 요소에 여러개의 순차적인 이벤트 처리 가능\n",
    "- 문서 객체.addEventListener(이벤트 타입, 리스너);\n",
    "\n",
    "\n",
    "> 이벤트 리스너 매개변수\n",
    "- 이벤트 타입(event type) : 이벤트 속성을 지정. 앞에 on을 붙이지 않음.\n",
    "- 리스너(listerner) : 이벤트가 발생할 때 호출할 함수 또는 메서드를 지정함.\n",
    "\n",
    "\n"
   ]
  },
  {
   "cell_type": "markdown",
   "metadata": {},
   "source": [
    "<button id = 'btn'> click</button>\n",
    "<script>\n",
    "    var btn = document.getElementById('btn');\n",
    "    btn.onclick = function(){\n",
    "        alert('event1')\n",
    "    }\n",
    "\n",
    "    btn.onclick = function(){\n",
    "        alert('event2')\n",
    "    }\n",
    "</script>"
   ]
  },
  {
   "cell_type": "markdown",
   "metadata": {},
   "source": [
    "![4-3-1](images/4-3-1.png)"
   ]
  },
  {
   "cell_type": "markdown",
   "metadata": {},
   "source": [
    "> 마지막 이벤트만 적용되는 이유\n",
    "- 이벤트에 추가되는 것이 아니라,\n",
    "- 속성의 내용이 두번째 함수로 변경되었기 때문"
   ]
  },
  {
   "cell_type": "markdown",
   "metadata": {},
   "source": [
    "<h2>여러 이벤트를 정의할 때</h2>\n",
    "\t\n",
    "<button id = btn2>click</button>\n",
    "<script>\n",
    "    var btn = document.getElementById('btn2')\n",
    "    btn2.addEventListener('click', function(){\n",
    "        alert('event1')\n",
    "    })\n",
    "    btn2.addEventListener('click', function(){\n",
    "        alert('event2')\n",
    "    })\n",
    "</script>"
   ]
  },
  {
   "cell_type": "markdown",
   "metadata": {},
   "source": [
    "<table>\n",
    "    <tr>\n",
    "        <td><img src = 'images/4-3-2.png'></td>\n",
    "        <td><img src = 'images/4-3-3.png'></td>\n",
    "    </tr>\n",
    "</table>"
   ]
  },
  {
   "cell_type": "markdown",
   "metadata": {},
   "source": [
    "## 4.4. 두 가지 이벤트 속성으로 hover처리"
   ]
  },
  {
   "cell_type": "markdown",
   "metadata": {},
   "source": [
    "> 자바스크립트에는 hover 이벤트가 따로 없음.\n",
    "- mouseover이벤트 + mouseout이벤트"
   ]
  },
  {
   "cell_type": "markdown",
   "metadata": {},
   "source": [
    "<style>\n",
    "    #box{\n",
    "        width: 100px;\n",
    "        height: 100px;\n",
    "        border : 3px solid black;\n",
    "    }\n",
    "    #box.hover{\n",
    "        background-color: orange;\n",
    "        color: white;\n",
    "    }\n",
    "\n",
    "</style>\n",
    "\n"
   ]
  },
  {
   "cell_type": "markdown",
   "metadata": {},
   "source": [
    "<div id = 'box'>\n",
    "    <p>마우스를 올려주세요</p>\n",
    "</div>\n",
    "\n",
    "<script>\n",
    "    var box = document.getElementById('box');\n",
    "\n",
    "    //마우스 오버\n",
    "    box.addEventListener('mouseover', function(){\n",
    "        box.setAttribute('class', 'hover');\n",
    "        alert(box.getAttribute('class'));\n",
    "    })\n",
    "\n",
    "    //마우스 아웃\n",
    "\t\tbox.addEventListener('mouseout', function(){\n",
    "\t\t\tbox.removeAttribute('class');\n",
    "\t\t\talert(box.removeAttribute('class'));\n",
    "\n",
    "\t\t})\n",
    "\n",
    "</script>"
   ]
  },
  {
   "cell_type": "markdown",
   "metadata": {},
   "source": [
    "![4-4-1](images/4-4-1.png)"
   ]
  },
  {
   "cell_type": "markdown",
   "metadata": {},
   "source": [
    "## 4.5. submit 이벤트와 기본 동작 방지\n",
    "> 폼 요소\n",
    "- 버튼을 누르면 우선적으로 submit이벤트(서버에 제출)이 발생\n",
    "\n",
    "> 오프라인으로 수행하는 경우\n",
    "- 서버에 제출하는 등의 기본 이벤트를 차단해야 함.\n",
    "- preventDefault()메서드"
   ]
  },
  {
   "cell_type": "markdown",
   "metadata": {},
   "source": [
    "<h2>submit event</h2>\n",
    "<hr>\n",
    "\n",
    "<form id = frm>\n",
    "    <fieldset>\n",
    "        <legend>주소록</legend>\n",
    "        <textarea name=\"txt\" id=\"txt\" cols=\"30\" rows=\"10\"></textarea><br>\n",
    "        <input type=\"submit\" id = 'q' value = '불러오기'>\n",
    "    </fieldset>\n",
    "</form>"
   ]
  },
  {
   "cell_type": "markdown",
   "metadata": {},
   "source": [
    "![4-4-2](images/4-4-2.png)"
   ]
  },
  {
   "cell_type": "markdown",
   "metadata": {},
   "source": [
    "> fieldset tag\n",
    "- form 태그 안에 사용\n",
    "- form 양식에서 관계된 요소들끼리 묶어주며 관계 요소 주위에 박스를 그림.\n",
    "\n",
    "> legend tag\n",
    "- filedset으로 그룹화된 관련 양식 input 요소 그룹에 캡션 추가 기능"
   ]
  },
  {
   "cell_type": "code",
   "execution_count": null,
   "metadata": {},
   "outputs": [],
   "source": []
  }
 ],
 "metadata": {
  "kernelspec": {
   "display_name": "Python 3",
   "language": "python",
   "name": "python3"
  },
  "language_info": {
   "codemirror_mode": {
    "name": "ipython",
    "version": 3
   },
   "file_extension": ".py",
   "mimetype": "text/x-python",
   "name": "python",
   "nbconvert_exporter": "python",
   "pygments_lexer": "ipython3",
   "version": "3.6.10"
  }
 },
 "nbformat": 4,
 "nbformat_minor": 4
}
