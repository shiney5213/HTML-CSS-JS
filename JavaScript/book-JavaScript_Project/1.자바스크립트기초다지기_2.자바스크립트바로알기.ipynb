{
 "cells": [
  {
   "cell_type": "markdown",
   "metadata": {},
   "source": [
    "# chapter2 놓치기 쉬운 자바스크립트 문법\n",
    "\n",
    "# 2.1. 변수와 타입\n",
    "> 자바스크립트\n",
    "- 모든 것이 객체 기반 구조\n",
    "- 문법 체계가 상당히 유연한 언어\n",
    "- 변수와 타입의 모하한 부분이나 클래스 구현시 로직이 복잡해지는 부분은 기존 개발자들을 혼란스럽게 만들기도 함.\n",
    "\n",
    "### 2.1.1. 변수 선언하기\n",
    "> 변수\n",
    "- 애플리케이션이 실행되는 동안 컴퓨터 메모리에 임시로 캐싱되어있는 정보의 처리, 연산에 사용\n",
    "- 변수를 사용하는 이유: 재사용성(유지보수)"
   ]
  },
  {
   "cell_type": "code",
   "execution_count": null,
   "metadata": {},
   "outputs": [],
   "source": [
    "var a = 5;\n",
    "documents.write(a);"
   ]
  },
  {
   "cell_type": "markdown",
   "metadata": {},
   "source": [
    "![2-1-1](images/2-1-1.png)"
   ]
  },
  {
   "cell_type": "markdown",
   "metadata": {},
   "source": [
    "### 2.1.2. 동적 타입(dynamic type)\n",
    "> 변수 타입\n",
    "- 문자\n",
    "- 숫자\n",
    "- 배열\n",
    "- 객체\n",
    "- boolean\n",
    "\n",
    "> 변수타입 확인\n",
    "- <font color = 'red'> typeof </font>"
   ]
  },
  {
   "cell_type": "markdown",
   "metadata": {},
   "source": [
    "var number = 5;\n",
    "var string = 'dog';\n",
    "var bool = 'true';\n",
    "var array = [];\n",
    "var object = {};\n",
    "// 변수type을 지정하지 않은 경우 \n",
    "var who_am_i;    \n",
    "\n",
    "document.write('type of ', number , ' : ', typeof number + '<br>');\n",
    "document.write('type of ', string ,' : ', typeof string + '<br>');\n",
    "document.write('type of ', bool ,' : ', typeof bool + '<br>');\n",
    "document.write('type of ', array ,' : ', typeof array + '<br>');\n",
    "document.write('type of ', object ,' : ', typeof object + '<br>');\n",
    "document.write('type of ', who_am_i ,' : ', typeof who_am_i + '<br>'); //undefined\n"
   ]
  },
  {
   "cell_type": "markdown",
   "metadata": {},
   "source": [
    "![2-1-2](images/2-1-2.png)"
   ]
  },
  {
   "cell_type": "markdown",
   "metadata": {},
   "source": [
    "#### 연산자\n",
    "> 더하기 연산자\n",
    "- 산술연산자이므로 타입에 상관없이 무조건 더하기\n",
    "- <font color = 'red'>문자와 숫자의 조합은 모두 문자로 연결되어 출력</font>"
   ]
  },
  {
   "cell_type": "markdown",
   "metadata": {},
   "source": [
    "var number1 = 5;\n",
    "var number2 = 10;\n",
    "var string = '5';\n",
    "\n",
    "document.write('number1 :', number1 + '<br>')\n",
    "document.write('number2 :', number2 + '<br>')\n",
    "document.write('string :', \"'\",string,\"'\" + '<br>')\n",
    "document.write('<br>')\n",
    "\n",
    "\n",
    "document.write('number1 + number2 : ', number1 + number2 + '<br>');\n",
    "document.write('number1 + number2 type : ', typeof (number1 + number2)+ '<br>');\n",
    "\n",
    "document.write('number + string : ', number + string + '<br>');\n",
    "document.write('number + string type : ', typeof (number + string )+ '<br>');\n",
    "\n",
    "document.write('number1, number2 :', number1, number2 + '<br>');\n",
    "\n",
    "\n"
   ]
  },
  {
   "cell_type": "markdown",
   "metadata": {},
   "source": [
    "![2-1-3](images/2-1-3.png)"
   ]
  },
  {
   "cell_type": "markdown",
   "metadata": {},
   "source": [
    "## 2.2. 제어문\n",
    "### 2.2.1 if(else)조건문"
   ]
  },
  {
   "cell_type": "markdown",
   "metadata": {},
   "source": [
    "var i = 5;\n",
    "\n",
    "if(i==5){\n",
    "    document.write('i와 5는 같습니다');\n",
    "}else{\n",
    "    document.write('i와 5는 같지 않습니다')\n",
    "}"
   ]
  },
  {
   "cell_type": "markdown",
   "metadata": {},
   "source": [
    "![2-2-1](images/2-2-1.png)"
   ]
  },
  {
   "cell_type": "markdown",
   "metadata": {},
   "source": [
    "#### for문"
   ]
  },
  {
   "cell_type": "markdown",
   "metadata": {},
   "source": [
    "for(시작되는값; 조건식; 증감식{\n",
    "\n",
    "}"
   ]
  },
  {
   "cell_type": "markdown",
   "metadata": {},
   "source": [
    "> <font color = 'red'>증감연산자</font>\n",
    "- a++: 계산식의 연산 결과를 대입하고 나서 a의 값이 증가\n",
    "- ++a: a값이 증가한 이후에 계산이 이루어짐"
   ]
  },
  {
   "cell_type": "markdown",
   "metadata": {},
   "source": [
    "var number = 7;\n",
    "\n",
    "for (var i = 1; i < 10; i++){\n",
    "    document.write(number , '*', i, '=', number *  i + '<br>')\n",
    "\n",
    "}"
   ]
  },
  {
   "cell_type": "markdown",
   "metadata": {},
   "source": [
    "![2-2-2](images/2-2-2.png)"
   ]
  },
  {
   "cell_type": "markdown",
   "metadata": {},
   "source": [
    "### 2.2.3. switch문\n",
    "- if와 같이조건 판단\n",
    "- 단힐 항목으로 비교할 조건이 많은 경우 더 간결하게 표현할 수 있음.\n",
    "\n",
    "> 사용법\n",
    "- switch문의 ()안에는 각 case에서 비교할 상수값이 들어감\n",
    "- case문 뒤에는 상수값과 비굑할 조건식 명시\n",
    "- defualt문: case에 없는 경우 예외 처리문\n"
   ]
  },
  {
   "cell_type": "markdown",
   "metadata": {},
   "source": [
    "<h3>문제: 다음 중 웹 표준 언어가 아닌 것은?</h3>\n",
    "<ol>\n",
    "    <li>HTML</li>\n",
    "    <li>CSS</li>\n",
    "    <li>Java</li>\n",
    "    <li>JavaScript</li>\n",
    "</ol>\n",
    "\n",
    "<script>\n",
    "var answer = 3;\n",
    "\n",
    "switch(answer){\n",
    "    case 1:\n",
    "        msg='틀렸습니다';\n",
    "        break;\n",
    "    case 2:\n",
    "        msg='틀렸습니다';\n",
    "        break;\n",
    "    case 3:\n",
    "        msg='맞았습니다';\n",
    "        break;\n",
    "    case 1:\n",
    "        msg='틀렸습니다';\n",
    "        break;\n",
    "    default:\n",
    "        break;\n",
    "}\t\n",
    "document.write('답을 3이라고 입력한 경우 : ', msg);\n",
    "\n"
   ]
  },
  {
   "cell_type": "markdown",
   "metadata": {},
   "source": [
    "![2-2-3](images/2-2-3.png)"
   ]
  },
  {
   "cell_type": "markdown",
   "metadata": {},
   "source": [
    "## 2.3. 함수와 유효범위(Scope)"
   ]
  },
  {
   "cell_type": "markdown",
   "metadata": {},
   "source": [
    "#### 함수\n",
    "- 반복 사용하는 코드를 재사용하기 위해 하나의 단위로 묶어놓은 코드의 집합\n",
    "- 내장함수/ 사용자 정의함수"
   ]
  },
  {
   "cell_type": "markdown",
   "metadata": {},
   "source": [
    "function 함수명(매개변수1, 매개변수2, ...){\n",
    "코드...\n",
    "}\n",
    "\n",
    "함수명()"
   ]
  },
  {
   "cell_type": "markdown",
   "metadata": {},
   "source": [
    "### 2.3.1. 함수의 매개 변수\n",
    "> <font color = 'red'> 함수표현식</font>\n",
    "- 모든 타입을 변수로 정의할 수 있음.\n",
    "- 익명함수형태로 함수 정의 가능\n"
   ]
  },
  {
   "cell_type": "markdown",
   "metadata": {},
   "source": [
    "var sum = function(a, b){\n",
    "\n",
    "\n",
    "}"
   ]
  },
  {
   "cell_type": "markdown",
   "metadata": {},
   "source": [
    "### 2.3.2. 함수값의 반환\n",
    "- return문"
   ]
  },
  {
   "cell_type": "markdown",
   "metadata": {},
   "source": [
    "function sum(a, b){\n",
    "    var result = a + b;\n",
    "    return result\n",
    "}\n",
    "\n",
    "var r = sum(3,5)\n",
    "document.write('sum(3, 5) 결과는: ', r)"
   ]
  },
  {
   "cell_type": "markdown",
   "metadata": {},
   "source": [
    "![2-3-1](images/2-3-1.png)"
   ]
  },
  {
   "cell_type": "markdown",
   "metadata": {},
   "source": [
    "### 2.3.3. 변수의 요효범위\n",
    "#### 지역변수\n",
    "- 함수 안에 선언된 변수\n",
    "- 함수 내에서만 사용되고 소멸됨\n",
    "- 불필요한 공간 낭비 없애기 위해\n",
    "\n",
    "#### 전역 변수\n",
    "- 함수 외부에 선언된 변수\n",
    "- 프로그램 영역 전체에서 사용가능\n",
    "- <font color = 'red'>함수내에서 변수는 var 키워드를 사용하지 않으면 전역변수가 됨</font>\n",
    "- 보통 프로그램 초반부에 별도로 선언(변수 초기화)"
   ]
  },
  {
   "cell_type": "markdown",
   "metadata": {},
   "source": [
    "### 2.3.4. <font color = 'red'>콜백 함수</font>\n",
    "- 함수를 매개변수로 전달하는 것.\n",
    "- 함수의 매개변수: 일반 변수가 실행하능한 코드(함수)의 형태\n",
    "- 이벤트 처리시 많이 사용"
   ]
  },
  {
   "cell_type": "markdown",
   "metadata": {},
   "source": [
    "function sum(a, b, callback){   //3번째 변수를 매개변수로 전달받음.\n",
    "    var result = a + b;\n",
    "    callback();              //부모함수처리 끝나고, callback함수 실행 \n",
    "    return result;\n",
    "}\n",
    "\n",
    "//콜백함수\n",
    "var r = sum(10, 20, function(){   //매개 변수로 익명함수 전달\n",
    "    alert('a+b를 더했습니다')\n",
    "});\n",
    "\n",
    "document.write(r);"
   ]
  },
  {
   "cell_type": "markdown",
   "metadata": {},
   "source": [
    "![2-3-2](images/2-3-2.png)"
   ]
  },
  {
   "cell_type": "markdown",
   "metadata": {},
   "source": [
    "### 2.3.5. 연습문제"
   ]
  },
  {
   "cell_type": "markdown",
   "metadata": {},
   "source": [
    "> 문제1\n",
    "- 숫자를 매개변수로 전달받아 짝수인지 홀수인지 판별하는 함수를 isODD라는 이름으로 작성하시고"
   ]
  },
  {
   "cell_type": "markdown",
   "metadata": {},
   "source": [
    "function isODD(num){\n",
    "    if (num % 2 == 0){\n",
    "        document.write(num, '은 짝수입니다' + '<br>')\n",
    "    } else{\n",
    "        document.write(num, '은 홀수입니다'+ '<br>')\n",
    "\n",
    "    }\n",
    "}\n",
    "\n",
    "isODD(30);\n",
    "isODD(25);"
   ]
  },
  {
   "cell_type": "markdown",
   "metadata": {},
   "source": [
    "![2-3-4](images/2-3-4.png)"
   ]
  },
  {
   "cell_type": "markdown",
   "metadata": {},
   "source": [
    "## 2.4. 배열과 객체"
   ]
  },
  {
   "cell_type": "markdown",
   "metadata": {},
   "source": [
    "### 2.4.1. 배열\n",
    "- 같은 타입의 변수 하나에 데이터를 순차적으로 정의\n"
   ]
  },
  {
   "cell_type": "markdown",
   "metadata": {},
   "source": [
    "#### 배열 기초"
   ]
  },
  {
   "cell_type": "markdown",
   "metadata": {},
   "source": [
    "//배열 선언\n",
    "var customer_name  =['my','ey','jw'];\n",
    "\n",
    "//값 확인\n",
    "document.write('ordinary array : ' )\n",
    "for (var i = 0; i < 3; i ++){\n",
    "    document.write(customer_name[i] + ',')\n",
    "};\n",
    "\n",
    "\n",
    "//값 변경\n",
    "document.write('<br>' +'changed array')\n",
    "customer_name[0] = 'ym';\n",
    "document.write(customer_name + '<br>');\n",
    "\n",
    "//값 추가\n",
    "document.write('appended array')\n",
    "customer_name[3] = 'ti';\n",
    "document.write(customer_name + '<br>');\n",
    "\n",
    "\n",
    "//배열 길이\n",
    "var length = customer_name.length;\n",
    "document.write('customer_name array length:', length+ '<br>');\n",
    "\n",
    "// 모두 출력\n",
    "for (var i = 0; i <length; i++){\n",
    "    document.write(customer_name[i] + '<br>')\n",
    "}"
   ]
  },
  {
   "cell_type": "markdown",
   "metadata": {},
   "source": [
    "![2-4-1](images/2-4-1.png)"
   ]
  },
  {
   "cell_type": "markdown",
   "metadata": {},
   "source": [
    "#### 배열  조작 메서드\n",
    "- reverse(): 역순으로 정렬 -> 원본이 바뀜\n",
    "- sort(): 정렬\n",
    "- slice(): 일부 선택\n",
    "- concat(): 하나로 합치기\n",
    "- shift() : 첫번째 배열 제거(값을 반환함)\n",
    "- unshift() : 첫번째 배열 추가\n",
    "- pop() : 마지막 배열 제거(값을 반환함)\n",
    "- join() : 배열 사이에 지정된 문자열로 구분자 표시 -> 원본 유지"
   ]
  },
  {
   "cell_type": "markdown",
   "metadata": {},
   "source": [
    "var customer_age = [10, 20, 30, 40, 50, 60]\n",
    "\n",
    "document.write('ordinary: ', customer_age + '<br>');\n",
    "document.write('reverse: ', customer_age.reverse() + '<br>');\n",
    "document.write('join: ', customer_age.join('-') + '<br>');\n",
    "document.write('sort: ', customer_age.sort() + '<br>');\n",
    "document.write('slice: ', customer_age.slice(1,4) + '<br>');\n",
    "document.write('concat: ', customer_age.concat(customer_name) + '<br>');\n",
    "document.write('shift: ', customer_age.shift() + '<br>');\n",
    "document.write('pop: ', customer_age.pop() + '<br>');\n"
   ]
  },
  {
   "cell_type": "markdown",
   "metadata": {},
   "source": [
    "![2-4-2](images/2-4-2.png)"
   ]
  },
  {
   "cell_type": "markdown",
   "metadata": {},
   "source": [
    "### 2.4.2. 객체\n",
    "- 객체: object\n",
    "- 속성: property ( 객체 변수 안에 포함된 변수들)\n",
    "- 데이터가 비정형적으로 복잡한 경우\n",
    "- 객체: 숫자, 문자 함수도 담을 수 있음."
   ]
  },
  {
   "cell_type": "markdown",
   "metadata": {},
   "source": [
    "var book = {\n",
    "    title: '채식주의자',\n",
    "    author: '한강',\n",
    "    price: '12000'\n",
    "};\n",
    "\n",
    "document.write(book.title + '<br>');\n",
    "document.write(book.author + '<br>')\n",
    "document.write(book.price + '<br>')"
   ]
  },
  {
   "cell_type": "markdown",
   "metadata": {},
   "source": [
    "![2-4-3](images/2-4-3.png)"
   ]
  },
  {
   "cell_type": "code",
   "execution_count": null,
   "metadata": {},
   "outputs": [],
   "source": []
  }
 ],
 "metadata": {
  "kernelspec": {
   "display_name": "Python 3",
   "language": "python",
   "name": "python3"
  },
  "language_info": {
   "codemirror_mode": {
    "name": "ipython",
    "version": 3
   },
   "file_extension": ".py",
   "mimetype": "text/x-python",
   "name": "python",
   "nbconvert_exporter": "python",
   "pygments_lexer": "ipython3",
   "version": "3.6.10"
  },
  "toc": {
   "base_numbering": 1,
   "nav_menu": {},
   "number_sections": false,
   "sideBar": true,
   "skip_h1_title": false,
   "title_cell": "Table of Contents",
   "title_sidebar": "Contents",
   "toc_cell": false,
   "toc_position": {},
   "toc_section_display": true,
   "toc_window_display": false
  }
 },
 "nbformat": 4,
 "nbformat_minor": 4
}
