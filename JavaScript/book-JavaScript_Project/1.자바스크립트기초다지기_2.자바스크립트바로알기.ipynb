{
 "cells": [
  {
   "cell_type": "markdown",
   "metadata": {},
   "source": [
    "# chapter2 놓치기 쉬운 자바스크리ㅂ트 문법\n",
    "\n",
    "# 2.1. 변수와 타입\n",
    "> 자바스크립트\n",
    "- 모든 것이 객체 기반 구조\n",
    "- 문법 체계가 상당히 유연한 언어\n",
    "- 변수와 타입의 모하한 부분이나 클래스 구현시 로직이 복잡해지는 부분은 기존 개발자들을 혼란스럽게 만들기도 함.\n",
    "\n",
    "### 2.1.1. 변수 선언하기"
   ]
  },
  {
   "cell_type": "code",
   "execution_count": null,
   "metadata": {},
   "outputs": [],
   "source": []
  }
 ],
 "metadata": {
  "kernelspec": {
   "display_name": "Python 3",
   "language": "python",
   "name": "python3"
  },
  "language_info": {
   "codemirror_mode": {
    "name": "ipython",
    "version": 3
   },
   "file_extension": ".py",
   "mimetype": "text/x-python",
   "name": "python",
   "nbconvert_exporter": "python",
   "pygments_lexer": "ipython3",
   "version": "3.6.8"
  },
  "toc": {
   "base_numbering": 1,
   "nav_menu": {},
   "number_sections": false,
   "sideBar": true,
   "skip_h1_title": false,
   "title_cell": "Table of Contents",
   "title_sidebar": "Contents",
   "toc_cell": false,
   "toc_position": {},
   "toc_section_display": true,
   "toc_window_display": false
  }
 },
 "nbformat": 4,
 "nbformat_minor": 4
}
