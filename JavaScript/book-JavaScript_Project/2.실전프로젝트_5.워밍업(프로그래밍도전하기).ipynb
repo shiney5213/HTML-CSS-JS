{
 "cells": [
  {
   "cell_type": "markdown",
   "metadata": {},
   "source": [
    "# 5. 워밍업: 프로그래밍 도전하기\n",
    "\n",
    "## 5.1. 구구단 출력 애플리케이션\n",
    "### 5.1.1. 구현할 기능\n",
    "- 요청한 정보의 입력과 출력 처리\n",
    "- 입력 내용 검증"
   ]
  },
  {
   "cell_type": "code",
   "execution_count": null,
   "metadata": {},
   "outputs": [],
   "source": [
    "<h2>구구단</h2>\n",
    "<hr>\n",
    "<script>\n",
    "    var num = prompt('구구단 몇 단을 볼까요?', '1~9의 숫자를 입력하세요');\n",
    "\n",
    "    //입력 검사\n",
    "    if (num == '' || isNaN(num)){\n",
    "        alert('올바른 값을 입력하세요');\n",
    "    }else if(num <1 || num > 10){\n",
    "        alert('1부터 9 사이의 값을 입력하세요');\n",
    "    }else{\n",
    "        for(var i = 1; i < 10; i ++){\n",
    "            document.write(num , '*', i, '=' , num * i, '<br>');\n",
    "        }\n",
    "    }\n",
    "\n",
    "</script>"
   ]
  },
  {
   "cell_type": "markdown",
   "metadata": {},
   "source": [
    "<table>\n",
    "    <tr>\n",
    "        <td><img src = 'images/5-1-1.png'></td>\n",
    "        <td><img src = 'images/5-1-2.png'></td>            \n",
    "    </tr>\n",
    "    </table>"
   ]
  },
  {
   "cell_type": "markdown",
   "metadata": {},
   "source": [
    "> prompt(text, defaulttext)\n",
    "- 사용자가 입력한 내용을 변수에 전달\n",
    "- text: prompt상자에 표시되는 질문 텍스트\n",
    "- defaultText : 옵션 항목으로 글장사에 표시\n",
    "\n",
    "> num== ''\n",
    "- 입력된 내용이 아무것도 없는지 판단(빈값 검사)\n",
    "\n",
    "> isNaN()\n",
    "- 입력된 내용인 문자인지 검사\n",
    "- Not a Number\n",
    "\n",
    "> shsfl dustkswk\n",
    "- && : and\n",
    "- || : or\n",
    "- !: not"
   ]
  },
  {
   "cell_type": "markdown",
   "metadata": {},
   "source": [
    "### 5.1.3. 연습문제\n",
    "- protmp문으로 숫자를 2개 입력받아 더한 결과 출력"
   ]
  },
  {
   "cell_type": "code",
   "execution_count": null,
   "metadata": {},
   "outputs": [],
   "source": [
    "<h2> 두 수 입력받아 더하기</h2>\n",
    "<hr>\n",
    "<script>\n",
    "    var num1 = prompt('숫자를 입력하세요');\n",
    "    var num2 = prompt('숫자를 입력하세요');\n",
    "\n",
    "    if (num1== '' || num2==''){\n",
    "        alert('숫자를 입력하세요');\n",
    "    }else if(isNaN(num1)|| isNaN(num2)){\n",
    "        alert('문자말고 숫자 입력하세요')\n",
    "    }else{\n",
    "        plus = num1+num2\n",
    "        document.write(num1, '+', num2, '=', plus);\n",
    "    }\n",
    "\n",
    "</script>"
   ]
  },
  {
   "cell_type": "markdown",
   "metadata": {},
   "source": [
    "<table>\n",
    "    <tr>\n",
    "        <td><img src = 'images/5-1-3.png'></td>\n",
    "        <td><img src = 'images/5-1-4.png'></td>            \n",
    "    </tr>\n",
    "    </table>"
   ]
  },
  {
   "cell_type": "markdown",
   "metadata": {},
   "source": [
    "> 자바스크립에서 더하기\n",
    "- 문자열로 인식해서 두 수를 합침\n",
    "\n",
    "> 숫자로 바꾸려면\n",
    "- Number(num)\n",
    "- num *= num"
   ]
  },
  {
   "cell_type": "markdown",
   "metadata": {},
   "source": [
    "plus = Number(num1)+Number(num2);\n",
    "document.write(num1, '+', num2, '=', plus);"
   ]
  },
  {
   "cell_type": "markdown",
   "metadata": {},
   "source": [
    "![5-1-5](images/5-1-5.png)"
   ]
  },
  {
   "cell_type": "markdown",
   "metadata": {},
   "source": [
    "## 5.2. 작업 목록 애플리케이션\n",
    "- 사용자가 문서에 새로운 내용을 추가할 수 있는 기능 구현\n",
    "\n",
    "## 5.2.1. 구현할 기능\n",
    "- 목록버튼을 추가하면 새로운 이름의 목록이 추가됨\n",
    "- 목록을 클릭하면 타이틀 영역에 목록의 제목 표시\n",
    "\n",
    "### 5.2.2. 구현하기\n"
   ]
  },
  {
   "cell_type": "code",
   "execution_count": null,
   "metadata": {},
   "outputs": [],
   "source": [
    "# html, css\n",
    "<style>\n",
    "    #add-btn{\n",
    "        padding : 5px 10px;\n",
    "        border: 0;\n",
    "        background: #f80;\n",
    "        color : white;\n",
    "        border-radius: 5px;\n",
    "    }\n",
    "    ul{\n",
    "        padding: 0;\n",
    "        list-style-type: inside;\n",
    "    }\n",
    "    li{\n",
    "        border-bottom: 1px solid #999;\n",
    "        padding: 5px, 0;\n",
    "    }\n",
    "\n",
    "    .active{\n",
    "        background: #abc;\n",
    "    }\n",
    "\n",
    "</style>\n",
    "\n",
    "<h2> 작업목록 애플리케이션  </h2>\n",
    "<hr>\n",
    "\n",
    "<h1 id = 'title'>할일 목록</h1>\n",
    "<button id = add-btn>목록 추가</button>\n",
    "\n",
    "<ul id = list>\n",
    "    <li>제목1</li>\n",
    "    <li>제목2</li>\n",
    "    <li>제목3</li>\n",
    "    <li>제목4</li>\n",
    "</ul>\n"
   ]
  },
  {
   "cell_type": "code",
   "execution_count": null,
   "metadata": {},
   "outputs": [],
   "source": [
    "# tilte을 클릭하면 큰 title이 바뀌고 , list 내 배경색 바귐\n",
    "<script>\n",
    "    var title = document.getElementById('title');\n",
    "    var list = document.getElementById('list');\n",
    "    var li = list.getElementsByTagName('li');\n",
    "    var addBtn = document.getElementById('add-btn');\n",
    "\n",
    "    for (var i = 0; i<li.length; i ++){\n",
    "        li[i].addEventListener('click', activeItem);\n",
    "    }\n",
    "\n",
    "    function activeItem(){\n",
    "        title.innerHTML = this.innerText;\n",
    "        this.setAttribute('class', 'active');\n",
    "    }\n",
    "</script>"
   ]
  },
  {
   "cell_type": "code",
   "execution_count": null,
   "metadata": {},
   "outputs": [],
   "source": [
    "# 버튼 눌러서 제목 입력하고 list 추가\n",
    "addBtn.addEventListener('click', function(){\n",
    "    var txt = prompt('제목입력');\n",
    "    list.innerHTML += '<li>' + txt + '<li>';\n",
    "});"
   ]
  },
  {
   "cell_type": "markdown",
   "metadata": {},
   "source": [
    "<table>\n",
    "<tr>\n",
    "    <td><img src = 'images/5-2-1.png'></td>\n",
    "    <td><img src = 'images/5-2-2.png'></td>  \n",
    "    </tr>\n",
    "    <tr>\n",
    "    <td><img src = 'images/5-2-3.png'></td>\n",
    "    <td><img src = 'images/5-2-4.png'></td>  \n",
    "</tr>\n",
    "</table>"
   ]
  },
  {
   "cell_type": "markdown",
   "metadata": {},
   "source": [
    "### 5.2.3. 기능 개선하기"
   ]
  },
  {
   "cell_type": "markdown",
   "metadata": {},
   "source": [
    "#### 목록 스타일 초기화"
   ]
  },
  {
   "cell_type": "code",
   "execution_count": null,
   "metadata": {},
   "outputs": [],
   "source": [
    "# 선택한 li만 배경색 지정하도록 하기\n",
    "function activeItem(){\n",
    "    title.innerHTML = this.innerText;\n",
    "\n",
    "    for (var  i= 0; i < li.length; i++){\n",
    "        li[i].removeAttribute('class')\n",
    "    }\n",
    "    this.setAttribute('class', 'active');\n",
    "};\n"
   ]
  },
  {
   "cell_type": "markdown",
   "metadata": {},
   "source": [
    "> 나중에 추가한 목록에도 이벤트 리스터가 인식할 수 있도록 하기\n",
    "- 이벤트 리스너에 지정된 요소는 문서에 먼저 작성된 정적인 요소를 대상으로 함.\n",
    "- 사용자가 목록을 추가하면 목록의 배열이 변경되는 동적인 상황 발생\n",
    "- 나중에 추가된 목록은 참조하는 위치가 달라져서 이벤트 리스터가 인식하지 못하기 때문\n",
    "- li[i]에 지정한 이벤트 리스터 지정을 부모 ul로 수정함"
   ]
  },
  {
   "cell_type": "code",
   "execution_count": null,
   "metadata": {},
   "outputs": [],
   "source": [
    "list.addEventListener('click;, activeItem')\n"
   ]
  },
  {
   "cell_type": "markdown",
   "metadata": {},
   "source": [
    "![5-2-5](images/5-2-5.png)"
   ]
  },
  {
   "cell_type": "markdown",
   "metadata": {},
   "source": [
    "- list전체를 인식해서 처리하는 문제가 발생"
   ]
  },
  {
   "cell_type": "code",
   "execution_count": null,
   "metadata": {},
   "outputs": [],
   "source": [
    "//이벤트 리스너\n",
    "list.addEventListener('click', activeItem)\n",
    "\n",
    "function activeItem(event){\n",
    "    //클릭한 노드가 li이면\n",
    "    if(event.target.nodeName == 'LI'){\n",
    "        title.innerHTML = event.target.innerText;\n",
    "\n",
    "        //목록 스타일 초기화\n",
    "        for (var i= 0; i < event.target.parentNode.children.length; i++){\n",
    "            event.target.parentNode.children[i].removeAttribute('class');\n",
    "        }\n",
    "\n",
    "        //클릭한 목록 스타일 지정\n",
    "        event.target.setAttribute('class', 'active');\n",
    "\n",
    "    }\n",
    "}"
   ]
  },
  {
   "cell_type": "markdown",
   "metadata": {},
   "source": [
    "> event\n",
    "- 이벤트 핸들러에서 콜백함수 activeItem에 매개변수로 event를 전달\n",
    "\n",
    "> target.nodeName\n",
    "- 자바스크립트 이벤트 객체의 속성\n",
    "- 클릭한 요소를 의미\n",
    "- 동적으로 참조 가능\n",
    "- 반환되는 값: 대문자\n",
    "    \n",
    "> 부모/ 자식\n",
    "- 부모: event.target.parentNode\n",
    "- 자식: event.target.parentNode.children\n",
    "- 이전형제: event.target.previousSibling\n",
    "- 다음형제: event.target.nextSibling"
   ]
  }
 ],
 "metadata": {
  "kernelspec": {
   "display_name": "Python 3",
   "language": "python",
   "name": "python3"
  },
  "language_info": {
   "codemirror_mode": {
    "name": "ipython",
    "version": 3
   },
   "file_extension": ".py",
   "mimetype": "text/x-python",
   "name": "python",
   "nbconvert_exporter": "python",
   "pygments_lexer": "ipython3",
   "version": "3.6.10"
  }
 },
 "nbformat": 4,
 "nbformat_minor": 4
}
