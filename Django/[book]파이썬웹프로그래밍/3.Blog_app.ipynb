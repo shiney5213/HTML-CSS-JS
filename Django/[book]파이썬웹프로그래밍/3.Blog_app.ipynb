{
 "cells": [
  {
   "cell_type": "markdown",
   "metadata": {},
   "source": [
    "# 3. Blog App\n",
    "> 기본 기능\n",
    "- 글 등록\n",
    "- 열람\n",
    "- 태그 달기\n",
    "- 댓글 및 검색 기능\n",
    "- 콘텐츠 생성 및 편집 기능\n",
    "\n",
    "## 3.2. 개발 코딩하기\n",
    "### 3.2.1. 뼈대만들기\n",
    "- python manage.py startapp blog"
   ]
  },
  {
   "cell_type": "code",
   "execution_count": null,
   "metadata": {},
   "outputs": [],
   "source": [
    "# apps.py : 자동으로 생김\n",
    "class BlogConfig(AppConfig):\n",
    "    name = 'blog'\n",
    "\n",
    "# settings.py\n",
    "INSTALLED_APPS = [\n",
    "    'django.contrib.admin',\n",
    "    'django.contrib.auth',\n",
    "    'django.contrib.contenttypes',\n",
    "    'django.contrib.sessions',\n",
    "    'django.contrib.messages',\n",
    "    'django.contrib.staticfiles',\n",
    "    'bookmark.apps.BookmarkConfig',,\n",
    "    'blog.apps.Blogconfig'\n",
    "]"
   ]
  },
  {
   "cell_type": "markdown",
   "metadata": {},
   "source": [
    "### 3.2.2. 모델 코딩하기"
   ]
  },
  {
   "cell_type": "code",
   "execution_count": null,
   "metadata": {},
   "outputs": [],
   "source": [
    "# models.py\n",
    "class Post(models.Model):\n",
    "    title = models.CharField(verbose_name = 'TITLE', max_length = 50)\n",
    "    # 슬러그: 포스트를 설명하는 핵심 단어 집합, pk로 주로 사용\n",
    "    slug = models.SlugField('SLUG', unique = True, allow_unicode = True, help_text = 'one word for title alieas')\n",
    "    description = models.CharField('DESCRIPTION', max_length = 100, blank = True, help_text = 'simple descrition text')\n",
    "    content = models.TextField('CONTENT')\n",
    "    create_dt = models.DateTimeField('CREATE DATE', auto_now_add=True)\n",
    "    modify_dt = models.DateTimeField('MODIFY DATE', auto_now = True)\n",
    "\n",
    "    class Meta:\n",
    "        verbose_name = 'post'\n",
    "        verbose_name_plural = 'posts'\n",
    "        db_table = 'blog_posts'\n",
    "        ordering = ('-modify_dt',)\n",
    "\n",
    "    def __str__(self):\n",
    "        '''\n",
    "        객체의 문자열을 객체.title 속성으로 표시\n",
    "        '''\n",
    "        return self.title\n",
    "\n",
    "    def get_absolute_url(self):\n",
    "        '''\n",
    "        메소드가 정의된 객체를 지칭하는 url 반환\n",
    "        '''\n",
    "        # reverse: url 패턴을 만들어주는 함수\n",
    "        return reverse('blog:post_detail', args=(self.slug,))\n",
    "\n",
    "    def get_previous(self):\n",
    "        '''\n",
    "        modify_dt컬럼을 기준으로 최신 포스트를 반환하는 함수\n",
    "        '''\n",
    "        return self.get_previous_by_modify_dt()\n",
    "\n",
    "    def get_next(self):\n",
    "        '''\n",
    "        modyfy_dt 컬럼을 기준으로 다음 ㅍ포스트를 반환\n",
    "        '''\n",
    "        return self.get_next_by_modify_dt()"
   ]
  },
  {
   "cell_type": "code",
   "execution_count": null,
   "metadata": {},
   "outputs": [],
   "source": [
    "# admin.py\n",
    "from django.contrib import admin\n",
    "from blog.models import Post\n",
    "# Register your models here.\n",
    "\n",
    "@admin.register(Post)\n",
    "class Postadmin(admin.ModelAdmin):\n",
    "    '''\n",
    "    Post 클래스가 admin사이트에서 어떻게 보여줄지 정의\n",
    "    '''\n",
    "    # 화면에 출력할 내용\n",
    "    list_display = ('id', 'title', 'modify_dt')\n",
    "    # 필더 사이트바\n",
    "    list_fliter = ('modify_dt')\n",
    "    # 검색박스 : 어떤 컬럼에서 검색할지 표시    \n",
    "    search_filed = ('title', 'content')\n",
    "    #  titie 필드를 사용해러 slug필드가 미리 채워지도록 하기\n",
    "    prepopulated_fields = {'slug': ('title',)}\n",
    "\n"
   ]
  },
  {
   "cell_type": "markdown",
   "metadata": {},
   "source": [
    "#### db에 적용\n",
    "- python manage.py makemigrations \n",
    "- python manage.py migrate"
   ]
  },
  {
   "cell_type": "markdown",
   "metadata": {},
   "source": [
    "![3-1](images/3-1.png)"
   ]
  },
  {
   "cell_type": "code",
   "execution_count": null,
   "metadata": {},
   "outputs": [],
   "source": []
  }
 ],
 "metadata": {
  "kernelspec": {
   "display_name": "Python 3",
   "language": "python",
   "name": "python3"
  },
  "language_info": {
   "codemirror_mode": {
    "name": "ipython",
    "version": 3
   },
   "file_extension": ".py",
   "mimetype": "text/x-python",
   "name": "python",
   "nbconvert_exporter": "python",
   "pygments_lexer": "ipython3",
   "version": "3.6.10"
  }
 },
 "nbformat": 4,
 "nbformat_minor": 4
}
