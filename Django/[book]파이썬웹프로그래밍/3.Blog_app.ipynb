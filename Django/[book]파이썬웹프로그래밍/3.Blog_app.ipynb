{
 "cells": [
  {
   "cell_type": "markdown",
   "metadata": {},
   "source": [
    "# 3. Blog App\n",
    "> 기본 기능\n",
    "- 글 등록\n",
    "- 열람\n",
    "- 태그 달기\n",
    "- 댓글 및 검색 기능\n",
    "- 콘텐츠 생성 및 편집 기능\n",
    "\n",
    "## 3.2. 개발 코딩하기\n",
    "### 3.2.1. 뼈대만들기\n",
    "- python manage.py startapp blog"
   ]
  },
  {
   "cell_type": "code",
   "execution_count": null,
   "metadata": {},
   "outputs": [],
   "source": [
    "# apps.py : 자동으로 생김\n",
    "class BlogConfig(AppConfig):\n",
    "    name = 'blog'\n",
    "\n",
    "# settings.py\n",
    "INSTALLED_APPS = [\n",
    "    'django.contrib.admin',\n",
    "    'django.contrib.auth',\n",
    "    'django.contrib.contenttypes',\n",
    "    'django.contrib.sessions',\n",
    "    'django.contrib.messages',\n",
    "    'django.contrib.staticfiles',\n",
    "    'bookmark.apps.BookmarkConfig',,\n",
    "    'blog.apps.Blogconfig'\n",
    "]"
   ]
  },
  {
   "cell_type": "markdown",
   "metadata": {},
   "source": [
    "### 3.2.2. 모델 코딩하기"
   ]
  },
  {
   "cell_type": "code",
   "execution_count": null,
   "metadata": {},
   "outputs": [],
   "source": [
    "# models.py\n",
    "class Post(models.Model):\n",
    "    title = models.CharField(verbose_name = 'TITLE', max_length = 50)\n",
    "    # 슬러그: 포스트를 설명하는 핵심 단어 집합, pk로 주로 사용\n",
    "    slug = models.SlugField('SLUG', unique = True, allow_unicode = True, help_text = 'one word for title alieas')\n",
    "    description = models.CharField('DESCRIPTION', max_length = 100, blank = True, help_text = 'simple descrition text')\n",
    "    content = models.TextField('CONTENT')\n",
    "    create_dt = models.DateTimeField('CREATE DATE', auto_now_add=True)\n",
    "    modify_dt = models.DateTimeField('MODIFY DATE', auto_now = True)\n",
    "\n",
    "    class Meta:\n",
    "        verbose_name = 'post'\n",
    "        verbose_name_plural = 'posts'\n",
    "        db_table = 'blog_posts'\n",
    "        ordering = ('-modify_dt',)\n",
    "\n",
    "    def __str__(self):\n",
    "        '''\n",
    "        객체의 문자열을 객체.title 속성으로 표시\n",
    "        '''\n",
    "        return self.title\n",
    "\n",
    "    def get_absolute_url(self):\n",
    "        '''\n",
    "        메소드가 정의된 객체를 지칭하는 url 반환\n",
    "        '''\n",
    "        # reverse: url 패턴을 만들어주는 함수\n",
    "        return reverse('blog:post_detail', args=(self.slug,))\n",
    "\n",
    "    def get_previous(self):\n",
    "        '''\n",
    "        modify_dt컬럼을 기준으로 최신 포스트를 반환하는 함수\n",
    "        '''\n",
    "        return self.get_previous_by_modify_dt()\n",
    "\n",
    "    def get_next(self):\n",
    "        '''\n",
    "        modyfy_dt 컬럼을 기준으로 다음 ㅍ포스트를 반환\n",
    "        '''\n",
    "        return self.get_next_by_modify_dt()"
   ]
  },
  {
   "cell_type": "code",
   "execution_count": null,
   "metadata": {},
   "outputs": [],
   "source": [
    "# admin.py\n",
    "from django.contrib import admin\n",
    "from blog.models import Post\n",
    "# Register your models here.\n",
    "\n",
    "@admin.register(Post)\n",
    "class Postadmin(admin.ModelAdmin):\n",
    "    '''\n",
    "    Post 클래스가 admin사이트에서 어떻게 보여줄지 정의\n",
    "    '''\n",
    "    # 화면에 출력할 내용\n",
    "    list_display = ('id', 'title', 'modify_dt')\n",
    "    # 필더 사이트바\n",
    "    list_fliter = ('modify_dt')\n",
    "    # 검색박스 : 어떤 컬럼에서 검색할지 표시    \n",
    "    search_filed = ('title', 'content')\n",
    "    #  titie 필드를 사용해러 slug필드가 미리 채워지도록 하기\n",
    "    prepopulated_fields = {'slug': ('title',)}\n",
    "\n"
   ]
  },
  {
   "cell_type": "markdown",
   "metadata": {},
   "source": [
    "#### db에 적용\n",
    "- python manage.py makemigrations \n",
    "- python manage.py migrate"
   ]
  },
  {
   "cell_type": "markdown",
   "metadata": {},
   "source": [
    "![3-1](images/3-1.png)"
   ]
  },
  {
   "cell_type": "markdown",
   "metadata": {},
   "source": [
    "### 3.2.4. 뷰 코딩하기"
   ]
  },
  {
   "cell_type": "code",
   "execution_count": null,
   "metadata": {},
   "outputs": [],
   "source": [
    "from django.shortcuts import render\n",
    "from django.views.generic import ListView, DetailView\n",
    "from django.views.generic.dates import ArchiveIndexView, YearArchiveView, MonthArchiveView, DayArchiveview, TodayArchiveview\n",
    "from blog.models import Post\n",
    "\n",
    "# Create your views here.\n",
    "\n",
    "# ListView\n",
    "class PostLV(ListView):\n",
    "    model = Post\n",
    "    template_name = 'blog/post_all.html'\n",
    "    context_object_name = 'posts'\n",
    "    paginate_by = 2\n",
    "\n",
    "#DetailView\n",
    "class PostDV(DetailView):\n",
    "    model = Post\n",
    "\n",
    "# ArchiveView\n",
    "class PostAV(ArchiveIndexView):\n",
    "    model = Post\n",
    "    date_field = 'modify_dt'\n",
    "\n",
    "class PostYAV(YearArchiveView):\n",
    "    model = Post\n",
    "    date_filed = 'modefy_dt'\n",
    "    make_object_list = True\n",
    "\n",
    "class PostMAV(MonthArchiveView):\n",
    "    model = Post\n",
    "    date_field = 'modity_dt'\n",
    "\n",
    "class PostDAV(DayArchiveView):\n",
    "    model = Post\n",
    "    date_field = 'modify_dt'\n",
    "\n",
    "class PostTAv(TodayArchiveview):\n",
    "    model = Post\n",
    "    Dete_field = 'modify_dt'"
   ]
  },
  {
   "cell_type": "markdown",
   "metadata": {},
   "source": [
    "### 3.2.5. 템플릿 코딩하기"
   ]
  },
  {
   "cell_type": "code",
   "execution_count": null,
   "metadata": {},
   "outputs": [],
   "source": [
    "#post_all.html\n",
    "<h1>Blog List</h1>\n",
    "<br>\n",
    "\n",
    "{% for post in posts %}\n",
    "    <h3><a href = '{{post.get_absolute_url}}'>{{post.title}}</a></h3>\n",
    "    {{post.modify_dt|date:\"N d, Y\"}}\n",
    "    <p>{{post.description}}</p>\n",
    "{% endfor %}\n",
    "\n",
    "<br>\n",
    "\n",
    "<div>\n",
    "    <span>\n",
    "        <!-- page_obj: 장고의 page객체가 들어있는 context 변수 -->\n",
    "        {% if page_obj.has_previous %}\n",
    "            <a href= \"?page = {{page_obj.previous_pate_number}}\">PreviousPage</a>\n",
    "        {% endif %}\n",
    "\n",
    "        Page {{page_obj.number}} of {{page_obj.pagiinator.num_pages}}\n",
    "\n",
    "        {% if page_obj.has_next %}\n",
    "            <a href=\"?page = {{page_obj.next_page_number}}\">NextPage</a>\n",
    "        {% endif %}\n",
    "    </span>\n",
    "\n",
    "</div>"
   ]
  },
  {
   "cell_type": "markdown",
   "metadata": {},
   "source": [
    "#### 코드 설명\n",
    "> posts객체 (= object_list)\n",
    "- PostLV 클래스 뷰에서 넘겨주는 컨텍스트 변수\n",
    "- Post 객체 리스트가 담겨있음.\n",
    "- post.title: 제목 \n",
    "- post.description\n",
    "- post.modify_dt\n",
    "\n",
    "> post.modify_dt|date:\"N d, Y\"\n",
    "- 날짜 형식을 N d, Y포멧으로 출력\n",
    "\n",
    "> page_obj\n",
    "- Page 객체가 들어있는 컨텍스트 변수\n",
    "- 현재 페이지를 기준으로 이전 페이지가 있는지를 확인\n",
    "\n",
    "> page_obj.previous_page_number\n",
    "- 이전 페이지의 번호\n",
    "\n",
    "> page_obj.number\n",
    "- 현재 페이지 번호\n",
    "\n",
    "> page_obj.paginator.num_pages\n",
    "- 총 페이지 개수\n",
    "\n",
    "#### 템플릿에서 url 추출 함수\n",
    "> get_absolute_url()\n",
    "- 간접적으로 url 패턴명을 사용\n",
    "- 모델 클래스의 메소드로 정의되어 있어야 사용 가능\n",
    "- reverse()함수를 꼭 사용해햐 함\n",
    "- {{post.get_absolute_url}}\n",
    "\n",
    "> {% url %}\n",
    "- 직접 태그의 인자로 url 패턴명 사용\n",
    "- {{% url 'blog:post_detail' post.slug %}} \n"
   ]
  },
  {
   "cell_type": "markdown",
   "metadata": {},
   "source": [
    "![3-2](images/3-2.png)"
   ]
  },
  {
   "cell_type": "code",
   "execution_count": null,
   "metadata": {},
   "outputs": [],
   "source": [
    "# post_detail.html\n",
    "<h2>{{object.title}}</h2>\n",
    "\n",
    "<p>\n",
    "{% if object.get_previous %}\n",
    "    <a href = \"{{object.get_previous.get_apsolute_url}}\" title = \"View previous post\">&laquo;-{{object.get_previous}}</a>\n",
    "{% endif %}\n",
    "\n",
    "{% if object.get_next %}\n",
    "    <a href = '{{object.get_next.get_apsolute_url}}'title = \"View next post\">-&raquo;</a>\n",
    "{% endif %}\n",
    "\n",
    "</p>\n",
    "\n",
    "<p>{{object.modify_dt|date:\"j F Y\"}}</p>\n",
    "<br>\n",
    "\n",
    "<div>\n",
    "    {{object.content|linebreaks}}\n",
    "</div>"
   ]
  },
  {
   "cell_type": "markdown",
   "metadata": {},
   "source": [
    "#### 코드 설명\n",
    "> object 객체\n",
    "- PostDV클래스형 뷰에서 컨텍스트 변수로 넘겨주는 Post클래스의 객체\n",
    "\n",
    "> get_previous 함수\n",
    "- modify_dt 컬럼 기준으로 이전 객체 반환\n",
    "- 변경 날짜가 현재 객체보다 더 최신 객체가 있는지 확인\n",
    "\n",
    "> &laquo;\n",
    "- html 특수문자(<<)"
   ]
  },
  {
   "cell_type": "markdown",
   "metadata": {},
   "source": [
    "![3-3](images/3-3.png)"
   ]
  },
  {
   "cell_type": "markdown",
   "metadata": {},
   "source": [
    "### 3.2.6. 날짜 제네릭뷰와 관련된 템플릿 파일\n",
    "> 디폴드 템플릿 파일명\n",
    "- 모델클래스소문자_archive.html"
   ]
  },
  {
   "cell_type": "code",
   "execution_count": null,
   "metadata": {},
   "outputs": [],
   "source": [
    "# post_archive.html\n",
    "# 포스트 리스트를 날자별로 구분해서 보여주는 화면\n"
   ]
  }
 ],
 "metadata": {
  "kernelspec": {
   "display_name": "Python 3",
   "language": "python",
   "name": "python3"
  },
  "language_info": {
   "codemirror_mode": {
    "name": "ipython",
    "version": 3
   },
   "file_extension": ".py",
   "mimetype": "text/x-python",
   "name": "python",
   "nbconvert_exporter": "python",
   "pygments_lexer": "ipython3",
   "version": "3.6.10"
  }
 },
 "nbformat": 4,
 "nbformat_minor": 4
}
