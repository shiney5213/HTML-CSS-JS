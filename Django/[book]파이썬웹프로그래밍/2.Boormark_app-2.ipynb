{
 "cells": [
  {
   "cell_type": "markdown",
   "metadata": {},
   "source": [
    "# 2. Bookmark App\n",
    "- 즐겨찾기, 책갈피 \n",
    "\n",
    "## 2.1. 애플리케이션 설계하기"
   ]
  },
  {
   "cell_type": "markdown",
   "metadata": {},
   "source": [
    "### 2.2.3. 기본 테이블 생성\n",
    "- migrate명령: DB에 변경사항이 있을 때 이를 변경\n",
    "- 테이블을 만들지 않았어도 사용자 및 그룹 데이블 등을 만들어주기 위해 프로젝트 시작 시점에 명령 실행\n",
    "- python manage.py migrate\n",
    "\n",
    "### 2.2.4 슈퍼유저 생성\n",
    "- Admin 사이트에 로그인 하기 위해서 관리자 만들기\n",
    "- python manage.py createsuperuser\n",
    "- Username: \n",
    "- Email address\n",
    "- password\n",
    "- passwoar(again)\n",
    "\n",
    "\n",
    "### 2.2.5 애플리케이션 생성\n",
    "- 북마크앱 만들기\n",
    "- python manage.py startapp bookmark\n",
    "- 장고가 북마크앱 디렉터리와 그 하위에 필요한 파일들이 생성됨."
   ]
  }
 ],
 "metadata": {
  "kernelspec": {
   "display_name": "Python 3",
   "language": "python",
   "name": "python3"
  },
  "language_info": {
   "codemirror_mode": {
    "name": "ipython",
    "version": 3
   },
   "file_extension": ".py",
   "mimetype": "text/x-python",
   "name": "python",
   "nbconvert_exporter": "python",
   "pygments_lexer": "ipython3",
   "version": "3.6.8"
  },
  "toc": {
   "base_numbering": 1,
   "nav_menu": {},
   "number_sections": false,
   "sideBar": true,
   "skip_h1_title": false,
   "title_cell": "Table of Contents",
   "title_sidebar": "Contents",
   "toc_cell": false,
   "toc_position": {},
   "toc_section_display": true,
   "toc_window_display": false
  }
 },
 "nbformat": 4,
 "nbformat_minor": 4
}
