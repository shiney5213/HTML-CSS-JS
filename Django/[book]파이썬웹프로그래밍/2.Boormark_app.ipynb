{
 "cells": [
  {
   "cell_type": "markdown",
   "metadata": {},
   "source": [
    "# 2. Bookmark App\n",
    "- 즐겨찾기, 책갈피 \n",
    "\n",
    "## 2.1. 애플리케이션 설계하기\n"
   ]
  },
  {
   "cell_type": "markdown",
   "metadata": {},
   "source": [
    "## 2.2. 개발 코딩하기- 뼈대\n",
    "### 2.2.1. 프로젝트 생성\n",
    "- django-admin startprojet PythonWebProgramming\n",
    "\n",
    "### 2.2.2. 프로젝트 설정 파일 변경\n",
    "#### settings.py\n",
    "> DEBUG\n",
    "- 개발모드 : DEBUG = True\n",
    "- 운영모드: DEBUG = False\n",
    "\n",
    "> ALLOWED_HOSTS\n",
    "- 개발모드: 값을 지정하지 않아도 ['localhost', '12730.0.1']로 간주\n",
    "- 운영모드: 서버의 ip나 도메인을 지정해야 함.\n",
    "\n",
    "> 애플리케이션 등록\n",
    "- 반드시 설정 파일에 등록해야 함.\n",
    "\n",
    "> 템플릿 설정 항목\n",
    "- DIRS 항목을 제외한 모든 항목은 변경x\n",
    "- DIRS 항목은 프로젝트 템플릿 파일이 위치할 디렉터리를 지정\n",
    "- 'DIRS': [os.path.join(BASE_DIR), 'templates'],\n",
    "\n",
    "> DB\n",
    "- default로 SQLite3 사용\n",
    "\n",
    "> timezone\n",
    "- default: TIME_ZONE = 'UTC'\n",
    "- TIME_ZONE = 'Asia/Seoul'\n",
    "\n",
    "> 정적파일 설정\n",
    "- STATIC_URL: 최초 장고가 지정한 그대로 두기\n",
    "- STATICFILES_DIRS: 프로젝트 정적파일이 위치할 디렉터리\n",
    "- STATIC_URL = '/static/'\n",
    "- STATIC_DIRS = [os.path.join(BASE_DIR, 'static')]\n",
    "\n",
    "\n",
    "> 미디어 관련 사항\n",
    "- 파일 업로드 기능\n",
    "- MEDIA_URL = '/media/'\n",
    "- MEDIA_ROOT = os.path.join(BASE_DIR, 'media')\n",
    "\n",
    "> 언어\n",
    "- LANGUAGE_CODE = 'ko-kr'\n",
    "\n",
    "\n",
    "### 2.2.3. 기본 테이블 생성\n",
    "- migrate명령: DB에 변경사항이 있을 때 이를 변경\n",
    "- 테이블을 만들지 않았어도 사용자 및 그룹 데이블 등을 만들어주기 위해 프로젝트 시작 시점에 명령 실행\n",
    "- python manage.py migrate\n",
    "\n",
    "### 2.2.4 슈퍼유저 생성\n",
    "- Admin 사이트에 로그인 하기 위해서 관리자 만들기\n",
    "- python manage.py createsuperuser\n",
    "- Username: shiney\n",
    "- Email address\n",
    "- password: shiney1234\n",
    "- passwoar(again)\n",
    "\n",
    "\n",
    "### 2.2.5 애플리케이션 생성\n",
    "- 북마크앱 만들기\n",
    "- python manage.py startapp bookmark\n",
    "- 장고가 북마크앱 디렉터리와 그 하위에 필요한 파일들이 생성됨.\n",
    "\n",
    "### 2.2.6. 애플리케이션 등록\n",
    "> settings.py\n",
    "- INSTALLED_APPS = ['bookmark.apps.BookmarkConfig']\n",
    "\n",
    "> 애플리케이션 설정 클래스\n",
    "- <font color = 'red'> django.apps.AppConfig </font>\n",
    "- 앱 이름(name), 레이블(label), 별칭(verbose_name), 경로(path)\n",
    "\n",
    "> 설정 클래스 대신 애플리케이션 디렉토리로 지정\n",
    "- __init__.py파일에서 default_app_config항목으로 지정된 클랙스를 설정 클래스로 사용\n",
    "- default_app_config항목도 정의하지 않으면 기본 Apppconfig 클래스를 설정 클래스로 사용"
   ]
  },
  {
   "cell_type": "markdown",
   "metadata": {},
   "source": [
    "## 2.3. 개발 코딩하기- 모델\n",
    "- 데이터 베이스에 테이블을 생성하도록 해주는 작업\n",
    "\n",
    "### 2.3.1 테이블 정의\n",
    "- 테이블을 하나의 클래스로 정의\n",
    "- 컬럼: 클래스 변수로 매팅\n",
    "- django.db.models.Model클래스 상속받기\n",
    "\n",
    "> models.py"
   ]
  },
  {
   "cell_type": "markdown",
   "metadata": {},
   "source": [
    "class Bookmark(models.Model):\n",
    "    title = models.CharField('TITLE', max_length = 100, blank = True)\n",
    "    url = models.URLField('URL', unique = True)\n",
    "\n",
    "def __str__(self):\n",
    "    return self.title"
   ]
  },
  {
   "cell_type": "markdown",
   "metadata": {},
   "source": [
    "> __str__()\n",
    "- 객체를 문자열로 표현할 때 사용하는 함수\n",
    "- 모델 클래스 객체는 테이블의 레코드 하나를 의미\n",
    "- 문자열로 표현하지 않으면 레코드명이 제대로 표현되지 않음."
   ]
  },
  {
   "cell_type": "markdown",
   "metadata": {},
   "source": [
    "### 2.3.2. admin 사이트에 테이블 반영\n",
    "> admin.py\n",
    "- models.py에서 정의한 테이블이 admim 화면에서 보이게 하기"
   ]
  },
  {
   "cell_type": "markdown",
   "metadata": {},
   "source": [
    "from django.contrib import admin\n",
    "from bookmark.models import Bookmark\n",
    "\n",
    "@admin.register(Bookmark)                # admin 사이트에 등록\n",
    "class BookmarkAdmin(admin.ModelAdmin):   # bookmark 클래스가 admin 사이트에서 어떤 모습으로 보여줄지 정의하는 클래스\n",
    "    list_display = ('id', 'title', 'url')"
   ]
  },
  {
   "cell_type": "markdown",
   "metadata": {},
   "source": [
    "### 2.3.3 데이터베이스 변경 사항 반영\n",
    "- python manage.py makemigrations \n",
    "- python manage.py migrate\n",
    "- python manage.py showmigrations: 모든 마이그레이션 보여주기, 각 마이그레이션별 적용여부를 알 수 있음.\n",
    "- python manage.py sqlmigrate bookmark 0001: bookmark 앱의 0001번 마이그레이션을 적용할 때 사용될 SQL문장 보여줌.\n",
    "\n",
    "> models.py\n",
    "- 마이그레이션 정보는 애플리케이션 디렉터리별로 존재\n",
    "\n",
    "### 2.3.4 테이블 모습 확인하기\n",
    "- python manage.py runserver 0.0.0.0:8000\n",
    "\n",
    "> 중지\n",
    "- ctlr + c\n",
    "- kill %1"
   ]
  },
  {
   "cell_type": "markdown",
   "metadata": {},
   "source": [
    "![2-1](images/2-1.png)"
   ]
  },
  {
   "cell_type": "markdown",
   "metadata": {},
   "source": [
    "> admin화면에서 네임밍\n",
    "- 애플리케이션명: startappname시 사용한 appname의 대문자\n",
    "- 객체명: models.py파일에 정의한 모델 클래스 이름을 소문자와 공백으로 바꾸기\n",
    "- 테이블명: 객체명에 s를  붙이고 첫글자를 대문자료 표시"
   ]
  },
  {
   "cell_type": "code",
   "execution_count": null,
   "metadata": {},
   "outputs": [],
   "source": []
  }
 ],
 "metadata": {
  "kernelspec": {
   "display_name": "Python 3",
   "language": "python",
   "name": "python3"
  },
  "language_info": {
   "codemirror_mode": {
    "name": "ipython",
    "version": 3
   },
   "file_extension": ".py",
   "mimetype": "text/x-python",
   "name": "python",
   "nbconvert_exporter": "python",
   "pygments_lexer": "ipython3",
   "version": "3.6.10"
  },
  "toc": {
   "base_numbering": 1,
   "nav_menu": {},
   "number_sections": false,
   "sideBar": true,
   "skip_h1_title": false,
   "title_cell": "Table of Contents",
   "title_sidebar": "Contents",
   "toc_cell": false,
   "toc_position": {},
   "toc_section_display": true,
   "toc_window_display": false
  }
 },
 "nbformat": 4,
 "nbformat_minor": 4
}
