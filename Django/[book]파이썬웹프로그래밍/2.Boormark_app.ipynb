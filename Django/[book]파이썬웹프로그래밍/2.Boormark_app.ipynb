{
 "cells": [
  {
   "cell_type": "markdown",
   "metadata": {},
   "source": [
    "# 2. Bookmark App\n",
    "- 즐겨찾기, 책갈피 \n",
    "\n",
    "## 2.1. 애플리케이션 설계하기\n",
    "\n",
    "#### 작업/코딩 순서\n",
    "> 뼈대 만들기\n",
    "- startproject: pythonWepProgramming 프로젝트 생성\n",
    "- settings.py: 프로젝트 설정 항목 변경\n",
    "- migrate: User/Group 테이블 생성\n",
    "- createsuperuser: 프로젝트 관리자인 슈퍼유저 만듦.\n",
    "\n",
    "> 모델 코딩하기\n",
    "- models.py: 북마크 앱 생성\n",
    "- settings.py : 북마크 앱 등록\n",
    "\n",
    "> URLconf코딩하기\n",
    "- urls.py: URL 정의\n",
    "- views.py : 뷰 로직 작성\n",
    "- template 디렉터리: 템플릿 파일 작성\n",
    "\n",
    "\n",
    "## 2.2. 개발 코딩하기\n",
    "### 2.2.1. 프로젝트 생성\n",
    "- django-admin startproject pythonWepProgramming\n",
    "\n",
    "\n",
    "### 2.2.2. 프로젝트 설정 파일 변경\n",
    "#### settings.py\n",
    "> 개발모드/ 운영모드\n",
    "- DEBUT = True: 개발모드\n",
    "- DEBUG = False; 운영모드\n",
    "\n",
    "> ALLOWED_HOSTS\n",
    "- 운영모드: 반드시 서버 IP, 도메일 지정해야 함.\n",
    "- 개발모드: ['localhost', '127.0.0.1']로 간주\n",
    "- 예: 개발모드이고 가동할 서버 아이피가 여러개라면\n",
    "- ALLOWED_HOSTS = '162.168.56.101','localhost', '127.0.0.1']\n",
    "\n",
    "> app 등록\n",
    "- 앱 만든 후, settings.py에 꼭 등록해야 함.\n",
    "\n",
    "> 템플릿관련\n",
    "- DIRS항목: 프로젝트 템플릿 파일이 위치할 디렉터리를 지정\n",
    "- 'DIRS':[os.path.join(BASE_DIR), 'templates']\n",
    "\n",
    "\n",
    "> 데이터베이스 엔진\n",
    "- 장고는 SQLite3 DB를 사용함.-> 수정할 필요 없음.\n",
    "- 다른 DB사용하려면 settings.py 사용 가능\n",
    "\n",
    "\n",
    "> 타임존 지정\n",
    "- 세계시간으로 설정(디폴트)\n",
    "- 한국시간 설정\n",
    "- TIME_ZONE = 'Asia/Seoul'\n",
    "\n",
    "> 정적파일 설정\n",
    "- STATIC_URL: 장고가 정해준 그대로 두기\n",
    "- STATICFILES_DIRS: 프로젝트 정적파일이 위치할 디렉터리\n",
    "- STATICFILES_DIRS = [os.path.join(BASE_DIR, 'static')]\n"
   ]
  },
  {
   "cell_type": "code",
   "execution_count": null,
   "metadata": {},
   "outputs": [],
   "source": []
  }
 ],
 "metadata": {
  "kernelspec": {
   "display_name": "Python 3",
   "language": "python",
   "name": "python3"
  },
  "language_info": {
   "codemirror_mode": {
    "name": "ipython",
    "version": 3
   },
   "file_extension": ".py",
   "mimetype": "text/x-python",
   "name": "python",
   "nbconvert_exporter": "python",
   "pygments_lexer": "ipython3",
   "version": "3.6.10"
  }
 },
 "nbformat": 4,
 "nbformat_minor": 4
}
